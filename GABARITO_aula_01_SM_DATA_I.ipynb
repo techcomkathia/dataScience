{
  "nbformat": 4,
  "nbformat_minor": 0,
  "metadata": {
    "colab": {
      "provenance": [],
      "collapsed_sections": [
        "myOlWNw1woOc",
        "fHihDs6VJ5NZ",
        "l0SUxgLkS6he"
      ]
    },
    "kernelspec": {
      "name": "python3",
      "display_name": "Python 3"
    },
    "language_info": {
      "name": "python"
    }
  },
  "cells": [
    {
      "cell_type": "markdown",
      "source": [
        "# AULA 01"
      ],
      "metadata": {
        "id": "VbtV9GHqt7Cy"
      }
    },
    {
      "cell_type": "markdown",
      "source": [
        "## Objetivos da aula"
      ],
      "metadata": {
        "id": "50ycFWslJp9u"
      }
    },
    {
      "cell_type": "markdown",
      "source": [
        "- Compreensão de séries e dataFrames\n",
        "- Importação de diferentes tipos de bases\n",
        "- Criação de dataFrames\n",
        "- Compreensão das medidas estatísticas\n",
        "- Limpeza das bases:\n",
        "  - valores nulos\n",
        "  - colunas dispensáveis\n",
        "  - renomear colunas\n",
        "- Detecção dos tipos de dados\n",
        "- Elaboração de hipóteses\n"
      ],
      "metadata": {
        "id": "Tq4tkndNuAvq"
      }
    },
    {
      "cell_type": "markdown",
      "source": [
        "## Series e DataFrames"
      ],
      "metadata": {
        "id": "myOlWNw1woOc"
      }
    },
    {
      "cell_type": "markdown",
      "source": [
        "Series: Uma Series é uma estrutura de dados unidimensional que pode ser vista como uma coluna em uma planilha ou uma única coluna de um DataFrame. É uma estrutura de dados que permite armazenar dados de um ***único tipo***, semelhante a um array ou lista em Python.\n",
        "\n"
      ],
      "metadata": {
        "id": "6L200UUkwwtE"
      }
    },
    {
      "cell_type": "code",
      "source": [
        "listaNotas = [8,10,3,8,9]\n",
        "listaNotas"
      ],
      "metadata": {
        "colab": {
          "base_uri": "https://localhost:8080/"
        },
        "id": "rjoWrtwKwwGM",
        "outputId": "c7ced74a-f178-482e-bc55-ed42d2ae3e6f"
      },
      "execution_count": null,
      "outputs": [
        {
          "output_type": "execute_result",
          "data": {
            "text/plain": [
              "[8, 10, 3, 8, 9]"
            ]
          },
          "metadata": {},
          "execution_count": 15
        }
      ]
    },
    {
      "cell_type": "code",
      "source": [
        "alunos = [\"Ana\", \"João\", \"Paulo\", \"Maria\", \"Carlos\"]\n",
        "alunos"
      ],
      "metadata": {
        "colab": {
          "base_uri": "https://localhost:8080/"
        },
        "id": "6et-8JwE0nCF",
        "outputId": "f33f7ab6-f0fc-44b0-8333-5c9828744caa"
      },
      "execution_count": null,
      "outputs": [
        {
          "output_type": "execute_result",
          "data": {
            "text/plain": [
              "['Ana', 'João', 'Paulo', 'Maria', 'Carlos']"
            ]
          },
          "metadata": {},
          "execution_count": 16
        }
      ]
    },
    {
      "cell_type": "code",
      "source": [
        "import pandas as pd"
      ],
      "metadata": {
        "id": "-L-PRYfTyZTt"
      },
      "execution_count": null,
      "outputs": []
    },
    {
      "cell_type": "code",
      "execution_count": null,
      "metadata": {
        "colab": {
          "base_uri": "https://localhost:8080/"
        },
        "id": "hs-UbgIbt1yn",
        "outputId": "2e426c6a-50e2-4c6e-ad2b-d9aa147ed3c4"
      },
      "outputs": [
        {
          "output_type": "execute_result",
          "data": {
            "text/plain": [
              "0     8\n",
              "1    10\n",
              "2     3\n",
              "3     8\n",
              "4     9\n",
              "dtype: int64"
            ]
          },
          "metadata": {},
          "execution_count": 18
        }
      ],
      "source": [
        "notasSeries = pd.Series(listaNotas)\n",
        "notasSeries"
      ]
    },
    {
      "cell_type": "code",
      "source": [
        "alunosSeries = pd.Series(alunos)\n",
        "alunosSeries"
      ],
      "metadata": {
        "colab": {
          "base_uri": "https://localhost:8080/"
        },
        "id": "C7_tu7Yq0yyX",
        "outputId": "634e8f81-cfd8-4b55-fad0-5f775bbceb5b"
      },
      "execution_count": null,
      "outputs": [
        {
          "output_type": "execute_result",
          "data": {
            "text/plain": [
              "0       Ana\n",
              "1      João\n",
              "2     Paulo\n",
              "3     Maria\n",
              "4    Carlos\n",
              "dtype: object"
            ]
          },
          "metadata": {},
          "execution_count": 19
        }
      ]
    },
    {
      "cell_type": "code",
      "source": [
        "notasSeries[3]=\"faltou\"\n",
        "notasSeries"
      ],
      "metadata": {
        "colab": {
          "base_uri": "https://localhost:8080/"
        },
        "id": "C6HS9rAVypxZ",
        "outputId": "84fbbe58-16f4-49c4-a7c2-ef4f81c4900a"
      },
      "execution_count": null,
      "outputs": [
        {
          "output_type": "execute_result",
          "data": {
            "text/plain": [
              "0         8\n",
              "1        10\n",
              "2         3\n",
              "3    faltou\n",
              "4         9\n",
              "dtype: object"
            ]
          },
          "metadata": {},
          "execution_count": 20
        }
      ]
    },
    {
      "cell_type": "markdown",
      "source": [
        "DataFrame: Um DataFrame é uma estrutura de dados bidimensional, semelhante a uma tabela em um banco de dados ou uma planilha do Excel. Ele é composto por colunas (que são objetos Series) e linhas, permitindo que você armazene dados de diferentes tipos em cada coluna."
      ],
      "metadata": {
        "id": "U0rccuDH0YXu"
      }
    },
    {
      "cell_type": "code",
      "source": [
        "objNotasAlunos = { \"aluno\" : alunos , \"nota\": listaNotas}\n",
        "objNotasAlunos"
      ],
      "metadata": {
        "colab": {
          "base_uri": "https://localhost:8080/"
        },
        "id": "qKPOzA_f0-Pr",
        "outputId": "68898383-4203-4bb6-d0c4-aed668e1e384"
      },
      "execution_count": null,
      "outputs": [
        {
          "output_type": "execute_result",
          "data": {
            "text/plain": [
              "{'aluno': ['Ana', 'João', 'Paulo', 'Maria', 'Carlos'],\n",
              " 'nota': [8, 10, 3, 8, 9]}"
            ]
          },
          "metadata": {},
          "execution_count": 21
        }
      ]
    },
    {
      "cell_type": "code",
      "source": [
        "objNotasAlunos['aluno'][1]"
      ],
      "metadata": {
        "colab": {
          "base_uri": "https://localhost:8080/",
          "height": 36
        },
        "id": "umqRiwQ03gSs",
        "outputId": "55202305-b090-4ff7-9f4f-9eecaa8105e0"
      },
      "execution_count": null,
      "outputs": [
        {
          "output_type": "execute_result",
          "data": {
            "text/plain": [
              "'João'"
            ],
            "application/vnd.google.colaboratory.intrinsic+json": {
              "type": "string"
            }
          },
          "metadata": {},
          "execution_count": 22
        }
      ]
    },
    {
      "cell_type": "code",
      "source": [
        "dfAlunosNotas = pd.DataFrame(objNotasAlunos)\n",
        "dfAlunosNotas"
      ],
      "metadata": {
        "colab": {
          "base_uri": "https://localhost:8080/",
          "height": 206
        },
        "id": "rffGbGHR17rE",
        "outputId": "1f44b354-7ccf-4452-8fda-06651220ce01"
      },
      "execution_count": null,
      "outputs": [
        {
          "output_type": "execute_result",
          "data": {
            "text/plain": [
              "    aluno  nota\n",
              "0     Ana     8\n",
              "1    João    10\n",
              "2   Paulo     3\n",
              "3   Maria     8\n",
              "4  Carlos     9"
            ],
            "text/html": [
              "\n",
              "  <div id=\"df-34bed4ea-b30b-4d02-bb26-1f5e5c11f5e4\" class=\"colab-df-container\">\n",
              "    <div>\n",
              "<style scoped>\n",
              "    .dataframe tbody tr th:only-of-type {\n",
              "        vertical-align: middle;\n",
              "    }\n",
              "\n",
              "    .dataframe tbody tr th {\n",
              "        vertical-align: top;\n",
              "    }\n",
              "\n",
              "    .dataframe thead th {\n",
              "        text-align: right;\n",
              "    }\n",
              "</style>\n",
              "<table border=\"1\" class=\"dataframe\">\n",
              "  <thead>\n",
              "    <tr style=\"text-align: right;\">\n",
              "      <th></th>\n",
              "      <th>aluno</th>\n",
              "      <th>nota</th>\n",
              "    </tr>\n",
              "  </thead>\n",
              "  <tbody>\n",
              "    <tr>\n",
              "      <th>0</th>\n",
              "      <td>Ana</td>\n",
              "      <td>8</td>\n",
              "    </tr>\n",
              "    <tr>\n",
              "      <th>1</th>\n",
              "      <td>João</td>\n",
              "      <td>10</td>\n",
              "    </tr>\n",
              "    <tr>\n",
              "      <th>2</th>\n",
              "      <td>Paulo</td>\n",
              "      <td>3</td>\n",
              "    </tr>\n",
              "    <tr>\n",
              "      <th>3</th>\n",
              "      <td>Maria</td>\n",
              "      <td>8</td>\n",
              "    </tr>\n",
              "    <tr>\n",
              "      <th>4</th>\n",
              "      <td>Carlos</td>\n",
              "      <td>9</td>\n",
              "    </tr>\n",
              "  </tbody>\n",
              "</table>\n",
              "</div>\n",
              "    <div class=\"colab-df-buttons\">\n",
              "\n",
              "  <div class=\"colab-df-container\">\n",
              "    <button class=\"colab-df-convert\" onclick=\"convertToInteractive('df-34bed4ea-b30b-4d02-bb26-1f5e5c11f5e4')\"\n",
              "            title=\"Convert this dataframe to an interactive table.\"\n",
              "            style=\"display:none;\">\n",
              "\n",
              "  <svg xmlns=\"http://www.w3.org/2000/svg\" height=\"24px\" viewBox=\"0 -960 960 960\">\n",
              "    <path d=\"M120-120v-720h720v720H120Zm60-500h600v-160H180v160Zm220 220h160v-160H400v160Zm0 220h160v-160H400v160ZM180-400h160v-160H180v160Zm440 0h160v-160H620v160ZM180-180h160v-160H180v160Zm440 0h160v-160H620v160Z\"/>\n",
              "  </svg>\n",
              "    </button>\n",
              "\n",
              "  <style>\n",
              "    .colab-df-container {\n",
              "      display:flex;\n",
              "      gap: 12px;\n",
              "    }\n",
              "\n",
              "    .colab-df-convert {\n",
              "      background-color: #E8F0FE;\n",
              "      border: none;\n",
              "      border-radius: 50%;\n",
              "      cursor: pointer;\n",
              "      display: none;\n",
              "      fill: #1967D2;\n",
              "      height: 32px;\n",
              "      padding: 0 0 0 0;\n",
              "      width: 32px;\n",
              "    }\n",
              "\n",
              "    .colab-df-convert:hover {\n",
              "      background-color: #E2EBFA;\n",
              "      box-shadow: 0px 1px 2px rgba(60, 64, 67, 0.3), 0px 1px 3px 1px rgba(60, 64, 67, 0.15);\n",
              "      fill: #174EA6;\n",
              "    }\n",
              "\n",
              "    .colab-df-buttons div {\n",
              "      margin-bottom: 4px;\n",
              "    }\n",
              "\n",
              "    [theme=dark] .colab-df-convert {\n",
              "      background-color: #3B4455;\n",
              "      fill: #D2E3FC;\n",
              "    }\n",
              "\n",
              "    [theme=dark] .colab-df-convert:hover {\n",
              "      background-color: #434B5C;\n",
              "      box-shadow: 0px 1px 3px 1px rgba(0, 0, 0, 0.15);\n",
              "      filter: drop-shadow(0px 1px 2px rgba(0, 0, 0, 0.3));\n",
              "      fill: #FFFFFF;\n",
              "    }\n",
              "  </style>\n",
              "\n",
              "    <script>\n",
              "      const buttonEl =\n",
              "        document.querySelector('#df-34bed4ea-b30b-4d02-bb26-1f5e5c11f5e4 button.colab-df-convert');\n",
              "      buttonEl.style.display =\n",
              "        google.colab.kernel.accessAllowed ? 'block' : 'none';\n",
              "\n",
              "      async function convertToInteractive(key) {\n",
              "        const element = document.querySelector('#df-34bed4ea-b30b-4d02-bb26-1f5e5c11f5e4');\n",
              "        const dataTable =\n",
              "          await google.colab.kernel.invokeFunction('convertToInteractive',\n",
              "                                                    [key], {});\n",
              "        if (!dataTable) return;\n",
              "\n",
              "        const docLinkHtml = 'Like what you see? Visit the ' +\n",
              "          '<a target=\"_blank\" href=https://colab.research.google.com/notebooks/data_table.ipynb>data table notebook</a>'\n",
              "          + ' to learn more about interactive tables.';\n",
              "        element.innerHTML = '';\n",
              "        dataTable['output_type'] = 'display_data';\n",
              "        await google.colab.output.renderOutput(dataTable, element);\n",
              "        const docLink = document.createElement('div');\n",
              "        docLink.innerHTML = docLinkHtml;\n",
              "        element.appendChild(docLink);\n",
              "      }\n",
              "    </script>\n",
              "  </div>\n",
              "\n",
              "\n",
              "<div id=\"df-82685e11-77ad-4aa0-8f0f-e7cde7526189\">\n",
              "  <button class=\"colab-df-quickchart\" onclick=\"quickchart('df-82685e11-77ad-4aa0-8f0f-e7cde7526189')\"\n",
              "            title=\"Suggest charts.\"\n",
              "            style=\"display:none;\">\n",
              "\n",
              "<svg xmlns=\"http://www.w3.org/2000/svg\" height=\"24px\"viewBox=\"0 0 24 24\"\n",
              "     width=\"24px\">\n",
              "    <g>\n",
              "        <path d=\"M19 3H5c-1.1 0-2 .9-2 2v14c0 1.1.9 2 2 2h14c1.1 0 2-.9 2-2V5c0-1.1-.9-2-2-2zM9 17H7v-7h2v7zm4 0h-2V7h2v10zm4 0h-2v-4h2v4z\"/>\n",
              "    </g>\n",
              "</svg>\n",
              "  </button>\n",
              "\n",
              "<style>\n",
              "  .colab-df-quickchart {\n",
              "      --bg-color: #E8F0FE;\n",
              "      --fill-color: #1967D2;\n",
              "      --hover-bg-color: #E2EBFA;\n",
              "      --hover-fill-color: #174EA6;\n",
              "      --disabled-fill-color: #AAA;\n",
              "      --disabled-bg-color: #DDD;\n",
              "  }\n",
              "\n",
              "  [theme=dark] .colab-df-quickchart {\n",
              "      --bg-color: #3B4455;\n",
              "      --fill-color: #D2E3FC;\n",
              "      --hover-bg-color: #434B5C;\n",
              "      --hover-fill-color: #FFFFFF;\n",
              "      --disabled-bg-color: #3B4455;\n",
              "      --disabled-fill-color: #666;\n",
              "  }\n",
              "\n",
              "  .colab-df-quickchart {\n",
              "    background-color: var(--bg-color);\n",
              "    border: none;\n",
              "    border-radius: 50%;\n",
              "    cursor: pointer;\n",
              "    display: none;\n",
              "    fill: var(--fill-color);\n",
              "    height: 32px;\n",
              "    padding: 0;\n",
              "    width: 32px;\n",
              "  }\n",
              "\n",
              "  .colab-df-quickchart:hover {\n",
              "    background-color: var(--hover-bg-color);\n",
              "    box-shadow: 0 1px 2px rgba(60, 64, 67, 0.3), 0 1px 3px 1px rgba(60, 64, 67, 0.15);\n",
              "    fill: var(--button-hover-fill-color);\n",
              "  }\n",
              "\n",
              "  .colab-df-quickchart-complete:disabled,\n",
              "  .colab-df-quickchart-complete:disabled:hover {\n",
              "    background-color: var(--disabled-bg-color);\n",
              "    fill: var(--disabled-fill-color);\n",
              "    box-shadow: none;\n",
              "  }\n",
              "\n",
              "  .colab-df-spinner {\n",
              "    border: 2px solid var(--fill-color);\n",
              "    border-color: transparent;\n",
              "    border-bottom-color: var(--fill-color);\n",
              "    animation:\n",
              "      spin 1s steps(1) infinite;\n",
              "  }\n",
              "\n",
              "  @keyframes spin {\n",
              "    0% {\n",
              "      border-color: transparent;\n",
              "      border-bottom-color: var(--fill-color);\n",
              "      border-left-color: var(--fill-color);\n",
              "    }\n",
              "    20% {\n",
              "      border-color: transparent;\n",
              "      border-left-color: var(--fill-color);\n",
              "      border-top-color: var(--fill-color);\n",
              "    }\n",
              "    30% {\n",
              "      border-color: transparent;\n",
              "      border-left-color: var(--fill-color);\n",
              "      border-top-color: var(--fill-color);\n",
              "      border-right-color: var(--fill-color);\n",
              "    }\n",
              "    40% {\n",
              "      border-color: transparent;\n",
              "      border-right-color: var(--fill-color);\n",
              "      border-top-color: var(--fill-color);\n",
              "    }\n",
              "    60% {\n",
              "      border-color: transparent;\n",
              "      border-right-color: var(--fill-color);\n",
              "    }\n",
              "    80% {\n",
              "      border-color: transparent;\n",
              "      border-right-color: var(--fill-color);\n",
              "      border-bottom-color: var(--fill-color);\n",
              "    }\n",
              "    90% {\n",
              "      border-color: transparent;\n",
              "      border-bottom-color: var(--fill-color);\n",
              "    }\n",
              "  }\n",
              "</style>\n",
              "\n",
              "  <script>\n",
              "    async function quickchart(key) {\n",
              "      const quickchartButtonEl =\n",
              "        document.querySelector('#' + key + ' button');\n",
              "      quickchartButtonEl.disabled = true;  // To prevent multiple clicks.\n",
              "      quickchartButtonEl.classList.add('colab-df-spinner');\n",
              "      try {\n",
              "        const charts = await google.colab.kernel.invokeFunction(\n",
              "            'suggestCharts', [key], {});\n",
              "      } catch (error) {\n",
              "        console.error('Error during call to suggestCharts:', error);\n",
              "      }\n",
              "      quickchartButtonEl.classList.remove('colab-df-spinner');\n",
              "      quickchartButtonEl.classList.add('colab-df-quickchart-complete');\n",
              "    }\n",
              "    (() => {\n",
              "      let quickchartButtonEl =\n",
              "        document.querySelector('#df-82685e11-77ad-4aa0-8f0f-e7cde7526189 button');\n",
              "      quickchartButtonEl.style.display =\n",
              "        google.colab.kernel.accessAllowed ? 'block' : 'none';\n",
              "    })();\n",
              "  </script>\n",
              "</div>\n",
              "    </div>\n",
              "  </div>\n"
            ]
          },
          "metadata": {},
          "execution_count": 23
        }
      ]
    },
    {
      "cell_type": "code",
      "source": [
        "dfAlunosNotas[\"nota\"][2]= \"faltou\"\n",
        "dfAlunosNotas[\"nota\"]"
      ],
      "metadata": {
        "colab": {
          "base_uri": "https://localhost:8080/"
        },
        "id": "B0WigGqy3dT7",
        "outputId": "f8295106-70f9-463d-c032-a088de5037f4"
      },
      "execution_count": null,
      "outputs": [
        {
          "output_type": "stream",
          "name": "stderr",
          "text": [
            "<ipython-input-24-fbf8677d5046>:1: SettingWithCopyWarning: \n",
            "A value is trying to be set on a copy of a slice from a DataFrame\n",
            "\n",
            "See the caveats in the documentation: https://pandas.pydata.org/pandas-docs/stable/user_guide/indexing.html#returning-a-view-versus-a-copy\n",
            "  dfAlunosNotas[\"nota\"][2]= \"faltou\"\n"
          ]
        },
        {
          "output_type": "execute_result",
          "data": {
            "text/plain": [
              "0         8\n",
              "1        10\n",
              "2    faltou\n",
              "3         8\n",
              "4         9\n",
              "Name: nota, dtype: object"
            ]
          },
          "metadata": {},
          "execution_count": 24
        }
      ]
    },
    {
      "cell_type": "code",
      "source": [
        "dfAlunos = pd.DataFrame(alunos)\n",
        "dfAlunos[0]"
      ],
      "metadata": {
        "colab": {
          "base_uri": "https://localhost:8080/"
        },
        "id": "9_mcxj7W2epg",
        "outputId": "0ef7316e-762f-4dd3-9c7a-010d759fdecd"
      },
      "execution_count": null,
      "outputs": [
        {
          "output_type": "execute_result",
          "data": {
            "text/plain": [
              "0       Ana\n",
              "1      João\n",
              "2     Paulo\n",
              "3     Maria\n",
              "4    Carlos\n",
              "Name: 0, dtype: object"
            ]
          },
          "metadata": {},
          "execution_count": 25
        }
      ]
    },
    {
      "cell_type": "markdown",
      "source": [
        "## Importação de bases em diferentes formatos"
      ],
      "metadata": {
        "id": "vCQdXH0n9SGe"
      }
    },
    {
      "cell_type": "markdown",
      "source": [
        "Para análise de dados, é comum importar dados externos em diferentes formatos de arquivo. O pandas oferece a funcionalidade pd.read_csv() para carregar dados a partir de arquivos CSV. Além disso, ele permite importar dados de outros formatos, incluindo Excel, JSON, bancos de dados SQL e HTML. O pandas também oferece suporte a formatos otimizados para big data, como HDF5 e Parquet, tornando-o uma ferramenta versátil para manipulação e análise de uma ampla gama de fontes de dados."
      ],
      "metadata": {
        "id": "niwxn0LO962S"
      }
    },
    {
      "cell_type": "markdown",
      "source": [
        "Para nossa aula usaremos a base de dados disponíveis no GitHub [neste link](https://github.com/techcomkathia/datasets)\n"
      ],
      "metadata": {
        "id": "B298fv0XJGOs"
      }
    },
    {
      "cell_type": "markdown",
      "source": [
        "## EXCEL"
      ],
      "metadata": {
        "id": "vZjmnsDRL1i6"
      }
    },
    {
      "cell_type": "markdown",
      "source": [
        "Com o método `pd.read_excel()` podemos construir um dataFrame com base em um arquivo excel.\n",
        "\n",
        "Utilize o banco de dados **clientes_tratamento.xlsx**"
      ],
      "metadata": {
        "id": "9VRYovbgvTqA"
      }
    },
    {
      "cell_type": "code",
      "source": [
        "df_clientes = pd.read_excel(\"/content/sample_data/clientes_tratamento.xlsx\")\n",
        "df_clientes"
      ],
      "metadata": {
        "colab": {
          "base_uri": "https://localhost:8080/",
          "height": 808
        },
        "id": "NOESRxGHsbd_",
        "outputId": "ec45d37c-59ab-44a4-deac-b0c15b14120b"
      },
      "execution_count": null,
      "outputs": [
        {
          "output_type": "execute_result",
          "data": {
            "text/plain": [
              "                                 nome  Unnamed: 1             cpf  \\\n",
              "0               Cauã Iago Paulo Jesus         NaN  025.293.734-18   \n",
              "1        Aparecida Cristiane da Cunha         NaN  363.545.494-00   \n",
              "2    Ricardo Manuel Martin dos Santos         NaN  387.779.416-59   \n",
              "3                Marcelo Bryan Farias         NaN  735.001.987-40   \n",
              "4                                 NaN         NaN             NaN   \n",
              "..                                ...         ...             ...   \n",
              "174                               NaN         NaN             NaN   \n",
              "175               Maria Yasmin Barros         NaN  965.130.621-10   \n",
              "176           Lucca Osvaldo Bernardes         NaN  751.811.881-50   \n",
              "177            Osvaldo João Fernandes         NaN  202.283.219-13   \n",
              "178        Fátima Sarah Alícia Vieira         NaN  661.897.486-00   \n",
              "\n",
              "               rg  data_nasc       sexo        signo                    mae  \\\n",
              "0    22.866.798-7 1953-01-19  Masculino  Capricórnio    Sophia Nair Antônia   \n",
              "1    48.396.627-7 1974-02-17   Feminino      Aquário         Rafaela Nicole   \n",
              "2    44.503.380-0 1952-02-22  Masculino       Peixes             Julia Rosa   \n",
              "3    10.801.911-1 1948-01-02  Masculino  Capricórnio           Olivia Carla   \n",
              "4             NaN        NaT        NaN          NaN                    NaN   \n",
              "..            ...        ...        ...          ...                    ...   \n",
              "174           NaN        NaT        NaN          NaN                    NaN   \n",
              "175  17.637.424-3 1948-02-13   Feminino      Aquário  Stella Simone Mariane   \n",
              "176  40.571.734-9 1986-03-02  Masculino       Peixes       Luna Mariah Nina   \n",
              "177  13.288.086-6 1954-03-02  Masculino       Peixes           Allana Elisa   \n",
              "178  22.943.110-0 1943-01-23   Feminino      Aquário              Malu Luna   \n",
              "\n",
              "                                    pai  \\\n",
              "0           Marcelo Sérgio Enrico Jesus   \n",
              "1               Bernardo Pedro da Cunha   \n",
              "2    Osvaldo Gustavo Lorenzo dos Santos   \n",
              "3                 Roberto Manuel Farias   \n",
              "4                                   NaN   \n",
              "..                                  ...   \n",
              "174                                 NaN   \n",
              "175                  Raul Daniel Barros   \n",
              "176             Thomas Nathan Bernardes   \n",
              "177          Augusto Benedito Fernandes   \n",
              "178             Diego Igor Paulo Vieira   \n",
              "\n",
              "                                       email  ...      cidade estado  \\\n",
              "0                 caua_iago_jesus@hlt.arq.br  ...  Parnamirim     RN   \n",
              "1        aparecida-dacunha89@redhouse.com.br  ...     Aracaju     SE   \n",
              "2      ricardomanueldossantos@moderna.com.br  ...      Maceió     AL   \n",
              "3          marcelo.bryan.farias@unink.com.br  ...      Palmas     TO   \n",
              "4                                        NaN  ...         NaN    NaN   \n",
              "..                                       ...  ...         ...    ...   \n",
              "174                                      NaN  ...         NaN    NaN   \n",
              "175              maria_barros@solviagens.com  ...      Maceió     AL   \n",
              "176     lucca_osvaldo_bernardes@monsanto.com  ...    Parnaíba     PI   \n",
              "177      osvaldojoaofernandes@sanidet.com.br  ...    Cabedelo     PB   \n",
              "178  fatima_sarah_vieira@gruppoitalia.com.br  ...    Brasília     DF   \n",
              "\n",
              "      telefone_fixo          celular altura  peso Unnamed: 21 tipo_sanguineo  \\\n",
              "0    (84) 2831-4233  (84) 98671-5320    NaN  70.0         NaN            AB+   \n",
              "1    (79) 2600-6520  (79) 98333-4589    NaN  52.0         NaN            AB-   \n",
              "2    (82) 3901-1268  (82) 99245-6058    NaN  73.0         NaN             A+   \n",
              "3    (63) 3809-7936  (63) 99237-1399    NaN  68.0         NaN             O+   \n",
              "4               NaN              NaN    NaN   NaN         NaN            NaN   \n",
              "..              ...              ...    ...   ...         ...            ...   \n",
              "174             NaN              NaN    NaN   NaN         NaN            NaN   \n",
              "175  (82) 2680-6459  (82) 99880-2596    NaN  84.0         NaN             B-   \n",
              "176  (86) 3934-1199  (86) 99264-0791    NaN  90.0         NaN             O-   \n",
              "177  (83) 3720-7532  (83) 98986-1463    NaN  93.0         NaN            AB+   \n",
              "178  (61) 2827-3826  (61) 98936-9189    NaN  76.0         NaN            AB-   \n",
              "\n",
              "          cor  valor_compra  \n",
              "0    vermelho        5300.0  \n",
              "1        azul        1400.0  \n",
              "2     laranja        2100.0  \n",
              "3       verde        3500.0  \n",
              "4         NaN           NaN  \n",
              "..        ...           ...  \n",
              "174       NaN           NaN  \n",
              "175   amarelo        5300.0  \n",
              "176      azul        2500.0  \n",
              "177     preto        5300.0  \n",
              "178  vermelho        2100.0  \n",
              "\n",
              "[179 rows x 25 columns]"
            ],
            "text/html": [
              "\n",
              "  <div id=\"df-c2b69199-79fa-4fe9-810b-74878f08c18f\" class=\"colab-df-container\">\n",
              "    <div>\n",
              "<style scoped>\n",
              "    .dataframe tbody tr th:only-of-type {\n",
              "        vertical-align: middle;\n",
              "    }\n",
              "\n",
              "    .dataframe tbody tr th {\n",
              "        vertical-align: top;\n",
              "    }\n",
              "\n",
              "    .dataframe thead th {\n",
              "        text-align: right;\n",
              "    }\n",
              "</style>\n",
              "<table border=\"1\" class=\"dataframe\">\n",
              "  <thead>\n",
              "    <tr style=\"text-align: right;\">\n",
              "      <th></th>\n",
              "      <th>nome</th>\n",
              "      <th>Unnamed: 1</th>\n",
              "      <th>cpf</th>\n",
              "      <th>rg</th>\n",
              "      <th>data_nasc</th>\n",
              "      <th>sexo</th>\n",
              "      <th>signo</th>\n",
              "      <th>mae</th>\n",
              "      <th>pai</th>\n",
              "      <th>email</th>\n",
              "      <th>...</th>\n",
              "      <th>cidade</th>\n",
              "      <th>estado</th>\n",
              "      <th>telefone_fixo</th>\n",
              "      <th>celular</th>\n",
              "      <th>altura</th>\n",
              "      <th>peso</th>\n",
              "      <th>Unnamed: 21</th>\n",
              "      <th>tipo_sanguineo</th>\n",
              "      <th>cor</th>\n",
              "      <th>valor_compra</th>\n",
              "    </tr>\n",
              "  </thead>\n",
              "  <tbody>\n",
              "    <tr>\n",
              "      <th>0</th>\n",
              "      <td>Cauã Iago Paulo Jesus</td>\n",
              "      <td>NaN</td>\n",
              "      <td>025.293.734-18</td>\n",
              "      <td>22.866.798-7</td>\n",
              "      <td>1953-01-19</td>\n",
              "      <td>Masculino</td>\n",
              "      <td>Capricórnio</td>\n",
              "      <td>Sophia Nair Antônia</td>\n",
              "      <td>Marcelo Sérgio Enrico Jesus</td>\n",
              "      <td>caua_iago_jesus@hlt.arq.br</td>\n",
              "      <td>...</td>\n",
              "      <td>Parnamirim</td>\n",
              "      <td>RN</td>\n",
              "      <td>(84) 2831-4233</td>\n",
              "      <td>(84) 98671-5320</td>\n",
              "      <td>NaN</td>\n",
              "      <td>70.0</td>\n",
              "      <td>NaN</td>\n",
              "      <td>AB+</td>\n",
              "      <td>vermelho</td>\n",
              "      <td>5300.0</td>\n",
              "    </tr>\n",
              "    <tr>\n",
              "      <th>1</th>\n",
              "      <td>Aparecida Cristiane da Cunha</td>\n",
              "      <td>NaN</td>\n",
              "      <td>363.545.494-00</td>\n",
              "      <td>48.396.627-7</td>\n",
              "      <td>1974-02-17</td>\n",
              "      <td>Feminino</td>\n",
              "      <td>Aquário</td>\n",
              "      <td>Rafaela Nicole</td>\n",
              "      <td>Bernardo Pedro da Cunha</td>\n",
              "      <td>aparecida-dacunha89@redhouse.com.br</td>\n",
              "      <td>...</td>\n",
              "      <td>Aracaju</td>\n",
              "      <td>SE</td>\n",
              "      <td>(79) 2600-6520</td>\n",
              "      <td>(79) 98333-4589</td>\n",
              "      <td>NaN</td>\n",
              "      <td>52.0</td>\n",
              "      <td>NaN</td>\n",
              "      <td>AB-</td>\n",
              "      <td>azul</td>\n",
              "      <td>1400.0</td>\n",
              "    </tr>\n",
              "    <tr>\n",
              "      <th>2</th>\n",
              "      <td>Ricardo Manuel Martin dos Santos</td>\n",
              "      <td>NaN</td>\n",
              "      <td>387.779.416-59</td>\n",
              "      <td>44.503.380-0</td>\n",
              "      <td>1952-02-22</td>\n",
              "      <td>Masculino</td>\n",
              "      <td>Peixes</td>\n",
              "      <td>Julia Rosa</td>\n",
              "      <td>Osvaldo Gustavo Lorenzo dos Santos</td>\n",
              "      <td>ricardomanueldossantos@moderna.com.br</td>\n",
              "      <td>...</td>\n",
              "      <td>Maceió</td>\n",
              "      <td>AL</td>\n",
              "      <td>(82) 3901-1268</td>\n",
              "      <td>(82) 99245-6058</td>\n",
              "      <td>NaN</td>\n",
              "      <td>73.0</td>\n",
              "      <td>NaN</td>\n",
              "      <td>A+</td>\n",
              "      <td>laranja</td>\n",
              "      <td>2100.0</td>\n",
              "    </tr>\n",
              "    <tr>\n",
              "      <th>3</th>\n",
              "      <td>Marcelo Bryan Farias</td>\n",
              "      <td>NaN</td>\n",
              "      <td>735.001.987-40</td>\n",
              "      <td>10.801.911-1</td>\n",
              "      <td>1948-01-02</td>\n",
              "      <td>Masculino</td>\n",
              "      <td>Capricórnio</td>\n",
              "      <td>Olivia Carla</td>\n",
              "      <td>Roberto Manuel Farias</td>\n",
              "      <td>marcelo.bryan.farias@unink.com.br</td>\n",
              "      <td>...</td>\n",
              "      <td>Palmas</td>\n",
              "      <td>TO</td>\n",
              "      <td>(63) 3809-7936</td>\n",
              "      <td>(63) 99237-1399</td>\n",
              "      <td>NaN</td>\n",
              "      <td>68.0</td>\n",
              "      <td>NaN</td>\n",
              "      <td>O+</td>\n",
              "      <td>verde</td>\n",
              "      <td>3500.0</td>\n",
              "    </tr>\n",
              "    <tr>\n",
              "      <th>4</th>\n",
              "      <td>NaN</td>\n",
              "      <td>NaN</td>\n",
              "      <td>NaN</td>\n",
              "      <td>NaN</td>\n",
              "      <td>NaT</td>\n",
              "      <td>NaN</td>\n",
              "      <td>NaN</td>\n",
              "      <td>NaN</td>\n",
              "      <td>NaN</td>\n",
              "      <td>NaN</td>\n",
              "      <td>...</td>\n",
              "      <td>NaN</td>\n",
              "      <td>NaN</td>\n",
              "      <td>NaN</td>\n",
              "      <td>NaN</td>\n",
              "      <td>NaN</td>\n",
              "      <td>NaN</td>\n",
              "      <td>NaN</td>\n",
              "      <td>NaN</td>\n",
              "      <td>NaN</td>\n",
              "      <td>NaN</td>\n",
              "    </tr>\n",
              "    <tr>\n",
              "      <th>...</th>\n",
              "      <td>...</td>\n",
              "      <td>...</td>\n",
              "      <td>...</td>\n",
              "      <td>...</td>\n",
              "      <td>...</td>\n",
              "      <td>...</td>\n",
              "      <td>...</td>\n",
              "      <td>...</td>\n",
              "      <td>...</td>\n",
              "      <td>...</td>\n",
              "      <td>...</td>\n",
              "      <td>...</td>\n",
              "      <td>...</td>\n",
              "      <td>...</td>\n",
              "      <td>...</td>\n",
              "      <td>...</td>\n",
              "      <td>...</td>\n",
              "      <td>...</td>\n",
              "      <td>...</td>\n",
              "      <td>...</td>\n",
              "      <td>...</td>\n",
              "    </tr>\n",
              "    <tr>\n",
              "      <th>174</th>\n",
              "      <td>NaN</td>\n",
              "      <td>NaN</td>\n",
              "      <td>NaN</td>\n",
              "      <td>NaN</td>\n",
              "      <td>NaT</td>\n",
              "      <td>NaN</td>\n",
              "      <td>NaN</td>\n",
              "      <td>NaN</td>\n",
              "      <td>NaN</td>\n",
              "      <td>NaN</td>\n",
              "      <td>...</td>\n",
              "      <td>NaN</td>\n",
              "      <td>NaN</td>\n",
              "      <td>NaN</td>\n",
              "      <td>NaN</td>\n",
              "      <td>NaN</td>\n",
              "      <td>NaN</td>\n",
              "      <td>NaN</td>\n",
              "      <td>NaN</td>\n",
              "      <td>NaN</td>\n",
              "      <td>NaN</td>\n",
              "    </tr>\n",
              "    <tr>\n",
              "      <th>175</th>\n",
              "      <td>Maria Yasmin Barros</td>\n",
              "      <td>NaN</td>\n",
              "      <td>965.130.621-10</td>\n",
              "      <td>17.637.424-3</td>\n",
              "      <td>1948-02-13</td>\n",
              "      <td>Feminino</td>\n",
              "      <td>Aquário</td>\n",
              "      <td>Stella Simone Mariane</td>\n",
              "      <td>Raul Daniel Barros</td>\n",
              "      <td>maria_barros@solviagens.com</td>\n",
              "      <td>...</td>\n",
              "      <td>Maceió</td>\n",
              "      <td>AL</td>\n",
              "      <td>(82) 2680-6459</td>\n",
              "      <td>(82) 99880-2596</td>\n",
              "      <td>NaN</td>\n",
              "      <td>84.0</td>\n",
              "      <td>NaN</td>\n",
              "      <td>B-</td>\n",
              "      <td>amarelo</td>\n",
              "      <td>5300.0</td>\n",
              "    </tr>\n",
              "    <tr>\n",
              "      <th>176</th>\n",
              "      <td>Lucca Osvaldo Bernardes</td>\n",
              "      <td>NaN</td>\n",
              "      <td>751.811.881-50</td>\n",
              "      <td>40.571.734-9</td>\n",
              "      <td>1986-03-02</td>\n",
              "      <td>Masculino</td>\n",
              "      <td>Peixes</td>\n",
              "      <td>Luna Mariah Nina</td>\n",
              "      <td>Thomas Nathan Bernardes</td>\n",
              "      <td>lucca_osvaldo_bernardes@monsanto.com</td>\n",
              "      <td>...</td>\n",
              "      <td>Parnaíba</td>\n",
              "      <td>PI</td>\n",
              "      <td>(86) 3934-1199</td>\n",
              "      <td>(86) 99264-0791</td>\n",
              "      <td>NaN</td>\n",
              "      <td>90.0</td>\n",
              "      <td>NaN</td>\n",
              "      <td>O-</td>\n",
              "      <td>azul</td>\n",
              "      <td>2500.0</td>\n",
              "    </tr>\n",
              "    <tr>\n",
              "      <th>177</th>\n",
              "      <td>Osvaldo João Fernandes</td>\n",
              "      <td>NaN</td>\n",
              "      <td>202.283.219-13</td>\n",
              "      <td>13.288.086-6</td>\n",
              "      <td>1954-03-02</td>\n",
              "      <td>Masculino</td>\n",
              "      <td>Peixes</td>\n",
              "      <td>Allana Elisa</td>\n",
              "      <td>Augusto Benedito Fernandes</td>\n",
              "      <td>osvaldojoaofernandes@sanidet.com.br</td>\n",
              "      <td>...</td>\n",
              "      <td>Cabedelo</td>\n",
              "      <td>PB</td>\n",
              "      <td>(83) 3720-7532</td>\n",
              "      <td>(83) 98986-1463</td>\n",
              "      <td>NaN</td>\n",
              "      <td>93.0</td>\n",
              "      <td>NaN</td>\n",
              "      <td>AB+</td>\n",
              "      <td>preto</td>\n",
              "      <td>5300.0</td>\n",
              "    </tr>\n",
              "    <tr>\n",
              "      <th>178</th>\n",
              "      <td>Fátima Sarah Alícia Vieira</td>\n",
              "      <td>NaN</td>\n",
              "      <td>661.897.486-00</td>\n",
              "      <td>22.943.110-0</td>\n",
              "      <td>1943-01-23</td>\n",
              "      <td>Feminino</td>\n",
              "      <td>Aquário</td>\n",
              "      <td>Malu Luna</td>\n",
              "      <td>Diego Igor Paulo Vieira</td>\n",
              "      <td>fatima_sarah_vieira@gruppoitalia.com.br</td>\n",
              "      <td>...</td>\n",
              "      <td>Brasília</td>\n",
              "      <td>DF</td>\n",
              "      <td>(61) 2827-3826</td>\n",
              "      <td>(61) 98936-9189</td>\n",
              "      <td>NaN</td>\n",
              "      <td>76.0</td>\n",
              "      <td>NaN</td>\n",
              "      <td>AB-</td>\n",
              "      <td>vermelho</td>\n",
              "      <td>2100.0</td>\n",
              "    </tr>\n",
              "  </tbody>\n",
              "</table>\n",
              "<p>179 rows × 25 columns</p>\n",
              "</div>\n",
              "    <div class=\"colab-df-buttons\">\n",
              "\n",
              "  <div class=\"colab-df-container\">\n",
              "    <button class=\"colab-df-convert\" onclick=\"convertToInteractive('df-c2b69199-79fa-4fe9-810b-74878f08c18f')\"\n",
              "            title=\"Convert this dataframe to an interactive table.\"\n",
              "            style=\"display:none;\">\n",
              "\n",
              "  <svg xmlns=\"http://www.w3.org/2000/svg\" height=\"24px\" viewBox=\"0 -960 960 960\">\n",
              "    <path d=\"M120-120v-720h720v720H120Zm60-500h600v-160H180v160Zm220 220h160v-160H400v160Zm0 220h160v-160H400v160ZM180-400h160v-160H180v160Zm440 0h160v-160H620v160ZM180-180h160v-160H180v160Zm440 0h160v-160H620v160Z\"/>\n",
              "  </svg>\n",
              "    </button>\n",
              "\n",
              "  <style>\n",
              "    .colab-df-container {\n",
              "      display:flex;\n",
              "      gap: 12px;\n",
              "    }\n",
              "\n",
              "    .colab-df-convert {\n",
              "      background-color: #E8F0FE;\n",
              "      border: none;\n",
              "      border-radius: 50%;\n",
              "      cursor: pointer;\n",
              "      display: none;\n",
              "      fill: #1967D2;\n",
              "      height: 32px;\n",
              "      padding: 0 0 0 0;\n",
              "      width: 32px;\n",
              "    }\n",
              "\n",
              "    .colab-df-convert:hover {\n",
              "      background-color: #E2EBFA;\n",
              "      box-shadow: 0px 1px 2px rgba(60, 64, 67, 0.3), 0px 1px 3px 1px rgba(60, 64, 67, 0.15);\n",
              "      fill: #174EA6;\n",
              "    }\n",
              "\n",
              "    .colab-df-buttons div {\n",
              "      margin-bottom: 4px;\n",
              "    }\n",
              "\n",
              "    [theme=dark] .colab-df-convert {\n",
              "      background-color: #3B4455;\n",
              "      fill: #D2E3FC;\n",
              "    }\n",
              "\n",
              "    [theme=dark] .colab-df-convert:hover {\n",
              "      background-color: #434B5C;\n",
              "      box-shadow: 0px 1px 3px 1px rgba(0, 0, 0, 0.15);\n",
              "      filter: drop-shadow(0px 1px 2px rgba(0, 0, 0, 0.3));\n",
              "      fill: #FFFFFF;\n",
              "    }\n",
              "  </style>\n",
              "\n",
              "    <script>\n",
              "      const buttonEl =\n",
              "        document.querySelector('#df-c2b69199-79fa-4fe9-810b-74878f08c18f button.colab-df-convert');\n",
              "      buttonEl.style.display =\n",
              "        google.colab.kernel.accessAllowed ? 'block' : 'none';\n",
              "\n",
              "      async function convertToInteractive(key) {\n",
              "        const element = document.querySelector('#df-c2b69199-79fa-4fe9-810b-74878f08c18f');\n",
              "        const dataTable =\n",
              "          await google.colab.kernel.invokeFunction('convertToInteractive',\n",
              "                                                    [key], {});\n",
              "        if (!dataTable) return;\n",
              "\n",
              "        const docLinkHtml = 'Like what you see? Visit the ' +\n",
              "          '<a target=\"_blank\" href=https://colab.research.google.com/notebooks/data_table.ipynb>data table notebook</a>'\n",
              "          + ' to learn more about interactive tables.';\n",
              "        element.innerHTML = '';\n",
              "        dataTable['output_type'] = 'display_data';\n",
              "        await google.colab.output.renderOutput(dataTable, element);\n",
              "        const docLink = document.createElement('div');\n",
              "        docLink.innerHTML = docLinkHtml;\n",
              "        element.appendChild(docLink);\n",
              "      }\n",
              "    </script>\n",
              "  </div>\n",
              "\n",
              "\n",
              "<div id=\"df-28eb0f27-6cdf-4d35-b6e4-e8431a1e6ccc\">\n",
              "  <button class=\"colab-df-quickchart\" onclick=\"quickchart('df-28eb0f27-6cdf-4d35-b6e4-e8431a1e6ccc')\"\n",
              "            title=\"Suggest charts.\"\n",
              "            style=\"display:none;\">\n",
              "\n",
              "<svg xmlns=\"http://www.w3.org/2000/svg\" height=\"24px\"viewBox=\"0 0 24 24\"\n",
              "     width=\"24px\">\n",
              "    <g>\n",
              "        <path d=\"M19 3H5c-1.1 0-2 .9-2 2v14c0 1.1.9 2 2 2h14c1.1 0 2-.9 2-2V5c0-1.1-.9-2-2-2zM9 17H7v-7h2v7zm4 0h-2V7h2v10zm4 0h-2v-4h2v4z\"/>\n",
              "    </g>\n",
              "</svg>\n",
              "  </button>\n",
              "\n",
              "<style>\n",
              "  .colab-df-quickchart {\n",
              "      --bg-color: #E8F0FE;\n",
              "      --fill-color: #1967D2;\n",
              "      --hover-bg-color: #E2EBFA;\n",
              "      --hover-fill-color: #174EA6;\n",
              "      --disabled-fill-color: #AAA;\n",
              "      --disabled-bg-color: #DDD;\n",
              "  }\n",
              "\n",
              "  [theme=dark] .colab-df-quickchart {\n",
              "      --bg-color: #3B4455;\n",
              "      --fill-color: #D2E3FC;\n",
              "      --hover-bg-color: #434B5C;\n",
              "      --hover-fill-color: #FFFFFF;\n",
              "      --disabled-bg-color: #3B4455;\n",
              "      --disabled-fill-color: #666;\n",
              "  }\n",
              "\n",
              "  .colab-df-quickchart {\n",
              "    background-color: var(--bg-color);\n",
              "    border: none;\n",
              "    border-radius: 50%;\n",
              "    cursor: pointer;\n",
              "    display: none;\n",
              "    fill: var(--fill-color);\n",
              "    height: 32px;\n",
              "    padding: 0;\n",
              "    width: 32px;\n",
              "  }\n",
              "\n",
              "  .colab-df-quickchart:hover {\n",
              "    background-color: var(--hover-bg-color);\n",
              "    box-shadow: 0 1px 2px rgba(60, 64, 67, 0.3), 0 1px 3px 1px rgba(60, 64, 67, 0.15);\n",
              "    fill: var(--button-hover-fill-color);\n",
              "  }\n",
              "\n",
              "  .colab-df-quickchart-complete:disabled,\n",
              "  .colab-df-quickchart-complete:disabled:hover {\n",
              "    background-color: var(--disabled-bg-color);\n",
              "    fill: var(--disabled-fill-color);\n",
              "    box-shadow: none;\n",
              "  }\n",
              "\n",
              "  .colab-df-spinner {\n",
              "    border: 2px solid var(--fill-color);\n",
              "    border-color: transparent;\n",
              "    border-bottom-color: var(--fill-color);\n",
              "    animation:\n",
              "      spin 1s steps(1) infinite;\n",
              "  }\n",
              "\n",
              "  @keyframes spin {\n",
              "    0% {\n",
              "      border-color: transparent;\n",
              "      border-bottom-color: var(--fill-color);\n",
              "      border-left-color: var(--fill-color);\n",
              "    }\n",
              "    20% {\n",
              "      border-color: transparent;\n",
              "      border-left-color: var(--fill-color);\n",
              "      border-top-color: var(--fill-color);\n",
              "    }\n",
              "    30% {\n",
              "      border-color: transparent;\n",
              "      border-left-color: var(--fill-color);\n",
              "      border-top-color: var(--fill-color);\n",
              "      border-right-color: var(--fill-color);\n",
              "    }\n",
              "    40% {\n",
              "      border-color: transparent;\n",
              "      border-right-color: var(--fill-color);\n",
              "      border-top-color: var(--fill-color);\n",
              "    }\n",
              "    60% {\n",
              "      border-color: transparent;\n",
              "      border-right-color: var(--fill-color);\n",
              "    }\n",
              "    80% {\n",
              "      border-color: transparent;\n",
              "      border-right-color: var(--fill-color);\n",
              "      border-bottom-color: var(--fill-color);\n",
              "    }\n",
              "    90% {\n",
              "      border-color: transparent;\n",
              "      border-bottom-color: var(--fill-color);\n",
              "    }\n",
              "  }\n",
              "</style>\n",
              "\n",
              "  <script>\n",
              "    async function quickchart(key) {\n",
              "      const quickchartButtonEl =\n",
              "        document.querySelector('#' + key + ' button');\n",
              "      quickchartButtonEl.disabled = true;  // To prevent multiple clicks.\n",
              "      quickchartButtonEl.classList.add('colab-df-spinner');\n",
              "      try {\n",
              "        const charts = await google.colab.kernel.invokeFunction(\n",
              "            'suggestCharts', [key], {});\n",
              "      } catch (error) {\n",
              "        console.error('Error during call to suggestCharts:', error);\n",
              "      }\n",
              "      quickchartButtonEl.classList.remove('colab-df-spinner');\n",
              "      quickchartButtonEl.classList.add('colab-df-quickchart-complete');\n",
              "    }\n",
              "    (() => {\n",
              "      let quickchartButtonEl =\n",
              "        document.querySelector('#df-28eb0f27-6cdf-4d35-b6e4-e8431a1e6ccc button');\n",
              "      quickchartButtonEl.style.display =\n",
              "        google.colab.kernel.accessAllowed ? 'block' : 'none';\n",
              "    })();\n",
              "  </script>\n",
              "</div>\n",
              "    </div>\n",
              "  </div>\n"
            ]
          },
          "metadata": {},
          "execution_count": 27
        }
      ]
    },
    {
      "cell_type": "markdown",
      "source": [
        "##csv"
      ],
      "metadata": {
        "id": "NiuO92MVvOpJ"
      }
    },
    {
      "cell_type": "markdown",
      "source": [
        "Com `pd.read_csv()` podemos construir um df com um arquivo csv. Esse csv pode vir de diversos formatos, separado por `,` `;` `- `e outros tipos de tabulação.\n",
        "Para isso contamos com o parâmetro `sep`.\n",
        "\n",
        "Utilize https://github.com/techcomkathia/datasets/blob/main/IMC.csv"
      ],
      "metadata": {
        "id": "HIlWVk0JvnUf"
      }
    },
    {
      "cell_type": "code",
      "source": [
        "dfIMC = pd.read_csv('https://raw.githubusercontent.com/techcomkathia/datasets/main/IMC.csv', sep = ';')\n",
        "dfIMC"
      ],
      "metadata": {
        "id": "7xT0GKHUwLPu"
      },
      "execution_count": null,
      "outputs": []
    },
    {
      "cell_type": "code",
      "source": [
        "dfIMC.info()"
      ],
      "metadata": {
        "id": "t6TxvMO1yHvO"
      },
      "execution_count": null,
      "outputs": []
    },
    {
      "cell_type": "markdown",
      "source": [],
      "metadata": {
        "id": "V2YnrZCTyfPP"
      }
    },
    {
      "cell_type": "markdown",
      "source": [
        "# Limpeza de dados"
      ],
      "metadata": {
        "id": "lVFbvwEuNcnF"
      }
    },
    {
      "cell_type": "markdown",
      "source": [
        "##Compreensão dos dados"
      ],
      "metadata": {
        "id": "2ywrXGx11myW"
      }
    },
    {
      "cell_type": "markdown",
      "source": [
        "A organização do nosso dataFrame é crucial para análises precisas. Muitas vezes recebemos bases poluídas, com linhas e/ ou colunas nulas, além de colunas dispensáveis. O tratamento desses dados se torna necessário para evitar distorções e simplificar a base.\n",
        "\n",
        "Além da remoção de informações indesejadas é muito comum a renomeação de colunas, para tornar nossos dados mais descritivos.\n"
      ],
      "metadata": {
        "id": "O-bFIdjpNjzl"
      }
    },
    {
      "cell_type": "code",
      "source": [
        "df_clientes.shape"
      ],
      "metadata": {
        "colab": {
          "base_uri": "https://localhost:8080/"
        },
        "id": "bD0GK6aosvT3",
        "outputId": "c381099e-7a28-40a1-8a30-a7a7bfc4e430"
      },
      "execution_count": null,
      "outputs": [
        {
          "output_type": "execute_result",
          "data": {
            "text/plain": [
              "(179, 25)"
            ]
          },
          "metadata": {},
          "execution_count": 29
        }
      ]
    },
    {
      "cell_type": "code",
      "source": [
        "df_clientes.head()"
      ],
      "metadata": {
        "colab": {
          "base_uri": "https://localhost:8080/",
          "height": 463
        },
        "id": "LzZGZn2nBqih",
        "outputId": "d2d4f9c0-5fb2-4392-9998-e13beab7a0d0"
      },
      "execution_count": null,
      "outputs": [
        {
          "output_type": "execute_result",
          "data": {
            "text/plain": [
              "                               nome  Unnamed: 1             cpf            rg  \\\n",
              "0             Cauã Iago Paulo Jesus         NaN  025.293.734-18  22.866.798-7   \n",
              "1      Aparecida Cristiane da Cunha         NaN  363.545.494-00  48.396.627-7   \n",
              "2  Ricardo Manuel Martin dos Santos         NaN  387.779.416-59  44.503.380-0   \n",
              "3              Marcelo Bryan Farias         NaN  735.001.987-40  10.801.911-1   \n",
              "4                               NaN         NaN             NaN           NaN   \n",
              "\n",
              "   data_nasc       sexo        signo                  mae  \\\n",
              "0 1953-01-19  Masculino  Capricórnio  Sophia Nair Antônia   \n",
              "1 1974-02-17   Feminino      Aquário       Rafaela Nicole   \n",
              "2 1952-02-22  Masculino       Peixes           Julia Rosa   \n",
              "3 1948-01-02  Masculino  Capricórnio         Olivia Carla   \n",
              "4        NaT        NaN          NaN                  NaN   \n",
              "\n",
              "                                  pai                                  email  \\\n",
              "0         Marcelo Sérgio Enrico Jesus             caua_iago_jesus@hlt.arq.br   \n",
              "1             Bernardo Pedro da Cunha    aparecida-dacunha89@redhouse.com.br   \n",
              "2  Osvaldo Gustavo Lorenzo dos Santos  ricardomanueldossantos@moderna.com.br   \n",
              "3               Roberto Manuel Farias      marcelo.bryan.farias@unink.com.br   \n",
              "4                                 NaN                                    NaN   \n",
              "\n",
              "   ...      cidade estado   telefone_fixo          celular altura  peso  \\\n",
              "0  ...  Parnamirim     RN  (84) 2831-4233  (84) 98671-5320    NaN  70.0   \n",
              "1  ...     Aracaju     SE  (79) 2600-6520  (79) 98333-4589    NaN  52.0   \n",
              "2  ...      Maceió     AL  (82) 3901-1268  (82) 99245-6058    NaN  73.0   \n",
              "3  ...      Palmas     TO  (63) 3809-7936  (63) 99237-1399    NaN  68.0   \n",
              "4  ...         NaN    NaN             NaN              NaN    NaN   NaN   \n",
              "\n",
              "  Unnamed: 21 tipo_sanguineo       cor  valor_compra  \n",
              "0         NaN            AB+  vermelho        5300.0  \n",
              "1         NaN            AB-      azul        1400.0  \n",
              "2         NaN             A+   laranja        2100.0  \n",
              "3         NaN             O+     verde        3500.0  \n",
              "4         NaN            NaN       NaN           NaN  \n",
              "\n",
              "[5 rows x 25 columns]"
            ],
            "text/html": [
              "\n",
              "  <div id=\"df-e335663b-c7be-49e8-8b70-23facb6e885b\" class=\"colab-df-container\">\n",
              "    <div>\n",
              "<style scoped>\n",
              "    .dataframe tbody tr th:only-of-type {\n",
              "        vertical-align: middle;\n",
              "    }\n",
              "\n",
              "    .dataframe tbody tr th {\n",
              "        vertical-align: top;\n",
              "    }\n",
              "\n",
              "    .dataframe thead th {\n",
              "        text-align: right;\n",
              "    }\n",
              "</style>\n",
              "<table border=\"1\" class=\"dataframe\">\n",
              "  <thead>\n",
              "    <tr style=\"text-align: right;\">\n",
              "      <th></th>\n",
              "      <th>nome</th>\n",
              "      <th>Unnamed: 1</th>\n",
              "      <th>cpf</th>\n",
              "      <th>rg</th>\n",
              "      <th>data_nasc</th>\n",
              "      <th>sexo</th>\n",
              "      <th>signo</th>\n",
              "      <th>mae</th>\n",
              "      <th>pai</th>\n",
              "      <th>email</th>\n",
              "      <th>...</th>\n",
              "      <th>cidade</th>\n",
              "      <th>estado</th>\n",
              "      <th>telefone_fixo</th>\n",
              "      <th>celular</th>\n",
              "      <th>altura</th>\n",
              "      <th>peso</th>\n",
              "      <th>Unnamed: 21</th>\n",
              "      <th>tipo_sanguineo</th>\n",
              "      <th>cor</th>\n",
              "      <th>valor_compra</th>\n",
              "    </tr>\n",
              "  </thead>\n",
              "  <tbody>\n",
              "    <tr>\n",
              "      <th>0</th>\n",
              "      <td>Cauã Iago Paulo Jesus</td>\n",
              "      <td>NaN</td>\n",
              "      <td>025.293.734-18</td>\n",
              "      <td>22.866.798-7</td>\n",
              "      <td>1953-01-19</td>\n",
              "      <td>Masculino</td>\n",
              "      <td>Capricórnio</td>\n",
              "      <td>Sophia Nair Antônia</td>\n",
              "      <td>Marcelo Sérgio Enrico Jesus</td>\n",
              "      <td>caua_iago_jesus@hlt.arq.br</td>\n",
              "      <td>...</td>\n",
              "      <td>Parnamirim</td>\n",
              "      <td>RN</td>\n",
              "      <td>(84) 2831-4233</td>\n",
              "      <td>(84) 98671-5320</td>\n",
              "      <td>NaN</td>\n",
              "      <td>70.0</td>\n",
              "      <td>NaN</td>\n",
              "      <td>AB+</td>\n",
              "      <td>vermelho</td>\n",
              "      <td>5300.0</td>\n",
              "    </tr>\n",
              "    <tr>\n",
              "      <th>1</th>\n",
              "      <td>Aparecida Cristiane da Cunha</td>\n",
              "      <td>NaN</td>\n",
              "      <td>363.545.494-00</td>\n",
              "      <td>48.396.627-7</td>\n",
              "      <td>1974-02-17</td>\n",
              "      <td>Feminino</td>\n",
              "      <td>Aquário</td>\n",
              "      <td>Rafaela Nicole</td>\n",
              "      <td>Bernardo Pedro da Cunha</td>\n",
              "      <td>aparecida-dacunha89@redhouse.com.br</td>\n",
              "      <td>...</td>\n",
              "      <td>Aracaju</td>\n",
              "      <td>SE</td>\n",
              "      <td>(79) 2600-6520</td>\n",
              "      <td>(79) 98333-4589</td>\n",
              "      <td>NaN</td>\n",
              "      <td>52.0</td>\n",
              "      <td>NaN</td>\n",
              "      <td>AB-</td>\n",
              "      <td>azul</td>\n",
              "      <td>1400.0</td>\n",
              "    </tr>\n",
              "    <tr>\n",
              "      <th>2</th>\n",
              "      <td>Ricardo Manuel Martin dos Santos</td>\n",
              "      <td>NaN</td>\n",
              "      <td>387.779.416-59</td>\n",
              "      <td>44.503.380-0</td>\n",
              "      <td>1952-02-22</td>\n",
              "      <td>Masculino</td>\n",
              "      <td>Peixes</td>\n",
              "      <td>Julia Rosa</td>\n",
              "      <td>Osvaldo Gustavo Lorenzo dos Santos</td>\n",
              "      <td>ricardomanueldossantos@moderna.com.br</td>\n",
              "      <td>...</td>\n",
              "      <td>Maceió</td>\n",
              "      <td>AL</td>\n",
              "      <td>(82) 3901-1268</td>\n",
              "      <td>(82) 99245-6058</td>\n",
              "      <td>NaN</td>\n",
              "      <td>73.0</td>\n",
              "      <td>NaN</td>\n",
              "      <td>A+</td>\n",
              "      <td>laranja</td>\n",
              "      <td>2100.0</td>\n",
              "    </tr>\n",
              "    <tr>\n",
              "      <th>3</th>\n",
              "      <td>Marcelo Bryan Farias</td>\n",
              "      <td>NaN</td>\n",
              "      <td>735.001.987-40</td>\n",
              "      <td>10.801.911-1</td>\n",
              "      <td>1948-01-02</td>\n",
              "      <td>Masculino</td>\n",
              "      <td>Capricórnio</td>\n",
              "      <td>Olivia Carla</td>\n",
              "      <td>Roberto Manuel Farias</td>\n",
              "      <td>marcelo.bryan.farias@unink.com.br</td>\n",
              "      <td>...</td>\n",
              "      <td>Palmas</td>\n",
              "      <td>TO</td>\n",
              "      <td>(63) 3809-7936</td>\n",
              "      <td>(63) 99237-1399</td>\n",
              "      <td>NaN</td>\n",
              "      <td>68.0</td>\n",
              "      <td>NaN</td>\n",
              "      <td>O+</td>\n",
              "      <td>verde</td>\n",
              "      <td>3500.0</td>\n",
              "    </tr>\n",
              "    <tr>\n",
              "      <th>4</th>\n",
              "      <td>NaN</td>\n",
              "      <td>NaN</td>\n",
              "      <td>NaN</td>\n",
              "      <td>NaN</td>\n",
              "      <td>NaT</td>\n",
              "      <td>NaN</td>\n",
              "      <td>NaN</td>\n",
              "      <td>NaN</td>\n",
              "      <td>NaN</td>\n",
              "      <td>NaN</td>\n",
              "      <td>...</td>\n",
              "      <td>NaN</td>\n",
              "      <td>NaN</td>\n",
              "      <td>NaN</td>\n",
              "      <td>NaN</td>\n",
              "      <td>NaN</td>\n",
              "      <td>NaN</td>\n",
              "      <td>NaN</td>\n",
              "      <td>NaN</td>\n",
              "      <td>NaN</td>\n",
              "      <td>NaN</td>\n",
              "    </tr>\n",
              "  </tbody>\n",
              "</table>\n",
              "<p>5 rows × 25 columns</p>\n",
              "</div>\n",
              "    <div class=\"colab-df-buttons\">\n",
              "\n",
              "  <div class=\"colab-df-container\">\n",
              "    <button class=\"colab-df-convert\" onclick=\"convertToInteractive('df-e335663b-c7be-49e8-8b70-23facb6e885b')\"\n",
              "            title=\"Convert this dataframe to an interactive table.\"\n",
              "            style=\"display:none;\">\n",
              "\n",
              "  <svg xmlns=\"http://www.w3.org/2000/svg\" height=\"24px\" viewBox=\"0 -960 960 960\">\n",
              "    <path d=\"M120-120v-720h720v720H120Zm60-500h600v-160H180v160Zm220 220h160v-160H400v160Zm0 220h160v-160H400v160ZM180-400h160v-160H180v160Zm440 0h160v-160H620v160ZM180-180h160v-160H180v160Zm440 0h160v-160H620v160Z\"/>\n",
              "  </svg>\n",
              "    </button>\n",
              "\n",
              "  <style>\n",
              "    .colab-df-container {\n",
              "      display:flex;\n",
              "      gap: 12px;\n",
              "    }\n",
              "\n",
              "    .colab-df-convert {\n",
              "      background-color: #E8F0FE;\n",
              "      border: none;\n",
              "      border-radius: 50%;\n",
              "      cursor: pointer;\n",
              "      display: none;\n",
              "      fill: #1967D2;\n",
              "      height: 32px;\n",
              "      padding: 0 0 0 0;\n",
              "      width: 32px;\n",
              "    }\n",
              "\n",
              "    .colab-df-convert:hover {\n",
              "      background-color: #E2EBFA;\n",
              "      box-shadow: 0px 1px 2px rgba(60, 64, 67, 0.3), 0px 1px 3px 1px rgba(60, 64, 67, 0.15);\n",
              "      fill: #174EA6;\n",
              "    }\n",
              "\n",
              "    .colab-df-buttons div {\n",
              "      margin-bottom: 4px;\n",
              "    }\n",
              "\n",
              "    [theme=dark] .colab-df-convert {\n",
              "      background-color: #3B4455;\n",
              "      fill: #D2E3FC;\n",
              "    }\n",
              "\n",
              "    [theme=dark] .colab-df-convert:hover {\n",
              "      background-color: #434B5C;\n",
              "      box-shadow: 0px 1px 3px 1px rgba(0, 0, 0, 0.15);\n",
              "      filter: drop-shadow(0px 1px 2px rgba(0, 0, 0, 0.3));\n",
              "      fill: #FFFFFF;\n",
              "    }\n",
              "  </style>\n",
              "\n",
              "    <script>\n",
              "      const buttonEl =\n",
              "        document.querySelector('#df-e335663b-c7be-49e8-8b70-23facb6e885b button.colab-df-convert');\n",
              "      buttonEl.style.display =\n",
              "        google.colab.kernel.accessAllowed ? 'block' : 'none';\n",
              "\n",
              "      async function convertToInteractive(key) {\n",
              "        const element = document.querySelector('#df-e335663b-c7be-49e8-8b70-23facb6e885b');\n",
              "        const dataTable =\n",
              "          await google.colab.kernel.invokeFunction('convertToInteractive',\n",
              "                                                    [key], {});\n",
              "        if (!dataTable) return;\n",
              "\n",
              "        const docLinkHtml = 'Like what you see? Visit the ' +\n",
              "          '<a target=\"_blank\" href=https://colab.research.google.com/notebooks/data_table.ipynb>data table notebook</a>'\n",
              "          + ' to learn more about interactive tables.';\n",
              "        element.innerHTML = '';\n",
              "        dataTable['output_type'] = 'display_data';\n",
              "        await google.colab.output.renderOutput(dataTable, element);\n",
              "        const docLink = document.createElement('div');\n",
              "        docLink.innerHTML = docLinkHtml;\n",
              "        element.appendChild(docLink);\n",
              "      }\n",
              "    </script>\n",
              "  </div>\n",
              "\n",
              "\n",
              "<div id=\"df-d5524813-7cad-4a49-9733-53eb6a1ed385\">\n",
              "  <button class=\"colab-df-quickchart\" onclick=\"quickchart('df-d5524813-7cad-4a49-9733-53eb6a1ed385')\"\n",
              "            title=\"Suggest charts.\"\n",
              "            style=\"display:none;\">\n",
              "\n",
              "<svg xmlns=\"http://www.w3.org/2000/svg\" height=\"24px\"viewBox=\"0 0 24 24\"\n",
              "     width=\"24px\">\n",
              "    <g>\n",
              "        <path d=\"M19 3H5c-1.1 0-2 .9-2 2v14c0 1.1.9 2 2 2h14c1.1 0 2-.9 2-2V5c0-1.1-.9-2-2-2zM9 17H7v-7h2v7zm4 0h-2V7h2v10zm4 0h-2v-4h2v4z\"/>\n",
              "    </g>\n",
              "</svg>\n",
              "  </button>\n",
              "\n",
              "<style>\n",
              "  .colab-df-quickchart {\n",
              "      --bg-color: #E8F0FE;\n",
              "      --fill-color: #1967D2;\n",
              "      --hover-bg-color: #E2EBFA;\n",
              "      --hover-fill-color: #174EA6;\n",
              "      --disabled-fill-color: #AAA;\n",
              "      --disabled-bg-color: #DDD;\n",
              "  }\n",
              "\n",
              "  [theme=dark] .colab-df-quickchart {\n",
              "      --bg-color: #3B4455;\n",
              "      --fill-color: #D2E3FC;\n",
              "      --hover-bg-color: #434B5C;\n",
              "      --hover-fill-color: #FFFFFF;\n",
              "      --disabled-bg-color: #3B4455;\n",
              "      --disabled-fill-color: #666;\n",
              "  }\n",
              "\n",
              "  .colab-df-quickchart {\n",
              "    background-color: var(--bg-color);\n",
              "    border: none;\n",
              "    border-radius: 50%;\n",
              "    cursor: pointer;\n",
              "    display: none;\n",
              "    fill: var(--fill-color);\n",
              "    height: 32px;\n",
              "    padding: 0;\n",
              "    width: 32px;\n",
              "  }\n",
              "\n",
              "  .colab-df-quickchart:hover {\n",
              "    background-color: var(--hover-bg-color);\n",
              "    box-shadow: 0 1px 2px rgba(60, 64, 67, 0.3), 0 1px 3px 1px rgba(60, 64, 67, 0.15);\n",
              "    fill: var(--button-hover-fill-color);\n",
              "  }\n",
              "\n",
              "  .colab-df-quickchart-complete:disabled,\n",
              "  .colab-df-quickchart-complete:disabled:hover {\n",
              "    background-color: var(--disabled-bg-color);\n",
              "    fill: var(--disabled-fill-color);\n",
              "    box-shadow: none;\n",
              "  }\n",
              "\n",
              "  .colab-df-spinner {\n",
              "    border: 2px solid var(--fill-color);\n",
              "    border-color: transparent;\n",
              "    border-bottom-color: var(--fill-color);\n",
              "    animation:\n",
              "      spin 1s steps(1) infinite;\n",
              "  }\n",
              "\n",
              "  @keyframes spin {\n",
              "    0% {\n",
              "      border-color: transparent;\n",
              "      border-bottom-color: var(--fill-color);\n",
              "      border-left-color: var(--fill-color);\n",
              "    }\n",
              "    20% {\n",
              "      border-color: transparent;\n",
              "      border-left-color: var(--fill-color);\n",
              "      border-top-color: var(--fill-color);\n",
              "    }\n",
              "    30% {\n",
              "      border-color: transparent;\n",
              "      border-left-color: var(--fill-color);\n",
              "      border-top-color: var(--fill-color);\n",
              "      border-right-color: var(--fill-color);\n",
              "    }\n",
              "    40% {\n",
              "      border-color: transparent;\n",
              "      border-right-color: var(--fill-color);\n",
              "      border-top-color: var(--fill-color);\n",
              "    }\n",
              "    60% {\n",
              "      border-color: transparent;\n",
              "      border-right-color: var(--fill-color);\n",
              "    }\n",
              "    80% {\n",
              "      border-color: transparent;\n",
              "      border-right-color: var(--fill-color);\n",
              "      border-bottom-color: var(--fill-color);\n",
              "    }\n",
              "    90% {\n",
              "      border-color: transparent;\n",
              "      border-bottom-color: var(--fill-color);\n",
              "    }\n",
              "  }\n",
              "</style>\n",
              "\n",
              "  <script>\n",
              "    async function quickchart(key) {\n",
              "      const quickchartButtonEl =\n",
              "        document.querySelector('#' + key + ' button');\n",
              "      quickchartButtonEl.disabled = true;  // To prevent multiple clicks.\n",
              "      quickchartButtonEl.classList.add('colab-df-spinner');\n",
              "      try {\n",
              "        const charts = await google.colab.kernel.invokeFunction(\n",
              "            'suggestCharts', [key], {});\n",
              "      } catch (error) {\n",
              "        console.error('Error during call to suggestCharts:', error);\n",
              "      }\n",
              "      quickchartButtonEl.classList.remove('colab-df-spinner');\n",
              "      quickchartButtonEl.classList.add('colab-df-quickchart-complete');\n",
              "    }\n",
              "    (() => {\n",
              "      let quickchartButtonEl =\n",
              "        document.querySelector('#df-d5524813-7cad-4a49-9733-53eb6a1ed385 button');\n",
              "      quickchartButtonEl.style.display =\n",
              "        google.colab.kernel.accessAllowed ? 'block' : 'none';\n",
              "    })();\n",
              "  </script>\n",
              "</div>\n",
              "    </div>\n",
              "  </div>\n"
            ]
          },
          "metadata": {},
          "execution_count": 44
        }
      ]
    },
    {
      "cell_type": "code",
      "source": [
        "df_clientes.tail()"
      ],
      "metadata": {
        "colab": {
          "base_uri": "https://localhost:8080/",
          "height": 429
        },
        "id": "Xw3d6qiQBt34",
        "outputId": "ddfc72ee-4676-40de-d2f3-9bbd3edc1bab"
      },
      "execution_count": null,
      "outputs": [
        {
          "output_type": "execute_result",
          "data": {
            "text/plain": [
              "                           nome  Unnamed: 1             cpf            rg  \\\n",
              "174                         NaN         NaN             NaN           NaN   \n",
              "175         Maria Yasmin Barros         NaN  965.130.621-10  17.637.424-3   \n",
              "176     Lucca Osvaldo Bernardes         NaN  751.811.881-50  40.571.734-9   \n",
              "177      Osvaldo João Fernandes         NaN  202.283.219-13  13.288.086-6   \n",
              "178  Fátima Sarah Alícia Vieira         NaN  661.897.486-00  22.943.110-0   \n",
              "\n",
              "     data_nasc       sexo    signo                    mae  \\\n",
              "174        NaT        NaN      NaN                    NaN   \n",
              "175 1948-02-13   Feminino  Aquário  Stella Simone Mariane   \n",
              "176 1986-03-02  Masculino   Peixes       Luna Mariah Nina   \n",
              "177 1954-03-02  Masculino   Peixes           Allana Elisa   \n",
              "178 1943-01-23   Feminino  Aquário              Malu Luna   \n",
              "\n",
              "                            pai                                    email  ...  \\\n",
              "174                         NaN                                      NaN  ...   \n",
              "175          Raul Daniel Barros              maria_barros@solviagens.com  ...   \n",
              "176     Thomas Nathan Bernardes     lucca_osvaldo_bernardes@monsanto.com  ...   \n",
              "177  Augusto Benedito Fernandes      osvaldojoaofernandes@sanidet.com.br  ...   \n",
              "178     Diego Igor Paulo Vieira  fatima_sarah_vieira@gruppoitalia.com.br  ...   \n",
              "\n",
              "       cidade estado   telefone_fixo          celular altura  peso  \\\n",
              "174       NaN    NaN             NaN              NaN    NaN   NaN   \n",
              "175    Maceió     AL  (82) 2680-6459  (82) 99880-2596    NaN  84.0   \n",
              "176  Parnaíba     PI  (86) 3934-1199  (86) 99264-0791    NaN  90.0   \n",
              "177  Cabedelo     PB  (83) 3720-7532  (83) 98986-1463    NaN  93.0   \n",
              "178  Brasília     DF  (61) 2827-3826  (61) 98936-9189    NaN  76.0   \n",
              "\n",
              "    Unnamed: 21 tipo_sanguineo       cor  valor_compra  \n",
              "174         NaN            NaN       NaN           NaN  \n",
              "175         NaN             B-   amarelo        5300.0  \n",
              "176         NaN             O-      azul        2500.0  \n",
              "177         NaN            AB+     preto        5300.0  \n",
              "178         NaN            AB-  vermelho        2100.0  \n",
              "\n",
              "[5 rows x 25 columns]"
            ],
            "text/html": [
              "\n",
              "  <div id=\"df-6b409bcf-31e9-402f-90e1-a3064e4eb33e\" class=\"colab-df-container\">\n",
              "    <div>\n",
              "<style scoped>\n",
              "    .dataframe tbody tr th:only-of-type {\n",
              "        vertical-align: middle;\n",
              "    }\n",
              "\n",
              "    .dataframe tbody tr th {\n",
              "        vertical-align: top;\n",
              "    }\n",
              "\n",
              "    .dataframe thead th {\n",
              "        text-align: right;\n",
              "    }\n",
              "</style>\n",
              "<table border=\"1\" class=\"dataframe\">\n",
              "  <thead>\n",
              "    <tr style=\"text-align: right;\">\n",
              "      <th></th>\n",
              "      <th>nome</th>\n",
              "      <th>Unnamed: 1</th>\n",
              "      <th>cpf</th>\n",
              "      <th>rg</th>\n",
              "      <th>data_nasc</th>\n",
              "      <th>sexo</th>\n",
              "      <th>signo</th>\n",
              "      <th>mae</th>\n",
              "      <th>pai</th>\n",
              "      <th>email</th>\n",
              "      <th>...</th>\n",
              "      <th>cidade</th>\n",
              "      <th>estado</th>\n",
              "      <th>telefone_fixo</th>\n",
              "      <th>celular</th>\n",
              "      <th>altura</th>\n",
              "      <th>peso</th>\n",
              "      <th>Unnamed: 21</th>\n",
              "      <th>tipo_sanguineo</th>\n",
              "      <th>cor</th>\n",
              "      <th>valor_compra</th>\n",
              "    </tr>\n",
              "  </thead>\n",
              "  <tbody>\n",
              "    <tr>\n",
              "      <th>174</th>\n",
              "      <td>NaN</td>\n",
              "      <td>NaN</td>\n",
              "      <td>NaN</td>\n",
              "      <td>NaN</td>\n",
              "      <td>NaT</td>\n",
              "      <td>NaN</td>\n",
              "      <td>NaN</td>\n",
              "      <td>NaN</td>\n",
              "      <td>NaN</td>\n",
              "      <td>NaN</td>\n",
              "      <td>...</td>\n",
              "      <td>NaN</td>\n",
              "      <td>NaN</td>\n",
              "      <td>NaN</td>\n",
              "      <td>NaN</td>\n",
              "      <td>NaN</td>\n",
              "      <td>NaN</td>\n",
              "      <td>NaN</td>\n",
              "      <td>NaN</td>\n",
              "      <td>NaN</td>\n",
              "      <td>NaN</td>\n",
              "    </tr>\n",
              "    <tr>\n",
              "      <th>175</th>\n",
              "      <td>Maria Yasmin Barros</td>\n",
              "      <td>NaN</td>\n",
              "      <td>965.130.621-10</td>\n",
              "      <td>17.637.424-3</td>\n",
              "      <td>1948-02-13</td>\n",
              "      <td>Feminino</td>\n",
              "      <td>Aquário</td>\n",
              "      <td>Stella Simone Mariane</td>\n",
              "      <td>Raul Daniel Barros</td>\n",
              "      <td>maria_barros@solviagens.com</td>\n",
              "      <td>...</td>\n",
              "      <td>Maceió</td>\n",
              "      <td>AL</td>\n",
              "      <td>(82) 2680-6459</td>\n",
              "      <td>(82) 99880-2596</td>\n",
              "      <td>NaN</td>\n",
              "      <td>84.0</td>\n",
              "      <td>NaN</td>\n",
              "      <td>B-</td>\n",
              "      <td>amarelo</td>\n",
              "      <td>5300.0</td>\n",
              "    </tr>\n",
              "    <tr>\n",
              "      <th>176</th>\n",
              "      <td>Lucca Osvaldo Bernardes</td>\n",
              "      <td>NaN</td>\n",
              "      <td>751.811.881-50</td>\n",
              "      <td>40.571.734-9</td>\n",
              "      <td>1986-03-02</td>\n",
              "      <td>Masculino</td>\n",
              "      <td>Peixes</td>\n",
              "      <td>Luna Mariah Nina</td>\n",
              "      <td>Thomas Nathan Bernardes</td>\n",
              "      <td>lucca_osvaldo_bernardes@monsanto.com</td>\n",
              "      <td>...</td>\n",
              "      <td>Parnaíba</td>\n",
              "      <td>PI</td>\n",
              "      <td>(86) 3934-1199</td>\n",
              "      <td>(86) 99264-0791</td>\n",
              "      <td>NaN</td>\n",
              "      <td>90.0</td>\n",
              "      <td>NaN</td>\n",
              "      <td>O-</td>\n",
              "      <td>azul</td>\n",
              "      <td>2500.0</td>\n",
              "    </tr>\n",
              "    <tr>\n",
              "      <th>177</th>\n",
              "      <td>Osvaldo João Fernandes</td>\n",
              "      <td>NaN</td>\n",
              "      <td>202.283.219-13</td>\n",
              "      <td>13.288.086-6</td>\n",
              "      <td>1954-03-02</td>\n",
              "      <td>Masculino</td>\n",
              "      <td>Peixes</td>\n",
              "      <td>Allana Elisa</td>\n",
              "      <td>Augusto Benedito Fernandes</td>\n",
              "      <td>osvaldojoaofernandes@sanidet.com.br</td>\n",
              "      <td>...</td>\n",
              "      <td>Cabedelo</td>\n",
              "      <td>PB</td>\n",
              "      <td>(83) 3720-7532</td>\n",
              "      <td>(83) 98986-1463</td>\n",
              "      <td>NaN</td>\n",
              "      <td>93.0</td>\n",
              "      <td>NaN</td>\n",
              "      <td>AB+</td>\n",
              "      <td>preto</td>\n",
              "      <td>5300.0</td>\n",
              "    </tr>\n",
              "    <tr>\n",
              "      <th>178</th>\n",
              "      <td>Fátima Sarah Alícia Vieira</td>\n",
              "      <td>NaN</td>\n",
              "      <td>661.897.486-00</td>\n",
              "      <td>22.943.110-0</td>\n",
              "      <td>1943-01-23</td>\n",
              "      <td>Feminino</td>\n",
              "      <td>Aquário</td>\n",
              "      <td>Malu Luna</td>\n",
              "      <td>Diego Igor Paulo Vieira</td>\n",
              "      <td>fatima_sarah_vieira@gruppoitalia.com.br</td>\n",
              "      <td>...</td>\n",
              "      <td>Brasília</td>\n",
              "      <td>DF</td>\n",
              "      <td>(61) 2827-3826</td>\n",
              "      <td>(61) 98936-9189</td>\n",
              "      <td>NaN</td>\n",
              "      <td>76.0</td>\n",
              "      <td>NaN</td>\n",
              "      <td>AB-</td>\n",
              "      <td>vermelho</td>\n",
              "      <td>2100.0</td>\n",
              "    </tr>\n",
              "  </tbody>\n",
              "</table>\n",
              "<p>5 rows × 25 columns</p>\n",
              "</div>\n",
              "    <div class=\"colab-df-buttons\">\n",
              "\n",
              "  <div class=\"colab-df-container\">\n",
              "    <button class=\"colab-df-convert\" onclick=\"convertToInteractive('df-6b409bcf-31e9-402f-90e1-a3064e4eb33e')\"\n",
              "            title=\"Convert this dataframe to an interactive table.\"\n",
              "            style=\"display:none;\">\n",
              "\n",
              "  <svg xmlns=\"http://www.w3.org/2000/svg\" height=\"24px\" viewBox=\"0 -960 960 960\">\n",
              "    <path d=\"M120-120v-720h720v720H120Zm60-500h600v-160H180v160Zm220 220h160v-160H400v160Zm0 220h160v-160H400v160ZM180-400h160v-160H180v160Zm440 0h160v-160H620v160ZM180-180h160v-160H180v160Zm440 0h160v-160H620v160Z\"/>\n",
              "  </svg>\n",
              "    </button>\n",
              "\n",
              "  <style>\n",
              "    .colab-df-container {\n",
              "      display:flex;\n",
              "      gap: 12px;\n",
              "    }\n",
              "\n",
              "    .colab-df-convert {\n",
              "      background-color: #E8F0FE;\n",
              "      border: none;\n",
              "      border-radius: 50%;\n",
              "      cursor: pointer;\n",
              "      display: none;\n",
              "      fill: #1967D2;\n",
              "      height: 32px;\n",
              "      padding: 0 0 0 0;\n",
              "      width: 32px;\n",
              "    }\n",
              "\n",
              "    .colab-df-convert:hover {\n",
              "      background-color: #E2EBFA;\n",
              "      box-shadow: 0px 1px 2px rgba(60, 64, 67, 0.3), 0px 1px 3px 1px rgba(60, 64, 67, 0.15);\n",
              "      fill: #174EA6;\n",
              "    }\n",
              "\n",
              "    .colab-df-buttons div {\n",
              "      margin-bottom: 4px;\n",
              "    }\n",
              "\n",
              "    [theme=dark] .colab-df-convert {\n",
              "      background-color: #3B4455;\n",
              "      fill: #D2E3FC;\n",
              "    }\n",
              "\n",
              "    [theme=dark] .colab-df-convert:hover {\n",
              "      background-color: #434B5C;\n",
              "      box-shadow: 0px 1px 3px 1px rgba(0, 0, 0, 0.15);\n",
              "      filter: drop-shadow(0px 1px 2px rgba(0, 0, 0, 0.3));\n",
              "      fill: #FFFFFF;\n",
              "    }\n",
              "  </style>\n",
              "\n",
              "    <script>\n",
              "      const buttonEl =\n",
              "        document.querySelector('#df-6b409bcf-31e9-402f-90e1-a3064e4eb33e button.colab-df-convert');\n",
              "      buttonEl.style.display =\n",
              "        google.colab.kernel.accessAllowed ? 'block' : 'none';\n",
              "\n",
              "      async function convertToInteractive(key) {\n",
              "        const element = document.querySelector('#df-6b409bcf-31e9-402f-90e1-a3064e4eb33e');\n",
              "        const dataTable =\n",
              "          await google.colab.kernel.invokeFunction('convertToInteractive',\n",
              "                                                    [key], {});\n",
              "        if (!dataTable) return;\n",
              "\n",
              "        const docLinkHtml = 'Like what you see? Visit the ' +\n",
              "          '<a target=\"_blank\" href=https://colab.research.google.com/notebooks/data_table.ipynb>data table notebook</a>'\n",
              "          + ' to learn more about interactive tables.';\n",
              "        element.innerHTML = '';\n",
              "        dataTable['output_type'] = 'display_data';\n",
              "        await google.colab.output.renderOutput(dataTable, element);\n",
              "        const docLink = document.createElement('div');\n",
              "        docLink.innerHTML = docLinkHtml;\n",
              "        element.appendChild(docLink);\n",
              "      }\n",
              "    </script>\n",
              "  </div>\n",
              "\n",
              "\n",
              "<div id=\"df-3798320c-c364-4bd7-bf66-4332dc02fb58\">\n",
              "  <button class=\"colab-df-quickchart\" onclick=\"quickchart('df-3798320c-c364-4bd7-bf66-4332dc02fb58')\"\n",
              "            title=\"Suggest charts.\"\n",
              "            style=\"display:none;\">\n",
              "\n",
              "<svg xmlns=\"http://www.w3.org/2000/svg\" height=\"24px\"viewBox=\"0 0 24 24\"\n",
              "     width=\"24px\">\n",
              "    <g>\n",
              "        <path d=\"M19 3H5c-1.1 0-2 .9-2 2v14c0 1.1.9 2 2 2h14c1.1 0 2-.9 2-2V5c0-1.1-.9-2-2-2zM9 17H7v-7h2v7zm4 0h-2V7h2v10zm4 0h-2v-4h2v4z\"/>\n",
              "    </g>\n",
              "</svg>\n",
              "  </button>\n",
              "\n",
              "<style>\n",
              "  .colab-df-quickchart {\n",
              "      --bg-color: #E8F0FE;\n",
              "      --fill-color: #1967D2;\n",
              "      --hover-bg-color: #E2EBFA;\n",
              "      --hover-fill-color: #174EA6;\n",
              "      --disabled-fill-color: #AAA;\n",
              "      --disabled-bg-color: #DDD;\n",
              "  }\n",
              "\n",
              "  [theme=dark] .colab-df-quickchart {\n",
              "      --bg-color: #3B4455;\n",
              "      --fill-color: #D2E3FC;\n",
              "      --hover-bg-color: #434B5C;\n",
              "      --hover-fill-color: #FFFFFF;\n",
              "      --disabled-bg-color: #3B4455;\n",
              "      --disabled-fill-color: #666;\n",
              "  }\n",
              "\n",
              "  .colab-df-quickchart {\n",
              "    background-color: var(--bg-color);\n",
              "    border: none;\n",
              "    border-radius: 50%;\n",
              "    cursor: pointer;\n",
              "    display: none;\n",
              "    fill: var(--fill-color);\n",
              "    height: 32px;\n",
              "    padding: 0;\n",
              "    width: 32px;\n",
              "  }\n",
              "\n",
              "  .colab-df-quickchart:hover {\n",
              "    background-color: var(--hover-bg-color);\n",
              "    box-shadow: 0 1px 2px rgba(60, 64, 67, 0.3), 0 1px 3px 1px rgba(60, 64, 67, 0.15);\n",
              "    fill: var(--button-hover-fill-color);\n",
              "  }\n",
              "\n",
              "  .colab-df-quickchart-complete:disabled,\n",
              "  .colab-df-quickchart-complete:disabled:hover {\n",
              "    background-color: var(--disabled-bg-color);\n",
              "    fill: var(--disabled-fill-color);\n",
              "    box-shadow: none;\n",
              "  }\n",
              "\n",
              "  .colab-df-spinner {\n",
              "    border: 2px solid var(--fill-color);\n",
              "    border-color: transparent;\n",
              "    border-bottom-color: var(--fill-color);\n",
              "    animation:\n",
              "      spin 1s steps(1) infinite;\n",
              "  }\n",
              "\n",
              "  @keyframes spin {\n",
              "    0% {\n",
              "      border-color: transparent;\n",
              "      border-bottom-color: var(--fill-color);\n",
              "      border-left-color: var(--fill-color);\n",
              "    }\n",
              "    20% {\n",
              "      border-color: transparent;\n",
              "      border-left-color: var(--fill-color);\n",
              "      border-top-color: var(--fill-color);\n",
              "    }\n",
              "    30% {\n",
              "      border-color: transparent;\n",
              "      border-left-color: var(--fill-color);\n",
              "      border-top-color: var(--fill-color);\n",
              "      border-right-color: var(--fill-color);\n",
              "    }\n",
              "    40% {\n",
              "      border-color: transparent;\n",
              "      border-right-color: var(--fill-color);\n",
              "      border-top-color: var(--fill-color);\n",
              "    }\n",
              "    60% {\n",
              "      border-color: transparent;\n",
              "      border-right-color: var(--fill-color);\n",
              "    }\n",
              "    80% {\n",
              "      border-color: transparent;\n",
              "      border-right-color: var(--fill-color);\n",
              "      border-bottom-color: var(--fill-color);\n",
              "    }\n",
              "    90% {\n",
              "      border-color: transparent;\n",
              "      border-bottom-color: var(--fill-color);\n",
              "    }\n",
              "  }\n",
              "</style>\n",
              "\n",
              "  <script>\n",
              "    async function quickchart(key) {\n",
              "      const quickchartButtonEl =\n",
              "        document.querySelector('#' + key + ' button');\n",
              "      quickchartButtonEl.disabled = true;  // To prevent multiple clicks.\n",
              "      quickchartButtonEl.classList.add('colab-df-spinner');\n",
              "      try {\n",
              "        const charts = await google.colab.kernel.invokeFunction(\n",
              "            'suggestCharts', [key], {});\n",
              "      } catch (error) {\n",
              "        console.error('Error during call to suggestCharts:', error);\n",
              "      }\n",
              "      quickchartButtonEl.classList.remove('colab-df-spinner');\n",
              "      quickchartButtonEl.classList.add('colab-df-quickchart-complete');\n",
              "    }\n",
              "    (() => {\n",
              "      let quickchartButtonEl =\n",
              "        document.querySelector('#df-3798320c-c364-4bd7-bf66-4332dc02fb58 button');\n",
              "      quickchartButtonEl.style.display =\n",
              "        google.colab.kernel.accessAllowed ? 'block' : 'none';\n",
              "    })();\n",
              "  </script>\n",
              "</div>\n",
              "    </div>\n",
              "  </div>\n"
            ]
          },
          "metadata": {},
          "execution_count": 45
        }
      ]
    },
    {
      "cell_type": "markdown",
      "source": [
        "## Detecção dos tipos de dados"
      ],
      "metadata": {
        "id": "97pJcQoNPPWX"
      }
    },
    {
      "cell_type": "markdown",
      "source": [
        "Uma das tarefas importantes que o pandas executa automaticamente é a detecção dos tipos de dados nas colunas dos DataFrames. Isso é fundamental para garantir que os dados sejam interpretados corretamente e para realizar operações apropriadas com eles.\n",
        "\n",
        "A detecção de tipos de dados no pandas é realizada principalmente durante a leitura de dados a partir de diferentes fontes, como arquivos CSV, Excel, JSON, bancos de dados, etc.\n",
        "\n",
        "Os tipos existentes são:\n",
        "\n",
        "- Inteiro (int): int8, int16, int32 ou int64.\n",
        "\n",
        "- Ponto Flutuante (float): float32 ou float64.\n",
        "\n",
        "- Data e Hora (datetime): formatos de datas e horários.\n",
        "\n",
        "- Texto (object): textos e caracteres não numéricos.\n",
        "\n",
        "- Booleano (bool) : true / false.\n",
        "\n",
        "- Período (period): séries temporais com informações de período específico."
      ],
      "metadata": {
        "id": "GbSaqdfwPX1-"
      }
    },
    {
      "cell_type": "markdown",
      "source": [
        "com o método **.info()** é possível realizar a visualização de forma rapida dos dados armazenados por cada coluna."
      ],
      "metadata": {
        "id": "vDWhxALRuYbd"
      }
    },
    {
      "cell_type": "code",
      "source": [
        "df_clientes.info()"
      ],
      "metadata": {
        "colab": {
          "base_uri": "https://localhost:8080/"
        },
        "id": "gwrhEjJJuJZs",
        "outputId": "49beb94b-21f3-4d07-e21f-f34100de6d47"
      },
      "execution_count": null,
      "outputs": [
        {
          "output_type": "stream",
          "name": "stdout",
          "text": [
            "<class 'pandas.core.frame.DataFrame'>\n",
            "RangeIndex: 179 entries, 0 to 178\n",
            "Data columns (total 25 columns):\n",
            " #   Column          Non-Null Count  Dtype         \n",
            "---  ------          --------------  -----         \n",
            " 0   nome            161 non-null    object        \n",
            " 1   Unnamed: 1      0 non-null      float64       \n",
            " 2   cpf             161 non-null    object        \n",
            " 3   rg              161 non-null    object        \n",
            " 4   data_nasc       161 non-null    datetime64[ns]\n",
            " 5   sexo            161 non-null    object        \n",
            " 6   signo           161 non-null    object        \n",
            " 7   mae             161 non-null    object        \n",
            " 8   pai             161 non-null    object        \n",
            " 9   email           161 non-null    object        \n",
            " 10  cep             158 non-null    object        \n",
            " 11  endereco        158 non-null    object        \n",
            " 12  numero          158 non-null    float64       \n",
            " 13  bairro          158 non-null    object        \n",
            " 14  data            158 non-null    datetime64[ns]\n",
            " 15  cidade          158 non-null    object        \n",
            " 16  estado          158 non-null    object        \n",
            " 17  telefone_fixo   158 non-null    object        \n",
            " 18  celular         158 non-null    object        \n",
            " 19  altura          0 non-null      float64       \n",
            " 20  peso            158 non-null    float64       \n",
            " 21  Unnamed: 21     0 non-null      float64       \n",
            " 22  tipo_sanguineo  158 non-null    object        \n",
            " 23  cor             158 non-null    object        \n",
            " 24  valor_compra    158 non-null    float64       \n",
            "dtypes: datetime64[ns](2), float64(6), object(17)\n",
            "memory usage: 35.1+ KB\n"
          ]
        }
      ]
    },
    {
      "cell_type": "markdown",
      "source": [
        "## Mudando tipos de dados com Pandas"
      ],
      "metadata": {
        "id": "QTGlzXJmorCa"
      }
    },
    {
      "cell_type": "markdown",
      "source": [
        "O Pandas oferece uma ampla gama de possibilidades para manipular e alterar os tipos de dados em DataFrames, proporcionando flexibilidade e controle sobre como seus dados são tratados.\n"
      ],
      "metadata": {
        "id": "-e-9yrl-owV6"
      }
    },
    {
      "cell_type": "markdown",
      "source": [
        "Conversão de Tipos Numéricos:\n",
        "- ` pd.to_numeric()`, você pode converter colunas para tipos numéricos (inteiros ou números de ponto flutuante)\n",
        "\n",
        "Conversão de Tipos de Data:\n",
        "- `pd.to_datetime()` permite a conversão de colunas para tipos de data e hora.\n",
        "\n",
        "Conversão de tipo para Texto:\n",
        "- `pd.astype(object)` permite converter colunas para texto , caso você precise representar os números como texto em algum momento.\n",
        "\n",
        "Conversão de tipo para Booleanos:\n",
        "- `.astype(bool)` para converter colunas em tipos booleanos (True/False) quando os dados representam valores lógicos.\n",
        "\n",
        "\n"
      ],
      "metadata": {
        "id": "XKkjo2Pfqdos"
      }
    },
    {
      "cell_type": "markdown",
      "source": [
        "##Exclusão de linhas nulas"
      ],
      "metadata": {
        "id": "HPOqGtzKu32V"
      }
    },
    {
      "cell_type": "markdown",
      "source": [
        "Com o atributo DataFrame.columns nos é retornado um array com os nomes de todas as colunas\n"
      ],
      "metadata": {
        "id": "phldLyUcB6mi"
      }
    },
    {
      "cell_type": "code",
      "source": [
        "dfClientes_trat= df_clientes.dropna(axis=0,how=\"all\")\n",
        "dfClientes_trat"
      ],
      "metadata": {
        "id": "2HGVUF3Au-Im",
        "colab": {
          "base_uri": "https://localhost:8080/",
          "height": 894
        },
        "outputId": "6c62be14-a422-4d42-a32e-a1eb29a18459"
      },
      "execution_count": null,
      "outputs": [
        {
          "output_type": "execute_result",
          "data": {
            "text/plain": [
              "                                 nome  Unnamed: 1             cpf  \\\n",
              "0               Cauã Iago Paulo Jesus         NaN  025.293.734-18   \n",
              "1        Aparecida Cristiane da Cunha         NaN  363.545.494-00   \n",
              "2    Ricardo Manuel Martin dos Santos         NaN  387.779.416-59   \n",
              "3                Marcelo Bryan Farias         NaN  735.001.987-40   \n",
              "5                Yago Luís Theo Lopes         NaN  343.806.963-67   \n",
              "..                                ...         ...             ...   \n",
              "173           César André Isaac Pinto         NaN  018.640.515-40   \n",
              "175               Maria Yasmin Barros         NaN  965.130.621-10   \n",
              "176           Lucca Osvaldo Bernardes         NaN  751.811.881-50   \n",
              "177            Osvaldo João Fernandes         NaN  202.283.219-13   \n",
              "178        Fátima Sarah Alícia Vieira         NaN  661.897.486-00   \n",
              "\n",
              "               rg  data_nasc       sexo        signo                    mae  \\\n",
              "0    22.866.798-7 1953-01-19  Masculino  Capricórnio    Sophia Nair Antônia   \n",
              "1    48.396.627-7 1974-02-17   Feminino      Aquário         Rafaela Nicole   \n",
              "2    44.503.380-0 1952-02-22  Masculino       Peixes             Julia Rosa   \n",
              "3    10.801.911-1 1948-01-02  Masculino  Capricórnio           Olivia Carla   \n",
              "5    15.315.345-3 1943-02-16  Masculino      Aquário           Lúcia Raquel   \n",
              "..            ...        ...        ...          ...                    ...   \n",
              "173  23.361.694-9 1981-03-01  Masculino       Peixes    Tânia Marlene Laura   \n",
              "175  17.637.424-3 1948-02-13   Feminino      Aquário  Stella Simone Mariane   \n",
              "176  40.571.734-9 1986-03-02  Masculino       Peixes       Luna Mariah Nina   \n",
              "177  13.288.086-6 1954-03-02  Masculino       Peixes           Allana Elisa   \n",
              "178  22.943.110-0 1943-01-23   Feminino      Aquário              Malu Luna   \n",
              "\n",
              "                                    pai  \\\n",
              "0           Marcelo Sérgio Enrico Jesus   \n",
              "1               Bernardo Pedro da Cunha   \n",
              "2    Osvaldo Gustavo Lorenzo dos Santos   \n",
              "3                 Roberto Manuel Farias   \n",
              "5            Heitor Levi Raimundo Lopes   \n",
              "..                                  ...   \n",
              "173                 Benício Lucca Pinto   \n",
              "175                  Raul Daniel Barros   \n",
              "176             Thomas Nathan Bernardes   \n",
              "177          Augusto Benedito Fernandes   \n",
              "178             Diego Igor Paulo Vieira   \n",
              "\n",
              "                                       email  ...      cidade estado  \\\n",
              "0                 caua_iago_jesus@hlt.arq.br  ...  Parnamirim     RN   \n",
              "1        aparecida-dacunha89@redhouse.com.br  ...     Aracaju     SE   \n",
              "2      ricardomanueldossantos@moderna.com.br  ...      Maceió     AL   \n",
              "3          marcelo.bryan.farias@unink.com.br  ...      Palmas     TO   \n",
              "5                   yago_lopes@fedato.com.br  ...   Castanhal     PA   \n",
              "..                                       ...  ...         ...    ...   \n",
              "173      cesar-pinto73@comanzzaindaia.com.br  ...      Maceió     AL   \n",
              "175              maria_barros@solviagens.com  ...      Maceió     AL   \n",
              "176     lucca_osvaldo_bernardes@monsanto.com  ...    Parnaíba     PI   \n",
              "177      osvaldojoaofernandes@sanidet.com.br  ...    Cabedelo     PB   \n",
              "178  fatima_sarah_vieira@gruppoitalia.com.br  ...    Brasília     DF   \n",
              "\n",
              "      telefone_fixo          celular altura  peso Unnamed: 21 tipo_sanguineo  \\\n",
              "0    (84) 2831-4233  (84) 98671-5320    NaN  70.0         NaN            AB+   \n",
              "1    (79) 2600-6520  (79) 98333-4589    NaN  52.0         NaN            AB-   \n",
              "2    (82) 3901-1268  (82) 99245-6058    NaN  73.0         NaN             A+   \n",
              "3    (63) 3809-7936  (63) 99237-1399    NaN  68.0         NaN             O+   \n",
              "5    (91) 2872-1492  (91) 98257-1695    NaN  77.0         NaN            AB-   \n",
              "..              ...              ...    ...   ...         ...            ...   \n",
              "173  (82) 2994-8461  (82) 99157-6962    NaN  68.0         NaN             A+   \n",
              "175  (82) 2680-6459  (82) 99880-2596    NaN  84.0         NaN             B-   \n",
              "176  (86) 3934-1199  (86) 99264-0791    NaN  90.0         NaN             O-   \n",
              "177  (83) 3720-7532  (83) 98986-1463    NaN  93.0         NaN            AB+   \n",
              "178  (61) 2827-3826  (61) 98936-9189    NaN  76.0         NaN            AB-   \n",
              "\n",
              "          cor  valor_compra  \n",
              "0    vermelho        5300.0  \n",
              "1        azul        1400.0  \n",
              "2     laranja        2100.0  \n",
              "3       verde        3500.0  \n",
              "5       verde        3400.0  \n",
              "..        ...           ...  \n",
              "173  vermelho        3400.0  \n",
              "175   amarelo        5300.0  \n",
              "176      azul        2500.0  \n",
              "177     preto        5300.0  \n",
              "178  vermelho        2100.0  \n",
              "\n",
              "[161 rows x 25 columns]"
            ],
            "text/html": [
              "\n",
              "  <div id=\"df-dc791bb0-3dde-40ff-9973-ade60e11779a\" class=\"colab-df-container\">\n",
              "    <div>\n",
              "<style scoped>\n",
              "    .dataframe tbody tr th:only-of-type {\n",
              "        vertical-align: middle;\n",
              "    }\n",
              "\n",
              "    .dataframe tbody tr th {\n",
              "        vertical-align: top;\n",
              "    }\n",
              "\n",
              "    .dataframe thead th {\n",
              "        text-align: right;\n",
              "    }\n",
              "</style>\n",
              "<table border=\"1\" class=\"dataframe\">\n",
              "  <thead>\n",
              "    <tr style=\"text-align: right;\">\n",
              "      <th></th>\n",
              "      <th>nome</th>\n",
              "      <th>Unnamed: 1</th>\n",
              "      <th>cpf</th>\n",
              "      <th>rg</th>\n",
              "      <th>data_nasc</th>\n",
              "      <th>sexo</th>\n",
              "      <th>signo</th>\n",
              "      <th>mae</th>\n",
              "      <th>pai</th>\n",
              "      <th>email</th>\n",
              "      <th>...</th>\n",
              "      <th>cidade</th>\n",
              "      <th>estado</th>\n",
              "      <th>telefone_fixo</th>\n",
              "      <th>celular</th>\n",
              "      <th>altura</th>\n",
              "      <th>peso</th>\n",
              "      <th>Unnamed: 21</th>\n",
              "      <th>tipo_sanguineo</th>\n",
              "      <th>cor</th>\n",
              "      <th>valor_compra</th>\n",
              "    </tr>\n",
              "  </thead>\n",
              "  <tbody>\n",
              "    <tr>\n",
              "      <th>0</th>\n",
              "      <td>Cauã Iago Paulo Jesus</td>\n",
              "      <td>NaN</td>\n",
              "      <td>025.293.734-18</td>\n",
              "      <td>22.866.798-7</td>\n",
              "      <td>1953-01-19</td>\n",
              "      <td>Masculino</td>\n",
              "      <td>Capricórnio</td>\n",
              "      <td>Sophia Nair Antônia</td>\n",
              "      <td>Marcelo Sérgio Enrico Jesus</td>\n",
              "      <td>caua_iago_jesus@hlt.arq.br</td>\n",
              "      <td>...</td>\n",
              "      <td>Parnamirim</td>\n",
              "      <td>RN</td>\n",
              "      <td>(84) 2831-4233</td>\n",
              "      <td>(84) 98671-5320</td>\n",
              "      <td>NaN</td>\n",
              "      <td>70.0</td>\n",
              "      <td>NaN</td>\n",
              "      <td>AB+</td>\n",
              "      <td>vermelho</td>\n",
              "      <td>5300.0</td>\n",
              "    </tr>\n",
              "    <tr>\n",
              "      <th>1</th>\n",
              "      <td>Aparecida Cristiane da Cunha</td>\n",
              "      <td>NaN</td>\n",
              "      <td>363.545.494-00</td>\n",
              "      <td>48.396.627-7</td>\n",
              "      <td>1974-02-17</td>\n",
              "      <td>Feminino</td>\n",
              "      <td>Aquário</td>\n",
              "      <td>Rafaela Nicole</td>\n",
              "      <td>Bernardo Pedro da Cunha</td>\n",
              "      <td>aparecida-dacunha89@redhouse.com.br</td>\n",
              "      <td>...</td>\n",
              "      <td>Aracaju</td>\n",
              "      <td>SE</td>\n",
              "      <td>(79) 2600-6520</td>\n",
              "      <td>(79) 98333-4589</td>\n",
              "      <td>NaN</td>\n",
              "      <td>52.0</td>\n",
              "      <td>NaN</td>\n",
              "      <td>AB-</td>\n",
              "      <td>azul</td>\n",
              "      <td>1400.0</td>\n",
              "    </tr>\n",
              "    <tr>\n",
              "      <th>2</th>\n",
              "      <td>Ricardo Manuel Martin dos Santos</td>\n",
              "      <td>NaN</td>\n",
              "      <td>387.779.416-59</td>\n",
              "      <td>44.503.380-0</td>\n",
              "      <td>1952-02-22</td>\n",
              "      <td>Masculino</td>\n",
              "      <td>Peixes</td>\n",
              "      <td>Julia Rosa</td>\n",
              "      <td>Osvaldo Gustavo Lorenzo dos Santos</td>\n",
              "      <td>ricardomanueldossantos@moderna.com.br</td>\n",
              "      <td>...</td>\n",
              "      <td>Maceió</td>\n",
              "      <td>AL</td>\n",
              "      <td>(82) 3901-1268</td>\n",
              "      <td>(82) 99245-6058</td>\n",
              "      <td>NaN</td>\n",
              "      <td>73.0</td>\n",
              "      <td>NaN</td>\n",
              "      <td>A+</td>\n",
              "      <td>laranja</td>\n",
              "      <td>2100.0</td>\n",
              "    </tr>\n",
              "    <tr>\n",
              "      <th>3</th>\n",
              "      <td>Marcelo Bryan Farias</td>\n",
              "      <td>NaN</td>\n",
              "      <td>735.001.987-40</td>\n",
              "      <td>10.801.911-1</td>\n",
              "      <td>1948-01-02</td>\n",
              "      <td>Masculino</td>\n",
              "      <td>Capricórnio</td>\n",
              "      <td>Olivia Carla</td>\n",
              "      <td>Roberto Manuel Farias</td>\n",
              "      <td>marcelo.bryan.farias@unink.com.br</td>\n",
              "      <td>...</td>\n",
              "      <td>Palmas</td>\n",
              "      <td>TO</td>\n",
              "      <td>(63) 3809-7936</td>\n",
              "      <td>(63) 99237-1399</td>\n",
              "      <td>NaN</td>\n",
              "      <td>68.0</td>\n",
              "      <td>NaN</td>\n",
              "      <td>O+</td>\n",
              "      <td>verde</td>\n",
              "      <td>3500.0</td>\n",
              "    </tr>\n",
              "    <tr>\n",
              "      <th>5</th>\n",
              "      <td>Yago Luís Theo Lopes</td>\n",
              "      <td>NaN</td>\n",
              "      <td>343.806.963-67</td>\n",
              "      <td>15.315.345-3</td>\n",
              "      <td>1943-02-16</td>\n",
              "      <td>Masculino</td>\n",
              "      <td>Aquário</td>\n",
              "      <td>Lúcia Raquel</td>\n",
              "      <td>Heitor Levi Raimundo Lopes</td>\n",
              "      <td>yago_lopes@fedato.com.br</td>\n",
              "      <td>...</td>\n",
              "      <td>Castanhal</td>\n",
              "      <td>PA</td>\n",
              "      <td>(91) 2872-1492</td>\n",
              "      <td>(91) 98257-1695</td>\n",
              "      <td>NaN</td>\n",
              "      <td>77.0</td>\n",
              "      <td>NaN</td>\n",
              "      <td>AB-</td>\n",
              "      <td>verde</td>\n",
              "      <td>3400.0</td>\n",
              "    </tr>\n",
              "    <tr>\n",
              "      <th>...</th>\n",
              "      <td>...</td>\n",
              "      <td>...</td>\n",
              "      <td>...</td>\n",
              "      <td>...</td>\n",
              "      <td>...</td>\n",
              "      <td>...</td>\n",
              "      <td>...</td>\n",
              "      <td>...</td>\n",
              "      <td>...</td>\n",
              "      <td>...</td>\n",
              "      <td>...</td>\n",
              "      <td>...</td>\n",
              "      <td>...</td>\n",
              "      <td>...</td>\n",
              "      <td>...</td>\n",
              "      <td>...</td>\n",
              "      <td>...</td>\n",
              "      <td>...</td>\n",
              "      <td>...</td>\n",
              "      <td>...</td>\n",
              "      <td>...</td>\n",
              "    </tr>\n",
              "    <tr>\n",
              "      <th>173</th>\n",
              "      <td>César André Isaac Pinto</td>\n",
              "      <td>NaN</td>\n",
              "      <td>018.640.515-40</td>\n",
              "      <td>23.361.694-9</td>\n",
              "      <td>1981-03-01</td>\n",
              "      <td>Masculino</td>\n",
              "      <td>Peixes</td>\n",
              "      <td>Tânia Marlene Laura</td>\n",
              "      <td>Benício Lucca Pinto</td>\n",
              "      <td>cesar-pinto73@comanzzaindaia.com.br</td>\n",
              "      <td>...</td>\n",
              "      <td>Maceió</td>\n",
              "      <td>AL</td>\n",
              "      <td>(82) 2994-8461</td>\n",
              "      <td>(82) 99157-6962</td>\n",
              "      <td>NaN</td>\n",
              "      <td>68.0</td>\n",
              "      <td>NaN</td>\n",
              "      <td>A+</td>\n",
              "      <td>vermelho</td>\n",
              "      <td>3400.0</td>\n",
              "    </tr>\n",
              "    <tr>\n",
              "      <th>175</th>\n",
              "      <td>Maria Yasmin Barros</td>\n",
              "      <td>NaN</td>\n",
              "      <td>965.130.621-10</td>\n",
              "      <td>17.637.424-3</td>\n",
              "      <td>1948-02-13</td>\n",
              "      <td>Feminino</td>\n",
              "      <td>Aquário</td>\n",
              "      <td>Stella Simone Mariane</td>\n",
              "      <td>Raul Daniel Barros</td>\n",
              "      <td>maria_barros@solviagens.com</td>\n",
              "      <td>...</td>\n",
              "      <td>Maceió</td>\n",
              "      <td>AL</td>\n",
              "      <td>(82) 2680-6459</td>\n",
              "      <td>(82) 99880-2596</td>\n",
              "      <td>NaN</td>\n",
              "      <td>84.0</td>\n",
              "      <td>NaN</td>\n",
              "      <td>B-</td>\n",
              "      <td>amarelo</td>\n",
              "      <td>5300.0</td>\n",
              "    </tr>\n",
              "    <tr>\n",
              "      <th>176</th>\n",
              "      <td>Lucca Osvaldo Bernardes</td>\n",
              "      <td>NaN</td>\n",
              "      <td>751.811.881-50</td>\n",
              "      <td>40.571.734-9</td>\n",
              "      <td>1986-03-02</td>\n",
              "      <td>Masculino</td>\n",
              "      <td>Peixes</td>\n",
              "      <td>Luna Mariah Nina</td>\n",
              "      <td>Thomas Nathan Bernardes</td>\n",
              "      <td>lucca_osvaldo_bernardes@monsanto.com</td>\n",
              "      <td>...</td>\n",
              "      <td>Parnaíba</td>\n",
              "      <td>PI</td>\n",
              "      <td>(86) 3934-1199</td>\n",
              "      <td>(86) 99264-0791</td>\n",
              "      <td>NaN</td>\n",
              "      <td>90.0</td>\n",
              "      <td>NaN</td>\n",
              "      <td>O-</td>\n",
              "      <td>azul</td>\n",
              "      <td>2500.0</td>\n",
              "    </tr>\n",
              "    <tr>\n",
              "      <th>177</th>\n",
              "      <td>Osvaldo João Fernandes</td>\n",
              "      <td>NaN</td>\n",
              "      <td>202.283.219-13</td>\n",
              "      <td>13.288.086-6</td>\n",
              "      <td>1954-03-02</td>\n",
              "      <td>Masculino</td>\n",
              "      <td>Peixes</td>\n",
              "      <td>Allana Elisa</td>\n",
              "      <td>Augusto Benedito Fernandes</td>\n",
              "      <td>osvaldojoaofernandes@sanidet.com.br</td>\n",
              "      <td>...</td>\n",
              "      <td>Cabedelo</td>\n",
              "      <td>PB</td>\n",
              "      <td>(83) 3720-7532</td>\n",
              "      <td>(83) 98986-1463</td>\n",
              "      <td>NaN</td>\n",
              "      <td>93.0</td>\n",
              "      <td>NaN</td>\n",
              "      <td>AB+</td>\n",
              "      <td>preto</td>\n",
              "      <td>5300.0</td>\n",
              "    </tr>\n",
              "    <tr>\n",
              "      <th>178</th>\n",
              "      <td>Fátima Sarah Alícia Vieira</td>\n",
              "      <td>NaN</td>\n",
              "      <td>661.897.486-00</td>\n",
              "      <td>22.943.110-0</td>\n",
              "      <td>1943-01-23</td>\n",
              "      <td>Feminino</td>\n",
              "      <td>Aquário</td>\n",
              "      <td>Malu Luna</td>\n",
              "      <td>Diego Igor Paulo Vieira</td>\n",
              "      <td>fatima_sarah_vieira@gruppoitalia.com.br</td>\n",
              "      <td>...</td>\n",
              "      <td>Brasília</td>\n",
              "      <td>DF</td>\n",
              "      <td>(61) 2827-3826</td>\n",
              "      <td>(61) 98936-9189</td>\n",
              "      <td>NaN</td>\n",
              "      <td>76.0</td>\n",
              "      <td>NaN</td>\n",
              "      <td>AB-</td>\n",
              "      <td>vermelho</td>\n",
              "      <td>2100.0</td>\n",
              "    </tr>\n",
              "  </tbody>\n",
              "</table>\n",
              "<p>161 rows × 25 columns</p>\n",
              "</div>\n",
              "    <div class=\"colab-df-buttons\">\n",
              "\n",
              "  <div class=\"colab-df-container\">\n",
              "    <button class=\"colab-df-convert\" onclick=\"convertToInteractive('df-dc791bb0-3dde-40ff-9973-ade60e11779a')\"\n",
              "            title=\"Convert this dataframe to an interactive table.\"\n",
              "            style=\"display:none;\">\n",
              "\n",
              "  <svg xmlns=\"http://www.w3.org/2000/svg\" height=\"24px\" viewBox=\"0 -960 960 960\">\n",
              "    <path d=\"M120-120v-720h720v720H120Zm60-500h600v-160H180v160Zm220 220h160v-160H400v160Zm0 220h160v-160H400v160ZM180-400h160v-160H180v160Zm440 0h160v-160H620v160ZM180-180h160v-160H180v160Zm440 0h160v-160H620v160Z\"/>\n",
              "  </svg>\n",
              "    </button>\n",
              "\n",
              "  <style>\n",
              "    .colab-df-container {\n",
              "      display:flex;\n",
              "      gap: 12px;\n",
              "    }\n",
              "\n",
              "    .colab-df-convert {\n",
              "      background-color: #E8F0FE;\n",
              "      border: none;\n",
              "      border-radius: 50%;\n",
              "      cursor: pointer;\n",
              "      display: none;\n",
              "      fill: #1967D2;\n",
              "      height: 32px;\n",
              "      padding: 0 0 0 0;\n",
              "      width: 32px;\n",
              "    }\n",
              "\n",
              "    .colab-df-convert:hover {\n",
              "      background-color: #E2EBFA;\n",
              "      box-shadow: 0px 1px 2px rgba(60, 64, 67, 0.3), 0px 1px 3px 1px rgba(60, 64, 67, 0.15);\n",
              "      fill: #174EA6;\n",
              "    }\n",
              "\n",
              "    .colab-df-buttons div {\n",
              "      margin-bottom: 4px;\n",
              "    }\n",
              "\n",
              "    [theme=dark] .colab-df-convert {\n",
              "      background-color: #3B4455;\n",
              "      fill: #D2E3FC;\n",
              "    }\n",
              "\n",
              "    [theme=dark] .colab-df-convert:hover {\n",
              "      background-color: #434B5C;\n",
              "      box-shadow: 0px 1px 3px 1px rgba(0, 0, 0, 0.15);\n",
              "      filter: drop-shadow(0px 1px 2px rgba(0, 0, 0, 0.3));\n",
              "      fill: #FFFFFF;\n",
              "    }\n",
              "  </style>\n",
              "\n",
              "    <script>\n",
              "      const buttonEl =\n",
              "        document.querySelector('#df-dc791bb0-3dde-40ff-9973-ade60e11779a button.colab-df-convert');\n",
              "      buttonEl.style.display =\n",
              "        google.colab.kernel.accessAllowed ? 'block' : 'none';\n",
              "\n",
              "      async function convertToInteractive(key) {\n",
              "        const element = document.querySelector('#df-dc791bb0-3dde-40ff-9973-ade60e11779a');\n",
              "        const dataTable =\n",
              "          await google.colab.kernel.invokeFunction('convertToInteractive',\n",
              "                                                    [key], {});\n",
              "        if (!dataTable) return;\n",
              "\n",
              "        const docLinkHtml = 'Like what you see? Visit the ' +\n",
              "          '<a target=\"_blank\" href=https://colab.research.google.com/notebooks/data_table.ipynb>data table notebook</a>'\n",
              "          + ' to learn more about interactive tables.';\n",
              "        element.innerHTML = '';\n",
              "        dataTable['output_type'] = 'display_data';\n",
              "        await google.colab.output.renderOutput(dataTable, element);\n",
              "        const docLink = document.createElement('div');\n",
              "        docLink.innerHTML = docLinkHtml;\n",
              "        element.appendChild(docLink);\n",
              "      }\n",
              "    </script>\n",
              "  </div>\n",
              "\n",
              "\n",
              "<div id=\"df-2b4e3d8d-74d9-4a99-9f37-697b63c65668\">\n",
              "  <button class=\"colab-df-quickchart\" onclick=\"quickchart('df-2b4e3d8d-74d9-4a99-9f37-697b63c65668')\"\n",
              "            title=\"Suggest charts.\"\n",
              "            style=\"display:none;\">\n",
              "\n",
              "<svg xmlns=\"http://www.w3.org/2000/svg\" height=\"24px\"viewBox=\"0 0 24 24\"\n",
              "     width=\"24px\">\n",
              "    <g>\n",
              "        <path d=\"M19 3H5c-1.1 0-2 .9-2 2v14c0 1.1.9 2 2 2h14c1.1 0 2-.9 2-2V5c0-1.1-.9-2-2-2zM9 17H7v-7h2v7zm4 0h-2V7h2v10zm4 0h-2v-4h2v4z\"/>\n",
              "    </g>\n",
              "</svg>\n",
              "  </button>\n",
              "\n",
              "<style>\n",
              "  .colab-df-quickchart {\n",
              "      --bg-color: #E8F0FE;\n",
              "      --fill-color: #1967D2;\n",
              "      --hover-bg-color: #E2EBFA;\n",
              "      --hover-fill-color: #174EA6;\n",
              "      --disabled-fill-color: #AAA;\n",
              "      --disabled-bg-color: #DDD;\n",
              "  }\n",
              "\n",
              "  [theme=dark] .colab-df-quickchart {\n",
              "      --bg-color: #3B4455;\n",
              "      --fill-color: #D2E3FC;\n",
              "      --hover-bg-color: #434B5C;\n",
              "      --hover-fill-color: #FFFFFF;\n",
              "      --disabled-bg-color: #3B4455;\n",
              "      --disabled-fill-color: #666;\n",
              "  }\n",
              "\n",
              "  .colab-df-quickchart {\n",
              "    background-color: var(--bg-color);\n",
              "    border: none;\n",
              "    border-radius: 50%;\n",
              "    cursor: pointer;\n",
              "    display: none;\n",
              "    fill: var(--fill-color);\n",
              "    height: 32px;\n",
              "    padding: 0;\n",
              "    width: 32px;\n",
              "  }\n",
              "\n",
              "  .colab-df-quickchart:hover {\n",
              "    background-color: var(--hover-bg-color);\n",
              "    box-shadow: 0 1px 2px rgba(60, 64, 67, 0.3), 0 1px 3px 1px rgba(60, 64, 67, 0.15);\n",
              "    fill: var(--button-hover-fill-color);\n",
              "  }\n",
              "\n",
              "  .colab-df-quickchart-complete:disabled,\n",
              "  .colab-df-quickchart-complete:disabled:hover {\n",
              "    background-color: var(--disabled-bg-color);\n",
              "    fill: var(--disabled-fill-color);\n",
              "    box-shadow: none;\n",
              "  }\n",
              "\n",
              "  .colab-df-spinner {\n",
              "    border: 2px solid var(--fill-color);\n",
              "    border-color: transparent;\n",
              "    border-bottom-color: var(--fill-color);\n",
              "    animation:\n",
              "      spin 1s steps(1) infinite;\n",
              "  }\n",
              "\n",
              "  @keyframes spin {\n",
              "    0% {\n",
              "      border-color: transparent;\n",
              "      border-bottom-color: var(--fill-color);\n",
              "      border-left-color: var(--fill-color);\n",
              "    }\n",
              "    20% {\n",
              "      border-color: transparent;\n",
              "      border-left-color: var(--fill-color);\n",
              "      border-top-color: var(--fill-color);\n",
              "    }\n",
              "    30% {\n",
              "      border-color: transparent;\n",
              "      border-left-color: var(--fill-color);\n",
              "      border-top-color: var(--fill-color);\n",
              "      border-right-color: var(--fill-color);\n",
              "    }\n",
              "    40% {\n",
              "      border-color: transparent;\n",
              "      border-right-color: var(--fill-color);\n",
              "      border-top-color: var(--fill-color);\n",
              "    }\n",
              "    60% {\n",
              "      border-color: transparent;\n",
              "      border-right-color: var(--fill-color);\n",
              "    }\n",
              "    80% {\n",
              "      border-color: transparent;\n",
              "      border-right-color: var(--fill-color);\n",
              "      border-bottom-color: var(--fill-color);\n",
              "    }\n",
              "    90% {\n",
              "      border-color: transparent;\n",
              "      border-bottom-color: var(--fill-color);\n",
              "    }\n",
              "  }\n",
              "</style>\n",
              "\n",
              "  <script>\n",
              "    async function quickchart(key) {\n",
              "      const quickchartButtonEl =\n",
              "        document.querySelector('#' + key + ' button');\n",
              "      quickchartButtonEl.disabled = true;  // To prevent multiple clicks.\n",
              "      quickchartButtonEl.classList.add('colab-df-spinner');\n",
              "      try {\n",
              "        const charts = await google.colab.kernel.invokeFunction(\n",
              "            'suggestCharts', [key], {});\n",
              "      } catch (error) {\n",
              "        console.error('Error during call to suggestCharts:', error);\n",
              "      }\n",
              "      quickchartButtonEl.classList.remove('colab-df-spinner');\n",
              "      quickchartButtonEl.classList.add('colab-df-quickchart-complete');\n",
              "    }\n",
              "    (() => {\n",
              "      let quickchartButtonEl =\n",
              "        document.querySelector('#df-2b4e3d8d-74d9-4a99-9f37-697b63c65668 button');\n",
              "      quickchartButtonEl.style.display =\n",
              "        google.colab.kernel.accessAllowed ? 'block' : 'none';\n",
              "    })();\n",
              "  </script>\n",
              "</div>\n",
              "    </div>\n",
              "  </div>\n"
            ]
          },
          "metadata": {},
          "execution_count": 31
        }
      ]
    },
    {
      "cell_type": "markdown",
      "source": [
        "## Exclusão de colunas"
      ],
      "metadata": {
        "id": "hkAeTwZhuz2m"
      }
    },
    {
      "cell_type": "markdown",
      "source": [
        "Muitas vezes recebemos colunas completamente nulas, seja por erro na extração de dados seja pela própria construção da base. Com o método `df.info()` podemos ver os tipos de dados armazenados em cada coluna e ver a quantidade de nulos existentes"
      ],
      "metadata": {
        "id": "JzKSKK_qFat7"
      }
    },
    {
      "cell_type": "code",
      "source": [
        "df_clientes.info()"
      ],
      "metadata": {
        "id": "Qqi--gLKCNds"
      },
      "execution_count": null,
      "outputs": []
    },
    {
      "cell_type": "markdown",
      "source": [
        "com o atributo `df.columns` recebemos um array com apenas os nomes das colunas presentes no dataframe"
      ],
      "metadata": {
        "id": "81JXleTzGC-P"
      }
    },
    {
      "cell_type": "code",
      "source": [
        "df_clientes.columns"
      ],
      "metadata": {
        "id": "c8zCo7SIF_PY"
      },
      "execution_count": null,
      "outputs": []
    },
    {
      "cell_type": "markdown",
      "source": [
        "utilizaremos o método `.dropna()` também para as colunas, mas agora associando o parâmetro **inplace.**\n"
      ],
      "metadata": {
        "id": "f4zhwSDHGX-Q"
      }
    },
    {
      "cell_type": "code",
      "source": [
        "dfClientes_trat.dropna(axis=1, how=\"all\", inplace=True)\n",
        "dfClientes_trat"
      ],
      "metadata": {
        "id": "nBYnvAMLu-rf",
        "colab": {
          "base_uri": "https://localhost:8080/",
          "height": 981
        },
        "outputId": "3faa11f7-ee67-480c-edb9-fdec5f8bafba"
      },
      "execution_count": null,
      "outputs": [
        {
          "output_type": "stream",
          "name": "stderr",
          "text": [
            "<ipython-input-52-174ade81984a>:1: SettingWithCopyWarning: \n",
            "A value is trying to be set on a copy of a slice from a DataFrame\n",
            "\n",
            "See the caveats in the documentation: https://pandas.pydata.org/pandas-docs/stable/user_guide/indexing.html#returning-a-view-versus-a-copy\n",
            "  dfClientes_trat.dropna(axis=1, how=\"all\", inplace=True)\n"
          ]
        },
        {
          "output_type": "execute_result",
          "data": {
            "text/plain": [
              "                                 nome             cpf            rg  \\\n",
              "0               Cauã Iago Paulo Jesus  025.293.734-18  22.866.798-7   \n",
              "1        Aparecida Cristiane da Cunha  363.545.494-00  48.396.627-7   \n",
              "2    Ricardo Manuel Martin dos Santos  387.779.416-59  44.503.380-0   \n",
              "3                Marcelo Bryan Farias  735.001.987-40  10.801.911-1   \n",
              "5                Yago Luís Theo Lopes  343.806.963-67  15.315.345-3   \n",
              "..                                ...             ...           ...   \n",
              "173           César André Isaac Pinto  018.640.515-40  23.361.694-9   \n",
              "175               Maria Yasmin Barros  965.130.621-10  17.637.424-3   \n",
              "176           Lucca Osvaldo Bernardes  751.811.881-50  40.571.734-9   \n",
              "177            Osvaldo João Fernandes  202.283.219-13  13.288.086-6   \n",
              "178        Fátima Sarah Alícia Vieira  661.897.486-00  22.943.110-0   \n",
              "\n",
              "     data_nasc       sexo        signo                    mae  \\\n",
              "0   1953-01-19  Masculino  Capricórnio    Sophia Nair Antônia   \n",
              "1   1974-02-17   Feminino      Aquário         Rafaela Nicole   \n",
              "2   1952-02-22  Masculino       Peixes             Julia Rosa   \n",
              "3   1948-01-02  Masculino  Capricórnio           Olivia Carla   \n",
              "5   1943-02-16  Masculino      Aquário           Lúcia Raquel   \n",
              "..         ...        ...          ...                    ...   \n",
              "173 1981-03-01  Masculino       Peixes    Tânia Marlene Laura   \n",
              "175 1948-02-13   Feminino      Aquário  Stella Simone Mariane   \n",
              "176 1986-03-02  Masculino       Peixes       Luna Mariah Nina   \n",
              "177 1954-03-02  Masculino       Peixes           Allana Elisa   \n",
              "178 1943-01-23   Feminino      Aquário              Malu Luna   \n",
              "\n",
              "                                    pai  \\\n",
              "0           Marcelo Sérgio Enrico Jesus   \n",
              "1               Bernardo Pedro da Cunha   \n",
              "2    Osvaldo Gustavo Lorenzo dos Santos   \n",
              "3                 Roberto Manuel Farias   \n",
              "5            Heitor Levi Raimundo Lopes   \n",
              "..                                  ...   \n",
              "173                 Benício Lucca Pinto   \n",
              "175                  Raul Daniel Barros   \n",
              "176             Thomas Nathan Bernardes   \n",
              "177          Augusto Benedito Fernandes   \n",
              "178             Diego Igor Paulo Vieira   \n",
              "\n",
              "                                       email        cep  ...  \\\n",
              "0                 caua_iago_jesus@hlt.arq.br  59141-040  ...   \n",
              "1        aparecida-dacunha89@redhouse.com.br  49035-640  ...   \n",
              "2      ricardomanueldossantos@moderna.com.br  57073-205  ...   \n",
              "3          marcelo.bryan.farias@unink.com.br  77066-120  ...   \n",
              "5                   yago_lopes@fedato.com.br  68742-833  ...   \n",
              "..                                       ...        ...  ...   \n",
              "173      cesar-pinto73@comanzzaindaia.com.br  57048-278  ...   \n",
              "175              maria_barros@solviagens.com  57081-743  ...   \n",
              "176     lucca_osvaldo_bernardes@monsanto.com  64218-825  ...   \n",
              "177      osvaldojoaofernandes@sanidet.com.br  58102-770  ...   \n",
              "178  fatima_sarah_vieira@gruppoitalia.com.br  72420-170  ...   \n",
              "\n",
              "                                 bairro       data      cidade estado  \\\n",
              "0                           Santos Reis 2022-03-22  Parnamirim     RN   \n",
              "1                         Coroa do Meio 2022-03-22     Aracaju     SE   \n",
              "2                  Cidade Universitária 2022-03-22      Maceió     AL   \n",
              "3    Setor Morada do Sol 2 (Taquaralto) 2022-03-22      Palmas     TO   \n",
              "5                           Nova Olinda 2022-03-22   Castanhal     PA   \n",
              "..                                  ...        ...         ...    ...   \n",
              "173                             Antares 2022-03-27      Maceió     AL   \n",
              "175                Tabuleiro do Martins 2022-03-27      Maceió     AL   \n",
              "176                           Bebedouro 2022-03-27    Parnaíba     PI   \n",
              "177                        Parque Verde 2022-03-27    Cabedelo     PB   \n",
              "178                  Setor Oeste (Gama) 2022-03-27    Brasília     DF   \n",
              "\n",
              "      telefone_fixo          celular  peso tipo_sanguineo       cor  \\\n",
              "0    (84) 2831-4233  (84) 98671-5320  70.0            AB+  vermelho   \n",
              "1    (79) 2600-6520  (79) 98333-4589  52.0            AB-      azul   \n",
              "2    (82) 3901-1268  (82) 99245-6058  73.0             A+   laranja   \n",
              "3    (63) 3809-7936  (63) 99237-1399  68.0             O+     verde   \n",
              "5    (91) 2872-1492  (91) 98257-1695  77.0            AB-     verde   \n",
              "..              ...              ...   ...            ...       ...   \n",
              "173  (82) 2994-8461  (82) 99157-6962  68.0             A+  vermelho   \n",
              "175  (82) 2680-6459  (82) 99880-2596  84.0             B-   amarelo   \n",
              "176  (86) 3934-1199  (86) 99264-0791  90.0             O-      azul   \n",
              "177  (83) 3720-7532  (83) 98986-1463  93.0            AB+     preto   \n",
              "178  (61) 2827-3826  (61) 98936-9189  76.0            AB-  vermelho   \n",
              "\n",
              "    valor_compra  \n",
              "0         5300.0  \n",
              "1         1400.0  \n",
              "2         2100.0  \n",
              "3         3500.0  \n",
              "5         3400.0  \n",
              "..           ...  \n",
              "173       3400.0  \n",
              "175       5300.0  \n",
              "176       2500.0  \n",
              "177       5300.0  \n",
              "178       2100.0  \n",
              "\n",
              "[161 rows x 22 columns]"
            ],
            "text/html": [
              "\n",
              "  <div id=\"df-3fc926a4-58a3-405f-a02e-8f083b233fd9\" class=\"colab-df-container\">\n",
              "    <div>\n",
              "<style scoped>\n",
              "    .dataframe tbody tr th:only-of-type {\n",
              "        vertical-align: middle;\n",
              "    }\n",
              "\n",
              "    .dataframe tbody tr th {\n",
              "        vertical-align: top;\n",
              "    }\n",
              "\n",
              "    .dataframe thead th {\n",
              "        text-align: right;\n",
              "    }\n",
              "</style>\n",
              "<table border=\"1\" class=\"dataframe\">\n",
              "  <thead>\n",
              "    <tr style=\"text-align: right;\">\n",
              "      <th></th>\n",
              "      <th>nome</th>\n",
              "      <th>cpf</th>\n",
              "      <th>rg</th>\n",
              "      <th>data_nasc</th>\n",
              "      <th>sexo</th>\n",
              "      <th>signo</th>\n",
              "      <th>mae</th>\n",
              "      <th>pai</th>\n",
              "      <th>email</th>\n",
              "      <th>cep</th>\n",
              "      <th>...</th>\n",
              "      <th>bairro</th>\n",
              "      <th>data</th>\n",
              "      <th>cidade</th>\n",
              "      <th>estado</th>\n",
              "      <th>telefone_fixo</th>\n",
              "      <th>celular</th>\n",
              "      <th>peso</th>\n",
              "      <th>tipo_sanguineo</th>\n",
              "      <th>cor</th>\n",
              "      <th>valor_compra</th>\n",
              "    </tr>\n",
              "  </thead>\n",
              "  <tbody>\n",
              "    <tr>\n",
              "      <th>0</th>\n",
              "      <td>Cauã Iago Paulo Jesus</td>\n",
              "      <td>025.293.734-18</td>\n",
              "      <td>22.866.798-7</td>\n",
              "      <td>1953-01-19</td>\n",
              "      <td>Masculino</td>\n",
              "      <td>Capricórnio</td>\n",
              "      <td>Sophia Nair Antônia</td>\n",
              "      <td>Marcelo Sérgio Enrico Jesus</td>\n",
              "      <td>caua_iago_jesus@hlt.arq.br</td>\n",
              "      <td>59141-040</td>\n",
              "      <td>...</td>\n",
              "      <td>Santos Reis</td>\n",
              "      <td>2022-03-22</td>\n",
              "      <td>Parnamirim</td>\n",
              "      <td>RN</td>\n",
              "      <td>(84) 2831-4233</td>\n",
              "      <td>(84) 98671-5320</td>\n",
              "      <td>70.0</td>\n",
              "      <td>AB+</td>\n",
              "      <td>vermelho</td>\n",
              "      <td>5300.0</td>\n",
              "    </tr>\n",
              "    <tr>\n",
              "      <th>1</th>\n",
              "      <td>Aparecida Cristiane da Cunha</td>\n",
              "      <td>363.545.494-00</td>\n",
              "      <td>48.396.627-7</td>\n",
              "      <td>1974-02-17</td>\n",
              "      <td>Feminino</td>\n",
              "      <td>Aquário</td>\n",
              "      <td>Rafaela Nicole</td>\n",
              "      <td>Bernardo Pedro da Cunha</td>\n",
              "      <td>aparecida-dacunha89@redhouse.com.br</td>\n",
              "      <td>49035-640</td>\n",
              "      <td>...</td>\n",
              "      <td>Coroa do Meio</td>\n",
              "      <td>2022-03-22</td>\n",
              "      <td>Aracaju</td>\n",
              "      <td>SE</td>\n",
              "      <td>(79) 2600-6520</td>\n",
              "      <td>(79) 98333-4589</td>\n",
              "      <td>52.0</td>\n",
              "      <td>AB-</td>\n",
              "      <td>azul</td>\n",
              "      <td>1400.0</td>\n",
              "    </tr>\n",
              "    <tr>\n",
              "      <th>2</th>\n",
              "      <td>Ricardo Manuel Martin dos Santos</td>\n",
              "      <td>387.779.416-59</td>\n",
              "      <td>44.503.380-0</td>\n",
              "      <td>1952-02-22</td>\n",
              "      <td>Masculino</td>\n",
              "      <td>Peixes</td>\n",
              "      <td>Julia Rosa</td>\n",
              "      <td>Osvaldo Gustavo Lorenzo dos Santos</td>\n",
              "      <td>ricardomanueldossantos@moderna.com.br</td>\n",
              "      <td>57073-205</td>\n",
              "      <td>...</td>\n",
              "      <td>Cidade Universitária</td>\n",
              "      <td>2022-03-22</td>\n",
              "      <td>Maceió</td>\n",
              "      <td>AL</td>\n",
              "      <td>(82) 3901-1268</td>\n",
              "      <td>(82) 99245-6058</td>\n",
              "      <td>73.0</td>\n",
              "      <td>A+</td>\n",
              "      <td>laranja</td>\n",
              "      <td>2100.0</td>\n",
              "    </tr>\n",
              "    <tr>\n",
              "      <th>3</th>\n",
              "      <td>Marcelo Bryan Farias</td>\n",
              "      <td>735.001.987-40</td>\n",
              "      <td>10.801.911-1</td>\n",
              "      <td>1948-01-02</td>\n",
              "      <td>Masculino</td>\n",
              "      <td>Capricórnio</td>\n",
              "      <td>Olivia Carla</td>\n",
              "      <td>Roberto Manuel Farias</td>\n",
              "      <td>marcelo.bryan.farias@unink.com.br</td>\n",
              "      <td>77066-120</td>\n",
              "      <td>...</td>\n",
              "      <td>Setor Morada do Sol 2 (Taquaralto)</td>\n",
              "      <td>2022-03-22</td>\n",
              "      <td>Palmas</td>\n",
              "      <td>TO</td>\n",
              "      <td>(63) 3809-7936</td>\n",
              "      <td>(63) 99237-1399</td>\n",
              "      <td>68.0</td>\n",
              "      <td>O+</td>\n",
              "      <td>verde</td>\n",
              "      <td>3500.0</td>\n",
              "    </tr>\n",
              "    <tr>\n",
              "      <th>5</th>\n",
              "      <td>Yago Luís Theo Lopes</td>\n",
              "      <td>343.806.963-67</td>\n",
              "      <td>15.315.345-3</td>\n",
              "      <td>1943-02-16</td>\n",
              "      <td>Masculino</td>\n",
              "      <td>Aquário</td>\n",
              "      <td>Lúcia Raquel</td>\n",
              "      <td>Heitor Levi Raimundo Lopes</td>\n",
              "      <td>yago_lopes@fedato.com.br</td>\n",
              "      <td>68742-833</td>\n",
              "      <td>...</td>\n",
              "      <td>Nova Olinda</td>\n",
              "      <td>2022-03-22</td>\n",
              "      <td>Castanhal</td>\n",
              "      <td>PA</td>\n",
              "      <td>(91) 2872-1492</td>\n",
              "      <td>(91) 98257-1695</td>\n",
              "      <td>77.0</td>\n",
              "      <td>AB-</td>\n",
              "      <td>verde</td>\n",
              "      <td>3400.0</td>\n",
              "    </tr>\n",
              "    <tr>\n",
              "      <th>...</th>\n",
              "      <td>...</td>\n",
              "      <td>...</td>\n",
              "      <td>...</td>\n",
              "      <td>...</td>\n",
              "      <td>...</td>\n",
              "      <td>...</td>\n",
              "      <td>...</td>\n",
              "      <td>...</td>\n",
              "      <td>...</td>\n",
              "      <td>...</td>\n",
              "      <td>...</td>\n",
              "      <td>...</td>\n",
              "      <td>...</td>\n",
              "      <td>...</td>\n",
              "      <td>...</td>\n",
              "      <td>...</td>\n",
              "      <td>...</td>\n",
              "      <td>...</td>\n",
              "      <td>...</td>\n",
              "      <td>...</td>\n",
              "      <td>...</td>\n",
              "    </tr>\n",
              "    <tr>\n",
              "      <th>173</th>\n",
              "      <td>César André Isaac Pinto</td>\n",
              "      <td>018.640.515-40</td>\n",
              "      <td>23.361.694-9</td>\n",
              "      <td>1981-03-01</td>\n",
              "      <td>Masculino</td>\n",
              "      <td>Peixes</td>\n",
              "      <td>Tânia Marlene Laura</td>\n",
              "      <td>Benício Lucca Pinto</td>\n",
              "      <td>cesar-pinto73@comanzzaindaia.com.br</td>\n",
              "      <td>57048-278</td>\n",
              "      <td>...</td>\n",
              "      <td>Antares</td>\n",
              "      <td>2022-03-27</td>\n",
              "      <td>Maceió</td>\n",
              "      <td>AL</td>\n",
              "      <td>(82) 2994-8461</td>\n",
              "      <td>(82) 99157-6962</td>\n",
              "      <td>68.0</td>\n",
              "      <td>A+</td>\n",
              "      <td>vermelho</td>\n",
              "      <td>3400.0</td>\n",
              "    </tr>\n",
              "    <tr>\n",
              "      <th>175</th>\n",
              "      <td>Maria Yasmin Barros</td>\n",
              "      <td>965.130.621-10</td>\n",
              "      <td>17.637.424-3</td>\n",
              "      <td>1948-02-13</td>\n",
              "      <td>Feminino</td>\n",
              "      <td>Aquário</td>\n",
              "      <td>Stella Simone Mariane</td>\n",
              "      <td>Raul Daniel Barros</td>\n",
              "      <td>maria_barros@solviagens.com</td>\n",
              "      <td>57081-743</td>\n",
              "      <td>...</td>\n",
              "      <td>Tabuleiro do Martins</td>\n",
              "      <td>2022-03-27</td>\n",
              "      <td>Maceió</td>\n",
              "      <td>AL</td>\n",
              "      <td>(82) 2680-6459</td>\n",
              "      <td>(82) 99880-2596</td>\n",
              "      <td>84.0</td>\n",
              "      <td>B-</td>\n",
              "      <td>amarelo</td>\n",
              "      <td>5300.0</td>\n",
              "    </tr>\n",
              "    <tr>\n",
              "      <th>176</th>\n",
              "      <td>Lucca Osvaldo Bernardes</td>\n",
              "      <td>751.811.881-50</td>\n",
              "      <td>40.571.734-9</td>\n",
              "      <td>1986-03-02</td>\n",
              "      <td>Masculino</td>\n",
              "      <td>Peixes</td>\n",
              "      <td>Luna Mariah Nina</td>\n",
              "      <td>Thomas Nathan Bernardes</td>\n",
              "      <td>lucca_osvaldo_bernardes@monsanto.com</td>\n",
              "      <td>64218-825</td>\n",
              "      <td>...</td>\n",
              "      <td>Bebedouro</td>\n",
              "      <td>2022-03-27</td>\n",
              "      <td>Parnaíba</td>\n",
              "      <td>PI</td>\n",
              "      <td>(86) 3934-1199</td>\n",
              "      <td>(86) 99264-0791</td>\n",
              "      <td>90.0</td>\n",
              "      <td>O-</td>\n",
              "      <td>azul</td>\n",
              "      <td>2500.0</td>\n",
              "    </tr>\n",
              "    <tr>\n",
              "      <th>177</th>\n",
              "      <td>Osvaldo João Fernandes</td>\n",
              "      <td>202.283.219-13</td>\n",
              "      <td>13.288.086-6</td>\n",
              "      <td>1954-03-02</td>\n",
              "      <td>Masculino</td>\n",
              "      <td>Peixes</td>\n",
              "      <td>Allana Elisa</td>\n",
              "      <td>Augusto Benedito Fernandes</td>\n",
              "      <td>osvaldojoaofernandes@sanidet.com.br</td>\n",
              "      <td>58102-770</td>\n",
              "      <td>...</td>\n",
              "      <td>Parque Verde</td>\n",
              "      <td>2022-03-27</td>\n",
              "      <td>Cabedelo</td>\n",
              "      <td>PB</td>\n",
              "      <td>(83) 3720-7532</td>\n",
              "      <td>(83) 98986-1463</td>\n",
              "      <td>93.0</td>\n",
              "      <td>AB+</td>\n",
              "      <td>preto</td>\n",
              "      <td>5300.0</td>\n",
              "    </tr>\n",
              "    <tr>\n",
              "      <th>178</th>\n",
              "      <td>Fátima Sarah Alícia Vieira</td>\n",
              "      <td>661.897.486-00</td>\n",
              "      <td>22.943.110-0</td>\n",
              "      <td>1943-01-23</td>\n",
              "      <td>Feminino</td>\n",
              "      <td>Aquário</td>\n",
              "      <td>Malu Luna</td>\n",
              "      <td>Diego Igor Paulo Vieira</td>\n",
              "      <td>fatima_sarah_vieira@gruppoitalia.com.br</td>\n",
              "      <td>72420-170</td>\n",
              "      <td>...</td>\n",
              "      <td>Setor Oeste (Gama)</td>\n",
              "      <td>2022-03-27</td>\n",
              "      <td>Brasília</td>\n",
              "      <td>DF</td>\n",
              "      <td>(61) 2827-3826</td>\n",
              "      <td>(61) 98936-9189</td>\n",
              "      <td>76.0</td>\n",
              "      <td>AB-</td>\n",
              "      <td>vermelho</td>\n",
              "      <td>2100.0</td>\n",
              "    </tr>\n",
              "  </tbody>\n",
              "</table>\n",
              "<p>161 rows × 22 columns</p>\n",
              "</div>\n",
              "    <div class=\"colab-df-buttons\">\n",
              "\n",
              "  <div class=\"colab-df-container\">\n",
              "    <button class=\"colab-df-convert\" onclick=\"convertToInteractive('df-3fc926a4-58a3-405f-a02e-8f083b233fd9')\"\n",
              "            title=\"Convert this dataframe to an interactive table.\"\n",
              "            style=\"display:none;\">\n",
              "\n",
              "  <svg xmlns=\"http://www.w3.org/2000/svg\" height=\"24px\" viewBox=\"0 -960 960 960\">\n",
              "    <path d=\"M120-120v-720h720v720H120Zm60-500h600v-160H180v160Zm220 220h160v-160H400v160Zm0 220h160v-160H400v160ZM180-400h160v-160H180v160Zm440 0h160v-160H620v160ZM180-180h160v-160H180v160Zm440 0h160v-160H620v160Z\"/>\n",
              "  </svg>\n",
              "    </button>\n",
              "\n",
              "  <style>\n",
              "    .colab-df-container {\n",
              "      display:flex;\n",
              "      gap: 12px;\n",
              "    }\n",
              "\n",
              "    .colab-df-convert {\n",
              "      background-color: #E8F0FE;\n",
              "      border: none;\n",
              "      border-radius: 50%;\n",
              "      cursor: pointer;\n",
              "      display: none;\n",
              "      fill: #1967D2;\n",
              "      height: 32px;\n",
              "      padding: 0 0 0 0;\n",
              "      width: 32px;\n",
              "    }\n",
              "\n",
              "    .colab-df-convert:hover {\n",
              "      background-color: #E2EBFA;\n",
              "      box-shadow: 0px 1px 2px rgba(60, 64, 67, 0.3), 0px 1px 3px 1px rgba(60, 64, 67, 0.15);\n",
              "      fill: #174EA6;\n",
              "    }\n",
              "\n",
              "    .colab-df-buttons div {\n",
              "      margin-bottom: 4px;\n",
              "    }\n",
              "\n",
              "    [theme=dark] .colab-df-convert {\n",
              "      background-color: #3B4455;\n",
              "      fill: #D2E3FC;\n",
              "    }\n",
              "\n",
              "    [theme=dark] .colab-df-convert:hover {\n",
              "      background-color: #434B5C;\n",
              "      box-shadow: 0px 1px 3px 1px rgba(0, 0, 0, 0.15);\n",
              "      filter: drop-shadow(0px 1px 2px rgba(0, 0, 0, 0.3));\n",
              "      fill: #FFFFFF;\n",
              "    }\n",
              "  </style>\n",
              "\n",
              "    <script>\n",
              "      const buttonEl =\n",
              "        document.querySelector('#df-3fc926a4-58a3-405f-a02e-8f083b233fd9 button.colab-df-convert');\n",
              "      buttonEl.style.display =\n",
              "        google.colab.kernel.accessAllowed ? 'block' : 'none';\n",
              "\n",
              "      async function convertToInteractive(key) {\n",
              "        const element = document.querySelector('#df-3fc926a4-58a3-405f-a02e-8f083b233fd9');\n",
              "        const dataTable =\n",
              "          await google.colab.kernel.invokeFunction('convertToInteractive',\n",
              "                                                    [key], {});\n",
              "        if (!dataTable) return;\n",
              "\n",
              "        const docLinkHtml = 'Like what you see? Visit the ' +\n",
              "          '<a target=\"_blank\" href=https://colab.research.google.com/notebooks/data_table.ipynb>data table notebook</a>'\n",
              "          + ' to learn more about interactive tables.';\n",
              "        element.innerHTML = '';\n",
              "        dataTable['output_type'] = 'display_data';\n",
              "        await google.colab.output.renderOutput(dataTable, element);\n",
              "        const docLink = document.createElement('div');\n",
              "        docLink.innerHTML = docLinkHtml;\n",
              "        element.appendChild(docLink);\n",
              "      }\n",
              "    </script>\n",
              "  </div>\n",
              "\n",
              "\n",
              "<div id=\"df-56e44bba-0add-4539-990a-66a4ca66bb64\">\n",
              "  <button class=\"colab-df-quickchart\" onclick=\"quickchart('df-56e44bba-0add-4539-990a-66a4ca66bb64')\"\n",
              "            title=\"Suggest charts.\"\n",
              "            style=\"display:none;\">\n",
              "\n",
              "<svg xmlns=\"http://www.w3.org/2000/svg\" height=\"24px\"viewBox=\"0 0 24 24\"\n",
              "     width=\"24px\">\n",
              "    <g>\n",
              "        <path d=\"M19 3H5c-1.1 0-2 .9-2 2v14c0 1.1.9 2 2 2h14c1.1 0 2-.9 2-2V5c0-1.1-.9-2-2-2zM9 17H7v-7h2v7zm4 0h-2V7h2v10zm4 0h-2v-4h2v4z\"/>\n",
              "    </g>\n",
              "</svg>\n",
              "  </button>\n",
              "\n",
              "<style>\n",
              "  .colab-df-quickchart {\n",
              "      --bg-color: #E8F0FE;\n",
              "      --fill-color: #1967D2;\n",
              "      --hover-bg-color: #E2EBFA;\n",
              "      --hover-fill-color: #174EA6;\n",
              "      --disabled-fill-color: #AAA;\n",
              "      --disabled-bg-color: #DDD;\n",
              "  }\n",
              "\n",
              "  [theme=dark] .colab-df-quickchart {\n",
              "      --bg-color: #3B4455;\n",
              "      --fill-color: #D2E3FC;\n",
              "      --hover-bg-color: #434B5C;\n",
              "      --hover-fill-color: #FFFFFF;\n",
              "      --disabled-bg-color: #3B4455;\n",
              "      --disabled-fill-color: #666;\n",
              "  }\n",
              "\n",
              "  .colab-df-quickchart {\n",
              "    background-color: var(--bg-color);\n",
              "    border: none;\n",
              "    border-radius: 50%;\n",
              "    cursor: pointer;\n",
              "    display: none;\n",
              "    fill: var(--fill-color);\n",
              "    height: 32px;\n",
              "    padding: 0;\n",
              "    width: 32px;\n",
              "  }\n",
              "\n",
              "  .colab-df-quickchart:hover {\n",
              "    background-color: var(--hover-bg-color);\n",
              "    box-shadow: 0 1px 2px rgba(60, 64, 67, 0.3), 0 1px 3px 1px rgba(60, 64, 67, 0.15);\n",
              "    fill: var(--button-hover-fill-color);\n",
              "  }\n",
              "\n",
              "  .colab-df-quickchart-complete:disabled,\n",
              "  .colab-df-quickchart-complete:disabled:hover {\n",
              "    background-color: var(--disabled-bg-color);\n",
              "    fill: var(--disabled-fill-color);\n",
              "    box-shadow: none;\n",
              "  }\n",
              "\n",
              "  .colab-df-spinner {\n",
              "    border: 2px solid var(--fill-color);\n",
              "    border-color: transparent;\n",
              "    border-bottom-color: var(--fill-color);\n",
              "    animation:\n",
              "      spin 1s steps(1) infinite;\n",
              "  }\n",
              "\n",
              "  @keyframes spin {\n",
              "    0% {\n",
              "      border-color: transparent;\n",
              "      border-bottom-color: var(--fill-color);\n",
              "      border-left-color: var(--fill-color);\n",
              "    }\n",
              "    20% {\n",
              "      border-color: transparent;\n",
              "      border-left-color: var(--fill-color);\n",
              "      border-top-color: var(--fill-color);\n",
              "    }\n",
              "    30% {\n",
              "      border-color: transparent;\n",
              "      border-left-color: var(--fill-color);\n",
              "      border-top-color: var(--fill-color);\n",
              "      border-right-color: var(--fill-color);\n",
              "    }\n",
              "    40% {\n",
              "      border-color: transparent;\n",
              "      border-right-color: var(--fill-color);\n",
              "      border-top-color: var(--fill-color);\n",
              "    }\n",
              "    60% {\n",
              "      border-color: transparent;\n",
              "      border-right-color: var(--fill-color);\n",
              "    }\n",
              "    80% {\n",
              "      border-color: transparent;\n",
              "      border-right-color: var(--fill-color);\n",
              "      border-bottom-color: var(--fill-color);\n",
              "    }\n",
              "    90% {\n",
              "      border-color: transparent;\n",
              "      border-bottom-color: var(--fill-color);\n",
              "    }\n",
              "  }\n",
              "</style>\n",
              "\n",
              "  <script>\n",
              "    async function quickchart(key) {\n",
              "      const quickchartButtonEl =\n",
              "        document.querySelector('#' + key + ' button');\n",
              "      quickchartButtonEl.disabled = true;  // To prevent multiple clicks.\n",
              "      quickchartButtonEl.classList.add('colab-df-spinner');\n",
              "      try {\n",
              "        const charts = await google.colab.kernel.invokeFunction(\n",
              "            'suggestCharts', [key], {});\n",
              "      } catch (error) {\n",
              "        console.error('Error during call to suggestCharts:', error);\n",
              "      }\n",
              "      quickchartButtonEl.classList.remove('colab-df-spinner');\n",
              "      quickchartButtonEl.classList.add('colab-df-quickchart-complete');\n",
              "    }\n",
              "    (() => {\n",
              "      let quickchartButtonEl =\n",
              "        document.querySelector('#df-56e44bba-0add-4539-990a-66a4ca66bb64 button');\n",
              "      quickchartButtonEl.style.display =\n",
              "        google.colab.kernel.accessAllowed ? 'block' : 'none';\n",
              "    })();\n",
              "  </script>\n",
              "</div>\n",
              "    </div>\n",
              "  </div>\n"
            ]
          },
          "metadata": {},
          "execution_count": 52
        }
      ]
    },
    {
      "cell_type": "markdown",
      "source": [
        "Para a limpeza de dados ainda é importante verificar se existem colunas dispensáveis a nossa análise de dados."
      ],
      "metadata": {
        "id": "brGqlzzFDTf6"
      }
    },
    {
      "cell_type": "code",
      "source": [
        "dfClientes_trat.columns"
      ],
      "metadata": {
        "colab": {
          "base_uri": "https://localhost:8080/"
        },
        "id": "JFNXjPadDwTt",
        "outputId": "d8b1dc07-3cbb-42a6-e232-ee4ac3bc8f60"
      },
      "execution_count": null,
      "outputs": [
        {
          "output_type": "execute_result",
          "data": {
            "text/plain": [
              "Index(['nome', 'cpf', 'rg', 'data_nasc', 'sexo', 'mae', 'pai', 'cep',\n",
              "       'endereco', 'numero', 'bairro', 'data', 'cidade', 'estado', 'peso',\n",
              "       'valor_compra'],\n",
              "      dtype='object')"
            ]
          },
          "metadata": {},
          "execution_count": 61
        }
      ]
    },
    {
      "cell_type": "markdown",
      "source": [
        "Se existirem, faremos a exclusão, agora nominalmente através do método `.drop()` passando para o parâmtro **columns** o array de colunas a ser removido e podendo associar com o parâmetro **inplace**"
      ],
      "metadata": {
        "id": "ReVKUZLtHJc9"
      }
    },
    {
      "cell_type": "code",
      "source": [
        "dfClientes_trat.drop(columns=['cor', 'email', 'telefone_fixo','celular', 'signo', 'tipo_sanguineo'], inplace=True)"
      ],
      "metadata": {
        "colab": {
          "base_uri": "https://localhost:8080/"
        },
        "id": "jcWg6pqDDbsC",
        "outputId": "a3310814-2b5f-4494-8a42-127b3d6aba64"
      },
      "execution_count": null,
      "outputs": [
        {
          "output_type": "stream",
          "name": "stderr",
          "text": [
            "<ipython-input-60-994c83766403>:1: SettingWithCopyWarning: \n",
            "A value is trying to be set on a copy of a slice from a DataFrame\n",
            "\n",
            "See the caveats in the documentation: https://pandas.pydata.org/pandas-docs/stable/user_guide/indexing.html#returning-a-view-versus-a-copy\n",
            "  dfClientes_trat.drop(columns=['cor', 'email', 'telefone_fixo','celular', 'signo', 'tipo_sanguineo'], inplace=True)\n"
          ]
        }
      ]
    },
    {
      "cell_type": "code",
      "source": [
        "dfClientes_trat.columns"
      ],
      "metadata": {
        "colab": {
          "base_uri": "https://localhost:8080/"
        },
        "id": "EyptKK49ESG8",
        "outputId": "6e87ec97-6322-41c8-ba2f-aeaa8c89ed1e"
      },
      "execution_count": null,
      "outputs": [
        {
          "output_type": "execute_result",
          "data": {
            "text/plain": [
              "Index(['nome', 'cpf', 'rg', 'data_nasc', 'sexo', 'mae', 'pai', 'cep',\n",
              "       'endereco', 'numero', 'bairro', 'data', 'cidade', 'estado', 'peso',\n",
              "       'valor_compra'],\n",
              "      dtype='object')"
            ]
          },
          "metadata": {},
          "execution_count": 62
        }
      ]
    },
    {
      "cell_type": "markdown",
      "source": [
        "tipos de dados por cada coluna após tratamento"
      ],
      "metadata": {
        "id": "fTA4_RiR0ECf"
      }
    },
    {
      "cell_type": "code",
      "source": [
        "dfClientes_trat.info()"
      ],
      "metadata": {
        "colab": {
          "base_uri": "https://localhost:8080/"
        },
        "id": "D08_-T8V0Cxs",
        "outputId": "73ca6533-4b77-4961-ab3f-484e15bb3a9c"
      },
      "execution_count": null,
      "outputs": [
        {
          "output_type": "stream",
          "name": "stdout",
          "text": [
            "<class 'pandas.core.frame.DataFrame'>\n",
            "Int64Index: 161 entries, 0 to 178\n",
            "Data columns (total 16 columns):\n",
            " #   Column        Non-Null Count  Dtype         \n",
            "---  ------        --------------  -----         \n",
            " 0   nome          161 non-null    object        \n",
            " 1   cpf           161 non-null    object        \n",
            " 2   rg            161 non-null    object        \n",
            " 3   data_nasc     161 non-null    datetime64[ns]\n",
            " 4   sexo          161 non-null    object        \n",
            " 5   mae           161 non-null    object        \n",
            " 6   pai           161 non-null    object        \n",
            " 7   cep           158 non-null    object        \n",
            " 8   endereco      158 non-null    object        \n",
            " 9   numero        158 non-null    float64       \n",
            " 10  bairro        158 non-null    object        \n",
            " 11  data          158 non-null    datetime64[ns]\n",
            " 12  cidade        158 non-null    object        \n",
            " 13  estado        158 non-null    object        \n",
            " 14  peso          158 non-null    float64       \n",
            " 15  valor_compra  158 non-null    float64       \n",
            "dtypes: datetime64[ns](2), float64(3), object(11)\n",
            "memory usage: 21.4+ KB\n"
          ]
        }
      ]
    },
    {
      "cell_type": "markdown",
      "source": [
        "## renomear colunas"
      ],
      "metadata": {
        "id": "NgEghxz_hyof"
      }
    },
    {
      "cell_type": "markdown",
      "source": [
        "para renomear as colunas de um dataframe devemos utilizar o método `df.rename(columns = {'nomeAtualColuna':'novoNomeColuna'})`"
      ],
      "metadata": {
        "id": "fNsxMbjUh5OO"
      }
    },
    {
      "cell_type": "code",
      "source": [
        "dfClientes_trat= dfClientes_trat.rename(columns={'data':'dataCompra'})\n",
        "\n"
      ],
      "metadata": {
        "id": "TCZujX_lnNUC"
      },
      "execution_count": null,
      "outputs": []
    },
    {
      "cell_type": "code",
      "source": [
        "dfClientes_trat.info()"
      ],
      "metadata": {
        "colab": {
          "base_uri": "https://localhost:8080/"
        },
        "id": "oLxiUxQbnj5b",
        "outputId": "645e02d4-86db-4676-8c9b-f6f1105046c8"
      },
      "execution_count": null,
      "outputs": [
        {
          "output_type": "stream",
          "name": "stdout",
          "text": [
            "<class 'pandas.core.frame.DataFrame'>\n",
            "Int64Index: 161 entries, 0 to 178\n",
            "Data columns (total 16 columns):\n",
            " #   Column        Non-Null Count  Dtype         \n",
            "---  ------        --------------  -----         \n",
            " 0   nome          161 non-null    object        \n",
            " 1   cpf           161 non-null    object        \n",
            " 2   rg            161 non-null    object        \n",
            " 3   data_nasc     161 non-null    datetime64[ns]\n",
            " 4   sexo          161 non-null    object        \n",
            " 5   mae           161 non-null    object        \n",
            " 6   pai           161 non-null    object        \n",
            " 7   cep           158 non-null    object        \n",
            " 8   endereco      158 non-null    object        \n",
            " 9   numero        158 non-null    float64       \n",
            " 10  bairro        158 non-null    object        \n",
            " 11  dataCompra    158 non-null    datetime64[ns]\n",
            " 12  cidade        158 non-null    object        \n",
            " 13  estado        158 non-null    object        \n",
            " 14  peso          158 non-null    float64       \n",
            " 15  valor_compra  158 non-null    float64       \n",
            "dtypes: datetime64[ns](2), float64(3), object(11)\n",
            "memory usage: 21.4+ KB\n"
          ]
        }
      ]
    },
    {
      "cell_type": "markdown",
      "source": [
        "#Principais medidas estatísticas"
      ],
      "metadata": {
        "id": "fHihDs6VJ5NZ"
      }
    },
    {
      "cell_type": "markdown",
      "source": [
        "O método `describe()` do pandas é uma ferramenta essencial na análise estatística de dados. Ele fornece um resumo estatístico conciso e informativo de um DataFrame ou de uma Series, permitindo aos analistas uma rápida compreensão das principais características numéricas dos dados. O resultado do `describe()` inclui as seguintes medidas estatísticas:\n",
        "\n",
        "- Contagem (**count**): Indica o número de observações válidas no conjunto de dados, excluindo valores ausentes (NaN).\n",
        "\n",
        "- Média (**mean**): Representa a média aritmética dos valores no conjunto de dados, fornecendo uma noção geral da tendência central dos dados.\n",
        "\n",
        "- Desvio Padrão (**std**): O desvio padrão é uma medida da dispersão dos dados em torno da média. Valores mais altos indicam maior variabilidade.\n",
        "\n",
        "- Mínimo (**min**): Mostra o valor mínimo encontrado no conjunto de dados, indicando o menor valor observado.\n",
        "\n",
        "\n",
        "\n",
        "![aed-pdf-111.png](data:image/png;base64,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)\n",
        "\n",
        "\n",
        "\n",
        "- 25º Percentil (25%): É o valor abaixo do qual 25% dos dados estão localizados. Também conhecido como primeiro quartil.\n",
        "\n",
        "- Mediana (50%): É o valor que divide os dados ao meio, com 50% dos valores abaixo e 50% acima. Também conhecida como segundo quartil.\n",
        "\n",
        "- 75º Percentil (75%): É o valor abaixo do qual 75% dos dados estão localizados. Também conhecido como terceiro quartil.\n",
        "\n",
        "- Máximo (max): Mostra o valor máximo encontrado no conjunto de dados, indicando o maior valor observado.\n",
        "\n",
        "\n",
        "Podemos observar a moda para uma coluna específica utilizando o método .mode `df['coluna1'].mode()`"
      ],
      "metadata": {
        "id": "j-40NYZCKFRT"
      }
    },
    {
      "cell_type": "code",
      "source": [
        "dfClientes_trat.describe()"
      ],
      "metadata": {
        "colab": {
          "base_uri": "https://localhost:8080/",
          "height": 300
        },
        "id": "wSK_d-nUzhWa",
        "outputId": "aedc865d-284c-40c6-bbb0-b7787d31ac76"
      },
      "execution_count": null,
      "outputs": [
        {
          "output_type": "execute_result",
          "data": {
            "text/plain": [
              "           numero        peso  valor_compra\n",
              "count  158.000000  158.000000    158.000000\n",
              "mean   559.512658   73.341772   3349.367089\n",
              "std    268.175476   12.552956   1525.066432\n",
              "min    101.000000   50.000000   1400.000000\n",
              "25%    314.000000   63.250000   2100.000000\n",
              "50%    585.000000   73.000000   3400.000000\n",
              "75%    802.250000   83.000000   5300.000000\n",
              "max    999.000000   99.000000   5300.000000"
            ],
            "text/html": [
              "\n",
              "  <div id=\"df-199c0552-c2a1-485f-b38f-d996bdea7fdf\" class=\"colab-df-container\">\n",
              "    <div>\n",
              "<style scoped>\n",
              "    .dataframe tbody tr th:only-of-type {\n",
              "        vertical-align: middle;\n",
              "    }\n",
              "\n",
              "    .dataframe tbody tr th {\n",
              "        vertical-align: top;\n",
              "    }\n",
              "\n",
              "    .dataframe thead th {\n",
              "        text-align: right;\n",
              "    }\n",
              "</style>\n",
              "<table border=\"1\" class=\"dataframe\">\n",
              "  <thead>\n",
              "    <tr style=\"text-align: right;\">\n",
              "      <th></th>\n",
              "      <th>numero</th>\n",
              "      <th>peso</th>\n",
              "      <th>valor_compra</th>\n",
              "    </tr>\n",
              "  </thead>\n",
              "  <tbody>\n",
              "    <tr>\n",
              "      <th>count</th>\n",
              "      <td>158.000000</td>\n",
              "      <td>158.000000</td>\n",
              "      <td>158.000000</td>\n",
              "    </tr>\n",
              "    <tr>\n",
              "      <th>mean</th>\n",
              "      <td>559.512658</td>\n",
              "      <td>73.341772</td>\n",
              "      <td>3349.367089</td>\n",
              "    </tr>\n",
              "    <tr>\n",
              "      <th>std</th>\n",
              "      <td>268.175476</td>\n",
              "      <td>12.552956</td>\n",
              "      <td>1525.066432</td>\n",
              "    </tr>\n",
              "    <tr>\n",
              "      <th>min</th>\n",
              "      <td>101.000000</td>\n",
              "      <td>50.000000</td>\n",
              "      <td>1400.000000</td>\n",
              "    </tr>\n",
              "    <tr>\n",
              "      <th>25%</th>\n",
              "      <td>314.000000</td>\n",
              "      <td>63.250000</td>\n",
              "      <td>2100.000000</td>\n",
              "    </tr>\n",
              "    <tr>\n",
              "      <th>50%</th>\n",
              "      <td>585.000000</td>\n",
              "      <td>73.000000</td>\n",
              "      <td>3400.000000</td>\n",
              "    </tr>\n",
              "    <tr>\n",
              "      <th>75%</th>\n",
              "      <td>802.250000</td>\n",
              "      <td>83.000000</td>\n",
              "      <td>5300.000000</td>\n",
              "    </tr>\n",
              "    <tr>\n",
              "      <th>max</th>\n",
              "      <td>999.000000</td>\n",
              "      <td>99.000000</td>\n",
              "      <td>5300.000000</td>\n",
              "    </tr>\n",
              "  </tbody>\n",
              "</table>\n",
              "</div>\n",
              "    <div class=\"colab-df-buttons\">\n",
              "\n",
              "  <div class=\"colab-df-container\">\n",
              "    <button class=\"colab-df-convert\" onclick=\"convertToInteractive('df-199c0552-c2a1-485f-b38f-d996bdea7fdf')\"\n",
              "            title=\"Convert this dataframe to an interactive table.\"\n",
              "            style=\"display:none;\">\n",
              "\n",
              "  <svg xmlns=\"http://www.w3.org/2000/svg\" height=\"24px\" viewBox=\"0 -960 960 960\">\n",
              "    <path d=\"M120-120v-720h720v720H120Zm60-500h600v-160H180v160Zm220 220h160v-160H400v160Zm0 220h160v-160H400v160ZM180-400h160v-160H180v160Zm440 0h160v-160H620v160ZM180-180h160v-160H180v160Zm440 0h160v-160H620v160Z\"/>\n",
              "  </svg>\n",
              "    </button>\n",
              "\n",
              "  <style>\n",
              "    .colab-df-container {\n",
              "      display:flex;\n",
              "      gap: 12px;\n",
              "    }\n",
              "\n",
              "    .colab-df-convert {\n",
              "      background-color: #E8F0FE;\n",
              "      border: none;\n",
              "      border-radius: 50%;\n",
              "      cursor: pointer;\n",
              "      display: none;\n",
              "      fill: #1967D2;\n",
              "      height: 32px;\n",
              "      padding: 0 0 0 0;\n",
              "      width: 32px;\n",
              "    }\n",
              "\n",
              "    .colab-df-convert:hover {\n",
              "      background-color: #E2EBFA;\n",
              "      box-shadow: 0px 1px 2px rgba(60, 64, 67, 0.3), 0px 1px 3px 1px rgba(60, 64, 67, 0.15);\n",
              "      fill: #174EA6;\n",
              "    }\n",
              "\n",
              "    .colab-df-buttons div {\n",
              "      margin-bottom: 4px;\n",
              "    }\n",
              "\n",
              "    [theme=dark] .colab-df-convert {\n",
              "      background-color: #3B4455;\n",
              "      fill: #D2E3FC;\n",
              "    }\n",
              "\n",
              "    [theme=dark] .colab-df-convert:hover {\n",
              "      background-color: #434B5C;\n",
              "      box-shadow: 0px 1px 3px 1px rgba(0, 0, 0, 0.15);\n",
              "      filter: drop-shadow(0px 1px 2px rgba(0, 0, 0, 0.3));\n",
              "      fill: #FFFFFF;\n",
              "    }\n",
              "  </style>\n",
              "\n",
              "    <script>\n",
              "      const buttonEl =\n",
              "        document.querySelector('#df-199c0552-c2a1-485f-b38f-d996bdea7fdf button.colab-df-convert');\n",
              "      buttonEl.style.display =\n",
              "        google.colab.kernel.accessAllowed ? 'block' : 'none';\n",
              "\n",
              "      async function convertToInteractive(key) {\n",
              "        const element = document.querySelector('#df-199c0552-c2a1-485f-b38f-d996bdea7fdf');\n",
              "        const dataTable =\n",
              "          await google.colab.kernel.invokeFunction('convertToInteractive',\n",
              "                                                    [key], {});\n",
              "        if (!dataTable) return;\n",
              "\n",
              "        const docLinkHtml = 'Like what you see? Visit the ' +\n",
              "          '<a target=\"_blank\" href=https://colab.research.google.com/notebooks/data_table.ipynb>data table notebook</a>'\n",
              "          + ' to learn more about interactive tables.';\n",
              "        element.innerHTML = '';\n",
              "        dataTable['output_type'] = 'display_data';\n",
              "        await google.colab.output.renderOutput(dataTable, element);\n",
              "        const docLink = document.createElement('div');\n",
              "        docLink.innerHTML = docLinkHtml;\n",
              "        element.appendChild(docLink);\n",
              "      }\n",
              "    </script>\n",
              "  </div>\n",
              "\n",
              "\n",
              "<div id=\"df-442d2f72-49d2-46fb-8225-4a40450defa0\">\n",
              "  <button class=\"colab-df-quickchart\" onclick=\"quickchart('df-442d2f72-49d2-46fb-8225-4a40450defa0')\"\n",
              "            title=\"Suggest charts.\"\n",
              "            style=\"display:none;\">\n",
              "\n",
              "<svg xmlns=\"http://www.w3.org/2000/svg\" height=\"24px\"viewBox=\"0 0 24 24\"\n",
              "     width=\"24px\">\n",
              "    <g>\n",
              "        <path d=\"M19 3H5c-1.1 0-2 .9-2 2v14c0 1.1.9 2 2 2h14c1.1 0 2-.9 2-2V5c0-1.1-.9-2-2-2zM9 17H7v-7h2v7zm4 0h-2V7h2v10zm4 0h-2v-4h2v4z\"/>\n",
              "    </g>\n",
              "</svg>\n",
              "  </button>\n",
              "\n",
              "<style>\n",
              "  .colab-df-quickchart {\n",
              "      --bg-color: #E8F0FE;\n",
              "      --fill-color: #1967D2;\n",
              "      --hover-bg-color: #E2EBFA;\n",
              "      --hover-fill-color: #174EA6;\n",
              "      --disabled-fill-color: #AAA;\n",
              "      --disabled-bg-color: #DDD;\n",
              "  }\n",
              "\n",
              "  [theme=dark] .colab-df-quickchart {\n",
              "      --bg-color: #3B4455;\n",
              "      --fill-color: #D2E3FC;\n",
              "      --hover-bg-color: #434B5C;\n",
              "      --hover-fill-color: #FFFFFF;\n",
              "      --disabled-bg-color: #3B4455;\n",
              "      --disabled-fill-color: #666;\n",
              "  }\n",
              "\n",
              "  .colab-df-quickchart {\n",
              "    background-color: var(--bg-color);\n",
              "    border: none;\n",
              "    border-radius: 50%;\n",
              "    cursor: pointer;\n",
              "    display: none;\n",
              "    fill: var(--fill-color);\n",
              "    height: 32px;\n",
              "    padding: 0;\n",
              "    width: 32px;\n",
              "  }\n",
              "\n",
              "  .colab-df-quickchart:hover {\n",
              "    background-color: var(--hover-bg-color);\n",
              "    box-shadow: 0 1px 2px rgba(60, 64, 67, 0.3), 0 1px 3px 1px rgba(60, 64, 67, 0.15);\n",
              "    fill: var(--button-hover-fill-color);\n",
              "  }\n",
              "\n",
              "  .colab-df-quickchart-complete:disabled,\n",
              "  .colab-df-quickchart-complete:disabled:hover {\n",
              "    background-color: var(--disabled-bg-color);\n",
              "    fill: var(--disabled-fill-color);\n",
              "    box-shadow: none;\n",
              "  }\n",
              "\n",
              "  .colab-df-spinner {\n",
              "    border: 2px solid var(--fill-color);\n",
              "    border-color: transparent;\n",
              "    border-bottom-color: var(--fill-color);\n",
              "    animation:\n",
              "      spin 1s steps(1) infinite;\n",
              "  }\n",
              "\n",
              "  @keyframes spin {\n",
              "    0% {\n",
              "      border-color: transparent;\n",
              "      border-bottom-color: var(--fill-color);\n",
              "      border-left-color: var(--fill-color);\n",
              "    }\n",
              "    20% {\n",
              "      border-color: transparent;\n",
              "      border-left-color: var(--fill-color);\n",
              "      border-top-color: var(--fill-color);\n",
              "    }\n",
              "    30% {\n",
              "      border-color: transparent;\n",
              "      border-left-color: var(--fill-color);\n",
              "      border-top-color: var(--fill-color);\n",
              "      border-right-color: var(--fill-color);\n",
              "    }\n",
              "    40% {\n",
              "      border-color: transparent;\n",
              "      border-right-color: var(--fill-color);\n",
              "      border-top-color: var(--fill-color);\n",
              "    }\n",
              "    60% {\n",
              "      border-color: transparent;\n",
              "      border-right-color: var(--fill-color);\n",
              "    }\n",
              "    80% {\n",
              "      border-color: transparent;\n",
              "      border-right-color: var(--fill-color);\n",
              "      border-bottom-color: var(--fill-color);\n",
              "    }\n",
              "    90% {\n",
              "      border-color: transparent;\n",
              "      border-bottom-color: var(--fill-color);\n",
              "    }\n",
              "  }\n",
              "</style>\n",
              "\n",
              "  <script>\n",
              "    async function quickchart(key) {\n",
              "      const quickchartButtonEl =\n",
              "        document.querySelector('#' + key + ' button');\n",
              "      quickchartButtonEl.disabled = true;  // To prevent multiple clicks.\n",
              "      quickchartButtonEl.classList.add('colab-df-spinner');\n",
              "      try {\n",
              "        const charts = await google.colab.kernel.invokeFunction(\n",
              "            'suggestCharts', [key], {});\n",
              "      } catch (error) {\n",
              "        console.error('Error during call to suggestCharts:', error);\n",
              "      }\n",
              "      quickchartButtonEl.classList.remove('colab-df-spinner');\n",
              "      quickchartButtonEl.classList.add('colab-df-quickchart-complete');\n",
              "    }\n",
              "    (() => {\n",
              "      let quickchartButtonEl =\n",
              "        document.querySelector('#df-442d2f72-49d2-46fb-8225-4a40450defa0 button');\n",
              "      quickchartButtonEl.style.display =\n",
              "        google.colab.kernel.accessAllowed ? 'block' : 'none';\n",
              "    })();\n",
              "  </script>\n",
              "</div>\n",
              "    </div>\n",
              "  </div>\n"
            ]
          },
          "metadata": {},
          "execution_count": 34
        }
      ]
    },
    {
      "cell_type": "code",
      "source": [
        "dfClientes_trat['valor_compra'].mode()"
      ],
      "metadata": {
        "colab": {
          "base_uri": "https://localhost:8080/"
        },
        "id": "iLGRhOjBJN9X",
        "outputId": "6790e038-2a02-4715-ecb5-0acd74e4a9d6"
      },
      "execution_count": null,
      "outputs": [
        {
          "output_type": "execute_result",
          "data": {
            "text/plain": [
              "0    5300.0\n",
              "Name: valor_compra, dtype: float64"
            ]
          },
          "metadata": {},
          "execution_count": 65
        }
      ]
    },
    {
      "cell_type": "code",
      "source": [
        "dfClientes_trat['cidade'].mode()"
      ],
      "metadata": {
        "colab": {
          "base_uri": "https://localhost:8080/"
        },
        "id": "eU8FxS5uJXSG",
        "outputId": "42dfe5d8-89a2-46d3-80bb-1817224b0a34"
      },
      "execution_count": null,
      "outputs": [
        {
          "output_type": "execute_result",
          "data": {
            "text/plain": [
              "0     Fortaleza\n",
              "1    Rio Branco\n",
              "Name: cidade, dtype: object"
            ]
          },
          "metadata": {},
          "execution_count": 67
        }
      ]
    },
    {
      "cell_type": "code",
      "source": [
        "dfClientes_trat['sexo'].mode()"
      ],
      "metadata": {
        "colab": {
          "base_uri": "https://localhost:8080/"
        },
        "id": "anQmxQxLJelY",
        "outputId": "0f0f4730-0304-4612-d2ba-3871e8d4d115"
      },
      "execution_count": null,
      "outputs": [
        {
          "output_type": "execute_result",
          "data": {
            "text/plain": [
              "0    Masculino\n",
              "Name: sexo, dtype: object"
            ]
          },
          "metadata": {},
          "execution_count": 68
        }
      ]
    },
    {
      "cell_type": "markdown",
      "source": [
        "# Análises a nível de colunas"
      ],
      "metadata": {
        "id": "pKdCsUYu-hg7"
      }
    },
    {
      "cell_type": "markdown",
      "source": [
        "todas as medidas disponíveis e agrupadas no `.describle()` estão disponíveis como métodos individuais, podendo ser aplicados a colunas específicas"
      ],
      "metadata": {
        "id": "_iT8ZG8BJvTR"
      }
    },
    {
      "cell_type": "code",
      "source": [
        "dfClientes_trat['valor_compra'].mean()"
      ],
      "metadata": {
        "colab": {
          "base_uri": "https://localhost:8080/"
        },
        "id": "d6DiNx-e-q-g",
        "outputId": "6a0b0953-170c-4333-b7f6-732e08aedbdd"
      },
      "execution_count": null,
      "outputs": [
        {
          "output_type": "execute_result",
          "data": {
            "text/plain": [
              "3349.3670886075947"
            ]
          },
          "metadata": {},
          "execution_count": 35
        }
      ]
    },
    {
      "cell_type": "markdown",
      "source": [
        "podemos analisar os valores únicos dentro de uma coluna com o método `.unique()`"
      ],
      "metadata": {
        "id": "exV5sRxlKDp8"
      }
    },
    {
      "cell_type": "code",
      "source": [
        "dfClientes_trat['cidade'].unique()"
      ],
      "metadata": {
        "colab": {
          "base_uri": "https://localhost:8080/"
        },
        "id": "VvGEfmXA_Zhm",
        "outputId": "d97798ce-6178-492f-ec9a-9d6b7f258d63"
      },
      "execution_count": null,
      "outputs": [
        {
          "output_type": "execute_result",
          "data": {
            "text/plain": [
              "array(['Parnamirim', 'Aracaju', 'Maceió', 'Palmas', 'Castanhal',\n",
              "       'Rio Verde', 'Boa Vista', 'Brasília', 'Rondonópolis', 'São Mateus',\n",
              "       'Caxias do Sul', 'Manaus', 'Rio Branco', 'Natal', 'João Pessoa',\n",
              "       'Serra', 'Teresina', 'Salvador', 'Vitória', 'Novo Hamburgo',\n",
              "       'Campos dos Goytacazes', 'São Paulo', 'Mauá', 'Foz do Iguaçu',\n",
              "       'Sabará', 'Gravatá', 'São Luís', 'Macapá', 'Aracruz', 'Betim',\n",
              "       'Ponta Porã', 'Araguaína', 'Campina Grande', 'Rio de Janeiro',\n",
              "       'Campo Grande', 'Santo Antônio do Descoberto', 'Santana',\n",
              "       'Águas Lindas de Goiás', 'Fortaleza', 'Cuiabá', 'Boa Esperança',\n",
              "       'Brusque', 'Cachoeiro de Itapemirim', 'Presidente Prudente',\n",
              "       'Várzea Grande', 'Curitiba', nan, 'Duque de Caxias', 'Arapiraca',\n",
              "       'Cariacica', 'Três Lagoas', 'Belém', 'Parnaíba', 'Guarapari',\n",
              "       'São Leopoldo', 'Ananindeua', 'Planaltina', 'Feira de Santana',\n",
              "       'Porto Velho', 'Toledo', 'Jaboatão dos Guararapes', 'Goiânia',\n",
              "       'Araranguá', 'São Gonçalo', 'Nova Iguaçu', 'Picos', 'Camaçari',\n",
              "       'Recife', 'Camaragibe', 'São Bento do Sul', 'Patos', 'Araucária',\n",
              "       'Alegrete', 'Maranguape', 'Poá', 'Sobral', 'Lages', 'Arapongas',\n",
              "       'Cabedelo'], dtype=object)"
            ]
          },
          "metadata": {},
          "execution_count": 41
        }
      ]
    },
    {
      "cell_type": "markdown",
      "source": [
        "com o método `.nunique()` recebemos apenas o número de valores únicos dentro da coluna"
      ],
      "metadata": {
        "id": "SaEDUtuuKOdN"
      }
    },
    {
      "cell_type": "code",
      "source": [
        "dfClientes_trat['cidade'].nunique()"
      ],
      "metadata": {
        "colab": {
          "base_uri": "https://localhost:8080/"
        },
        "id": "pjESTBwNAT4U",
        "outputId": "4e730710-2d5e-41ea-86bf-70569b22fed6"
      },
      "execution_count": null,
      "outputs": [
        {
          "output_type": "execute_result",
          "data": {
            "text/plain": [
              "78"
            ]
          },
          "metadata": {},
          "execution_count": 43
        }
      ]
    },
    {
      "cell_type": "markdown",
      "source": [
        "Quantidade de vendas feitas para cada estado. Para essa análise usaremos o `.value_counts()`.\n",
        "\n",
        "Esse método da biblioteca Pandas em Python que é usado para contar as ocorrências únicas de valores em uma Série (uma coluna de um DataFrame).\n",
        "\n",
        "\n",
        "\n"
      ],
      "metadata": {
        "id": "EkTdMpIJXtd3"
      }
    },
    {
      "cell_type": "code",
      "source": [
        "dfClientes_trat['estado'].value_counts()"
      ],
      "metadata": {
        "colab": {
          "base_uri": "https://localhost:8080/"
        },
        "id": "v6fwUsMwXv1n",
        "outputId": "05e82b60-ff49-4344-a4e9-a623ff03960e"
      },
      "execution_count": null,
      "outputs": [
        {
          "output_type": "execute_result",
          "data": {
            "text/plain": [
              "CE    11\n",
              "ES    10\n",
              "PI     9\n",
              "BA     9\n",
              "AC     9\n",
              "TO     7\n",
              "MS     7\n",
              "PR     7\n",
              "RR     7\n",
              "DF     7\n",
              "RJ     7\n",
              "RN     6\n",
              "SP     6\n",
              "PB     6\n",
              "GO     6\n",
              "PE     5\n",
              "AP     5\n",
              "AL     5\n",
              "SE     4\n",
              "RS     4\n",
              "MA     4\n",
              "PA     4\n",
              "SC     4\n",
              "MT     3\n",
              "AM     2\n",
              "MG     2\n",
              "RO     2\n",
              "Name: estado, dtype: int64"
            ]
          },
          "metadata": {},
          "execution_count": 97
        }
      ]
    },
    {
      "cell_type": "markdown",
      "source": [
        "# Aplicação de filtros"
      ],
      "metadata": {
        "id": "pt8PioHKE_iz"
      }
    },
    {
      "cell_type": "markdown",
      "source": [
        "Podemos estabelecer condições de filtragem, para associar com a maioria dos métodos vistos anteriormente.\n"
      ],
      "metadata": {
        "id": "PVuE6AdMKzFD"
      }
    },
    {
      "cell_type": "markdown",
      "source": [
        "com a estrutura `df[filtro]['coluna1'].value_counts()` estabelecemos uma condição de filtragem para uma coluna específica e associamos a outra que sofrerá a contagem com base no filtro definido\n"
      ],
      "metadata": {
        "id": "8RADZwOyLZJt"
      }
    },
    {
      "cell_type": "markdown",
      "source": [
        "Queremos saber o valor total pago em compras pelos clientes do estado da Paraíba"
      ],
      "metadata": {
        "id": "cFUmt7SXM4cg"
      }
    },
    {
      "cell_type": "code",
      "source": [
        "filtro = dfClientes_trat['estado']=='PB'\n",
        "\n",
        "dfClientes_trat[filtro]['valor_compra'].sum()\n"
      ],
      "metadata": {
        "colab": {
          "base_uri": "https://localhost:8080/"
        },
        "id": "jTczE7mPE-0S",
        "outputId": "4f72554c-d46e-42c2-a5a7-e7fd7dfa15ac"
      },
      "execution_count": null,
      "outputs": [
        {
          "output_type": "execute_result",
          "data": {
            "text/plain": [
              "24300.0"
            ]
          },
          "metadata": {},
          "execution_count": 69
        }
      ]
    },
    {
      "cell_type": "markdown",
      "source": [
        "Queremos saber o valor total pago pelas clientes (sexo feminino) da Paraíba.  Nesse caso faremos uma associação de filtros.\n",
        "\n",
        "No Pandas temos o os operadores lógicos `&` que equivalem ao and em Python e `|` que é equivalente ao o or."
      ],
      "metadata": {
        "id": "osMpfje5NRzW"
      }
    },
    {
      "cell_type": "code",
      "source": [
        "filtro1 = (dfClientes_trat['estado']== 'PB') & (dfClientes_trat['sexo']=='Feminino')\n",
        "filtro2 = (dfClientes_trat['estado']== 'PB') & (dfClientes_trat['sexo']=='Masculino')\n",
        "\n",
        "gastoFeminino= dfClientes_trat[filtro1]['valor_compra'].sum()\n",
        "\n",
        "gastoMasculino = dfClientes_trat[filtro2]['valor_compra'].sum()\n",
        "\n"
      ],
      "metadata": {
        "id": "bQMznezRNdKw"
      },
      "execution_count": null,
      "outputs": []
    },
    {
      "cell_type": "markdown",
      "source": [
        "Podemos modificar as linhas com base em algum filtro específico\n",
        "\n",
        "`df['nome da coluna a ser alterada'][filtro] = 'novo valor'`:"
      ],
      "metadata": {
        "id": "BlZl27QhuVAp"
      }
    },
    {
      "cell_type": "code",
      "source": [
        "filtro= dfClientes_trat['sexo']=='Feminino'\n",
        "dfClientes_trat['sexo'][filtro] = 'f'\n",
        "dfClientes_trat"
      ],
      "metadata": {
        "id": "IqjFBydpueTs"
      },
      "execution_count": null,
      "outputs": []
    },
    {
      "cell_type": "markdown",
      "source": [
        "# ATIVIDADE"
      ],
      "metadata": {
        "id": "l0SUxgLkS6he"
      }
    },
    {
      "cell_type": "markdown",
      "source": [
        "#ANO 2022\n",
        "\n",
        "Com base nesse conjuntos de dados ([Link para Acidentes2022.csv](https://)), que relaciona os acidentes que foram registrados pela PRF no ano de 2022, responda as questões abaixo:"
      ],
      "metadata": {
        "id": "2X3qM6mT8Era"
      }
    },
    {
      "cell_type": "markdown",
      "source": [],
      "metadata": {
        "id": "ERKyZEYJS-zG"
      }
    },
    {
      "cell_type": "markdown",
      "source": [
        "Faça as checagem de nulicidade de linhas e colunas e Realize o tratamento dos dados de forma que o dataFrame esteja organizado para responder as questões abaixo e elabore um texto explicando os resultados obtidos e correlacionando eles"
      ],
      "metadata": {
        "id": "quARvIqkvEn8"
      }
    },
    {
      "cell_type": "code",
      "source": [
        "import pandas as pd"
      ],
      "metadata": {
        "id": "Z2f2aKkGcvyW"
      },
      "execution_count": null,
      "outputs": []
    },
    {
      "cell_type": "code",
      "source": [
        "dfAcidentes2022 = pd.read_csv('https://raw.githubusercontent.com/techcomkathia/datasets/main/acidentes2022.csv', sep = ';')\n",
        "dfAcidentes2022"
      ],
      "metadata": {
        "id": "ai2xWNMRvN7V",
        "colab": {
          "base_uri": "https://localhost:8080/",
          "height": 808
        },
        "outputId": "179c2683-2bd4-4a25-9b12-49412fa2953c"
      },
      "execution_count": null,
      "outputs": [
        {
          "output_type": "execute_result",
          "data": {
            "text/plain": [
              "           id data_inversa    dia_semana   horario  uf     br     km  \\\n",
              "0      405151   2022-01-01        sábado  01:35:00  PI  316.0    415   \n",
              "1      405158   2022-01-01        sábado  02:40:00  PR  116.0     33   \n",
              "2      405172   2022-01-01        sábado  05:22:00  MS  163.0    393   \n",
              "3      405203   2022-01-01        sábado  07:00:00  RJ  101.0    457   \n",
              "4      405207   2022-01-01        sábado  09:00:00  MG   40.0  508,3   \n",
              "...       ...          ...           ...       ...  ..    ...    ...   \n",
              "64542  516543   2022-11-06       domingo  20:00:00  PI  316.0    313   \n",
              "64543  516703   2022-05-03   terça-feira  02:30:00  ES  262.0     17   \n",
              "64544  516707   2022-11-29   terça-feira  19:00:00  MG  146.0    459   \n",
              "64545  516846   2022-07-31       domingo  09:54:00  CE  116.0      5   \n",
              "64546  516931   2022-11-17  quinta-feira  18:13:00  PR  277.0   11,8   \n",
              "\n",
              "                   municipio  \\\n",
              "0                MARCOLANDIA   \n",
              "1      CAMPINA GRANDE DO SUL   \n",
              "2       NOVA ALVORADA DO SUL   \n",
              "3             ANGRA DOS REIS   \n",
              "4         RIBEIRAO DAS NEVES   \n",
              "...                      ...   \n",
              "64542                  PICOS   \n",
              "64543                  VIANA   \n",
              "64544               BOTELHOS   \n",
              "64545              FORTALEZA   \n",
              "64546              PARANAGUA   \n",
              "\n",
              "                                          causa_acidente  \\\n",
              "0                       Ingestão de álcool pelo condutor   \n",
              "1                       Ingestão de álcool pelo condutor   \n",
              "2      Condutor deixou de manter distância do veículo...   \n",
              "3               Reação tardia ou ineficiente do condutor   \n",
              "4                      Acumulo de água sobre o pavimento   \n",
              "...                                                  ...   \n",
              "64542                     Ausência de reação do condutor   \n",
              "64543                            Velocidade Incompatível   \n",
              "64544                             Transitar na contramão   \n",
              "64545                        Manobra de mudança de faixa   \n",
              "64546                                   Animais na Pista   \n",
              "\n",
              "                   tipo_acidente  ... feridos_graves ilesos ignorados feridos  \\\n",
              "0               Colisão traseira  ...              0      1         0       1   \n",
              "1                     Tombamento  ...              0      0         0       1   \n",
              "2               Colisão traseira  ...              0      1         0       1   \n",
              "3                Colisão frontal  ...              1      1         0       1   \n",
              "4      Saída de leito carroçável  ...              0      3         0       0   \n",
              "...                          ...  ...            ...    ...       ...     ...   \n",
              "64542        Colisão transversal  ...              1      1         2       1   \n",
              "64543  Saída de leito carroçável  ...              0      0         1       0   \n",
              "64544            Colisão frontal  ...              1      0         0       2   \n",
              "64545                 Tombamento  ...              0      0         1       1   \n",
              "64546    Atropelamento de Animal  ...              2      0         0       2   \n",
              "\n",
              "      veiculos      latitude     longitude  regional  delegacia  \\\n",
              "0            2   -7,43280012  -40,68261908   SPRF-PI   DEL04-PI   \n",
              "1            1    -25,114403   -48,8467554   SPRF-PR   DEL01-PR   \n",
              "2            2    -21,228445    -54,456296   SPRF-MS   DEL02-MS   \n",
              "3            2  -23,03149804  -44,17715297   SPRF-RJ   DEL03-RJ   \n",
              "4            1  -19,76061249   -44,1347544   SPRF-MG   DEL02-MG   \n",
              "...        ...           ...           ...       ...        ...   \n",
              "64542        2   -7,07959049  -41,44975182   SPRF-PI   DEL04-PI   \n",
              "64543        1  -20,38635961  -40,47272969   SPRF-ES   DEL01-ES   \n",
              "64544        2  -21,62224461  -46,40968323   SPRF-MG   DEL09-MG   \n",
              "64545        2   -3,79654632  -38,50665092   SPRF-CE   DEL01-CE   \n",
              "64546        1  -25,56418984  -48,63272406   SPRF-PR   DEL01-PR   \n",
              "\n",
              "                  uop  \n",
              "0      UOP03-DEL04-PI  \n",
              "1      UOP02-DEL01-PR  \n",
              "2      UOP01-DEL02-MS  \n",
              "3      UOP02-DEL03-RJ  \n",
              "4      UOP01-DEL02-MG  \n",
              "...               ...  \n",
              "64542  UOP01-DEL04-PI  \n",
              "64543  UOP01-DEL01-ES  \n",
              "64544  UOP01-DEL09-MG  \n",
              "64545  UOP02-DEL01-CE  \n",
              "64546  UOP05-DEL01-PR  \n",
              "\n",
              "[64547 rows x 30 columns]"
            ],
            "text/html": [
              "\n",
              "  <div id=\"df-6b8ea7aa-501d-4955-98d1-e001730f9836\" class=\"colab-df-container\">\n",
              "    <div>\n",
              "<style scoped>\n",
              "    .dataframe tbody tr th:only-of-type {\n",
              "        vertical-align: middle;\n",
              "    }\n",
              "\n",
              "    .dataframe tbody tr th {\n",
              "        vertical-align: top;\n",
              "    }\n",
              "\n",
              "    .dataframe thead th {\n",
              "        text-align: right;\n",
              "    }\n",
              "</style>\n",
              "<table border=\"1\" class=\"dataframe\">\n",
              "  <thead>\n",
              "    <tr style=\"text-align: right;\">\n",
              "      <th></th>\n",
              "      <th>id</th>\n",
              "      <th>data_inversa</th>\n",
              "      <th>dia_semana</th>\n",
              "      <th>horario</th>\n",
              "      <th>uf</th>\n",
              "      <th>br</th>\n",
              "      <th>km</th>\n",
              "      <th>municipio</th>\n",
              "      <th>causa_acidente</th>\n",
              "      <th>tipo_acidente</th>\n",
              "      <th>...</th>\n",
              "      <th>feridos_graves</th>\n",
              "      <th>ilesos</th>\n",
              "      <th>ignorados</th>\n",
              "      <th>feridos</th>\n",
              "      <th>veiculos</th>\n",
              "      <th>latitude</th>\n",
              "      <th>longitude</th>\n",
              "      <th>regional</th>\n",
              "      <th>delegacia</th>\n",
              "      <th>uop</th>\n",
              "    </tr>\n",
              "  </thead>\n",
              "  <tbody>\n",
              "    <tr>\n",
              "      <th>0</th>\n",
              "      <td>405151</td>\n",
              "      <td>2022-01-01</td>\n",
              "      <td>sábado</td>\n",
              "      <td>01:35:00</td>\n",
              "      <td>PI</td>\n",
              "      <td>316.0</td>\n",
              "      <td>415</td>\n",
              "      <td>MARCOLANDIA</td>\n",
              "      <td>Ingestão de álcool pelo condutor</td>\n",
              "      <td>Colisão traseira</td>\n",
              "      <td>...</td>\n",
              "      <td>0</td>\n",
              "      <td>1</td>\n",
              "      <td>0</td>\n",
              "      <td>1</td>\n",
              "      <td>2</td>\n",
              "      <td>-7,43280012</td>\n",
              "      <td>-40,68261908</td>\n",
              "      <td>SPRF-PI</td>\n",
              "      <td>DEL04-PI</td>\n",
              "      <td>UOP03-DEL04-PI</td>\n",
              "    </tr>\n",
              "    <tr>\n",
              "      <th>1</th>\n",
              "      <td>405158</td>\n",
              "      <td>2022-01-01</td>\n",
              "      <td>sábado</td>\n",
              "      <td>02:40:00</td>\n",
              "      <td>PR</td>\n",
              "      <td>116.0</td>\n",
              "      <td>33</td>\n",
              "      <td>CAMPINA GRANDE DO SUL</td>\n",
              "      <td>Ingestão de álcool pelo condutor</td>\n",
              "      <td>Tombamento</td>\n",
              "      <td>...</td>\n",
              "      <td>0</td>\n",
              "      <td>0</td>\n",
              "      <td>0</td>\n",
              "      <td>1</td>\n",
              "      <td>1</td>\n",
              "      <td>-25,114403</td>\n",
              "      <td>-48,8467554</td>\n",
              "      <td>SPRF-PR</td>\n",
              "      <td>DEL01-PR</td>\n",
              "      <td>UOP02-DEL01-PR</td>\n",
              "    </tr>\n",
              "    <tr>\n",
              "      <th>2</th>\n",
              "      <td>405172</td>\n",
              "      <td>2022-01-01</td>\n",
              "      <td>sábado</td>\n",
              "      <td>05:22:00</td>\n",
              "      <td>MS</td>\n",
              "      <td>163.0</td>\n",
              "      <td>393</td>\n",
              "      <td>NOVA ALVORADA DO SUL</td>\n",
              "      <td>Condutor deixou de manter distância do veículo...</td>\n",
              "      <td>Colisão traseira</td>\n",
              "      <td>...</td>\n",
              "      <td>0</td>\n",
              "      <td>1</td>\n",
              "      <td>0</td>\n",
              "      <td>1</td>\n",
              "      <td>2</td>\n",
              "      <td>-21,228445</td>\n",
              "      <td>-54,456296</td>\n",
              "      <td>SPRF-MS</td>\n",
              "      <td>DEL02-MS</td>\n",
              "      <td>UOP01-DEL02-MS</td>\n",
              "    </tr>\n",
              "    <tr>\n",
              "      <th>3</th>\n",
              "      <td>405203</td>\n",
              "      <td>2022-01-01</td>\n",
              "      <td>sábado</td>\n",
              "      <td>07:00:00</td>\n",
              "      <td>RJ</td>\n",
              "      <td>101.0</td>\n",
              "      <td>457</td>\n",
              "      <td>ANGRA DOS REIS</td>\n",
              "      <td>Reação tardia ou ineficiente do condutor</td>\n",
              "      <td>Colisão frontal</td>\n",
              "      <td>...</td>\n",
              "      <td>1</td>\n",
              "      <td>1</td>\n",
              "      <td>0</td>\n",
              "      <td>1</td>\n",
              "      <td>2</td>\n",
              "      <td>-23,03149804</td>\n",
              "      <td>-44,17715297</td>\n",
              "      <td>SPRF-RJ</td>\n",
              "      <td>DEL03-RJ</td>\n",
              "      <td>UOP02-DEL03-RJ</td>\n",
              "    </tr>\n",
              "    <tr>\n",
              "      <th>4</th>\n",
              "      <td>405207</td>\n",
              "      <td>2022-01-01</td>\n",
              "      <td>sábado</td>\n",
              "      <td>09:00:00</td>\n",
              "      <td>MG</td>\n",
              "      <td>40.0</td>\n",
              "      <td>508,3</td>\n",
              "      <td>RIBEIRAO DAS NEVES</td>\n",
              "      <td>Acumulo de água sobre o pavimento</td>\n",
              "      <td>Saída de leito carroçável</td>\n",
              "      <td>...</td>\n",
              "      <td>0</td>\n",
              "      <td>3</td>\n",
              "      <td>0</td>\n",
              "      <td>0</td>\n",
              "      <td>1</td>\n",
              "      <td>-19,76061249</td>\n",
              "      <td>-44,1347544</td>\n",
              "      <td>SPRF-MG</td>\n",
              "      <td>DEL02-MG</td>\n",
              "      <td>UOP01-DEL02-MG</td>\n",
              "    </tr>\n",
              "    <tr>\n",
              "      <th>...</th>\n",
              "      <td>...</td>\n",
              "      <td>...</td>\n",
              "      <td>...</td>\n",
              "      <td>...</td>\n",
              "      <td>...</td>\n",
              "      <td>...</td>\n",
              "      <td>...</td>\n",
              "      <td>...</td>\n",
              "      <td>...</td>\n",
              "      <td>...</td>\n",
              "      <td>...</td>\n",
              "      <td>...</td>\n",
              "      <td>...</td>\n",
              "      <td>...</td>\n",
              "      <td>...</td>\n",
              "      <td>...</td>\n",
              "      <td>...</td>\n",
              "      <td>...</td>\n",
              "      <td>...</td>\n",
              "      <td>...</td>\n",
              "      <td>...</td>\n",
              "    </tr>\n",
              "    <tr>\n",
              "      <th>64542</th>\n",
              "      <td>516543</td>\n",
              "      <td>2022-11-06</td>\n",
              "      <td>domingo</td>\n",
              "      <td>20:00:00</td>\n",
              "      <td>PI</td>\n",
              "      <td>316.0</td>\n",
              "      <td>313</td>\n",
              "      <td>PICOS</td>\n",
              "      <td>Ausência de reação do condutor</td>\n",
              "      <td>Colisão transversal</td>\n",
              "      <td>...</td>\n",
              "      <td>1</td>\n",
              "      <td>1</td>\n",
              "      <td>2</td>\n",
              "      <td>1</td>\n",
              "      <td>2</td>\n",
              "      <td>-7,07959049</td>\n",
              "      <td>-41,44975182</td>\n",
              "      <td>SPRF-PI</td>\n",
              "      <td>DEL04-PI</td>\n",
              "      <td>UOP01-DEL04-PI</td>\n",
              "    </tr>\n",
              "    <tr>\n",
              "      <th>64543</th>\n",
              "      <td>516703</td>\n",
              "      <td>2022-05-03</td>\n",
              "      <td>terça-feira</td>\n",
              "      <td>02:30:00</td>\n",
              "      <td>ES</td>\n",
              "      <td>262.0</td>\n",
              "      <td>17</td>\n",
              "      <td>VIANA</td>\n",
              "      <td>Velocidade Incompatível</td>\n",
              "      <td>Saída de leito carroçável</td>\n",
              "      <td>...</td>\n",
              "      <td>0</td>\n",
              "      <td>0</td>\n",
              "      <td>1</td>\n",
              "      <td>0</td>\n",
              "      <td>1</td>\n",
              "      <td>-20,38635961</td>\n",
              "      <td>-40,47272969</td>\n",
              "      <td>SPRF-ES</td>\n",
              "      <td>DEL01-ES</td>\n",
              "      <td>UOP01-DEL01-ES</td>\n",
              "    </tr>\n",
              "    <tr>\n",
              "      <th>64544</th>\n",
              "      <td>516707</td>\n",
              "      <td>2022-11-29</td>\n",
              "      <td>terça-feira</td>\n",
              "      <td>19:00:00</td>\n",
              "      <td>MG</td>\n",
              "      <td>146.0</td>\n",
              "      <td>459</td>\n",
              "      <td>BOTELHOS</td>\n",
              "      <td>Transitar na contramão</td>\n",
              "      <td>Colisão frontal</td>\n",
              "      <td>...</td>\n",
              "      <td>1</td>\n",
              "      <td>0</td>\n",
              "      <td>0</td>\n",
              "      <td>2</td>\n",
              "      <td>2</td>\n",
              "      <td>-21,62224461</td>\n",
              "      <td>-46,40968323</td>\n",
              "      <td>SPRF-MG</td>\n",
              "      <td>DEL09-MG</td>\n",
              "      <td>UOP01-DEL09-MG</td>\n",
              "    </tr>\n",
              "    <tr>\n",
              "      <th>64545</th>\n",
              "      <td>516846</td>\n",
              "      <td>2022-07-31</td>\n",
              "      <td>domingo</td>\n",
              "      <td>09:54:00</td>\n",
              "      <td>CE</td>\n",
              "      <td>116.0</td>\n",
              "      <td>5</td>\n",
              "      <td>FORTALEZA</td>\n",
              "      <td>Manobra de mudança de faixa</td>\n",
              "      <td>Tombamento</td>\n",
              "      <td>...</td>\n",
              "      <td>0</td>\n",
              "      <td>0</td>\n",
              "      <td>1</td>\n",
              "      <td>1</td>\n",
              "      <td>2</td>\n",
              "      <td>-3,79654632</td>\n",
              "      <td>-38,50665092</td>\n",
              "      <td>SPRF-CE</td>\n",
              "      <td>DEL01-CE</td>\n",
              "      <td>UOP02-DEL01-CE</td>\n",
              "    </tr>\n",
              "    <tr>\n",
              "      <th>64546</th>\n",
              "      <td>516931</td>\n",
              "      <td>2022-11-17</td>\n",
              "      <td>quinta-feira</td>\n",
              "      <td>18:13:00</td>\n",
              "      <td>PR</td>\n",
              "      <td>277.0</td>\n",
              "      <td>11,8</td>\n",
              "      <td>PARANAGUA</td>\n",
              "      <td>Animais na Pista</td>\n",
              "      <td>Atropelamento de Animal</td>\n",
              "      <td>...</td>\n",
              "      <td>2</td>\n",
              "      <td>0</td>\n",
              "      <td>0</td>\n",
              "      <td>2</td>\n",
              "      <td>1</td>\n",
              "      <td>-25,56418984</td>\n",
              "      <td>-48,63272406</td>\n",
              "      <td>SPRF-PR</td>\n",
              "      <td>DEL01-PR</td>\n",
              "      <td>UOP05-DEL01-PR</td>\n",
              "    </tr>\n",
              "  </tbody>\n",
              "</table>\n",
              "<p>64547 rows × 30 columns</p>\n",
              "</div>\n",
              "    <div class=\"colab-df-buttons\">\n",
              "\n",
              "  <div class=\"colab-df-container\">\n",
              "    <button class=\"colab-df-convert\" onclick=\"convertToInteractive('df-6b8ea7aa-501d-4955-98d1-e001730f9836')\"\n",
              "            title=\"Convert this dataframe to an interactive table.\"\n",
              "            style=\"display:none;\">\n",
              "\n",
              "  <svg xmlns=\"http://www.w3.org/2000/svg\" height=\"24px\" viewBox=\"0 -960 960 960\">\n",
              "    <path d=\"M120-120v-720h720v720H120Zm60-500h600v-160H180v160Zm220 220h160v-160H400v160Zm0 220h160v-160H400v160ZM180-400h160v-160H180v160Zm440 0h160v-160H620v160ZM180-180h160v-160H180v160Zm440 0h160v-160H620v160Z\"/>\n",
              "  </svg>\n",
              "    </button>\n",
              "\n",
              "  <style>\n",
              "    .colab-df-container {\n",
              "      display:flex;\n",
              "      gap: 12px;\n",
              "    }\n",
              "\n",
              "    .colab-df-convert {\n",
              "      background-color: #E8F0FE;\n",
              "      border: none;\n",
              "      border-radius: 50%;\n",
              "      cursor: pointer;\n",
              "      display: none;\n",
              "      fill: #1967D2;\n",
              "      height: 32px;\n",
              "      padding: 0 0 0 0;\n",
              "      width: 32px;\n",
              "    }\n",
              "\n",
              "    .colab-df-convert:hover {\n",
              "      background-color: #E2EBFA;\n",
              "      box-shadow: 0px 1px 2px rgba(60, 64, 67, 0.3), 0px 1px 3px 1px rgba(60, 64, 67, 0.15);\n",
              "      fill: #174EA6;\n",
              "    }\n",
              "\n",
              "    .colab-df-buttons div {\n",
              "      margin-bottom: 4px;\n",
              "    }\n",
              "\n",
              "    [theme=dark] .colab-df-convert {\n",
              "      background-color: #3B4455;\n",
              "      fill: #D2E3FC;\n",
              "    }\n",
              "\n",
              "    [theme=dark] .colab-df-convert:hover {\n",
              "      background-color: #434B5C;\n",
              "      box-shadow: 0px 1px 3px 1px rgba(0, 0, 0, 0.15);\n",
              "      filter: drop-shadow(0px 1px 2px rgba(0, 0, 0, 0.3));\n",
              "      fill: #FFFFFF;\n",
              "    }\n",
              "  </style>\n",
              "\n",
              "    <script>\n",
              "      const buttonEl =\n",
              "        document.querySelector('#df-6b8ea7aa-501d-4955-98d1-e001730f9836 button.colab-df-convert');\n",
              "      buttonEl.style.display =\n",
              "        google.colab.kernel.accessAllowed ? 'block' : 'none';\n",
              "\n",
              "      async function convertToInteractive(key) {\n",
              "        const element = document.querySelector('#df-6b8ea7aa-501d-4955-98d1-e001730f9836');\n",
              "        const dataTable =\n",
              "          await google.colab.kernel.invokeFunction('convertToInteractive',\n",
              "                                                    [key], {});\n",
              "        if (!dataTable) return;\n",
              "\n",
              "        const docLinkHtml = 'Like what you see? Visit the ' +\n",
              "          '<a target=\"_blank\" href=https://colab.research.google.com/notebooks/data_table.ipynb>data table notebook</a>'\n",
              "          + ' to learn more about interactive tables.';\n",
              "        element.innerHTML = '';\n",
              "        dataTable['output_type'] = 'display_data';\n",
              "        await google.colab.output.renderOutput(dataTable, element);\n",
              "        const docLink = document.createElement('div');\n",
              "        docLink.innerHTML = docLinkHtml;\n",
              "        element.appendChild(docLink);\n",
              "      }\n",
              "    </script>\n",
              "  </div>\n",
              "\n",
              "\n",
              "<div id=\"df-ee84bfda-aa16-405f-8d18-6d6719f166ab\">\n",
              "  <button class=\"colab-df-quickchart\" onclick=\"quickchart('df-ee84bfda-aa16-405f-8d18-6d6719f166ab')\"\n",
              "            title=\"Suggest charts.\"\n",
              "            style=\"display:none;\">\n",
              "\n",
              "<svg xmlns=\"http://www.w3.org/2000/svg\" height=\"24px\"viewBox=\"0 0 24 24\"\n",
              "     width=\"24px\">\n",
              "    <g>\n",
              "        <path d=\"M19 3H5c-1.1 0-2 .9-2 2v14c0 1.1.9 2 2 2h14c1.1 0 2-.9 2-2V5c0-1.1-.9-2-2-2zM9 17H7v-7h2v7zm4 0h-2V7h2v10zm4 0h-2v-4h2v4z\"/>\n",
              "    </g>\n",
              "</svg>\n",
              "  </button>\n",
              "\n",
              "<style>\n",
              "  .colab-df-quickchart {\n",
              "      --bg-color: #E8F0FE;\n",
              "      --fill-color: #1967D2;\n",
              "      --hover-bg-color: #E2EBFA;\n",
              "      --hover-fill-color: #174EA6;\n",
              "      --disabled-fill-color: #AAA;\n",
              "      --disabled-bg-color: #DDD;\n",
              "  }\n",
              "\n",
              "  [theme=dark] .colab-df-quickchart {\n",
              "      --bg-color: #3B4455;\n",
              "      --fill-color: #D2E3FC;\n",
              "      --hover-bg-color: #434B5C;\n",
              "      --hover-fill-color: #FFFFFF;\n",
              "      --disabled-bg-color: #3B4455;\n",
              "      --disabled-fill-color: #666;\n",
              "  }\n",
              "\n",
              "  .colab-df-quickchart {\n",
              "    background-color: var(--bg-color);\n",
              "    border: none;\n",
              "    border-radius: 50%;\n",
              "    cursor: pointer;\n",
              "    display: none;\n",
              "    fill: var(--fill-color);\n",
              "    height: 32px;\n",
              "    padding: 0;\n",
              "    width: 32px;\n",
              "  }\n",
              "\n",
              "  .colab-df-quickchart:hover {\n",
              "    background-color: var(--hover-bg-color);\n",
              "    box-shadow: 0 1px 2px rgba(60, 64, 67, 0.3), 0 1px 3px 1px rgba(60, 64, 67, 0.15);\n",
              "    fill: var(--button-hover-fill-color);\n",
              "  }\n",
              "\n",
              "  .colab-df-quickchart-complete:disabled,\n",
              "  .colab-df-quickchart-complete:disabled:hover {\n",
              "    background-color: var(--disabled-bg-color);\n",
              "    fill: var(--disabled-fill-color);\n",
              "    box-shadow: none;\n",
              "  }\n",
              "\n",
              "  .colab-df-spinner {\n",
              "    border: 2px solid var(--fill-color);\n",
              "    border-color: transparent;\n",
              "    border-bottom-color: var(--fill-color);\n",
              "    animation:\n",
              "      spin 1s steps(1) infinite;\n",
              "  }\n",
              "\n",
              "  @keyframes spin {\n",
              "    0% {\n",
              "      border-color: transparent;\n",
              "      border-bottom-color: var(--fill-color);\n",
              "      border-left-color: var(--fill-color);\n",
              "    }\n",
              "    20% {\n",
              "      border-color: transparent;\n",
              "      border-left-color: var(--fill-color);\n",
              "      border-top-color: var(--fill-color);\n",
              "    }\n",
              "    30% {\n",
              "      border-color: transparent;\n",
              "      border-left-color: var(--fill-color);\n",
              "      border-top-color: var(--fill-color);\n",
              "      border-right-color: var(--fill-color);\n",
              "    }\n",
              "    40% {\n",
              "      border-color: transparent;\n",
              "      border-right-color: var(--fill-color);\n",
              "      border-top-color: var(--fill-color);\n",
              "    }\n",
              "    60% {\n",
              "      border-color: transparent;\n",
              "      border-right-color: var(--fill-color);\n",
              "    }\n",
              "    80% {\n",
              "      border-color: transparent;\n",
              "      border-right-color: var(--fill-color);\n",
              "      border-bottom-color: var(--fill-color);\n",
              "    }\n",
              "    90% {\n",
              "      border-color: transparent;\n",
              "      border-bottom-color: var(--fill-color);\n",
              "    }\n",
              "  }\n",
              "</style>\n",
              "\n",
              "  <script>\n",
              "    async function quickchart(key) {\n",
              "      const quickchartButtonEl =\n",
              "        document.querySelector('#' + key + ' button');\n",
              "      quickchartButtonEl.disabled = true;  // To prevent multiple clicks.\n",
              "      quickchartButtonEl.classList.add('colab-df-spinner');\n",
              "      try {\n",
              "        const charts = await google.colab.kernel.invokeFunction(\n",
              "            'suggestCharts', [key], {});\n",
              "      } catch (error) {\n",
              "        console.error('Error during call to suggestCharts:', error);\n",
              "      }\n",
              "      quickchartButtonEl.classList.remove('colab-df-spinner');\n",
              "      quickchartButtonEl.classList.add('colab-df-quickchart-complete');\n",
              "    }\n",
              "    (() => {\n",
              "      let quickchartButtonEl =\n",
              "        document.querySelector('#df-ee84bfda-aa16-405f-8d18-6d6719f166ab button');\n",
              "      quickchartButtonEl.style.display =\n",
              "        google.colab.kernel.accessAllowed ? 'block' : 'none';\n",
              "    })();\n",
              "  </script>\n",
              "</div>\n",
              "    </div>\n",
              "  </div>\n"
            ]
          },
          "metadata": {},
          "execution_count": 35
        }
      ]
    },
    {
      "cell_type": "code",
      "source": [
        "dfAcidentes2012.info()"
      ],
      "metadata": {
        "colab": {
          "base_uri": "https://localhost:8080/"
        },
        "id": "aADqELOyeWLj",
        "outputId": "31f67c86-6a80-4dba-9d44-175b1ec81e64"
      },
      "execution_count": null,
      "outputs": [
        {
          "output_type": "stream",
          "name": "stdout",
          "text": [
            "<class 'pandas.core.frame.DataFrame'>\n",
            "RangeIndex: 184568 entries, 0 to 184567\n",
            "Data columns (total 26 columns):\n",
            " #   Column                  Non-Null Count   Dtype \n",
            "---  ------                  --------------   ----- \n",
            " 0   id                      184568 non-null  int64 \n",
            " 1   data_inversa            184568 non-null  object\n",
            " 2   dia_semana              184568 non-null  object\n",
            " 3   horario                 184568 non-null  object\n",
            " 4   uf                      184568 non-null  object\n",
            " 5   br                      184568 non-null  object\n",
            " 6   km                      184568 non-null  object\n",
            " 7   municipio               184568 non-null  object\n",
            " 8   causa_acidente          184568 non-null  object\n",
            " 9   tipo_acidente           184568 non-null  object\n",
            " 10  classificacao_acidente  184568 non-null  object\n",
            " 11  fase_dia                184568 non-null  object\n",
            " 12  sentido_via             184568 non-null  object\n",
            " 13  condicao_metereologica  184568 non-null  object\n",
            " 14  tipo_pista              184568 non-null  object\n",
            " 15  tracado_via             184568 non-null  object\n",
            " 16  uso_solo                184568 non-null  object\n",
            " 17  ano                     184568 non-null  int64 \n",
            " 18  pessoas                 184568 non-null  int64 \n",
            " 19  mortos                  184568 non-null  int64 \n",
            " 20  feridos_leves           184568 non-null  int64 \n",
            " 21  feridos_graves          184568 non-null  int64 \n",
            " 22  ilesos                  184568 non-null  int64 \n",
            " 23  ignorados               184568 non-null  int64 \n",
            " 24  feridos                 184568 non-null  int64 \n",
            " 25  veiculos                184568 non-null  int64 \n",
            "dtypes: int64(10), object(16)\n",
            "memory usage: 36.6+ MB\n"
          ]
        }
      ]
    },
    {
      "cell_type": "code",
      "source": [
        "(dfAcidentes2022['id'][0] , dfAcidentes2022['data_inversa'][0])"
      ],
      "metadata": {
        "colab": {
          "base_uri": "https://localhost:8080/"
        },
        "id": "zmFSG7sudpuU",
        "outputId": "67fdc4ed-7cc8-48bb-ff78-4eba157aebba"
      },
      "execution_count": null,
      "outputs": [
        {
          "output_type": "execute_result",
          "data": {
            "text/plain": [
              "(405151, '2022-01-01')"
            ]
          },
          "metadata": {},
          "execution_count": 37
        }
      ]
    },
    {
      "cell_type": "markdown",
      "source": [
        "## 1. Quantos acidentes foram registrados ao longo de todo o ano de 2022?"
      ],
      "metadata": {
        "id": "dluTVtMaThu8"
      }
    },
    {
      "cell_type": "code",
      "source": [
        "totalAcidentes2022 = dfAcidentes2022['id'].count()\n",
        "totalAcidentes2022"
      ],
      "metadata": {
        "id": "E_794KHQTW8-",
        "colab": {
          "base_uri": "https://localhost:8080/"
        },
        "outputId": "abd78103-6b55-40a0-ee0a-d8c5403463be"
      },
      "execution_count": null,
      "outputs": [
        {
          "output_type": "execute_result",
          "data": {
            "text/plain": [
              "64547"
            ]
          },
          "metadata": {},
          "execution_count": 39
        }
      ]
    },
    {
      "cell_type": "markdown",
      "source": [
        "## 2. Quantos obitos ocorreram ?"
      ],
      "metadata": {
        "id": "uoWkinpeTtey"
      }
    },
    {
      "cell_type": "code",
      "source": [
        "dfAcidentes2022.columns"
      ],
      "metadata": {
        "id": "CeG6WsIDT8cy",
        "colab": {
          "base_uri": "https://localhost:8080/"
        },
        "outputId": "94f7c460-175f-4b7e-a6f7-960da80db22e"
      },
      "execution_count": null,
      "outputs": [
        {
          "output_type": "execute_result",
          "data": {
            "text/plain": [
              "Index(['id', 'data_inversa', 'dia_semana', 'horario', 'uf', 'br', 'km',\n",
              "       'municipio', 'causa_acidente', 'tipo_acidente',\n",
              "       'classificacao_acidente', 'fase_dia', 'sentido_via',\n",
              "       'condicao_metereologica', 'tipo_pista', 'tracado_via', 'uso_solo',\n",
              "       'pessoas', 'mortos', 'feridos_leves', 'feridos_graves', 'ilesos',\n",
              "       'ignorados', 'feridos', 'veiculos', 'latitude', 'longitude', 'regional',\n",
              "       'delegacia', 'uop'],\n",
              "      dtype='object')"
            ]
          },
          "metadata": {},
          "execution_count": 87
        }
      ]
    },
    {
      "cell_type": "code",
      "source": [
        "totalMortos2022 = dfAcidentes2022['mortos'].sum()\n",
        "totalMortos2022"
      ],
      "metadata": {
        "colab": {
          "base_uri": "https://localhost:8080/"
        },
        "id": "-JOADYL7WTAY",
        "outputId": "45e9d6e9-74f9-4354-fb89-fb8c2bbfc5a2"
      },
      "execution_count": null,
      "outputs": [
        {
          "output_type": "execute_result",
          "data": {
            "text/plain": [
              "5439"
            ]
          },
          "metadata": {},
          "execution_count": 40
        }
      ]
    },
    {
      "cell_type": "markdown",
      "source": [
        "## 3. Qual estado registrou mais acidentes? Qual registrou menos?"
      ],
      "metadata": {
        "id": "wdBj_zlZT6tz"
      }
    },
    {
      "cell_type": "code",
      "source": [
        "contagem_acidentes_por_estado2022 = dfAcidentes2022['uf'].value_counts()\n",
        "\n",
        "contagem_acidentes_por_estado2022"
      ],
      "metadata": {
        "id": "oTw0libZUO7y",
        "colab": {
          "base_uri": "https://localhost:8080/"
        },
        "outputId": "b3c94aef-7036-4e7e-ab20-47bb30a14fa4"
      },
      "execution_count": null,
      "outputs": [
        {
          "output_type": "execute_result",
          "data": {
            "text/plain": [
              "MG    8290\n",
              "SC    7589\n",
              "PR    7377\n",
              "RS    4929\n",
              "RJ    4704\n",
              "SP    4385\n",
              "BA    3440\n",
              "GO    3112\n",
              "PE    2746\n",
              "ES    2278\n",
              "MT    2175\n",
              "MS    1638\n",
              "PB    1474\n",
              "RO    1378\n",
              "CE    1373\n",
              "RN    1287\n",
              "PI    1114\n",
              "MA    1084\n",
              "DF     922\n",
              "PA     831\n",
              "AL     595\n",
              "TO     568\n",
              "SE     511\n",
              "RR     229\n",
              "AC     224\n",
              "AP     180\n",
              "AM     114\n",
              "Name: uf, dtype: int64"
            ]
          },
          "metadata": {},
          "execution_count": 41
        }
      ]
    },
    {
      "cell_type": "markdown",
      "source": [
        "## 4. Qual foi o número máximo de veículos envolvidos em um acidente?"
      ],
      "metadata": {
        "id": "4fqVAQyJUP4R"
      }
    },
    {
      "cell_type": "code",
      "source": [
        "maxVeiculosEnvAcidente2022 = dfAcidentes2022['veiculos'].max()\n",
        "maxVeiculosEnvAcidente2022"
      ],
      "metadata": {
        "id": "WwN5ttH8Ubdu",
        "colab": {
          "base_uri": "https://localhost:8080/"
        },
        "outputId": "e26499a1-ef06-4704-9aa3-01af8d63ab41"
      },
      "execution_count": null,
      "outputs": [
        {
          "output_type": "execute_result",
          "data": {
            "text/plain": [
              "21"
            ]
          },
          "metadata": {},
          "execution_count": 42
        }
      ]
    },
    {
      "cell_type": "markdown",
      "source": [
        "## 5. Qual o total de acidentes que ocorreram na BR 116?"
      ],
      "metadata": {
        "id": "86iEnc2jQQWh"
      }
    },
    {
      "cell_type": "code",
      "source": [
        "filtro = dfAcidentes2022['br']== 116.0"
      ],
      "metadata": {
        "id": "WUNL5Bc-Q_gT"
      },
      "execution_count": null,
      "outputs": []
    },
    {
      "cell_type": "code",
      "source": [
        "totalAcidentesBR116_2022 = dfAcidentes2022[filtro]['id'].count()\n",
        "totalAcidentesBR116_2022"
      ],
      "metadata": {
        "colab": {
          "base_uri": "https://localhost:8080/"
        },
        "id": "t2UkYli0d-f1",
        "outputId": "6654e451-a37c-49aa-9b15-d3e204baff52"
      },
      "execution_count": null,
      "outputs": [
        {
          "output_type": "execute_result",
          "data": {
            "text/plain": [
              "3132"
            ]
          },
          "metadata": {},
          "execution_count": 94
        }
      ]
    },
    {
      "cell_type": "markdown",
      "source": [
        "## 6.Qual o total de feridos por Ingestão de álcool pelo condutor\tnos finais de semana"
      ],
      "metadata": {
        "id": "yuHqKBPIUb01"
      }
    },
    {
      "cell_type": "code",
      "source": [
        "dfAcidentes2022['dia_semana'].unique()"
      ],
      "metadata": {
        "colab": {
          "base_uri": "https://localhost:8080/"
        },
        "id": "xHydOifjfqTM",
        "outputId": "ab1abcca-37a7-4a57-99e6-d4d5eba08e23"
      },
      "execution_count": null,
      "outputs": [
        {
          "output_type": "execute_result",
          "data": {
            "text/plain": [
              "array(['sábado', 'domingo', 'segunda-feira', 'terça-feira',\n",
              "       'quarta-feira', 'quinta-feira', 'sexta-feira'], dtype=object)"
            ]
          },
          "metadata": {},
          "execution_count": 115
        }
      ]
    },
    {
      "cell_type": "code",
      "source": [
        "dfAcidentes2022['causa_acidente'].unique()"
      ],
      "metadata": {
        "colab": {
          "base_uri": "https://localhost:8080/"
        },
        "id": "fOSCfEGviYbN",
        "outputId": "53c066fa-02fe-410e-910b-5647e9b6307e"
      },
      "execution_count": null,
      "outputs": [
        {
          "output_type": "execute_result",
          "data": {
            "text/plain": [
              "array(['Ingestão de álcool pelo condutor',\n",
              "       'Condutor deixou de manter distância do veículo da frente',\n",
              "       'Reação tardia ou ineficiente do condutor',\n",
              "       'Acumulo de água sobre o pavimento', 'Mal súbito do condutor',\n",
              "       'Chuva', 'Ausência de reação do condutor',\n",
              "       'Manobra de mudança de faixa', 'Pista Escorregadia',\n",
              "       'Ausência de sinalização', 'Condutor Dormindo',\n",
              "       'Velocidade Incompatível',\n",
              "       'Acessar a via sem observar a presença dos outros veículos',\n",
              "       'Conversão proibida', 'Transitar na contramão',\n",
              "       'Ultrapassagem Indevida',\n",
              "       'Desrespeitar a preferência no cruzamento',\n",
              "       'Acostamento em desnível', 'Demais falhas mecânicas ou elétricas',\n",
              "       'Carga excessiva e/ou mal acondicionada', 'Problema com o freio',\n",
              "       'Ingestão de álcool e/ou substâncias psicoativas pelo pedestre',\n",
              "       'Curva acentuada', 'Estacionar ou parar em local proibido',\n",
              "       'Avarias e/ou desgaste excessivo no pneu',\n",
              "       'Pedestre cruzava a pista fora da faixa', 'Obstrução na via',\n",
              "       'Acesso irregular', 'Pista esburacada', 'Animais na Pista',\n",
              "       'Falta de acostamento', 'Entrada inopinada do pedestre',\n",
              "       'Acumulo de areia ou detritos sobre o pavimento',\n",
              "       'Pedestre andava na pista', 'Desvio temporário',\n",
              "       'Transitar no acostamento', 'Problema na suspensão',\n",
              "       'Objeto estático sobre o leito carroçável',\n",
              "       'Deficiência do Sistema de Iluminação/Sinalização',\n",
              "       'Trafegar com motocicleta (ou similar) entre as faixas',\n",
              "       'Condutor usando celular',\n",
              "       'Restrição de visibilidade em curvas horizontais',\n",
              "       'Ingestão de álcool ou de substâncias psicoativas pelo pedestre',\n",
              "       'Declive acentuado', 'Frear bruscamente', 'Iluminação deficiente',\n",
              "       'Área urbana sem a presença de local apropriado para a travessia de pedestres',\n",
              "       'Demais Fenômenos da natureza', 'Demais falhas na via',\n",
              "       'Faixas de trânsito com largura insuficiente', 'Obras na pista',\n",
              "       'Retorno proibido', 'Afundamento ou ondulação no pavimento',\n",
              "       'Falta de elemento de contenção que evite a saída do leito carroçável',\n",
              "       'Ingestão de substâncias psicoativas pelo condutor', 'Neblina',\n",
              "       'Condutor desrespeitou a iluminação vermelha do semáforo',\n",
              "       'Sistema de drenagem ineficiente',\n",
              "       'Acumulo de óleo sobre o pavimento', 'Sinalização mal posicionada',\n",
              "       'Pista em desnível', 'Transitar na calçada', 'Fumaça',\n",
              "       'Redutor de velocidade em desacordo',\n",
              "       'Deixar de acionar o farol da motocicleta (ou similar)',\n",
              "       'Restrição de visibilidade em curvas verticais',\n",
              "       'Semáforo com defeito', 'Faróis desregulados',\n",
              "       'Modificação proibida', 'Participar de racha',\n",
              "       'Sinalização encoberta'], dtype=object)"
            ]
          },
          "metadata": {},
          "execution_count": 18
        }
      ]
    },
    {
      "cell_type": "code",
      "source": [
        "filtroCausaAcidente = (dfAcidentes2022['causa_acidente'] == 'Ingestão de álcool pelo condutor')\n",
        "sexta =  (dfAcidentes2022['dia_semana'] == 'sexta-feira')\n",
        "sabado = (dfAcidentes2022['dia_semana'] == 'sábado')\n",
        "domingo = (dfAcidentes2022['dia_semana'] == 'domingo')\n",
        "filtroFinaldeSemana =  sexta | sabado | domingo\n",
        "# and & or |\n",
        "\n",
        "filtro =  filtroCausaAcidente & filtroFinaldeSemana\n",
        "\n",
        "feridosAlcool2022= dfAcidentes2022[filtro]['id'].count()\n",
        "feridosAlcool2022"
      ],
      "metadata": {
        "id": "f7M60QhIVCVY",
        "colab": {
          "base_uri": "https://localhost:8080/"
        },
        "outputId": "6c893438-289f-42d6-f31f-9649aba6ffd4"
      },
      "execution_count": null,
      "outputs": [
        {
          "output_type": "execute_result",
          "data": {
            "text/plain": [
              "3132"
            ]
          },
          "metadata": {},
          "execution_count": 44
        }
      ]
    },
    {
      "cell_type": "markdown",
      "source": [
        "# ANO 2012\n",
        " Com base nessas informações para o ano de 2022, realize as mesmas análises em 2012 e avalie o que mudou no espaço de 10 anos. O link para os arquivos [link para Acientes2012.csv](https://github.com/techcomkathia/datasets/blob/main/acidentes2012.csv)\n",
        "\n",
        "\n"
      ],
      "metadata": {
        "id": "I6xOXfVVVF45"
      }
    },
    {
      "cell_type": "code",
      "source": [],
      "metadata": {
        "id": "MI2IPVNcVjMP"
      },
      "execution_count": null,
      "outputs": []
    },
    {
      "cell_type": "code",
      "source": [
        "dfAcidentes2012 = pd.read_csv('https://raw.githubusercontent.com/techcomkathia/datasets/main/acidentes2012.csv', sep = ';')\n",
        "dfAcidentes2012"
      ],
      "metadata": {
        "colab": {
          "base_uri": "https://localhost:8080/",
          "height": 634
        },
        "outputId": "1b6be382-6541-4bef-f4fe-5c2dbe7b6f3c",
        "id": "aDF9OSbeyWaK"
      },
      "execution_count": null,
      "outputs": [
        {
          "output_type": "stream",
          "name": "stderr",
          "text": [
            "<ipython-input-2-dde45ff55dd0>:1: DtypeWarning: Columns (5,6) have mixed types. Specify dtype option on import or set low_memory=False.\n",
            "  dfAcidentes2012 = pd.read_csv('https://raw.githubusercontent.com/techcomkathia/datasets/main/acidentes2012.csv', sep = ';')\n"
          ]
        },
        {
          "output_type": "execute_result",
          "data": {
            "text/plain": [
              "              id data_inversa dia_semana   horario  uf   br     km  \\\n",
              "0        1035523   2012-01-01    Domingo  15:45:00  SC  282  513.7   \n",
              "1        1035527   2012-01-01    Domingo  03:00:00  SC  280    188   \n",
              "2        1035528   2012-01-01    Domingo  05:40:00  SC  116    1.5   \n",
              "3        1035530   2012-01-01    Domingo  06:00:00  RO  364  616.5   \n",
              "4        1035533   2012-01-01    Domingo  16:30:00  RJ  101     47   \n",
              "...          ...          ...        ...       ...  ..  ...    ...   \n",
              "184563  83441270   2012-01-09    Segunda  11:30:00  CE  116   14.5   \n",
              "184564  83441274   2012-01-04     Quarta  08:00:00  CE  116   30.0   \n",
              "184565  83441277   2012-05-10     Quinta  18:00:00  CE  116    9.0   \n",
              "184566  83441278   2012-09-29     Sábado  06:10:00  CE  222  273.3   \n",
              "184567  83444176   2012-04-05     Quinta  20:00:00  CE  116  180.0   \n",
              "\n",
              "                    municipio           causa_acidente  \\\n",
              "0                       XAXIM  Velocidade incompatível   \n",
              "1                       MAFRA       Ingestão de álcool   \n",
              "2                       MAFRA  Velocidade incompatível   \n",
              "3             ITAPUÃ DO OESTE                   Outras   \n",
              "4       CAMPOS DOS GOYTACAZES       Ingestão de álcool   \n",
              "...                       ...                      ...   \n",
              "184563              FORTALEZA         Falta de atenção   \n",
              "184564                AQUIRAZ                   Outras   \n",
              "184565              FORTALEZA         Falta de atenção   \n",
              "184566                 COREAU                   Outras   \n",
              "184567                 RUSSAS         Animais na Pista   \n",
              "\n",
              "                                     tipo_acidente  ... uso_solo   ano  \\\n",
              "0                                   Saída de Pista  ...    Rural  2012   \n",
              "1                                  Colisão lateral  ...    Rural  2012   \n",
              "2                          Colisão com objeto fixo  ...   Urbano  2012   \n",
              "3                                   Saída de Pista  ...    Rural  2012   \n",
              "4       Queda de motocicleta / bicicleta / veículo  ...    Rural  2012   \n",
              "...                                            ...  ...      ...   ...   \n",
              "184563                             Colisão lateral  ...   Urbano  2012   \n",
              "184564                              Saída de Pista  ...    Rural  2012   \n",
              "184565                     Atropelamento de pessoa  ...   Urbano  2012   \n",
              "184566                             Colisão lateral  ...    Rural  2012   \n",
              "184567                     Atropelamento de animal  ...    Rural  2012   \n",
              "\n",
              "       pessoas mortos feridos_leves feridos_graves ilesos  ignorados  feridos  \\\n",
              "0            2      0             1              0      1          0        1   \n",
              "1            3      0             1              0      2          0        1   \n",
              "2            1      0             0              0      1          0        0   \n",
              "3            1      0             1              0      0          0        1   \n",
              "4            1      0             1              0      0          0        1   \n",
              "...        ...    ...           ...            ...    ...        ...      ...   \n",
              "184563       2      0             0              0      2          0        0   \n",
              "184564       1      0             0              0      0          1        0   \n",
              "184565       2      0             0              1      1          0        1   \n",
              "184566       2      0             0              0      2          0        0   \n",
              "184567       2      0             0              0      2          0        0   \n",
              "\n",
              "        veiculos  \n",
              "0              1  \n",
              "1              2  \n",
              "2              1  \n",
              "3              1  \n",
              "4              1  \n",
              "...          ...  \n",
              "184563         2  \n",
              "184564         1  \n",
              "184565         1  \n",
              "184566         2  \n",
              "184567         1  \n",
              "\n",
              "[184568 rows x 26 columns]"
            ],
            "text/html": [
              "\n",
              "  <div id=\"df-a7fe3524-4c1e-4431-9a86-2b61af9eaddd\" class=\"colab-df-container\">\n",
              "    <div>\n",
              "<style scoped>\n",
              "    .dataframe tbody tr th:only-of-type {\n",
              "        vertical-align: middle;\n",
              "    }\n",
              "\n",
              "    .dataframe tbody tr th {\n",
              "        vertical-align: top;\n",
              "    }\n",
              "\n",
              "    .dataframe thead th {\n",
              "        text-align: right;\n",
              "    }\n",
              "</style>\n",
              "<table border=\"1\" class=\"dataframe\">\n",
              "  <thead>\n",
              "    <tr style=\"text-align: right;\">\n",
              "      <th></th>\n",
              "      <th>id</th>\n",
              "      <th>data_inversa</th>\n",
              "      <th>dia_semana</th>\n",
              "      <th>horario</th>\n",
              "      <th>uf</th>\n",
              "      <th>br</th>\n",
              "      <th>km</th>\n",
              "      <th>municipio</th>\n",
              "      <th>causa_acidente</th>\n",
              "      <th>tipo_acidente</th>\n",
              "      <th>...</th>\n",
              "      <th>uso_solo</th>\n",
              "      <th>ano</th>\n",
              "      <th>pessoas</th>\n",
              "      <th>mortos</th>\n",
              "      <th>feridos_leves</th>\n",
              "      <th>feridos_graves</th>\n",
              "      <th>ilesos</th>\n",
              "      <th>ignorados</th>\n",
              "      <th>feridos</th>\n",
              "      <th>veiculos</th>\n",
              "    </tr>\n",
              "  </thead>\n",
              "  <tbody>\n",
              "    <tr>\n",
              "      <th>0</th>\n",
              "      <td>1035523</td>\n",
              "      <td>2012-01-01</td>\n",
              "      <td>Domingo</td>\n",
              "      <td>15:45:00</td>\n",
              "      <td>SC</td>\n",
              "      <td>282</td>\n",
              "      <td>513.7</td>\n",
              "      <td>XAXIM</td>\n",
              "      <td>Velocidade incompatível</td>\n",
              "      <td>Saída de Pista</td>\n",
              "      <td>...</td>\n",
              "      <td>Rural</td>\n",
              "      <td>2012</td>\n",
              "      <td>2</td>\n",
              "      <td>0</td>\n",
              "      <td>1</td>\n",
              "      <td>0</td>\n",
              "      <td>1</td>\n",
              "      <td>0</td>\n",
              "      <td>1</td>\n",
              "      <td>1</td>\n",
              "    </tr>\n",
              "    <tr>\n",
              "      <th>1</th>\n",
              "      <td>1035527</td>\n",
              "      <td>2012-01-01</td>\n",
              "      <td>Domingo</td>\n",
              "      <td>03:00:00</td>\n",
              "      <td>SC</td>\n",
              "      <td>280</td>\n",
              "      <td>188</td>\n",
              "      <td>MAFRA</td>\n",
              "      <td>Ingestão de álcool</td>\n",
              "      <td>Colisão lateral</td>\n",
              "      <td>...</td>\n",
              "      <td>Rural</td>\n",
              "      <td>2012</td>\n",
              "      <td>3</td>\n",
              "      <td>0</td>\n",
              "      <td>1</td>\n",
              "      <td>0</td>\n",
              "      <td>2</td>\n",
              "      <td>0</td>\n",
              "      <td>1</td>\n",
              "      <td>2</td>\n",
              "    </tr>\n",
              "    <tr>\n",
              "      <th>2</th>\n",
              "      <td>1035528</td>\n",
              "      <td>2012-01-01</td>\n",
              "      <td>Domingo</td>\n",
              "      <td>05:40:00</td>\n",
              "      <td>SC</td>\n",
              "      <td>116</td>\n",
              "      <td>1.5</td>\n",
              "      <td>MAFRA</td>\n",
              "      <td>Velocidade incompatível</td>\n",
              "      <td>Colisão com objeto fixo</td>\n",
              "      <td>...</td>\n",
              "      <td>Urbano</td>\n",
              "      <td>2012</td>\n",
              "      <td>1</td>\n",
              "      <td>0</td>\n",
              "      <td>0</td>\n",
              "      <td>0</td>\n",
              "      <td>1</td>\n",
              "      <td>0</td>\n",
              "      <td>0</td>\n",
              "      <td>1</td>\n",
              "    </tr>\n",
              "    <tr>\n",
              "      <th>3</th>\n",
              "      <td>1035530</td>\n",
              "      <td>2012-01-01</td>\n",
              "      <td>Domingo</td>\n",
              "      <td>06:00:00</td>\n",
              "      <td>RO</td>\n",
              "      <td>364</td>\n",
              "      <td>616.5</td>\n",
              "      <td>ITAPUÃ DO OESTE</td>\n",
              "      <td>Outras</td>\n",
              "      <td>Saída de Pista</td>\n",
              "      <td>...</td>\n",
              "      <td>Rural</td>\n",
              "      <td>2012</td>\n",
              "      <td>1</td>\n",
              "      <td>0</td>\n",
              "      <td>1</td>\n",
              "      <td>0</td>\n",
              "      <td>0</td>\n",
              "      <td>0</td>\n",
              "      <td>1</td>\n",
              "      <td>1</td>\n",
              "    </tr>\n",
              "    <tr>\n",
              "      <th>4</th>\n",
              "      <td>1035533</td>\n",
              "      <td>2012-01-01</td>\n",
              "      <td>Domingo</td>\n",
              "      <td>16:30:00</td>\n",
              "      <td>RJ</td>\n",
              "      <td>101</td>\n",
              "      <td>47</td>\n",
              "      <td>CAMPOS DOS GOYTACAZES</td>\n",
              "      <td>Ingestão de álcool</td>\n",
              "      <td>Queda de motocicleta / bicicleta / veículo</td>\n",
              "      <td>...</td>\n",
              "      <td>Rural</td>\n",
              "      <td>2012</td>\n",
              "      <td>1</td>\n",
              "      <td>0</td>\n",
              "      <td>1</td>\n",
              "      <td>0</td>\n",
              "      <td>0</td>\n",
              "      <td>0</td>\n",
              "      <td>1</td>\n",
              "      <td>1</td>\n",
              "    </tr>\n",
              "    <tr>\n",
              "      <th>...</th>\n",
              "      <td>...</td>\n",
              "      <td>...</td>\n",
              "      <td>...</td>\n",
              "      <td>...</td>\n",
              "      <td>...</td>\n",
              "      <td>...</td>\n",
              "      <td>...</td>\n",
              "      <td>...</td>\n",
              "      <td>...</td>\n",
              "      <td>...</td>\n",
              "      <td>...</td>\n",
              "      <td>...</td>\n",
              "      <td>...</td>\n",
              "      <td>...</td>\n",
              "      <td>...</td>\n",
              "      <td>...</td>\n",
              "      <td>...</td>\n",
              "      <td>...</td>\n",
              "      <td>...</td>\n",
              "      <td>...</td>\n",
              "      <td>...</td>\n",
              "    </tr>\n",
              "    <tr>\n",
              "      <th>184563</th>\n",
              "      <td>83441270</td>\n",
              "      <td>2012-01-09</td>\n",
              "      <td>Segunda</td>\n",
              "      <td>11:30:00</td>\n",
              "      <td>CE</td>\n",
              "      <td>116</td>\n",
              "      <td>14.5</td>\n",
              "      <td>FORTALEZA</td>\n",
              "      <td>Falta de atenção</td>\n",
              "      <td>Colisão lateral</td>\n",
              "      <td>...</td>\n",
              "      <td>Urbano</td>\n",
              "      <td>2012</td>\n",
              "      <td>2</td>\n",
              "      <td>0</td>\n",
              "      <td>0</td>\n",
              "      <td>0</td>\n",
              "      <td>2</td>\n",
              "      <td>0</td>\n",
              "      <td>0</td>\n",
              "      <td>2</td>\n",
              "    </tr>\n",
              "    <tr>\n",
              "      <th>184564</th>\n",
              "      <td>83441274</td>\n",
              "      <td>2012-01-04</td>\n",
              "      <td>Quarta</td>\n",
              "      <td>08:00:00</td>\n",
              "      <td>CE</td>\n",
              "      <td>116</td>\n",
              "      <td>30.0</td>\n",
              "      <td>AQUIRAZ</td>\n",
              "      <td>Outras</td>\n",
              "      <td>Saída de Pista</td>\n",
              "      <td>...</td>\n",
              "      <td>Rural</td>\n",
              "      <td>2012</td>\n",
              "      <td>1</td>\n",
              "      <td>0</td>\n",
              "      <td>0</td>\n",
              "      <td>0</td>\n",
              "      <td>0</td>\n",
              "      <td>1</td>\n",
              "      <td>0</td>\n",
              "      <td>1</td>\n",
              "    </tr>\n",
              "    <tr>\n",
              "      <th>184565</th>\n",
              "      <td>83441277</td>\n",
              "      <td>2012-05-10</td>\n",
              "      <td>Quinta</td>\n",
              "      <td>18:00:00</td>\n",
              "      <td>CE</td>\n",
              "      <td>116</td>\n",
              "      <td>9.0</td>\n",
              "      <td>FORTALEZA</td>\n",
              "      <td>Falta de atenção</td>\n",
              "      <td>Atropelamento de pessoa</td>\n",
              "      <td>...</td>\n",
              "      <td>Urbano</td>\n",
              "      <td>2012</td>\n",
              "      <td>2</td>\n",
              "      <td>0</td>\n",
              "      <td>0</td>\n",
              "      <td>1</td>\n",
              "      <td>1</td>\n",
              "      <td>0</td>\n",
              "      <td>1</td>\n",
              "      <td>1</td>\n",
              "    </tr>\n",
              "    <tr>\n",
              "      <th>184566</th>\n",
              "      <td>83441278</td>\n",
              "      <td>2012-09-29</td>\n",
              "      <td>Sábado</td>\n",
              "      <td>06:10:00</td>\n",
              "      <td>CE</td>\n",
              "      <td>222</td>\n",
              "      <td>273.3</td>\n",
              "      <td>COREAU</td>\n",
              "      <td>Outras</td>\n",
              "      <td>Colisão lateral</td>\n",
              "      <td>...</td>\n",
              "      <td>Rural</td>\n",
              "      <td>2012</td>\n",
              "      <td>2</td>\n",
              "      <td>0</td>\n",
              "      <td>0</td>\n",
              "      <td>0</td>\n",
              "      <td>2</td>\n",
              "      <td>0</td>\n",
              "      <td>0</td>\n",
              "      <td>2</td>\n",
              "    </tr>\n",
              "    <tr>\n",
              "      <th>184567</th>\n",
              "      <td>83444176</td>\n",
              "      <td>2012-04-05</td>\n",
              "      <td>Quinta</td>\n",
              "      <td>20:00:00</td>\n",
              "      <td>CE</td>\n",
              "      <td>116</td>\n",
              "      <td>180.0</td>\n",
              "      <td>RUSSAS</td>\n",
              "      <td>Animais na Pista</td>\n",
              "      <td>Atropelamento de animal</td>\n",
              "      <td>...</td>\n",
              "      <td>Rural</td>\n",
              "      <td>2012</td>\n",
              "      <td>2</td>\n",
              "      <td>0</td>\n",
              "      <td>0</td>\n",
              "      <td>0</td>\n",
              "      <td>2</td>\n",
              "      <td>0</td>\n",
              "      <td>0</td>\n",
              "      <td>1</td>\n",
              "    </tr>\n",
              "  </tbody>\n",
              "</table>\n",
              "<p>184568 rows × 26 columns</p>\n",
              "</div>\n",
              "    <div class=\"colab-df-buttons\">\n",
              "\n",
              "  <div class=\"colab-df-container\">\n",
              "    <button class=\"colab-df-convert\" onclick=\"convertToInteractive('df-a7fe3524-4c1e-4431-9a86-2b61af9eaddd')\"\n",
              "            title=\"Convert this dataframe to an interactive table.\"\n",
              "            style=\"display:none;\">\n",
              "\n",
              "  <svg xmlns=\"http://www.w3.org/2000/svg\" height=\"24px\" viewBox=\"0 -960 960 960\">\n",
              "    <path d=\"M120-120v-720h720v720H120Zm60-500h600v-160H180v160Zm220 220h160v-160H400v160Zm0 220h160v-160H400v160ZM180-400h160v-160H180v160Zm440 0h160v-160H620v160ZM180-180h160v-160H180v160Zm440 0h160v-160H620v160Z\"/>\n",
              "  </svg>\n",
              "    </button>\n",
              "\n",
              "  <style>\n",
              "    .colab-df-container {\n",
              "      display:flex;\n",
              "      gap: 12px;\n",
              "    }\n",
              "\n",
              "    .colab-df-convert {\n",
              "      background-color: #E8F0FE;\n",
              "      border: none;\n",
              "      border-radius: 50%;\n",
              "      cursor: pointer;\n",
              "      display: none;\n",
              "      fill: #1967D2;\n",
              "      height: 32px;\n",
              "      padding: 0 0 0 0;\n",
              "      width: 32px;\n",
              "    }\n",
              "\n",
              "    .colab-df-convert:hover {\n",
              "      background-color: #E2EBFA;\n",
              "      box-shadow: 0px 1px 2px rgba(60, 64, 67, 0.3), 0px 1px 3px 1px rgba(60, 64, 67, 0.15);\n",
              "      fill: #174EA6;\n",
              "    }\n",
              "\n",
              "    .colab-df-buttons div {\n",
              "      margin-bottom: 4px;\n",
              "    }\n",
              "\n",
              "    [theme=dark] .colab-df-convert {\n",
              "      background-color: #3B4455;\n",
              "      fill: #D2E3FC;\n",
              "    }\n",
              "\n",
              "    [theme=dark] .colab-df-convert:hover {\n",
              "      background-color: #434B5C;\n",
              "      box-shadow: 0px 1px 3px 1px rgba(0, 0, 0, 0.15);\n",
              "      filter: drop-shadow(0px 1px 2px rgba(0, 0, 0, 0.3));\n",
              "      fill: #FFFFFF;\n",
              "    }\n",
              "  </style>\n",
              "\n",
              "    <script>\n",
              "      const buttonEl =\n",
              "        document.querySelector('#df-a7fe3524-4c1e-4431-9a86-2b61af9eaddd button.colab-df-convert');\n",
              "      buttonEl.style.display =\n",
              "        google.colab.kernel.accessAllowed ? 'block' : 'none';\n",
              "\n",
              "      async function convertToInteractive(key) {\n",
              "        const element = document.querySelector('#df-a7fe3524-4c1e-4431-9a86-2b61af9eaddd');\n",
              "        const dataTable =\n",
              "          await google.colab.kernel.invokeFunction('convertToInteractive',\n",
              "                                                    [key], {});\n",
              "        if (!dataTable) return;\n",
              "\n",
              "        const docLinkHtml = 'Like what you see? Visit the ' +\n",
              "          '<a target=\"_blank\" href=https://colab.research.google.com/notebooks/data_table.ipynb>data table notebook</a>'\n",
              "          + ' to learn more about interactive tables.';\n",
              "        element.innerHTML = '';\n",
              "        dataTable['output_type'] = 'display_data';\n",
              "        await google.colab.output.renderOutput(dataTable, element);\n",
              "        const docLink = document.createElement('div');\n",
              "        docLink.innerHTML = docLinkHtml;\n",
              "        element.appendChild(docLink);\n",
              "      }\n",
              "    </script>\n",
              "  </div>\n",
              "\n",
              "\n",
              "<div id=\"df-7ba41864-928e-4d00-ac38-c099b0ab71c5\">\n",
              "  <button class=\"colab-df-quickchart\" onclick=\"quickchart('df-7ba41864-928e-4d00-ac38-c099b0ab71c5')\"\n",
              "            title=\"Suggest charts.\"\n",
              "            style=\"display:none;\">\n",
              "\n",
              "<svg xmlns=\"http://www.w3.org/2000/svg\" height=\"24px\"viewBox=\"0 0 24 24\"\n",
              "     width=\"24px\">\n",
              "    <g>\n",
              "        <path d=\"M19 3H5c-1.1 0-2 .9-2 2v14c0 1.1.9 2 2 2h14c1.1 0 2-.9 2-2V5c0-1.1-.9-2-2-2zM9 17H7v-7h2v7zm4 0h-2V7h2v10zm4 0h-2v-4h2v4z\"/>\n",
              "    </g>\n",
              "</svg>\n",
              "  </button>\n",
              "\n",
              "<style>\n",
              "  .colab-df-quickchart {\n",
              "      --bg-color: #E8F0FE;\n",
              "      --fill-color: #1967D2;\n",
              "      --hover-bg-color: #E2EBFA;\n",
              "      --hover-fill-color: #174EA6;\n",
              "      --disabled-fill-color: #AAA;\n",
              "      --disabled-bg-color: #DDD;\n",
              "  }\n",
              "\n",
              "  [theme=dark] .colab-df-quickchart {\n",
              "      --bg-color: #3B4455;\n",
              "      --fill-color: #D2E3FC;\n",
              "      --hover-bg-color: #434B5C;\n",
              "      --hover-fill-color: #FFFFFF;\n",
              "      --disabled-bg-color: #3B4455;\n",
              "      --disabled-fill-color: #666;\n",
              "  }\n",
              "\n",
              "  .colab-df-quickchart {\n",
              "    background-color: var(--bg-color);\n",
              "    border: none;\n",
              "    border-radius: 50%;\n",
              "    cursor: pointer;\n",
              "    display: none;\n",
              "    fill: var(--fill-color);\n",
              "    height: 32px;\n",
              "    padding: 0;\n",
              "    width: 32px;\n",
              "  }\n",
              "\n",
              "  .colab-df-quickchart:hover {\n",
              "    background-color: var(--hover-bg-color);\n",
              "    box-shadow: 0 1px 2px rgba(60, 64, 67, 0.3), 0 1px 3px 1px rgba(60, 64, 67, 0.15);\n",
              "    fill: var(--button-hover-fill-color);\n",
              "  }\n",
              "\n",
              "  .colab-df-quickchart-complete:disabled,\n",
              "  .colab-df-quickchart-complete:disabled:hover {\n",
              "    background-color: var(--disabled-bg-color);\n",
              "    fill: var(--disabled-fill-color);\n",
              "    box-shadow: none;\n",
              "  }\n",
              "\n",
              "  .colab-df-spinner {\n",
              "    border: 2px solid var(--fill-color);\n",
              "    border-color: transparent;\n",
              "    border-bottom-color: var(--fill-color);\n",
              "    animation:\n",
              "      spin 1s steps(1) infinite;\n",
              "  }\n",
              "\n",
              "  @keyframes spin {\n",
              "    0% {\n",
              "      border-color: transparent;\n",
              "      border-bottom-color: var(--fill-color);\n",
              "      border-left-color: var(--fill-color);\n",
              "    }\n",
              "    20% {\n",
              "      border-color: transparent;\n",
              "      border-left-color: var(--fill-color);\n",
              "      border-top-color: var(--fill-color);\n",
              "    }\n",
              "    30% {\n",
              "      border-color: transparent;\n",
              "      border-left-color: var(--fill-color);\n",
              "      border-top-color: var(--fill-color);\n",
              "      border-right-color: var(--fill-color);\n",
              "    }\n",
              "    40% {\n",
              "      border-color: transparent;\n",
              "      border-right-color: var(--fill-color);\n",
              "      border-top-color: var(--fill-color);\n",
              "    }\n",
              "    60% {\n",
              "      border-color: transparent;\n",
              "      border-right-color: var(--fill-color);\n",
              "    }\n",
              "    80% {\n",
              "      border-color: transparent;\n",
              "      border-right-color: var(--fill-color);\n",
              "      border-bottom-color: var(--fill-color);\n",
              "    }\n",
              "    90% {\n",
              "      border-color: transparent;\n",
              "      border-bottom-color: var(--fill-color);\n",
              "    }\n",
              "  }\n",
              "</style>\n",
              "\n",
              "  <script>\n",
              "    async function quickchart(key) {\n",
              "      const quickchartButtonEl =\n",
              "        document.querySelector('#' + key + ' button');\n",
              "      quickchartButtonEl.disabled = true;  // To prevent multiple clicks.\n",
              "      quickchartButtonEl.classList.add('colab-df-spinner');\n",
              "      try {\n",
              "        const charts = await google.colab.kernel.invokeFunction(\n",
              "            'suggestCharts', [key], {});\n",
              "      } catch (error) {\n",
              "        console.error('Error during call to suggestCharts:', error);\n",
              "      }\n",
              "      quickchartButtonEl.classList.remove('colab-df-spinner');\n",
              "      quickchartButtonEl.classList.add('colab-df-quickchart-complete');\n",
              "    }\n",
              "    (() => {\n",
              "      let quickchartButtonEl =\n",
              "        document.querySelector('#df-7ba41864-928e-4d00-ac38-c099b0ab71c5 button');\n",
              "      quickchartButtonEl.style.display =\n",
              "        google.colab.kernel.accessAllowed ? 'block' : 'none';\n",
              "    })();\n",
              "  </script>\n",
              "</div>\n",
              "    </div>\n",
              "  </div>\n"
            ]
          },
          "metadata": {},
          "execution_count": 2
        }
      ]
    },
    {
      "cell_type": "code",
      "source": [
        "dfAcidentes2012.info()"
      ],
      "metadata": {
        "id": "dg-TuPBeyWaQ"
      },
      "execution_count": null,
      "outputs": []
    },
    {
      "cell_type": "code",
      "source": [
        "(dfAcidentes2012['id'][0] , dfAcidentes2012['data_inversa'][0])"
      ],
      "metadata": {
        "colab": {
          "base_uri": "https://localhost:8080/"
        },
        "outputId": "c263dee5-13c4-4feb-fa2c-2b290e8c0eda",
        "id": "EGWoVOALyWaQ"
      },
      "execution_count": null,
      "outputs": [
        {
          "output_type": "execute_result",
          "data": {
            "text/plain": [
              "(1035523, '2012-01-01')"
            ]
          },
          "metadata": {},
          "execution_count": 7
        }
      ]
    },
    {
      "cell_type": "markdown",
      "source": [
        "## 1. Quantos acidentes foram registrados ao longo de todo o ano de 2022?"
      ],
      "metadata": {
        "id": "YUGGDoBYyWaQ"
      }
    },
    {
      "cell_type": "code",
      "source": [
        "totalAcidentes2012 = dfAcidentes2012['id'].count()\n",
        "totalAcidentes2012"
      ],
      "metadata": {
        "colab": {
          "base_uri": "https://localhost:8080/"
        },
        "outputId": "cfc5f390-dd51-49d0-9a66-36297e704e7a",
        "id": "jRX2zW3tyWaQ"
      },
      "execution_count": null,
      "outputs": [
        {
          "output_type": "execute_result",
          "data": {
            "text/plain": [
              "184568"
            ]
          },
          "metadata": {},
          "execution_count": 10
        }
      ]
    },
    {
      "cell_type": "markdown",
      "source": [
        "## 2. Quantos obitos ocorreram ?"
      ],
      "metadata": {
        "id": "LGp_ZHgryWaR"
      }
    },
    {
      "cell_type": "code",
      "source": [
        "dfAcidentes2022.columns"
      ],
      "metadata": {
        "colab": {
          "base_uri": "https://localhost:8080/"
        },
        "outputId": "94f7c460-175f-4b7e-a6f7-960da80db22e",
        "id": "aq5IT_rXyWaR"
      },
      "execution_count": null,
      "outputs": [
        {
          "output_type": "execute_result",
          "data": {
            "text/plain": [
              "Index(['id', 'data_inversa', 'dia_semana', 'horario', 'uf', 'br', 'km',\n",
              "       'municipio', 'causa_acidente', 'tipo_acidente',\n",
              "       'classificacao_acidente', 'fase_dia', 'sentido_via',\n",
              "       'condicao_metereologica', 'tipo_pista', 'tracado_via', 'uso_solo',\n",
              "       'pessoas', 'mortos', 'feridos_leves', 'feridos_graves', 'ilesos',\n",
              "       'ignorados', 'feridos', 'veiculos', 'latitude', 'longitude', 'regional',\n",
              "       'delegacia', 'uop'],\n",
              "      dtype='object')"
            ]
          },
          "metadata": {},
          "execution_count": 87
        }
      ]
    },
    {
      "cell_type": "code",
      "source": [
        "totalMortes2012= dfAcidentes2012['mortos'].sum()\n",
        "totalMortes2012"
      ],
      "metadata": {
        "colab": {
          "base_uri": "https://localhost:8080/"
        },
        "outputId": "9933780c-1553-4455-e9b8-fcce35a6acbd",
        "id": "h8q0WICGyWaR"
      },
      "execution_count": null,
      "outputs": [
        {
          "output_type": "execute_result",
          "data": {
            "text/plain": [
              "8663"
            ]
          },
          "metadata": {},
          "execution_count": 12
        }
      ]
    },
    {
      "cell_type": "markdown",
      "source": [
        "## 3. Qual estado registrou mais acidentes? Qual registrou menos?"
      ],
      "metadata": {
        "id": "tFz8qHIzyWaR"
      }
    },
    {
      "cell_type": "code",
      "source": [
        "contagem_acidentes_por_estado2012 = dfAcidentes2012['uf'].value_counts()\n",
        "\n",
        "contagem_acidentes_por_estado2012"
      ],
      "metadata": {
        "colab": {
          "base_uri": "https://localhost:8080/"
        },
        "outputId": "6afeca54-544b-43b1-cec3-39c92de6988f",
        "id": "0v-rqKz6yWaR"
      },
      "execution_count": null,
      "outputs": [
        {
          "output_type": "execute_result",
          "data": {
            "text/plain": [
              "MG        26783\n",
              "PR        20749\n",
              "SC        18283\n",
              "RJ        17433\n",
              "RS        14110\n",
              "SP        14012\n",
              "BA        10281\n",
              "ES         7719\n",
              "GO         7691\n",
              "PE         7217\n",
              "MT         4284\n",
              "PB         4105\n",
              "RN         3868\n",
              "PA         3842\n",
              "CE         3746\n",
              "RO         3578\n",
              "MS         3338\n",
              "MA         3054\n",
              "PI         2768\n",
              "AL         2195\n",
              "SE         1672\n",
              "DF         1448\n",
              "TO         1179\n",
              "AC          503\n",
              "RR          247\n",
              "AP          241\n",
              "AM          218\n",
              "(null)        4\n",
              "Name: uf, dtype: int64"
            ]
          },
          "metadata": {},
          "execution_count": 14
        }
      ]
    },
    {
      "cell_type": "markdown",
      "source": [
        "## 4. Qual foi o número máximo de veículos envolvidos em um acidente?"
      ],
      "metadata": {
        "id": "qKK316l-yWaR"
      }
    },
    {
      "cell_type": "code",
      "source": [
        "maxVeiculosEnvAcidente2012 = dfAcidentes2012['veiculos'].max()\n",
        "maxVeiculosEnvAcidente2012"
      ],
      "metadata": {
        "colab": {
          "base_uri": "https://localhost:8080/"
        },
        "outputId": "64a3fcd7-b3a9-455a-e63f-a56826bf6e53",
        "id": "GwU-DcyDyWaR"
      },
      "execution_count": null,
      "outputs": [
        {
          "output_type": "execute_result",
          "data": {
            "text/plain": [
              "20"
            ]
          },
          "metadata": {},
          "execution_count": 16
        }
      ]
    },
    {
      "cell_type": "markdown",
      "source": [
        "## 5. Qual o total de acidentes que ocorreram na BR 116?"
      ],
      "metadata": {
        "id": "6M7QePg7yWaR"
      }
    },
    {
      "cell_type": "code",
      "source": [
        "filtro = dfAcidentes2012['br']== 116.0"
      ],
      "metadata": {
        "id": "Xkushn79yWaS"
      },
      "execution_count": null,
      "outputs": []
    },
    {
      "cell_type": "code",
      "source": [
        "totalAcidentesBR116_2012= dfAcidentes2012[filtro]['id'].count()\n",
        "totalAcidentesBR116_2012"
      ],
      "metadata": {
        "colab": {
          "base_uri": "https://localhost:8080/"
        },
        "outputId": "dabf1974-be36-4b33-850c-14642563403c",
        "id": "JNc5ABhMyWaS"
      },
      "execution_count": null,
      "outputs": [
        {
          "output_type": "execute_result",
          "data": {
            "text/plain": [
              "15006"
            ]
          },
          "metadata": {},
          "execution_count": 20
        }
      ]
    },
    {
      "cell_type": "markdown",
      "source": [
        "## 6.Qual o total de feridos por Ingestão de álcool pelo condutor\tnos finais de semana"
      ],
      "metadata": {
        "id": "dJ8BFKUnyWaS"
      }
    },
    {
      "cell_type": "code",
      "source": [
        "dfAcidentes2012.columns"
      ],
      "metadata": {
        "colab": {
          "base_uri": "https://localhost:8080/"
        },
        "id": "ubzORsKf0AOE",
        "outputId": "dd4aeb95-c412-41cb-a3b0-918e49a39c81"
      },
      "execution_count": null,
      "outputs": [
        {
          "output_type": "execute_result",
          "data": {
            "text/plain": [
              "Index(['id', 'data_inversa', 'dia_semana', 'horario', 'uf', 'br', 'km',\n",
              "       'municipio', 'causa_acidente', 'tipo_acidente',\n",
              "       'classificacao_acidente', 'fase_dia', 'sentido_via',\n",
              "       'condicao_metereologica', 'tipo_pista', 'tracado_via', 'uso_solo',\n",
              "       'ano', 'pessoas', 'mortos', 'feridos_leves', 'feridos_graves', 'ilesos',\n",
              "       'ignorados', 'feridos', 'veiculos'],\n",
              "      dtype='object')"
            ]
          },
          "metadata": {},
          "execution_count": 32
        }
      ]
    },
    {
      "cell_type": "code",
      "source": [
        "dfAcidentes2012['dia_semana'].unique()\n"
      ],
      "metadata": {
        "colab": {
          "base_uri": "https://localhost:8080/"
        },
        "outputId": "5222827b-1e70-4c2b-e24c-af833ac6c590",
        "id": "acn2G_hOyWaS"
      },
      "execution_count": null,
      "outputs": [
        {
          "output_type": "execute_result",
          "data": {
            "text/plain": [
              "array(['Domingo', 'Segunda', 'Terça', 'Quarta', 'Quinta', 'Sexta',\n",
              "       'Sábado'], dtype=object)"
            ]
          },
          "metadata": {},
          "execution_count": 23
        }
      ]
    },
    {
      "cell_type": "code",
      "source": [
        "dfAcidentes2012['causa_acidente'].unique()"
      ],
      "metadata": {
        "colab": {
          "base_uri": "https://localhost:8080/"
        },
        "outputId": "b699f47c-bdac-466a-84c6-179034fb0761",
        "id": "RSlXKW4SyWaS"
      },
      "execution_count": null,
      "outputs": [
        {
          "output_type": "execute_result",
          "data": {
            "text/plain": [
              "array(['Velocidade incompatível', 'Ingestão de álcool', 'Outras',\n",
              "       'Defeito na via', 'Falta de atenção',\n",
              "       'Desobediência à sinalização',\n",
              "       'Não guardar distância de segurança', 'Animais na Pista',\n",
              "       'Ultrapassagem indevida', 'Defeito mecânico em veículo',\n",
              "       'Dormindo', '(null)'], dtype=object)"
            ]
          },
          "metadata": {},
          "execution_count": 29
        }
      ]
    },
    {
      "cell_type": "code",
      "source": [
        "filtroCausaAcidente = (dfAcidentes2012['causa_acidente'] == 'Ingestão de álcool')\n",
        "sexta =  (dfAcidentes2012['dia_semana'] == 'Sexta')\n",
        "sabado = (dfAcidentes2012['dia_semana'] == 'Sábado')\n",
        "domingo = (dfAcidentes2012['dia_semana'] == 'Domingo')\n",
        "filtroFinaldeSemana =  sexta | sabado | domingo\n",
        "# and & or |\n",
        "\n",
        "filtro =  filtroCausaAcidente & filtroFinaldeSemana\n",
        "\n",
        "feridosAlcool2012 =dfAcidentes2012[filtro]['id'].count()\n",
        "feridosAlcool2012"
      ],
      "metadata": {
        "colab": {
          "base_uri": "https://localhost:8080/"
        },
        "outputId": "583d5b8f-9b55-4af5-f698-0165bbf90c8d",
        "id": "kN-ly6ZLyWaS"
      },
      "execution_count": null,
      "outputs": [
        {
          "output_type": "execute_result",
          "data": {
            "text/plain": [
              "5558"
            ]
          },
          "metadata": {},
          "execution_count": 34
        }
      ]
    },
    {
      "cell_type": "markdown",
      "source": [
        "# ANÁLISE DOS DADOS DOS DOIS ANOS"
      ],
      "metadata": {
        "id": "dpiWFSdm1tCF"
      }
    },
    {
      "cell_type": "markdown",
      "source": [
        "Quantidade de acidentes"
      ],
      "metadata": {
        "id": "jKze7qlU1xO9"
      }
    },
    {
      "cell_type": "code",
      "source": [
        "(totalAcidentes2022, totalAcidentes2012)"
      ],
      "metadata": {
        "colab": {
          "base_uri": "https://localhost:8080/"
        },
        "id": "LatyHCsI1zk2",
        "outputId": "028dca70-c837-4f51-8975-91c236629029"
      },
      "execution_count": null,
      "outputs": [
        {
          "output_type": "execute_result",
          "data": {
            "text/plain": [
              "(64547, 184568)"
            ]
          },
          "metadata": {},
          "execution_count": 47
        }
      ]
    },
    {
      "cell_type": "markdown",
      "source": [
        "Diferença entre óbitos\n",
        "\n"
      ],
      "metadata": {
        "id": "YUlhdpil1YEl"
      }
    },
    {
      "cell_type": "code",
      "source": [
        "(totalMortos2022, totalMortes2012)"
      ],
      "metadata": {
        "colab": {
          "base_uri": "https://localhost:8080/"
        },
        "id": "WzTNZKin1de6",
        "outputId": "475d1dd6-5741-4046-f34b-18fdc7b24264"
      },
      "execution_count": null,
      "outputs": [
        {
          "output_type": "execute_result",
          "data": {
            "text/plain": [
              "(5439, 8663)"
            ]
          },
          "metadata": {},
          "execution_count": 46
        }
      ]
    },
    {
      "cell_type": "markdown",
      "source": [
        "Estados e seus indices"
      ],
      "metadata": {
        "id": "znAyFBXm1nWV"
      }
    },
    {
      "cell_type": "code",
      "source": [
        "contagem_acidentes_por_estado2012\n",
        "# 1º MG - 26783\n",
        "# último AM - 218\n",
        "\n",
        "contagem_acidentes_por_estado2022\n",
        "# 1º MG - 8290\n",
        "# último AM - 114\n",
        "\n",
        "\n"
      ],
      "metadata": {
        "id": "pL37Wmd82HPB"
      },
      "execution_count": null,
      "outputs": []
    },
    {
      "cell_type": "markdown",
      "source": [
        "  Quantidade maxima de veículos em uma acidente"
      ],
      "metadata": {
        "id": "GReEbOuF69iJ"
      }
    },
    {
      "cell_type": "code",
      "source": [
        "(maxVeiculosEnvAcidente2012, maxVeiculosEnvAcidente2022)"
      ],
      "metadata": {
        "colab": {
          "base_uri": "https://localhost:8080/"
        },
        "id": "JOLtYEL362vr",
        "outputId": "e83f8d1b-de56-41d1-bfd9-e1c6e10a530d"
      },
      "execution_count": null,
      "outputs": [
        {
          "output_type": "execute_result",
          "data": {
            "text/plain": [
              "(20, 21)"
            ]
          },
          "metadata": {},
          "execution_count": 90
        }
      ]
    },
    {
      "cell_type": "markdown",
      "source": [
        "Acidentes na BR 116"
      ],
      "metadata": {
        "id": "iJrJPS1f7BGK"
      }
    },
    {
      "cell_type": "code",
      "source": [
        "(totalAcidentesBR116_2022, totalAcidentesBR116_2012)"
      ],
      "metadata": {
        "colab": {
          "base_uri": "https://localhost:8080/"
        },
        "id": "8Qo6vVO77FOz",
        "outputId": "c01f643d-0c85-4c09-aa0b-62cf373626e0"
      },
      "execution_count": null,
      "outputs": [
        {
          "output_type": "execute_result",
          "data": {
            "text/plain": [
              "(3132, 15006)"
            ]
          },
          "metadata": {},
          "execution_count": 98
        }
      ]
    },
    {
      "cell_type": "markdown",
      "source": [
        "Feridos alcool"
      ],
      "metadata": {
        "id": "eYzlmidc71GC"
      }
    },
    {
      "cell_type": "code",
      "source": [
        "(feridosAlcool2022, feridosAlcool2012)"
      ],
      "metadata": {
        "colab": {
          "base_uri": "https://localhost:8080/"
        },
        "id": "ZyN3bvds7uT7",
        "outputId": "deef8e63-1023-489b-acea-d0b5855e3e64"
      },
      "execution_count": null,
      "outputs": [
        {
          "output_type": "execute_result",
          "data": {
            "text/plain": [
              "(3132, 5558)"
            ]
          },
          "metadata": {},
          "execution_count": 97
        }
      ]
    }
  ]
}