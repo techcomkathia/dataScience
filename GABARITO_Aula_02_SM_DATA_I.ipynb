{
  "nbformat": 4,
  "nbformat_minor": 0,
  "metadata": {
    "colab": {
      "provenance": []
    },
    "kernelspec": {
      "name": "python3",
      "display_name": "Python 3"
    },
    "language_info": {
      "name": "python"
    }
  },
  "cells": [
    {
      "cell_type": "markdown",
      "source": [
        "# AULA 02\n"
      ],
      "metadata": {
        "id": "WiwDOK862Gnr"
      }
    },
    {
      "cell_type": "markdown",
      "source": [
        "\n",
        "\n",
        "\n",
        "\n",
        "Introdução às Funções Lambda e sua Aplicação na Análise de Dados\n",
        "\n",
        "Objetivos:\n",
        "\n",
        "  - Entender o conceito de funções lambda em Python.\n",
        "  - Aprender como passar parâmetros para funções lambda.\n",
        "  - Identificar situações onde as funções lambda são úteis na análise de dados.\n",
        "  - Explorar o potencial das expressões lambda na manipulação de dados."
      ],
      "metadata": {
        "id": "f2o5H-cPk1o0"
      }
    },
    {
      "cell_type": "markdown",
      "source": [
        "## Funções padrão vs Funções lambda\n",
        "\n"
      ],
      "metadata": {
        "id": "ApCguPdNPhB_"
      }
    },
    {
      "cell_type": "markdown",
      "source": [
        "Funções PADRÃO\n",
        "* Utilizada muitas vezes\n",
        "* Muitas linhas de código\n",
        "* Somente nomeada\n",
        "* Nenhum ou muitos parâmetros\n",
        "* Nenhum ou muitos retornos"
      ],
      "metadata": {
        "id": "CIMbFgwsPy4C"
      }
    },
    {
      "cell_type": "markdown",
      "source": [
        "### Funções Lambda\n",
        "\n",
        "\n",
        "* Utilizada uma única vez\n",
        "* Definição em uma linha\n",
        "* Nomeada ou Anônima\n",
        "* Nenhum ou muitos parâmetros\n",
        "* Um ou muitos retornos\n"
      ],
      "metadata": {
        "id": "nwCUIqE4QAWC"
      }
    },
    {
      "cell_type": "markdown",
      "source": [
        "## Funções lambda\n",
        "\n",
        "As funções lambda são uma ferramenta poderosa em Python, permitindo a criação de funções anônimas, ou seja, funções que não necessitam de um nome.\n",
        "\n",
        "Elas se tornam úteis quando há a necessidade de uma função simples que será utilizada apenas uma vez e não precisa ser reutilizada em outras partes do código."
      ],
      "metadata": {
        "id": "_CvjeLAalEyk"
      }
    },
    {
      "cell_type": "markdown",
      "source": [
        "## As funções _lambda_ são conhecidas por diversos nomes, como:\n",
        "\n",
        "\n",
        "* _Lambda Expressions_\n",
        "* _Anonymous Functions_\n",
        "* _Lambda Abstractions_\n",
        "* _Lambda Form_\n",
        "* _Functions Literals_"
      ],
      "metadata": {
        "id": "XNnitwGrRfm1"
      }
    },
    {
      "cell_type": "markdown",
      "source": [
        "Lambda é uma expressão única, e não uma instrução, e por isso pode ser empregada em locais no código onde uma instrução def não poderia ser utilizada, como como dentro de uma lista ou na chamada de uma função."
      ],
      "metadata": {
        "id": "X3AXjwC1OIYF"
      }
    },
    {
      "cell_type": "code",
      "source": [
        "preco=300\n",
        "def valor_imposto(preco):\n",
        "  return preco*0.3\n",
        "print(valor_imposto(preco))\n"
      ],
      "metadata": {
        "colab": {
          "base_uri": "https://localhost:8080/"
        },
        "id": "B3x7wytgerFi",
        "outputId": "1ba15ee2-5a15-4511-d6bf-cbfd9b8d45dd"
      },
      "execution_count": null,
      "outputs": [
        {
          "output_type": "stream",
          "name": "stdout",
          "text": [
            "90.0\n"
          ]
        }
      ]
    },
    {
      "cell_type": "code",
      "source": [
        "preco1=300\n",
        "imposto = lambda preco: preco * 0.3\n",
        "print(imposto(preco1))"
      ],
      "metadata": {
        "colab": {
          "base_uri": "https://localhost:8080/"
        },
        "id": "GMxLvUtPfxFs",
        "outputId": "5f2bf37f-e3f1-4a1a-d7c7-aefe152f0962"
      },
      "execution_count": null,
      "outputs": [
        {
          "output_type": "stream",
          "name": "stdout",
          "text": [
            "90.0\n"
          ]
        }
      ]
    },
    {
      "cell_type": "markdown",
      "source": [
        "## Passagem de parâmetros"
      ],
      "metadata": {
        "id": "26-UBox9Rui-"
      }
    },
    {
      "cell_type": "markdown",
      "source": [
        "Uma função lambda é criada usando a palavra-chave lambda, seguida de um ou mais argumentos, e uma expressão:\n",
        "\n",
        "argumentos são os dados de entrada que esta função irá receber\n",
        "expressão é o código que será executado quando a função lambda for chamada.\n",
        "Sua sintaxe básica é a seguinte:\n",
        "\n",
        "`lambda 'argumentos' : 'expressão'`\n"
      ],
      "metadata": {
        "id": "DmvJkGnGpBb0"
      }
    },
    {
      "cell_type": "code",
      "source": [
        "mult = lambda num1, num2: num1 * num2\n",
        "mult(2, 3)"
      ],
      "metadata": {
        "colab": {
          "base_uri": "https://localhost:8080/"
        },
        "id": "w8sbL4j-pS4k",
        "outputId": "fae84416-ccfa-41b3-f61a-c0527c7a4167"
      },
      "execution_count": null,
      "outputs": [
        {
          "output_type": "execute_result",
          "data": {
            "text/plain": [
              "6"
            ]
          },
          "metadata": {},
          "execution_count": 2
        }
      ]
    },
    {
      "cell_type": "markdown",
      "source": [
        "Os argumentos são 2: num1 e num2\n",
        "\n",
        "A expressão a ser executada: num1 * num2\n",
        "\n",
        "A saída do código será utilizando a variável mult e passando os dois argumentos necessários"
      ],
      "metadata": {
        "id": "udiSqAEWpvcP"
      }
    },
    {
      "cell_type": "markdown",
      "source": [
        "Podemos armazenar a função lambda em uma variável como fizemos logo acima, ou passar ela diretamente para uma outra função.\n",
        "Esse é o grande ganho da função lambda, uma vez que podemos defini-la ao passo que fazemos a chamada."
      ],
      "metadata": {
        "id": "uQ4qfPtip-Xv"
      }
    },
    {
      "cell_type": "code",
      "source": [
        "#Note o conjunto de parentêses\n",
        "#para criação da função e outro para os argumentos.\n",
        "\n",
        "print((lambda num1, num2: num1 * num2)(2,3))\n"
      ],
      "metadata": {
        "colab": {
          "base_uri": "https://localhost:8080/"
        },
        "id": "lRAr8bE-puz4",
        "outputId": "fc3d6e04-c8be-450b-c399-5aeb0ca8a159"
      },
      "execution_count": null,
      "outputs": [
        {
          "output_type": "stream",
          "name": "stdout",
          "text": [
            "6\n"
          ]
        }
      ]
    },
    {
      "cell_type": "markdown",
      "source": [
        "Nas funções _lambda_, diferentemente das convencionais, não é possível utilizar comnandos como:\n",
        "\n",
        "\n",
        "* _return_\n",
        "* _pass_\n",
        "* _assert_\n",
        "* _raise_\n",
        "\n",
        "\n",
        "Ao tentar utilizá-los, você receberá um __SYNTAX ERROR__.\n"
      ],
      "metadata": {
        "id": "ieI4HVrCRqb9"
      }
    },
    {
      "cell_type": "markdown",
      "source": [
        "## Mas, utilizar função lambda é uma boa prática?\n"
      ],
      "metadata": {
        "id": "y2Op-nUeR4VI"
      }
    },
    {
      "cell_type": "markdown",
      "source": [
        "A utlização dessa estrutura divide opiniões na comunidade __Python__ e não vale a pena entrar nessa discussão.\n",
        "\n",
        "\n",
        "As funções _lambda_ serão muito úteis neste módulo, onde as usaremos em conjunto com os métodos `apply`, `map`, `filter` e `reduce`, por exemplo. Veremos os 3 últimos métodos ainda nesta aula.\n",
        "\n",
        "\n",
        "__VALE LEMBRAR__ : mantenha seu código, sempre, de fácil leitura. Se for melhor utilizar uma função normal, FAÇA! Mas, se fizer mais sentido o uso da função _lambda_, não hesite em utilizá-la.\n",
        "\n",
        "\n",
        "__*Pratique para se habituar a sintaxe*__\n"
      ],
      "metadata": {
        "id": "1ARKft15SD2G"
      }
    },
    {
      "cell_type": "markdown",
      "source": [
        "# Usando funções lambda com map, filter e reduce"
      ],
      "metadata": {
        "id": "N17AlHUVrFMg"
      }
    },
    {
      "cell_type": "markdown",
      "source": [
        "Uma das principais utilidades das funções lambda é quando elas são usadas em conjunto com as funções map, filter e reduce"
      ],
      "metadata": {
        "id": "WvWaCIvSrOlx"
      }
    },
    {
      "cell_type": "markdown",
      "source": [
        "![1632087530299.png](data:image/png;base64,iVBORw0KGgoAAAANSUhEUgAAAugAAAGQCAIAAABzoQL2AAAgAElEQVR42uy9d3hc2XEv2Df27dzIORAAkUgwxyEnz4gzmpFGGktWsmRZwV6vvWt7n9/+u9/6j91vv7ff997b9+wn2ZIlS5rReKSJmhw4wxxBAgRBACQSkVOj0bn7xq1zTgMECSKRBANQv6Egotl9+95zqur8qk6dKq62fpcNgUAgEAgE4kEAj0OAQCAQCAQCiQsCgUAgEAgEEhcEAoFAIBBIXBAIBAKBQCCQuCAQCAQCgUAgcUEgEAgEAoHEBYFAIBAIBAKJCwKBQCAQCAQSFwQCgUAgEEhcEAgEAoFAIJC4IBAIBAKBQCBxQSAQCAQCgcQFgUAgEAgEAokLAoFAIBAIBBIXBAKBQCAQSFwQCAQCgUAgkLggEAgEAoFAIHFBIBAIBAKBxAWBQCAQCAQCiQsCgUAgEAgEEhcEAoFAIBBIXBAIBAKBQCCQuCAQCAQCgUAgcUEgEAgEAoHEBYFAIBAIBAKJCwKBQCAQCAQSFwQCgUAgEEhcEAgEAoFAIJC4IBAIBAKBQOKCQCAQCAQCgcQFgUAgEAgEAokLAoFAIBAIJC4IBAKBQCAQSFwQCAQCgUAgkLggEAgEAoFA4oJAIBAIBAKBxAWBQCAQCAQCiQsCgUAgEAgkLggEAoFAIBBIXBAIBAKBQCCQuCAQCAQCgUDigkAgEAgEAoHEBYFAIBAIBAKJCwKBQCAQCCQuCAQCgUAgEEhcEAgEAoFAIJC4IBAIBAKBQOKCQCAQCAQCgcQFgUAgEAgEAokLAoFAIBAIJC4IBAKBQCAQSFwQCAQCgUAgkLggEAgEAoFA4oJAIBAIBAKBxAWBQCAQCAQCiQsCgUAgEAgkLggEAoFAIBBIXBAIBAKBQCBxQSAQCAQCgUDigkAgEAgEAoHEBYFAIBAIBBIXBAKBQCAQCCQuCAQCgUAgEEhcEAgEAoFAIHFBIBAIBAKBQOKCQCAQCAQCgcQFgUAgEAgEEhcEAoFAIBAIJC4IBAKBQCAQSFwQCAQCgUAgcUEgEAgEAoFA4oJAIBAIBAKxZIg4BAgEAoFALB0cl/7/Wa9Z9D8EEpcVEbjZomazLGu5H1nWZ+/UFRa4yLxY1tVX0ZwuFwuM08pd+XYEckVHY4mPsEIjs8zLrhURp6PCrdy43M5s3ikJuR1jeHumeKmfhs+m33qNoNzwSYtOk0Xfyy1oWJY3oWvVtCNxmZa8OXLLLS4GVBRv+OByJWeuoN6C7C1J2i2mN1SlrLUzsbf0qNb0KHGLula3eGMLypZFxfHazd++OeLSpvnOTPwC93PLw7KUZ+SWJOQcjK5trRCXpQ23xVm2W1P7W9UgMqHzyttS7tqy0oSAPeMSl+TZQn4rhpRbnhGeISO6YcRjCYCm65ZpXffgHCcIgl2SHE6Hoth5nl/4WW5dg+B2kLisFbXnbLpmhELhWDxGBTGtJHZFyfD77HbJNK2bf9CyxaKJUDisa9q0apHXXS6Hz+cRBHFh6QTxTaXUcDgcTyapxKWtLvzF4XD6/V5ZlgzDXPT+4fYmg8FYPE7tBLfwu3mOkyRJcSgupwN0aRUzdHjWVCo5GQxrWoq7FQ/GcjgcmRk+mMcbBAAmLplMTU2F4fq35o/CmMPkZmZmws+548/mNBKJhsNR0zSpoFkwayCNTqcTXrkFp9k0jVAkFgnHLMu8zbALi3rLsuz1eZwOxw03EwpF4M7ptyzTq6YD6/d5ABbFDUtROEyuDBqx4IXJVIu8AAMLi4TDoSzs3T7otktVVZDDZCrFLbyYwdjC2ikKsG7CsMiStBTFpwYqFQyGUuqyNYhdWrErfr8HRGXmu9g1wdiCBlnWwis0sVYSqJ8suchUOhaNKIBBg4sHAkGwq/BFhKzxvNfr9nrci1Ftch+xWDwUjuiaDiIDGi8Kos/ndbudC4aOYGD5eCI5NRWCUS0szMvNy3G5XZIocNOuMFzLMIwUzFQwNDwyNj4e4MldwbBIc29D07TQVDgBg0MXguUqJgy1z+sFsV/LcReutn7XWnhOWAlgVcjK9Pv8HtBPWBdAYUDawFCOjE2YhiGK4nwfVBQlNzfL5XQapkEsBM+b5IPhQGBS1w3uZmGc2asXaFpGhs+f4QPpt0yTKjbxbiYnp8bHAoYJgrgI+wE7DhfJyc70+j08U7gF3myZoBiJOKhZeGIiAJ91u13gAaxG406GExQ4KyvT5aJqvJznIwJgs6KR2NhYAEaMMbyZK8O4AYHIysoAhsoM03JDHzwvJOLxkdEJsLNzhQTkCt4AS3hGph+sIYgWiEcikRwPBOCWQFaXNVnszaIogBXO8PvhWYDE3NbQ8mQVBGM9GZgKh2MgsfCHfRFYZGBXoEfiYqz9JmPC8ZquBQJTwWAQVqvrHwGGmMv0+zMyffD4JtW1eYXcNNSUBhRnfCIAP0G8XS7Xoj7uAyni4FzZ7SCHHrfLtMz5xsSia7ZhaLAcTk1OjYFpUnVYzmFkrueHNy6iuq7De3Jyslwu57LlnPpI0VhsYmIykUjB+DMZNwzwB2Qwtm5GJua5JmifCRMJ631Ki8bjgYkAUArQBSC1kjSPaFkWGEyHw54H1MHlpObXBj9BnEIh5gBw85EP5pl4PK7MzAzFbrdsJnV7VOBAQMTJvd/ss3SIjHAoLMlSfl7Ohg01+/ft2LixLiMzB6SUYz4xnSZ4kGQidvVq39mmC81Nl3p6+iORmCjycxVfkmFwMoAvkdDJMg0LjHiCaGUQdHMmTIURl1XLWmCyQTm/992vP/zIfkpcmIibXd09/99/+1lrawcY/Rs2DOAN8CkQlKcf2fXtb/xRbl6+YeiMuICBOHr0xM9+9tLo2DjQmvnMNKhlPBavq6/+wZ99e8uWTQIPywkjLjw41OfPn/+nf/rFlc4eSfIt7HIlEgmvz/un3/v6Q/v2wpq0CHExTVVNTUyMtba2nzx1rru7byIwFY3GwDwtdzm8/5FKJuvrq//nv/zTspJya5kbB4zJNbdc+E//6R+HhkJ+v4/NDgMYndraqv/pL75fVVVlW8D2L0hcBgcH/q//+7+2t18BIRGE66QL2Izb7X766Ue/+tXnPR438CRY1IeGRv7xJz/77OBRoGLLNUlwQa8v+4UvP/Ol558RRWn2s9yaow8YGOz/t3979eBnR8HJo8FFG13nlC9/+cDzzx2QJPkWiEskEvntK6/96te/owFLYWZdSSZV+P9nDjz6pS9/0eP2LLBI06VRj8fjfX39J8+cbzzTNDA4FI8nZIJVJeEm0WWtsrLsL/78e7W1ddaCYwIPruvaVCh4qbXj2IkzFy+2w2oeiyUW3rYIhcJlZRv+w9/9RUXl8uWcCkl7e9s//eSX7W1dMPhgReGeY7FoRUXtj374nU0NmxZYmylxMUCiwpFw/8BQ49mmpvMtE5NTwGtBmB0OhyDceNsg06FwuLyi/j/+b39dWblO0wxQEjBub7z59muvf6Bp6twIxywFUeFud+3c+q1v/VFebh6l4Nz4xMRLL7/65psf2u0yDNQNYVcQS/gUTEFmVsb+fbte+PKB+vr6goJsRXHNdyB3Y0PNnof2jI1OtFxsef3198+cbYKnmJFzOqF6QUHej3/0Jzu2b+E4YZniCv620N9/9Re/eOX0mSb49Xp3C4nL6oq1UokxgMWXlhVXr18/+19LSwtPnDh79eqApumUu1yHZDKZnZ25d/f2hx7aewOt6e29yhMGY8xvpQnHVzW9qrL8kUf2FBaU3PAGt1s5dPhEX/8AqO588Z7pLQATrlZSVlRXW7t0o7d7185nnvlCd3fXRx8dPnL0dCAQYJsXq8awk3XUNN1uZ01NZWlJxa1dJBILgWWBeZzNE9gK7XA61q9ftx6Iy63CQzxeO9sKvCHiRWJ+nC0nNxu8N0m0sxd9Prfb5QLTdmuLnCgIRYV5dXV1d2qE4f69PjcVcovJIXuEgoLcDRs23No1k6kE6BR4scxfZBdkG2dA9XNhQDbUybKylEvt2LFp70N7e3p6D3526MMPP+/vHwKtk8RVZdNgzJ1OR1Xluur1S5XDHdu3PfHk4xdbLvzh3U+OHW+Mx2Jwhfm4C9g9xS6vX19ZWXmLcq6pSbvdTkjVNKuCa9rtSkVFeXX1+iVexDCTjz2yf2hw+GLbpQ/e//xCS2s4EnModmoY0zdON+4tDaiz3V5dXVlWWs4+q6rJ4ydO0JjKAmQ97axmZGTU1dZkZWWzV8Gbzcjwg4RTynItb4ZtXAJlgeeqq6v62ovPP/nkY5WVFfQ9hqYl4ScMKY0a8tO80aBkSMjKzIY/1dUV8VjixMmz8Bo8xczgkxCaJFWsK6mpqb21AXc6RI/XTa+0dreK1kpyLseB3tqisbhlJUEmSSiFI/IEf9+6dePnh0709vZLkvO6pcUwgM8CrwerQXw8Q9U0Da6kKDLJfgiGFo7UkV1P08zIzKitqXIoMlFwNUXVm8BudzqdyoYNtUCbAoGg13vzJJvZsQESj42HHA57ilzHJsmSwMtziD9cBFYXstJ4PL4aj7+muqa+rr6hoe7V371z+fIVXTdhnV5NrDSV0sbGJoqLCmAtpPsjnN0ucZy8hDRmGAcTjAudRu4GI8DzNkM3E/H4LGfv2iATYVBV9g0cTcoTCfngryeuXCwWM0xCieaKCfvGcDgyNRXMyc7V9bgoSuPjYyBa1Iu6hQgwD5YTPm4aKV6AmzFudhGwuSoJHE7baLsic7abjhV5llg8BrabZRBPjw95ZzAUCQZH/X4vcCxCmERBkuQlGBNyHTWVJHtn/HUJpyxvDMZpKhwJTk3m5WaBpwtiDON6sysTCad7bXxBfj78qamurKoo//VLr7VfumLxZBd41Ug4z3PAA8bHgzYb8f3Z2izLMs/LN57FJQu3DoZCUZQqoCGVFVVVVQX5b7zx5vvRaByszTzX51VdHx0br6wsITZO1eAVSZLmXH/eCY3H49MxlXSOLbmmCvccMIw4zRUjWWLgMvG8fe41LQvu2RRgKgsK4c/mrRu2bdn2/ocfvfHGu4MDo3aFJH5NPyD5MLxTTemhqaCttFxVI+COToWC4XDUtlgKMxEwHlQyHpicyMrygK2AZwxOTcDgwD9c/1QcpV8a8Bkgx9/93h8feOoJsNiWBVNA1FOSyIMYphaLJ8Giwq0JImeXJXqromXTSN64BSTJN5desL0tMOaqGgXFgTmFF+GCcNUlDngsHgeRoBq8RveJ1hBxocEG0eNx0uicQZSLrhyiLIHVy8vJ7urunS1hoG+RWNzldG7f1rCuoowSdoPJt0WywUSn2wkGwlpoG97SVQ1YS13deo/HTckESTy3se18S/d6PFWVZRl+//Dw2NJMGE9T/zl6ESseTybiEVAbtq6wbW64MWA2Ho8d3qPrCViiwO6XlZX/yXfyPB7PP//Lry5f7gb3aDVxF7opw09vbvAwuJEo2NKwaSy2AUz28ozQVNi0TJbld719EXRDnwxOjYyMXFu2OZabwrmcsl2RmDkl8eRkapLMhTU9F9T4cdxEIAhTMJcVXR9r52ZMEpviW+VwZD2HZx8aHoNJv+HEAz2IYAHXVRSRmle4VR6eJRyOARuG1fAmx+04G9y/mk7QuV4U2VDT2wc7DqtUaCoG3ulChzynMz8jkXAikRD4m0sgn/4y9pPXVD0cSqRUqjvpKSJLoNsNXres65qhh3hBzMrK+drXvgLO7k9++m/ggcC6vpq4C6MvMxJu2axYLBGLzZ41IngOh+L12mlibJxmxjg2bmz4ocuRSCXfevMjcNWcTsdNfXTOdk2DaHaUFSUadHOpmDunwWCIBiyvO5fETWsllWpir6LRBNFKmlxoSx9EgqkU3W4HeBrwEV2PmSThz9HQsKG0pCAvJ+tffvZy79V+eBtNeblOMtmNzYjKErWGm1ZMdmO2dJbOXK+C+KnAW8Df+8H3v3ngmSd5TkqpEbhlYBjwOCDCk8Hxq30DfX0DU6EQeKNg4QsKckuKCv2Z2W6Xy+v18AJxbqx51GHW4BBFgOGOxoCVkgSyBfe7yURPTk4BrWcxUCQuq5u1EKvNkcQmni1ChDkQO2iCfhUXFTY01F7q6FBT2uwtm0QiBbK4cWNtZmYG9WYsqsnpfFsHEIR04pt1U6MPH9DoPtG6dWVwWVjADLKhSwKMQLQNkg4sl5UWVVaWAWcCJVkqmaDfDt/YfKH13Xc+6e8fkuwSMQ0k0c1UZHtFRfnOnZvr6uoyMrzwXRo5DKXJsucrLzw7PDzyLz/7DVglcDVWZVYXLMm6rp86df699z4JhyKwgC3gw5DguY3EsZKJpOP6gzPwIZfbOTQ48s8/+02m3wczPJ2cxEWiMbfb9eJXv/jEEw+zBFJwy1outr/55gdjEwFYU7m0QSTnO4AVjY9PAsGlC8/KxnUlWY4nkh99cuhyR6coiaqm31AbS1O1qqp1X3r+CzU1VUCjQfxSqcShz49/9MlhIMH265MD2MITCkd6uvsUxT4328A2fYIDxry3p//ttz9ou9wlUNjmL+wB45BMqT3dVz0eFw2CzjsmJBtYlIeG+//whw+bm1rhgyDnQEbhKlmZ/q1bN+7Zs7OgIB8oGjwpEDaQ8C9+8cnWS+09Pf2GaYj86rRssISDr3L69Nl33vkoHInApNOMPV0QxHXrSvfv2wmrvtvtVtUk0BdwUdatW/f1rz3fdulKc3OrZSmL2klYmIFWHj584uNPj0QiUTto0IJcGYRkYiI4OjpOJJ/j55OQVCp16tS59z44GJyccroUmqtDos852RnbtjWAjc3LK/b6FJtuqmocLuzzZ37r21+PJ9Wf//ylsbEJavDunq+lE9ailpYW/cm3X3ziiUd4TkilovC0wAXBUF+6dOnTT4+cb744NjoxNRWiUXzL6SSnU30+rz/DX1dT+cgjD5WXl5OcrsWsLDPmBw8ee+udj+KxhMvlWCCFkVBMgQ+Ho11dPfAXjLis+o0i5itbxPDR2YblPKWpbqdLFASX271z15Yjx05evtzLxIjFCRVFrq6uqqxcJwp2TQNGnICrOB32GQ+W6uXNhQyWObI57XZWr1+Xk5PJjDbQ5LGxcbAF+fl5LDU4Py9344baM2ebp6amXC7XUvYsLSrrIMBAWd7+w4dNza0Op0LPd5CjFuDIFhbkHfy8avu2Tc8994XNmzdKsghuq6ZFJMnzzIEngO6AkoBmrrJUADY2sNbZOOPyla5/f/Wt4ZExl9O5AD/j6MlyYBWZGX4w8dcdw+E48OgDk8GuD3vVlDrjrcH6HQoGvP7Mho01Tz35BFt5DcPq7Rt87fX3Ort7XC7nzJlSMMzkIFtWpt0u0+yQlRRwjpNETlVTzU0tR4+cpNv5/PUCaQA7efjhXbt3b6utXc9cPbgjoFy/ffn14FQIxG+OoFkSPXgJnvp82QPU15Umg8GPPj382WfH2J7RAmJs2UyBF3w+j9frpak/8x6SoSxHDIfCxKa//YEo8k6nk6Qi2Gxup1Kxruzhh8//8Te+vG3LJuYV6GrU7fbu27fz8JFTAwOD1HldhWYdXBSQ287OnldefWt0bJxJOInq2bicnKzPDx9/4UsHvvqV53JysjUtqaqa3S5UV1bu3bOtu6snmUwBB11MkCTDjLe0doAGjY6CBrkW9HBgnixZJmv2fGnRLO0D1uLLnV2/+91bg/1DHp+PHgC0dNPwetw1RyvLy0o2bqw7cOCxutoaUZRINqwWlSX3N7/xlUAg8Oqrb4cjUdDHu+RrcTZD0yVefPaZxw8ceNxuV9RUkrM42e5IJrXDhw+/9NJrx46fHR2fkEnJFoUydRswmKtXBxOJJGhKXl72sRNnNm/aEAqFZaIOC8RFWHatcKntyku/+X0kFPb6/Yul1YNVsYMGkePQtrWLtUFcSIiFJIXQ8/ogKGZK0wYHR0qKCxWHAvYbfNDsrKxW7bLDYWcxSBBBWM92bd9UWlIE5gJ0fmRkDGTF7cqnMXbDSq9F/Hw7U4Zh1FaV19VVgYNukc0IMRKJXWztyMjw5uRmy7wd3uDxetavr/D7fSMjo3NWjoXZi+VQlLz8vJJASHHIsGDMGA1wbk6cOHvqVGNbe+ff/s2f79qxhRxiIkjBdz3++MPNFy5NBoLWNEVbNeSUjgBZC4E9FBaCLy6xCh+LeZks7dSYQz1N4Ha52Vmz81OAuMA1MzIy3E73rDw+y6koBQW5qqbe+I20HMptHvBZeliRlo4guBmTNpOJZG5OFtlGSdevAtpmeb3uwqICt8cN7GQeSbMtdv8kCyE7O7OkpJBu/0sLEpc0rVsgq33We00gJdlZmaCDgkhGnuWBwWd7evp6r/ZFolHv37hraqpBv2AVFG1mbc36bds2Dg2N0AyGVWjcqLjaXG5HYVE+EOLZNWySyeSRwye6OnuA3v3gz75ptztSqbhp6m6ve8uWhvfe//Rq74DTqZiLnL81ge95PZ6iwgK7DBrkWKKVWKTQos3mcroLCwpg/r1ez8ybwdfq6u5rbm775ODR1taO7373aw/v2wUciKbaxDL82S+++MW2S1cOHz6pCSQn9y6MsEn5dF3d+mcOPO73ZwL/g7sFBq9p+keffPJf/vM/n2++6Ha7i4sK5haYoEktMBGpzw4eO3L0dHY2qJtIM9qtBSfU8nhcRUUFYY/H7/cubi5oRtgaL567RposEoZvV2QQOPLInAVSODg4PBUKs8JfRYX59fW1oK6g86xiEvjZmZmZtfXVIFI2cuIu3t3VOzEeEEnRIbJCwOrocjiZkN2g22wh1HUDXNvy8jJa3IxwxImJQOO5C5ev9KZSGscJ8F3gXpSXF5eWFrFfbzGYdH3wVlEUUBiHw/n558d++8rr/YMD7MicYcCXSvX162uqK4F7we2t1vDasgjZQiGZOVm1TDaWcXnOdh+xQ+5m4rJItJlbYpowZ+OWL61Lmpy540cKI2WSIBmsZ599dkzXU+Q8IKVifr8/Py+HWwNmfe5IOp3O3NzckZHxd9/7uL29k+wq0IQVSZQKCvLAIKi6vqQZSAeSrZWWPjKVvOAl2SF5siS9+96n/+W//svJU41gmuieL9hDo7qqct9DO/LycshGONmqX3HbQfbWBf7Jpx6tq6thOeACqcUinT/f9NOf/gq8Pr/P53G7FuBqYIFzcrPguZKJhLmkMi3W8pSDW7s7RGuNuLCgi0UqyNG6Q/BLIDAVGA9oumaSRDb5kUd2VlatI4cyTEvXDLtDqduwvqpqnUAOaJAsxUttl8fGAiypCn663R6vzw2unnmzvX9gIXDN6pqK3Nzs6XYBxtWrg0cOnzzX2ByOREFnp0+W5m3dsgEc1kQiwd22XqazeThOUezgXZ06dfbEiUadps4xdyInK6ugMHdVlupCrCGzRU++xOPxK13d4xOTJF2dkBVQOtHlct/NfIj7ysbRiKAzHIp1dV01DXL+JR2hcSqSKNCN8vtzNjnwA91u57lzF37xy3/v7Ozlac6srqui6Ni3b3dd/XpwBbXp2uUrB1qymS8rK965c7OiODWNbBOLohyYGH777Q/aO7q9dI9m0YmAi9CThtjDGInL7VJpku4nkmP31Im0uHg8MTA0kkywutFcVWVlxboSUiXMsqLxGPhtu3dvzcnJpnsQJDwzODiq69q0TSSlk8x5YiRkI8my1pWX1FWvdzgcpCgqSfVPdHf3NjW1Nre0jY6M0jA42XJyu911tetzcghxse5YixmLHRDo6xvquNyTjCfBs2G7A6B1Ho+bFzgkLogHeImmEi6KQjKpxqJx5oSSF0llDcFmW4u9XJhzD1YFltupqZBGjRVVc3qu5z520y3i/5nAXcBkHTt25syZJqCktJYd8TNLS4urqsrBkJIHtFb2NgzDUBzyw/t2gctK90hNSv7MQ4dPHTt2Fuw/y1Ze1HjOVCdCVUXicltxCNOyRIkcFWYnh2kQ1ezq6p2cmmI5K7m5mRsbarKzs8jZH8MsKs6vqaqkqbhcNBYBJyASjSqOa3UIYO3nRG7uaTeOHKUjdayBjpSVF9PsE+A34tjYRP/QMNxDMpHs7u1T1YQgSPA2WZbKyooKCvIs6w4XFILnkmQplUjEE/GZ06F2u92pOHha7wulH/Ggmy/q2s4YMQ58CS2l2dZuNJ1urvHEOqV/p/ZP0zRr5fdZbp83kB0i02xpbQ9MBqddRN3nc9ZUV+bn59FItsGtzGMwgaHBab68vNzv9bEOYqIoToVCQKd6evskUcJYNRKXu6oUYNHIeZx07A5IDKn8c+ZMc3fXVVrPCnTGvnFDbXFxQTQW93k92zZvLCsrphUIbEODI42NzaGpsMvBenEBEeEVp9PpcBJzcKMcc6w0VlV1OQ3YsEHmevv6+/sG7XY5Go1eutQRCEzSNGHy2by8vIaGuqysTHKA5Y5qJc8JqqalVG3GCSAnqwwLnQHEg74+E/9YN/ykN1O6zBcoXTxO+qHebp+mB5ez2CxQdkVxgCNED8qZtLGaGQ5HVFWfr3bO/UNcgCWAoW5t7RgaHiETyvGkFQYv5RfkZZOzmaSD2MpxUloyw/J6PGVlhZIsm6bOihVdvTo4NDJCy2nwSFqQuNzd5+R58dr5SE4gGmK1t125eLEjmUzS+i62ynXlZSXFYPuyMjLrN9T6/B42Pt29fc0XWsfHJ8xZ3FwiO5jCXCVi6brFxfk1NZUOh0PXDZo5qHZe6RkYGJIkORSKNp9vhb/TuyIsx+1219etz83NSiQSdzAWCjei66bL5Xa7nJYtXRstFo2HQiHTMlblYdFpL5MkIYGZXhRI3+6Ut8pqoy1l1G9/zFnNrlRKc7scVZXlXp/XMDR2I1NT4bGxCWv6PWvLlPMk417X9Lzc7HVlpWCiDEOHGYEXx0YDiXiCFR5cwvqdLkl3d2ZzNlh8urOze2BwSNd10oyWntzM8Pn8Xje3knFiFs6RZTvY7aKiAmo/CRU2dL2/fzAYnBIFUSDlnq2VMShTyiAAACAASURBVFk22seUX5rRQqu1Bo5Ds0obHo8rLy9bIvvfRjpnnrN0U7985crY+HhJSSnw69y87IZN9f4Mb0Fhzvr162jNAyESDXZ19YxPBEKSNDo6MU31ONrw7CZCDPpmmVZtTXV5WSktNKfbbHIgOHHlSu/ExKQoksj2eGCyf2B4+3bSkVjTDFInqqIUvApwNWxzmtrc+oPb4MpiNulvfK2VwVQoNBEI0Kqyq9Kyc3RJU2EBCwRDTlr1dQHJkMjuoQPDv7cJ3TCjsfjUVEgQFzwOTbPUgbsrirz0MecFjpa1Y53qSFHHZFKNx+MORX766ccee+whWF9TpHQk6ZPQ3d3b0XEF1hx+VTefoxlsPCv3x+q4wLBEorFYLF5bU/XCl75QUVlKS+mTui/RaOhC66VgOEzrCVmLaxBnS6pEg4LBYDLlXFiDaClOZXYvntt/NCAQk5NhVdVlt2RoBjtB7XZ7qNVdwVgaibuLYkF+LnydbboNhaZpQwNDwWCYFS++43aC+ZMgwFNTEXApF6meQMOKrF0uEpdVT1xM+ON0erJzsuXpSgDJRHJyMqhqeltHd1dXf3FRMai0KNrXV6/bvWvrxg11Odk5PEcyefv7BhrPNIVD4fz8fLAP0y6LJVB/5Ma66tQnsGxmdU1lXk4OySUjWs8P9A/3DwyBQoLYAU0BE9NxuXsyGMzOyjEtYDYWaEt9bXXj2eaFGy4u3fdSASl1+/ZNW7duhKcGw8ZCLPA4PT19hmGuOtGfrjdPk5ncbkc84XQq89dxIfaZY7YJWcstMsRZ8kYbTThJsVtZsuazvLQ+u2Uuw2UElyMSiU+CvysKiUSSFa3WDcPhVL70xad//KPvlJYW0aMfnCg6JgNjh4+c6OoeoCE3brXOKgwCUPPgVBiGxZlUaO4tkWVd0+vq1v/oB9967vmnRVFKpZKybAcL1HLx0sHPjoEFy8jIWELEhaiERDUokXQ5FccCGsQWcqBQrGPonYobwTdGI1E6rczjMr0+t8frouXIrZUIN7BrkjxIWcjKyqAFYywWRwTi0tV9dWxsgvaHuvMeDjv2Jcmi2+M0TcPjdpnzlDiyWPkCi/WatNZ43GUNndfi0gJKlI20I9NJFm53Z2/zhdZtWzdSlm0WF+Tv37uruLQI9JYGV7TLl7s7OntSqm4nNa05xoQ4jne6HG6vh5wforrE5Jn9zM3Nqq+t9HjcpsE8P/1ia1tPz1XadAM4vRgMTJ05fe7ppx7OzsqnebKm2+Whu0U5g4PDbre4RG2bHUCcvgGSGJ9MJsG05eXlPv/8M1u2bKANDoCWKfFopKWlbWBgxJbufrK6ptcifWJhPp54/KHq9ZWaqgnzlyDjRbK10dra/j9+8kuwSj6f5+6UiVs9y2fajNo0LVleVvK///1fh8Ix2lVjXrkSJFI8+uTJs6+/8U4gEKSl8Lj5J5MtY5xsJzn1kkiOCzmcrvr6qvr62s0N9Tt3bC0uzmfpLHa7K5WK/v61d//w7seg1bRc6aqNtcDgiIKoOOxOBzhBEjxoQX5eTW3Vlk31u3Zv31Bf43Y7wW2RJGDt8qX2i7/+zWs93f1Op3Mp+0SaRtpIPffsU9u2bFZ1khbDWfPOEcxIIDD+T//4i7aOTkVR7shSythJNJag3QfTNEWYZeJWUKRNcEcFh6LQ6F0a0Wg8FI7S0jIrcVSNo/W09C98gVQNpnkF4vyzZAmSEAqH3nrrw4MHj9ByYsKatT9rgrjQMlv0NLA10zKG9k3huVQy1d7eNTIKS5cfjKA/w799x2avz0PDHsJEYPxia3soFAK+MV16jOOmP05j19YMX6GFB3T45/r6moqKcrJPZJo8JwanJlvbOkZGx+GfWGUF3dAGh4b7+gZ2bN9MT/2ZoPaVleWF+XldnbRsPLd4WTD4LtKaKwpKZZck0Oq0i0k2p8hh7NJvf/urX/7SF9xusOms4bDY2nb51KkmNaWBAqzClRQoIHVWigsLSopLFi7oxLpdCjzxF1m1BsStDbthkPK7mzZtYL0/F1xzhWQyHghMAH1flCbCG4CGFhXl/+3f/MWffPsbbGOTtlDIyMr2Z/r9sqyAsNPyuGI8Fnrz7fdefuXNyckpUht+1ea3cKyZ8GOPPVS2rlRTdUYTgalkZvqyc7K8Hi9zSEisxWbruNz+i1++cuTIKZ702ZGXQhpoMixXVlZcXl5GPbcFJpQc6RodHXC53bQTg2W7MycLyCOBydJ0YyYWctdoKCnQ5XHZZftMZEXT2I4bv0IBDqoIVklxQWlJyaIDCBo0FZo4ffo86+nB82vX7qyJHBeQDVkh/R1may9L4QSBPHfuQsuFtqqKcnjJ6XTU11fT2kFkYeu80nP6TFMsmlDssmW7LkrJ6kbcEDnUSW1KW31dTV5e7swbBwdGhgZHde1aB0dJkhOJRE9v/9RUyO/P0PUEeE4lJYXrayrONDYtMQxokUJ5Ghgy2gBPpIcsdHjMLVs2PLR31+5d27ZubcjI8LGqTaLompwc+8O7HwEPg0cWVmkGAGsTy7JEF7VRNlqD1bpjBneNgg04KYC0eJldjoRNBNb/dvExZ5HzLZsbaENU9l3WtLUH2U/A1/KWra+/69XfvfXG2x+Oj407CGvhV7MxowYHbEVJSel0vp1Fh4UUQzEMDai7JNmTydiJk6d+/ZvXT548p2kpu2Jfoqmcdsu4aQ1aZEL5mYPXd9TRJP1U7sHJMLprI4mzRYi7G7mw3NJMlo32WBRYt/k1nqG7FiIupJwsCa7aFUod0nkprHI/YGRkrLWt4/HH92Vm+kWRB/eR5ruImhpvu3T56tV+sAcyTTmMxZMGqUdJBk0SZQfZAGbins6TgA/CRerr1ns9LtMieTCWqbd3dA4OjbAsfcZ1gD/FYolLlzoGB4f9/mzWIsDr8zU01BYWFYyOjCvKvFF0eBmcAPjCDRtq/u5v/3IyOAX3QzNt2ZXt68qLq6vXZWZmwXt0XaOBIUc4EvzNS797++2P4omUwyFzq3am6Q4GMQFLYmbAT3k6d8hcbmfMqahKS+Eiskz2SnmOHMtf3O++VsiLuf4mjSeSLutgv5OpVGNjy6cfH77UdqWrp3diMugkXbj5NZKvxE7qMmsGLgwMCwwVDO3w0NjBz48eO3b68pXevr4BGC9FUZZlK6f3IJakQXbCFLklMtHlSJVtdrG5u7dIWze6o9bKFr1b9oCD0ysKPJqdNZPjYrGuiDe413TDyLR1tF3p7e0HzsF2WGlwRRodGWpr70zEk2BrTdalMKmC2aTExeJFEeiFbdY+EdhT4Agb6qorKsoFcp7IFMjh59CF5ksD/UOslC1TCUmSIpHolY6uzs7e+vpaViPSLttra6rKSouu9vbZ7dICPJ/t65eVF5eVlTOTwRZedigVjBfNMyNdNsD3orXvBl965fWXfv1aYGLS6XKs3qwuS5ZlXddPnzl75MjpaDQG4zw//yP2dnBoFObU5XKamJ+7bK84fewCuAiI92eHToIGCbTqwHyWHlRN183u7p5oPGlfIMFllnImU6qVShHuzfOKbLdxskCUJQlKCmrocbnC0eiJU2eSKT03N4uz2dbCLMKzR6IxUUgCdQF/TJKcPGe3CRYL97pcDrBX7e2d585f9Ps9Ho+btQFZ4sVl2Q6M8PCRE6dPN8G3yKLIzZ8MB7MSjURBicATu1NWZaZjCdmdnz7FQ7X1bjWH5q4LHFIaY05HFu/4phV4yMSjPX789OeHjieTKXCG52NKFs31SSTiTc0XZ2fhIHFZtR4hqWUkinbFzjaAQfhSqVQkGjUNnZ6z5Foutl9sbW9oqKMVdVWR6IwNWMv5CxdTmuZ0KGBAubTwXMfNjVntP3RNBwvbsKk+Pz9nRgsGBod6evtisbgsiywbfEY3JoMhsPWxeMzt8uh6UhRJr8eKdaXgLS3FAPMcT6ubczeTcPgKuyDYksnI4aOnP/rw088PnxgdnXA4ldW7L8qxw582zrjY0v6v//ryyNiE07kQS4MPcAIPk0saxCNxWbZrOkNHpNGxibfe/uDo0VOLHYcGpgOKyMsSO8+50KiTus+SMDIy/tnnx650dsOvbqezpqbq0Uf3ZGbm6npctFkbG+p+/OPvgra+9faHKTD6a2AeqfNjNF9oPXr0dDwWB/bm83p279m6a+cWWXboWsLj9R448DSwyX/52ctNTRfB0LF8lyUCZtPUE42NF37+r78ZIxbDOT9xsegKz9nBgZPlOzrylmwXiRFOFybnkkk1lVJt6TOAK8hZTJuZiKcMQ5ekdMKWw2Hn6YFzIHUrQYzpJgAPXOQnP/23UCji9/sXCEbSLSIglzI5u7e2LdYqJy7T54DI7ozX654Rx1RKA7U36elKkMvxicnW1o5gMJibmwcenSgoqVS8vaMTXEkWR5m2pXOaBU8nvrDe5R63q7a2ygtejpk2MXBZIC6JRFLXxVRKm/moqqYmgyawpcGB4ZoaPwvY+Hy++rrq/Pzc0FSYnz8eyGwEDfzcfPosM3m1r6+9rfPCxYtAWdouXYGPOEkrkDVRsMTi0wXRuAU2qGnoje0s4D7RbQdfZmrQLeIXs5ZhNCeDW5gW0RQ0Epj87LOjH3z4Ga0jIBfk51y50vXt77xYXFQCXB9UbOOGjT/64XfABzj46RFWbmD1ExfT6unq/e3Lr4+NB4D/gTO25fCGH//oO089+ahiV3RDy/BnfOlLz6RUfXJyamBgSBAkQVjWem9NJ7osFuiw6FHsO6s/JFZMOl3LZEVnZWe4GEHcIgq7soIMY5tMJmk9QzsbMSAu2VmZwIlpPboVXalIsjP5YS6sQViAbm1EXBhAd+l5ZmF61SIhyenzRZwkS21tHX19g3l5xSItcDI6OtHa1q6qKnDbNEUhNjddto3Wk+CBHWdnZWmGRveRDHARaqorqyrLBVHUDUPihcBk8PLlHkPT8/NzSHBvtsCZJliWkbHxK509lZUV8K+qqtvt9tra6sqKdcdPnCZ1Gm+qKKRwAjmlCHfbcbkLSPq1+pWgeIalG+rk5OSlts7mpou0ACVYc0Eh0aa1wFrIA8qS5Ha7gCyCuVlUyac3EBG3DhAtp8Ph8bhAMheKuEyvTOaS2nKxwCHLOTWZA9LV3fdvv3rV4swf//C7mZnZqhoTRat6fcXXXvxib8/V9o4un9ez6s16ut0BGRXTznOarh8/cTYeT4KaP3PgcfgJwyLLzice39d5pefl374OiuB0OpYcLSCemGyXQYNgCXc4HHdVg0hTOdOuOPPycuwOu2ml5x1YSzye4ChRWhGrQW+fRlZM+CKNVL3j2aNJklhcWpSVlTkxEVyJlFi6NWbBKuNxk9xKUsdlsQN3d7yrHRKX+3hBs2wGne9pyZvmrVQCYF3v6x96++2PAoGQbHfwNuvsuaaLrR2E04BpNJn+2Gj7RYsWbgPiwmVlZ+TmZvcPDNGqMDpYh23bGgoL85jEA5VRVa2mptLreVEkFXP5G7xU+FegOF6fV1WTLIEOiEppaUFVVemJk2cWjC4CA+Mvtrb993/810ttHaSYA9zkzMFsy4S71DUdrs92i2XSd+O2jMuMuj4Q+sKazTKgd3J3MDPad5QI0nQHuwLWXBB5WESBFYEz8M67n2yor3nui8+AIoBrAfK/b+/Oxsea+voHWZuwW5n06d59D4SEgz1xuZwekmhPNn9D4cjZc81vvfVBfV1VeXklR8hMMi8395kDj7VcbDt96hwtayks/dHulQaBzYSvW1deXFJcJNMz88R5s8yxsUAgEARSs5IFkUnQEAZqIjAZiyf8/gw2EiBy+QV5Pp93fHxyRU2WYV4D2hMkLmkIZGddYvx9eiW+RmEEntTlfO31d95570OSJ2FaiZTKygExvSUpvIYRiydTSU2xO9J1FdPVFanKkX0i98aNNaTuHO28CB/3e93PHHiCHNrkhDl2kiTJkGannEnrM+osAwY0pK6uKi8vKxSK3jQqSFp30NfAZE9OhkbHAqRikiTYzJlAog3UG+gKeMDsHNPtawKGJBD3loaS7AOTHO5zuRwDA8Pvv39wU0N9aWkFx6mgRP4M/5NPPtp4ruXcuRan07nstdaa+fGAjAndmya+kUFU2+1ywop77tyFI0dOFRUViaKiaQmbTaqpqXp4/+7mptZoLJaR4WNvvp8jSSlNB0O6saGmpLiApXKLoqxq6uXOHnAsLRo4t9nM6+0olZAlW6gbwhWzbSwrON7d0z81NVVUWMTyaWAJKC8p8nk9mqZJkojtQZC43FXbZ5dlt8vFkSr+BpNR0iLxWn0I8kokGhufSLJ2HoqiuN1OJqZsn9UyLJWcKtJpFNGkNQx4WmIeLAiJ9VVWlsMfQRBZkSh4XbZLDkFZLImC1GJhXwqWBdzH6ur1VZXrTp46N10e46aGizxRVpY/PzdXUchRi+vsLr1n5jXd5rilUmoikTBob21WxgoWhjWSK4O47+I6liXJUjQaP3688czp8yWlZaJIWgmalrBxQ+3OHVtbWtpJw4ElJyOwEFE8lkgmU6aNpY7xDsWxQD2C+2yxZ83qOZfTOTA4cvjIqX37d1esWw+mQ9c1r9e7Y8fmsvKSlpY2IAH3/wPpBqncs7lhQ3Z25rTtEqeC45cvd42PT4hgDUlX2hvzPFh/z0WfjhkskbRquXamwTTS5A9YisDzyaTa29M3Ojq+oZ6Ydxo+tJWXg6AVnW28AL8KeBQZicvdYi3pKgPT6fHkJ9DnWDRmmjoYvhnp93jcPp93+lMs5j2TBsPR6lfWzI6MIAhut9vldoHkw9UyM31gI/LzSd051lBDlhXKkxY9pAkMBIxvCi7CdrKKiworqypOnDy38AfpmSbQOoOGbe58UIT6c4bDoRQW5il2u0mU3AiFwgALHKFFUxkQiBUAT3ZvhWAweOLUuf2P7M7LLSQbuLoOmvvoo3tPnT7fcuGSnRZNWsq6rxMYGZk+v88rkqoHVkpVQ1OhRCLF3OsHZVjYgnqxtePMmaYyyudUNQk/a2qqvvCFR65e7Y/GYuTQwP2qsyTckkpZpvHQnh27dmxxOBxAvFjjzPaOTiATYJAFaqvZOXwWYqEnvUnJOKA7sizGYuYCDI+U1TZJv0av1zVNXMxwODoVCrE8fWbnY/F4T0+ftj8Oo6fTvjD+DP/+fbvPnr3Q09PL846ZqhYIJC4rqhPTkmubIS5cJBLt7ulLJkna2owUskY/C1yHp93MputXcqBXNPWdOQruDRtqXW4noxFEAWKJcDimkSYA8zoD7Isdit3rTR9UBrrg9/uqqyvB5wCKsMSqRHfciMBtaBosBu6nn3r0+ecPZGZkgImIJ1Lnz53/91ff6unt55a6NiAQd9gPkWVZVdXG8xfOnbv47IECUENNIwlsW7c2PLR3x6VLlw1S5WURKs/6ocLClJOT+Y0/fuGRhx8Cjm6Y5mRg8uNPP//44yPB4NQDcoKD5OqCMrpcDiAohw6deOThvQUFxXQTTc/M8D/2yEMff3T4fHPr/bnaslxjmNBoNL6+at2LLz5XWVXGwtiSJCcT4ZOnzvX09gGNYJU/BYE0PoxGY+T4IPVF7bI9LyfL4XCOjU0A45mHVRCbZnc6i4oKwcDaaKtP+I7x8cDY6ARPzRlpAkUbsDRfaBsZHispLaU9EAz46of37zxx8szV3t5kMsVasizMXdgbsBUiEpfbDLlYDrvd42FEm4RMNVWLRKO0MQe/EFm5nmHcGJNgYRnTsitySUlhxboSgRfUlArSDwbxg48+/uiDz0LhiDh/GTSDhjXWr1/3x197YdOmTZqWMAxLscs16yvgxTNnzt+TE57wTMBa7LK8Z/f2H//4u+uramb+aXNDbUam/x//6Zd9VwcUxb4WTnDc8Cs3k9Y05503PQ+8XOds0XPct3PxFR2opd/3bd42S7/tHxg6dfLcrp1bsrKybbYEOOhul2fv7h2Hj5zquNIJ7sPCigO6r2lqRob/q1955gff/44/I2vmnyqryn0+3+9/94eJwKQsyw+KkMO6Dmrb0tp2vrklLw/4nAQPKAhCZUXZY4/sAT8tHo/DorvEwV+JCb3hgixmrOs6tYJ6ZUX5j3/8J/v37xZFUVU1GgvnzzddPHmiMRCYsttJc2Z4n8DzaioZCAQtmyYIPFhamKPS0mKYyo6OLo/HmssqaDhHAxaxcUNN/YYq4EOGTg5GpNTUwODw8PAYK2tOj1wIQKHOn2+5crm7pLQEfqVRbS07O++rLz7X09N3/NjZWCwG9IhJ1/XpMmkSSRtS6IZlkoa6ongfahASlweCtxDiAmRCscszU07LQohLb2vC9nt0sptuzMgZqb4skS12rydz65aG/LwcFooRBHL24fU33n/jjXdtJolkWvOkucDbE4lkcXHBuvLShoZNoCegxmCWS4sLq6srTp06T9Pa7364hWx+FRflPfXUo8BaLEtT1ThpkyFwiuL+ygvPXu7o+t3v/hBPJKS7fHN3XXJgHGbnCYHRjCeSiiN5A9kFAppMpRLJJAu2zZBdsq8hSUtf+ZjrmaRYyocE2vuHm27hcw8HKkVvmxp6YzGrSkKVYNBvx/iSjhy6duJ0477zO5968gn2vXAjDZtqd+3c2tnVzcovLfAVdHL1wsK8Zw48CazFMJK6rtJuSkJJcfnX/ui5iy1thw+felCcZlqggfN63b09Ax9++PmO7VtycwpY0MXn9z3y6N6PDx5pbb0CxGUpVzN0I5lk8rz4OkrzBcVF30a71qfA3NHiaelKnKT5tGU5nY4tmzd84+tfPvDM44qipFIpmt6nDA/1vfLq280tl6aP2ZP0Fl6UYvFkf/9wIh53Ol2mSXJmKyvX7d29vaOjMxqFF5UbTpYB+QiHQ263+4kn9tXX10xnAIihqfHLV7rGxidkiZS6oZVayPOODI8dO3l2247Nfr+fCgZ4j8beXTv//EeRRCLVfOEiUEBaQYefGR8WIpo+6Q/XETJ8Pq/XMzY2wS67hMFJJmHEFXnRxEQyBvMVy0DisqpWoHSrReuGQMyS13LK4k0rEQfNS9mmy22BFXC7XWD+PB7vps31LrcTaDarVtfbOzA8MpaRkeH1eBZIZaU7SnEQ966u3nAk4PNmWjbif2RkZdSsr/T5PJFwzLrrxx2Y/nm8npKSItaml+2y0TLBMbvsePjh3cePn7nUdkUUV3eavTU31sZbthsemPXlns5+upaKTYSEsmZuySXumKCKy++3s2jsesVFZiaVy1rKu6cH6FbvmZASw+zu7D1x/OxOssD4DNLFSMvKytyzZ+ux46e6u/tpdw5+/kAarYuqOLIy/VS2Z4QcVqlkSXHxrl3bLl66HJoKU+b5QCTqEpYcCkWamlqam1uefCKH0DtNBw+ten3l7j3br14dgsXRbrcvJoQctxybM1OVf34JZB3dSDyCvZueAgK+4qyuXrehvqa2thqYVl1dNVgbyloEWXYGp8Z+/fLrH398GKwuELIZYbHL0mRg6szp8089ua+6uo4dyczJyfyjF58dHhl57/1PgR6x5Bh2chREM5UCtiQ//dQjX3jqMZ/Xr2kpVh30UtvlpqZWkBPHrHZOIo3EvPfBwZ07t1BODK6pBldQ7M4nn3rU6Xa99vt3jh47OTYWAHtIilzMPDXNvAFaVl5evHfP9i1bNnZ39f6Pn/6KtZBbYAlg48OTxi3WUjSCzo51r1UeictdUGmavDZdAHf5DcHSdYdMgyRrmUxyON4GnBs0BCS7sDC3srIMBtM0UrSUnNrWdiWVTNLiddbC9YJAT4AaDA6N9vUNNWzMpjaD1Pmtrq6qrqlobLxg6PeguCvcRjKpTk1N0UNY144gUvJnlZQU+zN8rOTAqiT+MF/g/pSXlz768EPFxQUmLZpGjIuNB5fRrti3bN1oWSo5bEVkw6qrrfqrv/x+OBIlR9WYwaStqcZGR999/+DIyDgrY7jgF5JeM5mZGd/61lf27N7hci1SMYyejLBdbG07fvzsZHBKlsS73C52uuqJBUt+fn7ut7/5lccfeYijEYv5qDbrxx6Lx44fbzx1qtHusIu30RMR9FnV9PMXLl66dOWhh3YLPEfTEeStWxv27IZFehCYDPy6oG23NE2NkGwJGDyBFRFh3EWS5A0bqgsL8oKTUw9K0IXqJkk+BXn7/OCxrVsasrPzqFjpmVlZTz/5yJHDJ6909ijKQo0RwEsRBG73nh2wQsdiCSldQmJeqgT/erVv8PNDx8dGJ+Y20GGfpa1ebdu2bPxf/5cfRyNxJR1UsNxu97p1paA7WVn5dNjjlGtKoqhMBQO/+tWrr/z2zVgs5vW6WGCGXRNuKR4Pt15qb77QVllZCYwEuA48Y01t1Z//+XcLCvKOHTt9pasnHksIPJ9SNdDWhk11jz+y94UXnqmuqdINjUZE7COjw598egQMtcuhgHrOuLUkgCSIfb39//7qW0WF+Rs21AMhhEdIJmOK4ty3d19FWen+/bsvX+4aGhodGxsHrYdPZfi8ubnZWTmZebl5VRXl27Zv9Pmy33n3HU3TFrSQJD2c4/idO7b8/X/861RSc9hlcyHF5+Ch4FuPHjt19eoAjeWs0bjLqi/5z1LQibg7HXaaokUOS+pEc5Ztja4dukvXozNVksHqbWioz8/LtZESd7CQi6GpEBCO4GRIopXiFo5XS5IIa2F7W+el1o6GjQ08J4DBhWWppKSwvq6msbGFtVS8m4C1R5ak0dGxY8fP7N2z0+Pxgd7ONm4Zfq/T4bSs1VzfJR5P5ubmfPNbL9TVbrzZxKmpVIKbruNZW1NRV7dh7tv6+6+eOHkOTAwluAvsXHA0zqyD9//iV15YOk999733W1rbR0bHyZ6RyN3N6bCm9UcjhaHz6G0vyYamUrFYPPnpwcOyIt9O0IWcarX4K5d7Tp46t3nzRidJrVV1Xc3Py9m7d/uhQycHBoeIT3yzKD3jIjBma748tQAAIABJREFUgclQa2t7TU0NyXsw4umRp7eUlQmLkfvBqlIKD0uDLqHGpott7Z379+WAeQEeJstCfd36bdsaBodGYKUU5injBrOhqrDQcrt2bd21a/cSv7S5qan1YjvtIyvPvTKMM1mbbdzWLRu3bt1+swvohp4wTJLMR9ot6dbVqz2/+vW//+7370xNhVi7sRtmAF4Esv7e+wfr66rr6zeSbUNSpULc1LBpXXnp/n27L7VfjoQiNlKJT3M6nbt2bdm5bbNsd+t6At6pKG5NS33y8ecffvg52N6Zk6QzskHq+7ldR46ezsvL+Ysfu8rKykWRnNtIqQngQgWFxS9+tcQwEiPDo8Mjo+EwEBfO7/fm5mXn5mTJsoddBzwf9k8Ljx51foxt2zZv375ziQPe09PZ3z/U3TNgrWwXAiQu9zjaQlZYQeQlWWbKCbKSSKZMc9mFDWiLq2unimRJBpcRVvGtWzaAegDDoKFpoa9/ELxAoPwOp7KoZWaUeXBoGFagF1JRxU6uAx/JzMqorCjjbLw505s07eFw091hVsQLZDZdFKWpqcinnxzZtXPbs888AZrMes+yZ1HsdtL16T7KDJ0ddOW4OxGgAvNt6EY0Qs7Mc6T6oDYrtGujvo4wy/SanBmbffSdVIvgpUg0YlCKvKDPytmupeaBcCZsiyffgW21U3aVMI3livG1s3XXxm75uxLT2TwkT4yGi5Iz4cz5P8WDPx0OR5LJFCnKOE9UZlrGFxdycCMi0eiJE2ce3r97585tNNHeFEXH1q0NO3duHhweBn/XTjPbbvoIwCaBnb/zzie1tes3bmygDVat6WfgFEWhDYrvfdE2y2bNKpbJ0+MF3AJyC+v6wMDgJx8fArKSlZWj63EYlqysrGcPPHHuXGt3T0+G33dt33x6G8dGdjw5yvNYPUx9Fked18MB+hdNRHV6lHLWLimbyPTfGOj5SmPuBWlerMjxdrB7fX39p8+c+/jTQx988DmonNvtmrsTTRuSy0B+Dx06npPp/6u/+mFJabksayk1ZRgxj8f9KMWNkSR6bolWEvcAu3333Q9//rOXB/oHvRne2eGc2T6qoarvv/eprhrf+97X6uo2yrIIdMckF4qxeGpRcUlRcflsBgZ6oGlgB2AhkIFXOxyO6zaPrxtQbvbg0KCUvqji0++VI7EoscbWmi6wuzbquNCTdXa7ky7KdtAfuywvy06zZAdFke2KwyKVikj9bL8/M78gJ5lKbd6yybIkjpPYIczO7qvRWGSmq9GiRIG6KRw4QwP9I5WV6yXJRSaGs7Zt21RbU9ne0anrBtwDSZcRFRsnsks63S5SxjudycXdwcqfNJTK2e324ZHxl195vbyscMOGWtPk6SEs8l0aKW9g3fPmhOmZFQWPx0P33Mi+gESqoTtucwOYEAiTJHTTo48CNdHS9dZ2SbfncrlghZ6uOjFnkDnOqThkSQGxZJO+rGenrqciELNrTttHa6GxYhUvPG4bGSQiwIrd7Upza2s50mFzOR0ul9eyZFCr5d42qKFDka3rU3jZPVjUmbbLoKcS0D743eFwywoJnvM3E3KB7itcarty6uTZHdu3iKKTfUVhQelzX3yq8VxzX9/gfBs9hLiQYGfq+MmzL730+t/9XXZeXh4sftN03FKB9ejmPZdycipYIHVKYEzAnSAVpGi9f3ac+4buOexhYV2fnAyfONH43BefzszMk2U3k9i9D+3av2/HyOgoPNhMaASIrwDX93pBOmDMl+vBE2FwOJk40VxAGykbbpqSyIFW8jyh1wvsk8JKn0xER8fG+/tHOjt7zjVd+PTTY5OTU26Py04PQM2VTPaMMALA2l97871EKvXDH3xr8+YGxe6xLFINy2ZTKae9TlNoOAfGkAsERt9595Of//zly5e7vD6PwN88DkqLbdoj0djv33hnaHjkG9/8yiP7d/v92bQeDEl5BqoBNz+L+bMzHwLtxwJfZE1MDILppjfL32jwiclyw2gTGVy+BrmcTjF9KgJzXFYtayHdEEGTR0fHDx064vdnwKILunqh5SI7R7eU2rIkeEhK2HJ9fQOHDx/Ly8uHi8ArI6MjY6MTYAKazrd0XukBcwAKHI/HPj90PBZLgLpSLr+Ei4s8DQAO/OEPH2/fPqKRE3hkCykQmMzI9MI1JYmHtampuYXk1gsiqyjT2Ngci0ZZGtodj2ZTf5QH09DedvnU6fMVFevAc6UHNzjWrDWlJm33OmcRvh1seXAydPTYaTB8hm7AOmYa+oUL7axdw+08vmK3B6cix4+fHRubNMxlt03gyQCK/QP98VhcEqW5GxZgvGCaO7t7Dh0+6vV6Uyl1eXpLkmlszc2t8USK2kpuCb6aAE908uTZiYlJGrORVC3V1tEJjzY3O2G+i9AAodXW3vnxJ5+DZV9WFXkiVIIQjoSv9g3Srp/XmWPqvts6u2BAjsCaB4MjixJo3OjIhES6it58yxU+RZzvo6dz8/NzcrNZXBDY2MjomMftYQlk8++M8HAbsWjs0JGTTz718NN5BRLJZlVZ6i68nkgkroWm7o2Ew8omhMLRkycbp6bCOjkMTFKImpvbdc2gMjB3TAh7sCvyZHDynXc/gs9KskSYCs/R/oX2TL8vMBmcGROHQ4nG4seOnx4fmyCGx1zWhJKThh0dV8LhKPO+GJGSZXskEj99+lw8loAXblpvwqR1A5PJ5PjEREd799nGC11dPbRXieT3exZO+Wf/BHeeSKbefOvDoaGxF7/6xW3bNpeWFrhc7pstapamxYeH+9rbOz/97Oj77x8cGxv3+b0LnzuDWacSbhz87NjVvv7mppbdu3dUr68sLMwF8n3TClummZicDA4PjXX3Xj19svGzQ8dhFbjhW3hRSMbjZxubVEofiVO6HIsHQ9Tf3z8+FrguxLX2wNXW71rlT5iuBZS2QCx1m0u3hl5+2h3dJCIHRayZbX56MYsdrSB/h7ewc3JL5xPUUwHPnJb3ZR5wOhjPsfar6Y3e9Dfb0mdVLNq3iFuRTRt2NBc8g69/7ct/9Vd/luH3p1JJMCiSpFy8ePH/+D//3zNnmsHuU2fr3hJ/Lu1WpQfNlk7AuL2gCyvqxfYEWQeF5UtdOkQwc4blxjAeO4/E5nj55V6mnU/brG6hS4iW0I9On3UimwNpvVhqKY50GIBt6yzzyBvHPsMkdo7mcVQLTHa6m2Ojx1kzgzl/TILNuMV2rVgXdzbuS6kSFo/Hs7Ky/v4//OU3vv4CL/Ag5OysHPjl/+2//7yrq/feltBNT3T6SADMGm9Lmwdr4fw58jYjPb0zR9uISNuuC2PQAZvZA1+mEz9tPYnFm328Jj25THfmvSYVe/oWk50lJsXlhOW0UbTYiQnDUmRx06aNTzyxb11FmcvhFMhxYSFtFCwrkUoMD42cPNV46NAJIBaUTIhLt/z0hL+pquTM2t4923fu2lJSXOh0uslF2E4bifyamqoGJyfbO7rOnG1qa7uSSCRJrYI5ksOlDw/OCLa1XAWyIdZKHRe2DGvqjJCwZMnlshaDtYeedkrAUEpk2eZo2NCasezE119mWWim6pqpG5o526ERRVang2NVfWfTc5qPKVg2biXihTP70+DYkQNZ00svjRwYPT0D4P+x8bvnqYtgU0hMf2ZSOBawFW8zjkrHHK5sLKU+4bxxF8LzxPnum6MFYHRdv+UhBMsoCsLSHS/SI93QZodJaIksYTkbRWlFoNb81gbFJomScBMqYNGaBdcNCKiAJAv8gg8IV2IlE6/zazlOkqWl1CBh57lAxHmRrL0sqpRMptrbr4yMjJNUpXuaAMm2S2jt+esknFSHWmwCDMvUU+ZsRaACI84elfTBH02/ZTlPGyJrdvMglvZkLFyIPJ1jxcN/hK+APVmuRNHjoqT9nKrq589faL3UTnLLrqsSaVHWZxm6qelALTRSfEsUlhWroMlPnCTZQqHwJ58eOXT4JI11XVcqhlJLkj0JI0mC+uSE2s37J1nTJdqXFWuZa1XWeE3etdIdGoSIFsGcLfO3oqK07aF1ve7AxeXrY7a3JlKgG+Lsim7XIgjpvRvxWkjfuqb6d9a9m0kXjceT4XA0KzujurqCph6bdATI/lFLy6WJ8cANVZ7uoUsqy+Jsu2C7Y8dXyZiTNOTbDQgtKFFL6A83v8e5vI/ypLb5LBmzbjE59zpRvKNjQhcwfja7W8oN0gyG63Rwtu7MlXD2ERDpKEG8prqqoqwE+IBhqKzfKlCWltYO8M7dbuc9L5jB0nFmZs1aaj0Hjro9tuuG5ebzzSzPLU7oTeeI2auFrzkddLiOE9+yWQZ/EkwTrTVl2WZFEDmWAktHw07rIN/CbJIEYoFxXCORiFM+Zs3JGia+LLyNOsULkeYbjfmytR7jLmuGuNju0DEc7mZm985tN3JzLjvPG7gVGZxUMhVPJtNxWxtXUlL44lee3ffQboEWp6HOjdza2nzy1LlQJCIvpybsSs/tdX/j7uCw2FZ6I/l2xpC7zQ9xd0xWV2o2uVucqZsspfQ/g+RVqKmUarHDOhxXU1P5p3/69YZNdSTWY+hAgMAbPnb8THdnNxDi+6TMF3dLY3KTYVmBCZ3vfhbVnTtoPNjxNnkJRy5ueTYZzaKhXPGOy/l9onhIXBAPGEgtS5rj7uZ5wzSdTvuWLQ1fe/H5/fv3ZGb6aBklQRQdExMjr7/xfmdXN/UqBBw3xIMk5OxUod0uyZJpGFmZmQ8/vOdLX356144diiIBm5FlO8fJTc2Nb739/tDw6APUqAiBQOKCWFsA65wkibfCE0/sP/D0o06Ay1VQkFdWVmiX7bqeogU07ZOTY7995fVPDx4Bn3V558kRiHsNwzRUVSspKvjCgce3bNkgipLH4y0rLSoszAVyouuGQuq+Sx0dbf/80181nb/IY/9zBAKJC+K+Bc9zYLglka9dX/HCl58RpZl68wbtT+mCXwcGen77ypuvv/5ugKTl05qnNguHDvGgUHOW4urxevbs3vbkk0+wSm5UhknCgiQ5bTa98XzjP//0Nwc/P2aS/jISjhsCgcQFcf+CneeW7bIozfSPNUmtAo6PxUJHjp54++2PTpw4E5wKAWu5aa1JBOIB4Ogi73Ao0zXBWNU+ICjcxMTIRx99/sZb7zc2tliWCe9BCUcgkLgg7nvuws0+HmCoanJocLixqfX4sdMtF9uuXOk1TV1RlFXdDhqxepk5BWn0eO3UkhmNRq5e7T/b2HL2bNO58y39fYMkk8thx/FCIJC4IO5rmCYp3i4I/ImTZy3bTzieS6ZSyURqeGjkQkv75Y4uQRQUh12WFdz1RzyQtMVix+alwMTk66+9c6GpVdMNEHIgLn19gy0t7YNDo4JAhFwkR+dsSM0RiPsZq79yLmLp0CgsVg+V1tvkaR0lSZKBu9jQmiMeeI5uqqpq6OZ0MV5a5YO3CTxtpyFgNBGBeACAERcEtd9pQz7dHoGAJ3WUCARa2AUNOuKBF3IbLcI2LeK2aSEXWUMZFHIEAokL4oEBM9myLCmKffYrQFmW1UgPgbifhZzneZfTMZPLxbpQmctvoolAIJC4IO4Xy347rXkQiPsfyFEQiAcdmGuJQCAQCAQCiQsCgUAgEAgEEhcEAoFAIBBIXBAIBAKBQCCQuCAQCAQCgUAgcUEgEAgEAoHEBYFAIBAIBAKJCwKBQCAQCAQSFwQCgUAgEEhcEAgEAoFAIJC4IBAIBAKBQCBxQSAQCAQCgcQFgUAgEAgEAokLAoFAIBAIBBIXBAKBQCAQSFwQCAQCgUAgkLggEAgEAoFALAHi3f9Kjhd4jvzFMIw7c0ECgeMs07JZpmmzWffJ4MJtkR/wtHBj5M99dG/zTg7Pc1z6F8viLMuwLAv1BIFAIJa9LlFjSk2odZ8YUp4X6C2ZD7RhF+/uTMKyyBuGrsESbtlm5vU2AXNgmmR95TlBEEX6q3lvBZYu/wLhUYYO/xFxIS8K8IfIr2Xc2zuc557JvcHsWDa4N5gXiyM/+TsxRQgEArEm2AoYUvhpAjEwdZP6q7AwwauiKNC1Cf5n3KsbA65iGBpYdEGUaOxAR+Ky+MDBtAUnx2OxMJu5rKwCxeGmS+StUz+gCPF4NBgcBX4gCLzT4fH4skRRvDfMANgK4bOWmkomk/FUKqmqKcLTOAs4iyjZZVlRFKdDcbI7vOf0hRFHEGn4GY+Hw5EpVU3C7ABlIcItCD5/rsvlvSeahkAgELY53u39GSpgnqlpmIlETE3FU2pS01XDABfd5MGfFiSZQFEcLlGQwTm0iLN994YQ7i6RjEVCk8lkzGbZHE63x5thtztNy7A9gJGXuxlxsSYDwxPjQzOroNeTSYjLbU+JrquhqQnGfkJTAd3QMrPyBeFucxeyJ8TzyUQsGp2KRqZisYjNdpMbkOxOj9vn8fidLi/c5D3kvMwzoITSFg5PjI0NphLRG57I5fJRWoPEBYFA3FW6AuaUeLXEiUovrRYJBadpDIuy3yd3S4MZZiwailDLn0zFbHMTIeCBZMXjcLlcfrfHD0QGWA7NH1j5keT4WCw8NtKfiIfZi5HIZCw6lZtXqjjdd+EeHmDikkomgLVYllFaWjo6OppKpYhccjNyeEtUyEpHwIAyyHYxKytrYmIiGBgBPuTxZNxlwQWeFA6OBSfH4lQ4MjyO4lxfts/lcztkSUiktPFgdDgQ6R8NTgbi4dBkRmYO/JFlh2HcAw2EGwaHIBELq5pmGnokHEilEptd4h6P5Jf4UdV8fzI1bgocbhQhEIi7aprIvjqsppqq6lpS08BEaQZNXgQ7L0qSTP5T4P8ZXbgPEgMENZUMTY0HwwEtGYcXCzk+R5CzOMEN/2izJS1z0mYGTGMklQjBn/CkN5rpz8h1u7zw7yt6/+z2Eono2EhfIh4pKSl59tlnwVv+4IMPBwcHR0f7ikuqadbLAxZ1Ee/O3MKPZDIOHNnlcj755JOvvfYaEBey+QfTehtbRZZFpsWiwutyuffs2XvixImhoSEQI5uHbU5Zd+X5SOLOZGBkfGwQPIHCbO/O2uLN64vWl+Vke11eF+iYmEqpE6HYwFio6crQydbetp7R8bGBlJrIySlWFDeNu1h3Qcdo+IQwxlQqHpgYngxO2Mx0yGerW/p/1nmezrLbBG4opnfEtdEYpuWu4FzcrzHvlX1qzPVGLLjK8qZlJuPRWCwCf+KJhKmnbLbZYWnBxssul8Pl8jgdbofDTYPr9yb6wrI244lIYHwoHArAK9WctFmybxaUQkHMtPEukiLIwVIXsoxxy+w01NN6sk1PhUMTQCZycgp9vmyyhK0Md2GnQ+Kx8NgoYS1Op/Mf/uEfvv/974Or/Mtf/vJv/uZvYrFwIh51e3wPnFLeOnGxbDcnHHN9dG7mB3yfKGZnZ8MIhgkCdN75W5Y5jh7nJvtENsvtdmdlZcmyPH131l2TXSBOgYmhifFBeMjttcVff2Lzng1lfo9DM6yUZqiqmlS1/5+97wCPo7r2v9NntjdpVa1qy90ytjE2rmDTTeg1hBJIQkl5Cenv/5LHe+mNJEDCCy8hjRKa6R03DO69W1bXquyutk8v/3NnbCF3gWXzQjyfPlu7mnLn3nPP+Z0Or1kS9laXhmZOrD5nSv3i5VuXrG9KpJO6ppWW1nKCyzzpPiMMWzRNUVVgBCid6gMVIUyj0R6GJtBeyZjlYxYGOOzdssycYRnDMX9HW9l/ZUMOvLppWrKsUBTJMMw/J+T6KJhL03TgmDzPnZbQn7BjWLa5o1YpipTLpvpTSU3BbuuID0UDyO9CFIk3jmGivGT0paXutFTI9VO0EAqFff4Ixwn2KMxTuQtsTxZZKGR6e9tgNAFEnI34CynPGJ5jEKEiC/CKhKfGoggioFHFGjWBYefwrnd18U1N3KHKsZ420zAC4RLbYG+cjEHCfPb2tIlirry8/MILLwTU4izWbbfd9tBDD23YsAFO8HgD2Bt3EsHLke99IlLgowMXbMfTTdCgBkCJPTqCZWlgx0ebBcPAVpbJkyevWLECCBR+hmViOI4bN26cIAjDlWL9IbATsgBrA2qhKeLcqaPuvGxmdWkwIyq9/TlZFEEbYDjWDjI3cpqRK2BxNaaquO76uTVl4T+9tCaeBjjcVlZZT5H0SY2BtaOYc/3J7mwhh3Cik0EhdHup++5yt4tA327JAW7KGiZLEhyJo16sE94zsBYA2gzDIkliEAkjiiJgvf5ldUqYFttACFDVVDX1nwu7wOABf9gaCAVKyND5FlwIl7hcfKEgwiufdkF+klCLoqiAxT8oo4B1H4umSJZjh6iXOvmlhXw6Ho+JhQxHozGVaEodmjEKTaxBpUFEU/u5RzyLtrahVbvR2r1ob0yK93XmcplIUanHEyRPstvlA1XVflVD18RCNhGPSVK+mKBu8vmuDvsBo3T3KDqJZ8FUMRslWcJAllBO6wTSMqZPIa/hvBNo7n/kzDpd7u3rBAAUCEYdt9cwogfHupnN9APbr62t+Y//+N7VV18tSZKmYS2aoqiqqqqNGzdqmnyyJ0zDhzEYqFjYVwJQgaFxFvBHeWX6o1EqPKu2piocCQ22/VIkCSpVLNbT2xuHeTlccDrXgjA744wz4N8dO3bAv8gOYYW/AbGylE3y1gdgiDjYcmKbvkiYBFlHB06yABw0NDQ0NjY6q4LsUjGHXXqS0AB2gcHmgd/PGlf9jU+f4+bZeDpPUJSuae07d3NuV0VdHWAXe6nw0GBnJXKiV+CunDcBRNjDi9/P59P9yZ5ocaV50sYMe03XlO7uVkXKR2hU6qIyBgnb6vwgV+lhkGa6SSJj4kI4xEF2so9+6Lru9/uqqip4jtMHoUmYhHy+0NzcDpLsX0162bYWs5AXR48ZecXlF8NOefHF1wuixDD0P8n4ga5JmuYdzjN0WoW19nm9CxbMra6u/Ovf/tHV1QM6xmno8slALYLAjx0zigMWN+h7kEiZTLatvVMUZZqmhmLDA/Wvu7sNgHFlBF06HV0/B51ZjxieBvGg64ZpYN4EJ1aX0NPGolvP1QG+PL4C/WMFau7NdXaI0ZLKUCh6CnyRhJ1FLIrAtRO5XBLmIESQNzK+L8yKlt8YiO0QO+9XLNWkXZS3kiEpotClqaI56uqg/wyu9e+p1jdyOQ01cOw9fOA3chpjl95OYAt+f5iiB9wFw7NbQQbJcgEmbe7ceTfffDOe5GzWmW0Q0JMnT168eHE+l5b8eZfbiwuhDTfsgxvCg+pqa8KRoDVQyAbAHEWoqtbREUsmUx+N+32UawAcAL6+9dbrrrrqUvxULJKd6B5GVQs/+/kDDzz4qM/ncZDKALxiWA57+xSlt7e3trZ21qxZEyZMkGUZEyRhRVhjhN8KCkAUGraa2KYrbIGw429x9ND+xF2CYriUbHWmUVyh7QppJjBBn88HSnxbW5soivhZ9KnQYmFUsM0Ac2iaUhkNfvHaOW4XmysoyPF/wWvAftMM5/X3L5rjJzDMTE70e1wXnDW6rSf1zNIt6VTc6wvyvOckOYxgAJlMQpEKQYr4zgjPNcWuV/ulB7rEuGoi1czoZpghS0jEkki3EHeoQRT0mA/HDuBkWIizz57285/+ZzhcDCRj73dTN3SSINeu33zXXd+CLTR0lf2TwuUBtIllZdE7P3/TlVdemUjGe/p6X3t1CU27/+9jOIepjR8/esE5c2BPbtu2Y9ny9wF5H3fgjoXpzDMn3/f9b3C82+dz/fRnD2UyORB4pwX/P/sBmmdtzYif/+x7AEnR/uJmDqJl1q9f/81v37dt265QKHhM7oHzM3KZVCzWQiCjsQb9+zXosunYN5TOgxrrAi1Ul3IWMEYCR+fRvBupyJQz46vQj2rQwonovn+g93Yavd2twKSC4dKT6fXArybms8BL0+kkTZluF0lp5GW66yKD1wOksMAd9RJNkXSqVfFUUlO+FWVC1OpvdqMeLTpNcM/19i4RKa5A8qhPN2oJ+lbaZwlou6r09rQBgAgEi9weP0Uxw+TzchJf9tfBcwwtPM/jome2Jnnttdc++uijzc3NPT2tpWXVLMtjOX5i1UkOETog7gN+/z1337Zo0SW2gcIORAApQLE9vb3f/8+fPfXUC9Fo0UdYL/qjDci2c2AfPcxNLp9VFJuqEC1JBUVRD9fWYWQsw3O8CwDg9u3bKyoqQGi58eHRLKLKo44NSG7a0HDlMxfh1PVDFlApUC3Od8dU6wSW4vz3ESQaU0LuTAvteda+uekYWnbs2JHP53jezXI8Osmhj44JNJdNA+Zw8+yVc8fXlgb6MxI2IxIEkAbndo88o5HEdYc+sIbBnOUymb6uLpfHS1dW+j3CxTNGr97W1hHPpFLxslLfydOVFUWCX84PcXeUuT0CXZJXiP0xbxYIpduLGFhLU9cMExk00SdpfYoBZCZKBV4QYdh2KM+HiByC8zVNTybTFqIJgEMWwTAkwFmCAAXsny+IfViWQBQlv9/75S/fcfnllwKqbWral05lyX+SrhuWbciePGn8nXfeAR9fevnlFe+uhiUGLjCEV8e2WGBVVVW11117ZT4v/eSnD8C1/yymptPHsdcXiwKS1XUZ8Khh2HoaotLpjJ1+cRxgCwxTLGRiXfuAz5/biH5+K5pQjbIFpGKWjwg1D6oqcCYsU2yLi6lJFi7ihpJZxFDonIloRDG690/o5XWot7edoll/IHySOD8wc11T4SkgxYDqL5oVbBjtUVdI43YROk1075RqtshMMe2rZhKtEozWXc7QxTTJIFcpLYBe2Ot3jQjUXtHuq5L71kldS/NjOPYH14x4JpN7+rV4KpuRpUJJeU0oFNV17cRfAe5A0QxI2Fyuf8mSJc8///zs2bNBGLEsyzAMSMxRo0b913/917333tvd3d3Rtod3uSORcgFnRw+j1YcEOS4WxGSy3/EYA214QD5TAqAF6gRY30dlHCCLsKvbVFU0yGV7AAAgAElEQVT9f//49yXL3qOBZBgG2FN3d5/Xc7gGaZEUGQhFe7tbtmzZAsBl3LhxIOJlw/LRxghOJAw9o5JOrVbb1GL4otUVY2e6wmX5ZCy24/1sbzNJMY7dBWaVpqwqQe3JerKAIwmSZWm47Z49e4Cgff4ww/LWSRSN+2uf5PPpvr4O+FwTcU0KU9vWbobtxQI8c7sEj4flec4l4JcxPqjwA7tUkaR0b9zQzXBpiWaw5dHgOdPq//zKesDxekQmKepk4S176ko5EmMT3ZRNVMxSYZq0MFQx/MADWE4laErXulXtNZGK0Txtacl4VzaTDATCgUARTXOWrc4MZYIEQdi1q+lb37kPpkFVYB+aEyaM+dpX7/J4PA7K/Fc7sJvXMG75zNWXfepikmQ2blz/gx/8ctWqDY6/9Z8EelmiJFmWDHwjnc4e8H4ej8XQlKaZb7y+RFPVH//wuyWllTd/5ur29s6//u1p+NPpYJd/ejsismyPPwH7/de/faQvkeCwcKQBlMfjKdjvx2BotiVA7u1uBY7fWIMe+gKqKkb9WTtwkrDlp2FahmKjFsL2s1uEoQ5YEzSDSOaIyoj56zuQqKC3Nlk93S3AdoH3ngwuapomw3Ig2gG4RPz0Nz5bdfa54R0/6In7WV9NSOqJ967PjrgiEmrgW9/NWLqliyaZxxgr0MASLgYZ0epPV6KcBwXavCOynStyzFh2/p3l80i9u1N+6b0Utm2DQjMcqMXR50Eyuj0BlyvV0tJy8803z5w5MxwOT5ky5cILLxw5cqQkSTfccEOhUPje9/+ztyeWz6Z0VSstqxZc3mGJtsHWCpZRNe2RPz2++IVX4X6iKLs8wo3XXbFo0SWmCYLooz/iRDQey8mt3bevdfnyNYwdrAeECIKKs0M6DqdSvz+Uy6YK+dSbb75ZEMXRo8eQrCvi0TnKtPb39MH/67IUqhwzdsFnvEUVcFl4xJhI9fjtbz7a376dZl2O+AcC5ikzxGlJidUNefOW3e+uWC6Kotvt9/pDsGAnL9AV8JZu6OlUPJnoMg29yMudPzpcSCYKiu70JsKeLZoOFkVKqkYwB0ehmrrhi4RrJ04AzAtAT5Q1F0dPrC+nyY2GrsJ+8HiDJ7UknWbaoXOGNUZgvldF1ZK6ZNHUxKnEGbPIyho3w0nZTHdWiuaNL3R2Nu/evWbN6kwmG+8D+NIfLalyewNDJGiQSaB+rVmz0bZMmg78P2BuPUkmgf2KwmBZ6MRLHVs4Dn6jDyVHBy4cylX5fOGc+WdfddUit9uXSPQ88r+PrVu3NRAMDCV6cdAJQxrgR3ujIb8O8WFvC9QONPDuu2t++9Cfvv8f3+B59+fuuHHz5h3btu867TD6xNhdRFFav25za1sniAB70WmXSzhG9KVjuU8n47Ishb3oF59FZSGUEREteC1dNXTFFgf7wRFJ0yQrmJpqavIACwGABBIkJ6YicPmt6NIfoNY+I9kfKymtORlvSFG4+KyqSqArAwKQCn6UNkZdWdTw2Qmkp6jpkVW5pibgreGpnoqdrshkP+3WLE0HIRkexyNSQIzHiGeQFKeQ3v5KxiyYlRd4kQf1t/sCwWKezcmq2tfbBkgnEikbFilgQwehODqir7ddLOTeeust+PLJJ5/8y1/+ct9991100UWyLN9xxx0GQf/xJ/9vR0tXQc73dLdGS6tdLi/2bZwwdsHhIpa1d2/z9u0aLHehIPr93nPnzzpxk84wmGp5ng8EvDT1QZbBEV8Yiy6KCUdKJDEDCH350iX5eOe0xjG+UBEooHbjRRwTrikKxQqlY6Y7qMU53MFo9ZTz+tt2WaZJMzR5wO7iJQtcIbZm7faNO/YqKl7pYDjKsvxJTYvP5zPx3g5JzlMkWRXxXD2j9ozaqGoRPooA/UBRFBUAVL7Q29nlC4cCAFwGxYvhYCWaCRYXmXaihb18VFHQU1Me3tuRsBOVT45cHyRm4DfJsGoEks4X1OIK8pZ7hctuIjje6QAJBDvN/nGO3bt3//Wvf/3DH/6QSCQ6O/aUltX6g2FzCKnS8H6AXbxeXBnZiXIALnYy/BfoQPy8rjtQ1XIANLIDhJ2Jt03ZxBF8H+b+zTkQgHSgzxRxjGcNLKV9+X7CgCccTZbbTiKxJFp8yy3X1dTUwVWPP/HsO0vf5QUOmPuxucP+pxzY6E53r6ON8MD51sAWPPYbDbzXgan4gFjsMC3yoy3H4egHvgdlRpaVV155u3HS2KuuvLK8vPILn7/pm9/6b90wSPJ0j/pPwkFSlMfrBsk0OOP92OQNgjPZ38tQ6LML0YzRSFIQARiFIHXczM4aDJUt+xtQWQdlsWJqJ3E4CKVqRl0J+taV6K7fW5l0Mgg4QPAMr9EFtFFFlro7mySpUBH13P//zl8wpw6ldtLeTkT1I644PL0yvqxXbS1EppXMnDqOCvMouVHr62W9lL+OJeggIhjCyhF0DmUpxBbVLPJEpjKoQJdWjn7kx5N54aVHnt5EUqDqCsNlhnSc+4LgqahsEMWMImHUlc9nt23bdsMNN/zud7+74cYbFdP8zMXzztjR8MbS5EM7lW4pH+vcGymu9IH+PzxJ2gQoJ/BD2FECPp+HZYchAvWU9irSdTWZiAG1CTx760VTz5s6MuQXYG5Ngly3s7OvP9fYUF7koRh3SPAVHXK5y1/EuTy6JqZz2tod7QGva8royhFBui4Smd8w4531RX96eV0yK6b7+zjOzXE84IJhHr9dJiiV7I7Hu2A5fS7uwhkNV80dFw36DVjg/VINw1RVlPOZNEhrl8djosNinWBkuj7YTsATKCwQexGIXu1kBH9gwbC/L5J14BtC6u/Xq+qF/3iImT7X4SDLly/PZDLz58+PRCID1zY0NPz3f//3Nddc86UvfQlO6I41gwLh9Yb/L5QRA1wiSTiXz94VZDRa5HYL8E0imbL9mCgSCfn9PlGUk8mkqmqDs/RVnMxv+HzeYNDPsiyxv125mc3kkv040H1wWhxMoKppsiTbZUh4lqXhboIgFBeHYRPiUKec2NeXhGk+YrgxUIssq4s+df6UMxrhZqtWrXz++dcz6Wwg4D/2NMJTQP2KFsN7uZyO6iDm+/vTmUyOwYmE1CFXw/lwwzDAZb/X4e6apmcy2f5UhmPZIwajwPmAJwBTFhdHBuRNoSD1J/olWRZ4/sPsbk2S7OYshMUywH/xEwePEOYqm83++S9PTT/zjBEjaubNm7lgwZznX3gNZvK01P+Xs8/Y3nZRzFqmXhFFty8AWkWOvqkW0gOGlgE9Dod0SrkPVDD7T5ahaYUM/GJgtxFaNA09+jZatcdMp+MlvGfYE0sH0mIU1UylchaFCN8olDGQkkBqv7umSEuOUFLNbKlKkRKSeES4QYnwVDHuUthZAZC2eiHB0LJJlk/+7jhkZVF+k6kEyWigZUfvvjZcv87rDXrcgeEt6gGYD3aizxdCvjBMiSgWemLNspS/8847dYK6bMrI1Au/ZZvXXFfHujn6F1vFWEGJde7LZ5LBcAlv1/cblKvlqDkfP/M/pcFxmUyykAceSn312tkXnDUGM3TNiPjdb61v+vWTK3qS2QXTRt12wfi64ko7n/kQSqcEj6+vO/3w8+veWrOHY+nvfXbhjHHViqYLPHftgjMCPjfcJJ5Ou7IJJlw6vDn9dj1HKxHvSiRisHaN9WW3f2r65JHlBiZiHekHmfU4GJBQ4jQORwfroA4FDCw86CiGrqZ6YiCBbUmsDjtNAGouFDKpZE8ul8ZMQSEshUS5HDlipOu7v6LPnOOc9uSTT37lK1/J5/N33333/ffff8hNJkyY8Le//e36669/9913e3vaed7DMPzH2OHCmcHqqhHnnz8XVvnpZ16ecsaEr331zhFVFdlM9sc/eeDxJxZfeMH8r/7bF0aNGpnP5/74p8cf/fOTuVweII5hq/gNDfXz5848Y8rEUSPrANzYIha76ltaOl56+Y3Fi1/LFwp2SDI+crnCyJHVc+fMKi2NLFv23sqVayefMeH2z95w1vQpgos3TSvW1fPkU88//thzIOwPKVFDYE6hlpdHz1s4NxQqMgzppVfeam5pd7lcx+CqcE9FUUfVV19+xYVz55xdVha1bTMIvtyzt+kf/3hp6dKVMMIBnATni6JUUVFy1ZWXXHj+/MoRlSQuxoO/3Llr7wsvvP7Sy2/B2x0oz7h/YIqiGboxa/aZV15x8bRpkwN+v228N+OJ/mXLVz3x5OItW3ZizHS8IDp7ivKVI8oWnDO7qCgMakNzS9uSJSvj8STAl8GbCM5sbm595rlX/u3L94AiePnlFy5Z+h6A5sOrJ5w+PvGHYWi5TJKl0SXTiKoKIZ+T9zd3I/ZrdCSu90NauoYt6MQADiFInDaMOwLs/9LZAhYRCrmumCmv2mPk81ndUGmaGUZuCtKKF9xl5fXdXc3xVO7u770Ku+em66chbgzKtyKjnwv4A2PKlFgcyXnE5BAZQqQPWYS3imUjXkR6TUVl2Iylk4bpJXDeSd5iPaSnAnHcKy9vf39dJ0nzAFxImtSHOwpwkNAhXIK7tKy6rWUn7LuHv3/v2AXlQrxJR2TaIC+qpCrcnod3yst61GwulStkeM7lcntZlrctsBSNGy7wNHb6E8Nbdeb/LHAhQMCkU3H47dwpo86dOgoX0QRaI0mGZVq7kum8aJhma3eqrz8/ijwCUnbKdRZEZU9bH5wJcKE1lgLgQlKkbpiZgnL+9IaNe7peWL41k00BuuR41zAqB3Ckkz1JG7WcN33U3ZefXRTyiPKRo6iOCJjgTXHYlQq0S1Owo0wLUAucmeyK9cZ6DFwVg6BpdnhjFUFSJBJdib4ux9xSWYqqK006mlMImvvWb+jp8wZcSPv27Uun045vKJlMhsPhQ2agrKzsD3/4w3nnndfR0ZGId5aW1X2M5dvtXWjV1Iz48pc+b5h6fyp7681X19c3wNxHIu7LLrtIVpRbb7l27NjxcG4gELnu2submvY9+9yrjsOiqqrinrtuW7hwweHF34KBEKC08ePH/PBHv85ksk6pNMBzNSMqPn3jNZWV5QBKo9Hiz93xmVGjGg4sllVf7/nSPZ8vLYn+5CcPAGHTB4lhQpTEGWctqK+vhQ/rN2xeu3YjYAifz3v0Io1AKfr558391je/WFFRxTCUXecIHx4PmhGOjqyv6+qKrVq90XGBwT7KZrPTzzzju9/50qRJUwZbYj2eYCRSPHVK4/QzJ//wJ7/JZQsDf8WoxTTuvPPmW2+9PhwqHgwd3J5geXn17LPP/MWvHgaQ4fN56KMDC5iEbDYfCPi++pUvXHThBYCN0un+X/7qwVQqfTjiAaQFz33n7XevuWpReXnFpInjGyeNW/ne2mM7s04fn1DgYoD27xbQrAkczXvM7MGV0CzEMC7YIZquH1TXC1kAXAiKNjR1MMWAMLEobl4j4pmCrAIDkGmaG94S6rAvBZD65TXdXS2JTO6Pv353om5Nml1r5klk5olIHxMOk0Q50loRmUWWjigX7eJDYzXE+hEpmFqK1ADQcLQvhAzNbO2yRJIqko2Nu5qW75Mty+1ycbxgGuZJ5p0moA+aYVVFauqKr9qcXTiCx8VyLJTVrNFB6ofThDdjzPOtyoYEKNR5SSoMCGDsE6dZj8vj84fdHj+Ji6Z+PE2CTxFwgReWZVFRRI6lz5veAKqsphsA3OLd3V4KR0w4fm6c5mYe2+V/oOGyndOf7U/CKntCIdO2rS2YUr9qW0tXIi8rMsu5hkuyUhSdy6aSyV642zlT6r98zZywTyjIxwLFlK0KD7iEnPLQvR2dvZ2x6IiKaFUlzTIAq3tbO1KxTk238nYiuF2SkRiuCYd/ksnuRB+ubjRzLLr3ajRlFAqysodEqoGI4NsWmk4g9wA5D/hfjmiohAUaOXLkd77znbvuuiuTTgaCUcHlcZzPHxN2cdLgFYD9116zaFRD3SN/fDTo915y8QVV1RV33HHj2NEjH3viScswFy26oLS0fOzYhtffXKHBXFsWx7LFxWHAJCvfW7l+/eZdu/cBjnR7XAsXzDn33NksSy665OKtW3Y88Y8XYDLgIw4YN02aBg2QnDx5wsyZM2pra/c27f7b35/p7u49f+HcK664GIDIpZdesGnztmeffRUk/cA4NU3zejyzZ50VDuKunytWrO7sjB2jWq5h56DNmzvzvvu+UVwUBZLo6e58+rlXt2/fDUQ+YkT5RRcsGDmqmhcG7DqAG7ITJ479+tfvOeOMaYAV9jbtevKpF5ubWuEdzz9v3vz5s91u96JFF6cz2Z/+7KGBqkKiKH3h85++9ZYb4SmWJb/62htvvrE8nc5Oahx7+WUXjRhRU1Nbf889tyf7U0uXvhcOB49GZoWC6PO6v/XNuy+84FyXy5Xq7/vpz3773OJX7MDAQ4P0HR2gta1j7dpN5eUjvF7f7NnT3125+rQUH0a5NERHg2NQ/Lj8RPBkWQaJaJb70ZmVSi6ZIGwLLpALZzej10ikSTkLiyiTIpCdSoRY+0+6kicspzyGxdhFojD3tEwlmy53WRMr0dpmBOLW7Q4Mu24F2MXl9obD0c5upaM71f3Ye5NWbC0ohkUa3AXjuatKSavEyvYSegaPlOApweOvVhAKA4xBWprkZFWMMi6v1Z0W/7RP7875fDsLBb2/Le4IGgrHMpsnm0JIkiktr+uJNadl8b7NsoenZxQzpl2AFF6FJolLRrBzSug9GXNDQtuVNmIFs181NIMo6KaqSmlVBoHocvuKiitgNuwIh08icHG2h6apMGcega0tD+uGSbFMJpHs2NNU7JsApLU/M4q0sJZGHFlQ2Robadln4spXJKGrWkdza1ldHeiVum6WFvk9wNCt3DBOJQhsINZsJqmp0riaks9cODUa9KbzuJaA3dr6CJIbW85TKaADb8A/YKbDAfI0BUiXxGHMjKnrvW3tPe0dHE2KmtnZXyBIiuW4YdxnuKSvXZPx6tno/i+ioiLEWFgxwfsfpH7rbwnKQLX/jiiPg1cGyNr2YhyZ0914443/8z//s2njxnwhzQtuAhEfo7fTtANyOY4BxX3N6g2//OXDc2ZNnz9/VnEkWF5auWHjhvvvf7iupmr27Jk+X7CivCwU8Pf2xXmey2Tzf3jkb7/69cPbtu3SNANXHrJ95m+/vfyb37j7yisuYVn33LkzX3rlzf7+tGXRxP5IXpgiYtSoeoYRli5d+uMf/2b7zr3wl40bt4F+d+MN14dCgUsvWfjWW+/qhj5golBUtay0pKGhjmH4dDq5c1eTJClOZMxRpI5ZXVX+lS/fES0ug02zevW6H/zo/t279zmBxrA7nn/+tUmN49raugSBs9s4yICTrr5q0fQzz4QFenfl8v/67/t37NjDsAy80ztLVn76xiu/eM9tgkBfecXFS5auXLNmI8PQhYI0deqk66+7org4Kiu53/72kb/9/VlALRRJvL10xbsr13z93rvPnHZmw6i666+7bPOmbZIkO76qg7YGQeYLokvgv/GNuz516UVutz+Vjv/k5w8ufv412Iw8f8TUQkRSJEzXipWrAeeB6GycPC5SFEn1p205ehp4nCinHYgYJ45Z8g07Ykj0sUy4Iw4KhWxfTwf85uaQP2x5NRyTSNimxV6EBIRCWPKbLIEAAmRMVEQggC99dnnMiGWBLAHRBcAnaxHFBP4dNieDTIVHFcVoXTNKJro4jvfiLjzDDV5gDIKHZdg2WW0pqCgrWYppqpoRiyMti7gAwZcgpQMZeUSHEOUmWBmRXhgggftDI0oIEyxjJBJmQrTSCmlYnaLepWD2CwMmCGrYozOP+A4ul6esvL6rsymjiP+1QfztTHetj1Zt549h81YvTUyJ0BNDlGIgHdtjLPhrXDabMuaSmLqyV8/lUgqgsOgIr6/INE81djl1MS4HMn0IYI40w6YTyc6mZlmUCrLWOKpixebmnS19Z42rqoj6Fc04EnbBLjWfhz/vzFGPvbE+EvQ0jizFhWQkuXNvE4BvV2UJRQJXtBsLmMZwWQhJks5l+zOZlItnFk4fNbamtCAp6Xiit73dHwmX1tTY5X0P2paGrnfs2aspanl9fbikGDm1lE0zFI36w2FWEAC19LS29bZ3gEgEzaEjJUmaBZJGENymaQ0LawA5m80kYGx1peiXd6KykgOKyQGDK4FyqPUhxNCo+jsIuc4+++yRI0em0+lFixYdDbggHDvmvfTSS7dv317IZUPBEoBgHzuzZhgWhPqTT72QSCTS2Ywsy3Yoifb8C6827Wutq612Egt5AffoNrHhhM7lcsuWvW/Y7jOgnIGS5Mlk6rnFr52LAzVc5eUl4VAwlcoczPVIhnG9v+r9n/3swS3bdsJEwTzH44m333r30kUXeL3++vq60pLiltb2AeBi6GZt7Yji4jBMeUtza2dnzCmDfcR3ARzGMMycOTPGjZtgWVpHR+dPfvbA5s074EvnEhhMfyoNg6fs+o/wESDFtGmTZsyYDu/V2dny2GPPrd+wJeD321nWZl9f4vEnFk8cP3re/HmhUOiceWdv2rQNUAUcOBSmshzu+drrS5599pVEIul243W3NH316vWPPf5sfV11KFQ8btzoMWNGrlq98dBicQQSJRko/0tfuv3yyy72eoO5XPoXv/j94sWAWjRALUfdULiagNHU1JJKpcPh0IiKirLSaH8ydVAo5unjI+B4kB6avnDB7BtvvBKWUpaUo+EShzYe/sPf339/HTpg7T6V0AU3bsukdV0hI2TXTfzVbvKyjNLN4vrrXgv9maQnquZs0tgBslM311r0Epa82tIAsjxBMo2aORPprQxRYli7TGoZzVxOqBHTbCHJRtV8ysPtugqR7ZIeM0DbdLl8wx4+BaoFruHGcgU5v0s2cibBcZSo6mas34x1kjXjkVSE9ATSU4guwmohYSKa01MZmshbAMkAxNDI2NVlKRriKERTOxSlHdABxfKsi7SLdZ4a0xzPu8rKazradncW9D/uVr4zmXJRuJE1fkcbvpCADknE7KcO3H6pTCAnBMz5ZTRgF7gkJso93W2IIEEzPMVdAj8GwQOCItuf7NyzVxZFkiTykjqysuSr183NFOSa0pBAa7KsHAkjg3qt0yT5qTnjx9WWeAW2tiyS6OnBGR+yDEDBLTAEzRPDugmd6tH5fBYQ9biaipnjqoAKcWiArou5vODxHIAB1iA4jl+Q4/lCJtvd0sK7BLfP52REUzTNu1wgR3ta2no7OgGjuAQmkVM3d+LgEp4XWJYfpuXHKR7ZXIZj0FeuQBWTEYrbNtbBogG2s56z9v6WMExU991zFp735JNPqqra0NBwbEY2ffp0juPy+cKBllIfZ4S5XTeHWrN2zYoVq3H0OyJwVgsi163buPK9tbqmD7hUBofCO0VgcSKMYco4RVCzc2GQIssbNm7LZHNFRWUUdWgTQef65pamP/7xsY2bt3s8bvsEgA7Knr3Nu3btmTZtejDor6ur2tfcOvjC6uoRgoAxQUdXrL8/5aQoHy06CkTO9OlT4OGqWnjjzWXr128GPeyQYBEgEmfybasvGt1QX1uDC65v3rJj7ZpNuI4Sx9pRTbjMUl9f/PU3l82eMxPuOXHiWI/b05dIFhdHJjWO43m3JOWWLV3ZF08MlNyg7S4z69dt2rhh87kLFobDwUmN41et3nDwgC1N1VRVueeeW2647kq/P1LIZ3768weefuYlRVGO2/8ZR4ylM7FYTzgc8fk8Pq/bXpDTFpcTBC6YQ9bX18yZPXco57/y2rL33lv7cYBFx81jh6uoVvp9/X03u6ecP3cXzs00STRDJF8YpTdJzOx26i+lxvaANX8f3UIzcMEEnVhare9SmLPbqedKzN0Bc1Yrk9bpJsEqkogfjjK6ey39bc2UrQMOqeF/O8vC2gXP8QWEdktaTNVHuRmRpo2ugr6pjR1ZgyNa9AgyMjjMhQkik0fYOp8iLEVXw3RZyOpOalu6LcUgKFxif3tBj4HiitMVuVPmeHe2s+Pu6e1pe7NLW1ChzSth7DLnAyZtZA6WbHZzHli3CE9dVsXUeskfb1H3pJW+3jaOFxiaO5XpGvSpFzXpeDLd1S4BarEJCxdDRGhkZRHObjORmE9TDEtRzGFaAkXSHLBsr1uYMrqCsLBt0KkuRlKUKktde/fS4RLLHM6VB6Goa4pkp+E1jiwfURIsiCo8wBcK1U0YzziencOynQE8ldXXA2fPpVLxzi62jqN5DpgKjmvRMWrp6+gE+MJxOOh9R3euOV7AxV2CxcO4zUB311Qp7EHjqtEjfwLpij59NiooSNEHrbxEeHZJTPwBYp7quuE/Jk+ePJQ7l5eX29ZoE2RVMBS1K6F8bNjFCeVpae7MZnIOK3TmsKOjC38zmHMdbBWDhSgUJL/fN3ny+OrqSkEQ4KV0Qw/4fE5JtMNfyrlRb09vc0u7iQPcGNNxFyJUEAs9vX22+YcpLy89mDtY0eIIw2BZnkplQCc+WhF054llpcUNo2rhUyaTe+edlXb1I/Jwnx3aHzemBAL++rpqQfBoqrxzZ1Osu9ftcQ+Eh2OrDLIASKXT6XA4XFJSzPO8oqpV1ZVlZVEg71gstrepBUYFgGngleEtUulsU0vbucDaBFdlRZmTo0eQA6moyDTMz9/+6VtvuSEUKsK2ll8+BKhFluWhoBbbg6al0hnbPM6Fw6EDCPg0cjkR2zBut7thw7ZH/vdRmqKNY+RUYoUM7dixy9k+pxq2YJ2BDAQi+Wy/kpfV5WrJNuP/zfTN7MN6AKhXPgMtbCbdCtGYILaF6SxvTU6Qlm3Xpkm0ZRdF6cTEPmJfECXc5pRekjSQSCHBQLN3Uz/YktnWihvwwh4JBEuG2Jv6IzAennMhktknGW2y2eBBBEdaBU1Z0UmNbaYaG1F3Ec4tMguIgtM4U1MsuR8xJhEqJ2hKXrzZaE0jgnTRVKNZtkIAACAASURBVE4zdooaYAUfxzM4Jsw8pUthmoFANJ9L5/PpF1rVSUEmJBC6bh3FZ6LTrqCruF7Nxf2Ce3450rUN964jsrKUTMRKSqtPZcjjqQYuhqbH9rUQmmz3syBw63MGF7kHndep1GfphidU5g6VHMqsOZevqDITa9INF+FUJyJIniYZilQME7CLmBOlfBsgmEFS5sR5AaXoBdAtBZYuDftpmtRFTFgMx7J8GB0lgQiowe3xREdUFrK5eFcsGC32wfksi20tre19nV2GbmDHEEPtiGXf2N6rGZbf7/cOp7XNsus1maKCvvkH1N6HVW8piy6cjPwCBtFYnMJXMmE0e1CTbu75vZEzXXd8l/SEj3vrysrK8ePHr169uq+3A+bHFwg7ASAfr5GcOBgNfFAu1zrcTG1KkuTzea+77vIF584GnBEOFXEHoovgPjRtHTBPHelZ2MhBDmaIDvgGGOQQjONwGXyAKuUYsQAx2FeRR30LggApDgc8PZfLtrd3HrsPJQCOoqJwJBJycpf6kyncxvLgqSBx/KyUyxXC4Qh2OdGkqeuRUNBlG4GSyZQoSofsF4A7QIq5bN5pScZxByW7WdgTq86YMaW0pDgQDAPL+9FP7n/m6Zc1XRtyGVxClpRUKu2I27KyEsd2dRp8nBizwprg5i3bt23febzADsKmt4+n9B9h27ElKQ8Eg0zk4cnvXVF5TaVLAA3UTyPZQoZ1DU8gBptmykFKOI1g9gcaIJybR+DaX1WDa72YBFL1MskgRvi/+lhnLK4ahCkWMoLghkkxh1uawlblBRfNcu1KfpekL7RYmiR0mjZb8/LjmwUmSI4pR2kJ6SJCHjtyTabdeYsPksgrP/6+smwPNmvQJEuifQUMfTCX4AQK4OapdbhgCyvD+EPFBTH/Xp++L2cEBawnmUdZOdj4Wj6uK7mcJrIkMT3K3TSKenC7nMVF/6IcJ5yyPXyqgQvmeZLIcxQFeJOl4iklU1C9JiLtoFsFSNkXCY6ewbkDh1zIAm5pXNDetFHRTcY2KtM0EUtLmmF6WErWTewzEmWn8tgwrivsLl3TikKC3yuY1oHCRwf3oYK1dyKFB5gFYBRfJBwuLSlkMiRF0AwNiK2ntQPbWnCiCu3m6JZE4cXNsWRBZTlXOFLmWP6H0YcCh6SitXv2f/Pj59Fb21BtEcJRmxaSSRQy0FVZYqTXp4gp7YlHFN4n3PZNxB2nGlggEPj1r3991113bdiwwXZwEj5fEH18qdEDLPsQ7fNo5itVVaPRos/dcdNln1rklNrTNDlh9wDDihpJeX38MbCvkyB2+GwfSGIkDjeQDIzkuKWbcMcM7OcBno37hgIKOZ4RDhdWZ+3KMXCybmpHPN/cX35woNMXrgXnmG1UVT9ayyFDNwbq9R7ysvAUVdVYu0YLEDO8ckGSGMD1Qy2eZKeEHTjTOo1Yhm8jpNNZIGagxuN2N4xGIx6P52MxkUoS7iICyKk8IMyfEBrdUNThpxrGMc2tenkZzfrJXK/R2qIrukXbxIeb01P7NyRp2qiLsrDiaxHwiwPPdYIhKDTC47lsqvH6+sS+vkJ/spvnBc9JiM+1M4o5nuXycn63pCsGTnfSKRAMlL4lLv3Pcubc8cyEMOFDCJgJSVidXbBh9BZSW7NaW9VsybgpnD1stFs2ehQd4YK5/MdicYRV8HgCDMNKirgtpY8PU6xdYeHwoQCwNHVFTLaRNOeK1Ji6alrdi6q4F1q0DlG3K7Txpyx4gD7lhIu8AsOzlGFYibz63KbYWUyopKKUpxnFstyGEqWYcPdWU+w9xGgGxBeQCjW0kZRVkXLTyBRYalNrcvv2rvmji0v9vJejdYshh+ZtsQ7wzeOGbuHQToClloE0xbILzzgD26+g292qs8kkSBk/tngPtgGQpdUjgPsLHrdhR+MCatF1HcSSm6WbE/lnN3Q1xUWaYaPRSpfbc6Bi/ZCGDZr9UPrvAIT3eoOCy5vLJrvT2RfXYzsLQ+FVMAhURKPp9Wh80NBon5XLqH9/mKAF7qYvEscsgQMLMX369AcffPCrX/3qqlXv9/W0wUCAOwwvyToC2DFCDBffIWzU4vW6L75owY03XCsIrkwm+corb727cnV3T5/dNEAvLop8//v3Vlb4PwwXAwXFYjja4Wjq/hylwSTkGLkQQzPH9QZqgHAxBiLsxgXkcYEO3NwB67jYL0nhbLvD+psOxOs43QAIHAJlOIQE4IM4DDHbHcMAbTtlpjAmsw4Dilu37nr99SX33HOby+X/3O23SqL89NMvi6IkCEPqb0fTlFOWF87t7unB4Wv06Rp0J6plwbJOmjTujMZxsKyqph2N1ghs8zNXr9nU3h5zIk5OJXDBxrxcRtOUqpDr6qkV1RHX1o0669ITKXPvbu1Tl7nCJdTmLeqG9QrOwaE+hGQBsqQJNCYUCJ8pPLW+a3d3Lp1OuNw+kqKPgY4PGDlIW+UYEp+BfUSSwCuFPCL2iXqnYtQJNDZlMyTSTX1HtxFLa3XFVIWHiMQIEHbdbWpfv9FpmF24Jgp8gxy7q4U25dVuzWIFgeU+RNMuZ8xOM48Ttx4BX+J5l6qIezMGgEUXR6jmMZUO2wKBvSMWKhXIs6JMR4tRKGRCoShxqpxFpxq4KJq5sinJMVR/QW2OF7bFckUVaewjIqmQkq2y8sFCmlgXs20Xg33emNuCrK61UJFFtptkihKAejri2ZVN/b05ZVTUE/Vwkm5knfIqxLF2jhPf4Gh6JEF6cC/ro56MQz4pWpKV7o6ubE0R4w3o2qC6cyRpKFqsuVUqiPWTJ7o9ng/0SNMEcgQgrStKtx2NC/CFxaiFaornntsY292Tp2imGHeFCA+ux3+MYUuS5HTXAdwi8MLROt3Y00n5fGFcJsjtoxgG/s3nM6KY1zHFk7quanI+r1mG4SBri/D4rWxaefR+eBR3w12E23MM/giDOeussx599NErrrhi+/bt+ULW5fFTWNserkwuUlEUUZJNw4DNyfPcEMXhsWGLZRfFr6woPW/hPEAthULq6Wde/PnPf5fOZBzUCLy+uDhyuOvkeADRFHguEnaMN2pre+ch8KsgiqaBydLnc1NHt0kQuDOolssV4PB4/ECW0eJILNZ7RGI4AExJEbTXLI7BcrlcoVDIjrwxyAOFpzHsMC2vB3eQgY+iJMKbArPL5fN2YywUDgWEw3pIAfrBIQIBUBgJTdNy2ZyNIAezdVLTtT/++YlA0H/7Zz9dWVn55S/dCfP20stv2WEux1osx+zE8pwf3x/XuUn1Z5xY6dPg4wQlEODymTOnfOdb/0ZRLABa4uhWQ1iDb3/3vtbWTpuKiFM7Tl2WRZpEY0q8Eyt8GUnPZHUii/rjBnDWTRuUkpi+Z4cq5U2SRB/Kfu7QHMeQo6Lexkp/SzyvKJIB2+EoyY9OvwtFUe3+vjhCyOUaYngs9hdzvIBIeq+kNUlGvZu2nBR0QD88YWZEc02LvoWx1URsj0UyDuEkeBLH6diyjSNx0ZSteV2xUIATaJodIosTRRH0ZJtdmC4Xb7c0PtFFEXhXNkMlZBMgy7Hdhzig2NTFZIudUY8jphsC2OOoKDLo8AQ6RerHKUyHtg0VkmYu3tgFL1pQ90/2no6+jKQWe9gKPV2CZBOvh47LWeDUCXOAp5PYuUQyFMOaGq2ndrJ8f05u7kwADeztzcOPC88hEjULHbOzFzBKQRDOWzh37NjR+Xxu+YpVW7fuhuU/2vm4KBBFZWWlN97f19buK7O8IRyM4pS8s2wKFrxe2k5YPaTJHOwHRRT72jscWwtsDA9HN/fln90Y2+OglmhlMBS1BpnNjwGx4bQFC+Y0ThoPYGvle6s3btpu99858goyDFdSWo3Dh3EcrcnxLvjx6yp8hOfmcv2dXa0soQ7ycVuEL2D1J5S/P0CWVrCX3HCMwWzcuDGXywGKcoA/jQP+h433OTGnIFzPnNo4cmRNZ2ds46YdkiSfOHYx7cLhZWUl1VU4B6evL/Hc4ldi3b2lpUWwynDzVCpdXBRm2SGEl+6vI4lsQjBLo8Vjxoy0A1Nye/bsIw9uWAF6rYMSystLAQ3EE8kjFzixi/TDqHp649Fouc/rnTat8f1V65x6LYNbPMK6Y+sKBYiUyaSzXbFuAxc450eNqgvhFO5UMOh3TC8AYuCtx41r8HoxCmlubgdgxDAsXJJOZysqzLKy8qoRFdu27rQzsWnHbaSoSjhUab8RYJ1C074WbGvEQWkfDJvjOFGUH3jwT9Fo0aJLzgfs8rWv3S1JyptvLycIhTtORSJL4LjSkijCTbPFglg4ccXx9GE7TIh8rtDR0QWkYR4nOBdHZX1MdVxIO2Yc5RVd0U1g61hWWkiRQd0i1q4zKFxjnMTmxqMFWxzdpGpzbKQbZlrChksam+DJo6EW2Ee1NSMWLpgTCAWa97W+/c5K4ADHjS4fuAHL8RTLdiraHkm/AOOQQQxCYPFe0UwLFGlH0WRJgiIHF/JlKXJ3QW9VMAsFDERTtDmEyFyQX6Ma6s6ZN8vv97W0tL7x5nJYR5o+oVqCWNHFFlkir5mSHZl7PNOTZdqV0iwKV48N83j36thXrdtlvj9RwMUC8WaX4Sc0214tuFhgu/lcal9XcvXOzknBqgiNQC/NZkVFkgS3wLs9thHbMX1bwN4kUeR43u31+Cy1iNJf2trWHEvCXz1eQBKmqqk2BRDOs47INg2swRNnnTXl3797b0lJKZDBjBlTv/vdH8W6+46IAODpND4oWUWwEzLJ/rysRY0qXygESAWLLAvHBZfWVIFUBDGCY1RtHoybXZOUXCj0dXYlQa44thaObokXBlBLUXFFCFALNs0c30mUzxdAjH3ly3dOmjgRPs6dN+MHP7j//VXrj0ayOAnLZgADDi/besQgGpfBo2gWHTGjwB+04t3aW4vZhVego5gu4bq2trYf/ehHe/fuzWQysKZeT8AObhiesDLNNmiBLPzMTdfW1dV2xWJPPbX48cefA82IO8ECfbZaDwtH22sNywd4CHgoLJosFwAtFRWFb7ju8iIc63rUSuGwOUVRUhXFMHARl1xOBEQ1b97MkmiZZRlbt+3q6OgeTEuAtnfv2ZfJ5MLh0vq6GoBNe/e1AJqgyMNDYfDcJpOpzVt2TJrYCIrUhefPf+nlt/Y1t7rtXGXn6TBOmAe7nDl2uGQzuV27mvrifaUlFWdMHgcK9+OPL4aT4RyYSXjBMaPrL7l4IUnSAG6WLFlZKBTgzh0dsV27m8aMaRAE9wXnz1u7dlNLazuwQlhHoDQY25w5Z02cMMFGXR1r1m6CNzrECAwL4ff5envjP//FQz6fd/68WXW19V+/9y4APStWrHKQzdHMgXCrioqykpIimEAApl1dPacbRA+LnZJl2XdXrmlp6QDCMI6+H201w2pr7zr1026r6bTL5ctmklu6Mq9t7W2schUH8MZkKGywMHTMRA/0d/9wB+h2umHFM2hVs7q2pV83Lb/bR5FHFqWyLIfDoRtvvOqzt30a0E46nSiOFj344KO21/L4YhHYHcvyAsvn5cL2ggYITCCRZB5s/AGwYpck2O9fOdThirYVtD7VQCTNsgIu5HG8yFyQXx6P+84v3HLFZReDcprJpASX+9lnXwbeOJQxH5t4YJiygeQhlZEh9jcTtJ0i+x3hxAAk/qQAF8yqcAtfT0lpjaOaw+uB5AbVtqtzXyYdX7x086wiZnStW5WM7raWdDwB6KSorCxQXEyz2NWSSsQTXV0AXDx+f+2YsSzPx7riT765SdUNrzdYVlGLaxioTu0c3O3cTog3D5fLgApdLqFx0jhALaYpgXSfPWvWgnNnP/LHx48IXLD/D+AWJ8hiriutZBXTY2U7du+NlJf6wiHOhWEyPJPZ36/ABLTvGHw0RS1kc8nu7gyo1zh6l3azVCuOa4nt6snRNBspLg+FSmxLvjEEMiFAux0/tmFkfb3tg9ImTmhcuHDutu27JUnkjowwLPPgbWCb6PE3xv4CfWggv8UakOs4o8Yy++OWVCCO7nOdPXv20qVLN2/ejNvKgzJBHqSLn6C5BWDBxEljb7v1hvHjseAc3eC7/bM37t3b+uZbSwf3CBzkqTlUoB6VCO3+3sn+VCLZX1RUCmzrwgvOAS4vSZLf7506tfGyyy789A1X2xVyj5qIAIwjFAqAHuc0pobfL7hg/lVXX+ZUTHnqqZfgbl6f5wO9iqVBA25t66yurikqKh45snbV6vW6puMM+cMiS4AIgZ++9dbySy46LxSKTJw07t6v3fnXvz21Z88+IABAyYBgxoweOXHiuLXrNrW3d4F84nh20+bt69ZtWnRJRWVl1W23Xpfqz6xbvwWGAZrBpInjbr/t+sZGALvk5s3blixdiV2uNCVmpddef2f22TOiJWULzp3XFev529+fATQDC+r1es4/b86NN17h8fhkOff668v2NbX6bE/TYK5s1wGwAOvs2rXvl796OBjwNzaeMXbs+K9/7S5Zklet2QCzzTJHKBDs0MyZZ07mea9laoDSensTNjA6bXQ50b1D0iQsJQBZnPt2rPnEAsfn8wiCcMpj6rHP0eP1u7L+bCHzwpaY289du9DSdJxh+oHl5CMNyrBMAC6/eoF4ar2q6iYvePyBIixsjmR8UlUNFJUpUyYBagEVJhCIXHn5ha+/vgT22tCAiwkaoMAL+SyxV9TbZWOkixFNkzjcd3Wkl8Fi30RbRS2hWYzg4hjWHELLQtCUAwH/7LOnww1AgfL7g9dfd/mqVev37m05MdxiOW3ykrKZ1z8ERWA5TqJuEZsibA2fOWVkdIosLtj3x7DeAxkrTnQPoLxwpFSWCm1diWUbmhaWjxUIwtA0w9AV4Lv5gi9skDaJyIWCLEqmoWuKYtpG8LfX7W3pigP4CUfKKIqhKQLwLzEIDh8xagQYPQBq0DUBq3q9LgCqgDTGjx/jFOw6XP+wG4KzLjfWD5rjhdakNLUmkMqJXfv2AbryR0IurxeADbavOE0gTRN0cUWS8+l0NplSFdz2lqYoF0Yt4tMbunb35IFEiqMVQUAth2GLYxw8zzbta43FOuvrqzUNdG62rq46Egk2NaV5/kNzH1xenUSijjKGhXAtbUKzbO+HriOQ76FiJBwrPjccDt9///2jRo267777ent7s5n+UKQENJthacetaXr1iIqioiLsWJRSggDCMThyZPVrrxvWwZEQFEUCDCUI2k7Dsd12FAmzccB7hewiKBTDsI4BwEljbm/rWLtm45jR4wLByGduuhrYN6CKutrqc86ZW1Nd09/fB+RXVFQmCPwhKdZOg7f6upo777x5cuP4bDbPMNSYMQ2XXHJ+OFSUzaYee+Lpd5a8C0MaTHcsw6ZSmTVrNk6b2uj1hmbNOvONN5e1tLQf0SJt95cw1q7d9OifH//C529zudxXXnH5+PGj4bY93X1AjaWl0bNnzmhoqPn8nV8HbkVRIHqEjs6up59+cdzYhtrakWdNn/njH0VeeeXt7u6eYCgwe9aMs846C+7c1dX++4f/2t0dd7vx/MAglyx578WXX4cZAPL+/OduHllf8/6q9YAaGxrqLjj/3JKScgBwb7617JnnXiZtt5QTBmQX5uft+bTTVQkM3VatWgfY5dvf/hLM6uTJU779ra/8+Ke/3rBhm2FP+KF42rSKIkGYB5zCLYor3l1tnU4rGj4V0SUIbpcwROPHqZ95O+7bAl5dUlLVFWvWlbxqyiNrUT43DJo6TWE5apFI1WHfwSOqed51RDyADTwME0/0b9++q3HSBFzMmlQCfj9som3bdns8Q8oGAOrHPgSSblf13RIGLkMfKkcSimFuy+uyhQK8yw6EN4fCtzPp7Pr1W847by6IQZpWKytKgkGfjc2sj+xvtZOiWRCOKVXrKJhnRHDBXG1ovBxO25bCdn2BE06l/e6UlvzXDxZswKPdHp/b7VMUsTORyUqKP+iKlJULHlD2Av5wmKQpEGMMy5ZV13j9wVy6n/f6eJcAAn9XZxLhaMegy+OzM1GHRPV2c1pl+Yr3F7/w8qdvuI6mMS5yuXEKKgDwoyFrt9svuHzpfGpta39NsSvg5nKilkun85kMK/AczzvNseBMQFaaqgLGMnSdsmUmZvMM1dEvPr2+a3cvoBamuLg8GIqiD4NagLC8Xu/qNRuff/G122+7zo5XQPBM0Fw/wm4H+cdxAk+zoqq80a+cE2SLSCtt53JbhTwZLafnXEgcPSkaXjOfz8POv/nmmx999FEALnbi1bDRCTCUpqZW0Hui0RJBwMlKLa1tO3bsoQ82H9vxJUYuVyBpQ7YjSJxGLfm85PGITvFlx4EFCEOWJfgGXp3neYARzy1+ddz4MZMnN8JafO6O2wfu2dS0+9FHnzjnnFnTzvQVCpJxhFhjfIfzF54PP4O/bW1te+HFl3/3+z87lWcHcz077p9YsnTlZZ+6YPTo0NQpkydPHtfe3qFpGnMkgwRQiKqqf/nrPwSBW3TJxeXlxQ2jxsDP4HPa21szdnk9J2NI4PnlK1b95oFH7vrCrTU1tXV1o774xVEfmMQVeW/Tnj//5cnX3lgygJYA+AK0fvB3j/ICv/Dc+TDVCxYshJ+Bq/r64itWrvj97//a2dkTDPicSnrwj67puVzOvq1ix3ji9mHBYODlV97yBTxfuvvzZaWl06ZNueXmaxPxVGtbh+tgIarroHSgGWdNGTcW3kjfsWvP2jWb7My+0+aWYcMu/8dxoFP0mQeW6gn0y/lUDhnK8HRxtkwEokDTsBcGxIrg8hyhQOiBMYBmEu9NPPfcK5Mbx40dO9YyNeAgoAZ8CBMXtqfyFMd1ytp2Ub8kgoaYlWQb6VGzZLbIdoALy+MQE2so8otMpzN/evSJUaNqKyvLcIywHXB3gnMHbJPFksylqfJ7vfq8UjaCE4ss4rivTxB7c8b6OI6LcXkCdrzwJw64HG0NARQDxexKiB39hcpid0lFma4XOxXaTV3Da4KT4qhgURh+cFtdEnUkcpu6c7YdwvWhlsyRK6n+7AvPv37pJecBwzV0o7Ozu1AQOY49yiU6QBN/ICSJ2a1dmdI9/EUTSgWOUXQKV6wGsSBK6EDOhZOmROJmiqwttAieImNp6R/rOwG1OHEtgfBQPUSDD5alU6n0c8++eu45sxonNcI3/XbpsI/QLchuPsD6fCEY+mNxqYSl7ih1F+N8bB1FSrnLb2IvuuYYl8fj8d///veyLPf09DQ1NYFgdrm9hwQmnwhT83hcu/c0/+WvTyDCihaX5Au5J5585v1V693uD9p9O/E5ra0dv/7tIyzH7dy524b8XFdn9yP/++ei4vDWLbsURfX5vC0tHX/525NlpcXbtu+C6bLtDcSGjVv/4/s/ufWWa8eObiBJ2H2koua3bN7xzHOvrFu7ubcvsWbtllQ63Z88vPMf2d7e2dHRFQqHXYIHl8OR87v37Hnl1XecKrder+cQs5P9Rm5Q41a8u7q2thqg9sUXnbt+w9a21g6/nz6i9ZVlmUw2/7OfP7Rx49bzFs6rH1nD41bnuESbqoq79+x9443lzc3tcJozIcBtJUl+9tlXWpo7Lr/s/ImTxroEv51KDcAuvX7DlhdfemPDhm1uj2ugxoyJK2Z6e7r7fvSj32xYv3nBgtkjKqsYhrf/pHbGul5/Y+mrr7zT358KBvyDEBiCaXzgod8TBLVz514AjnZAMdYH/H7vSy++KYnKyPoqluVA3/D6PE43pcFlbOCS0tLolVddStO8KGZfevH1dCbN8zw6ffyL4SscyMKwhoW2tKI3N6Ipdcg4QZlnC/C9MbRhH3YN0RxrIfMYgJgGxY8iNmzY/OqrS8aOnQAyFzZRV1f30ON+nEACF8vnpPwuUVMMiyVw/Tzi+EIPc7BNBS2pOQEuPCCQIfZWBHa38r3Vq1avr6wA4EIDo5Bx/YUTdbTCW3v9wUI+u6RLO6dMv2QEg5OezGO9C0siUHafa1HiMswD6/H40QeFAj/pwAUYGe/2Mqywq6/wl1XtRR62MuTmKVoD1Qz0+AOr4fhxAA1Imt6Vk3+/rKUpIVIUw2PhMVRzi1PnQMct9ywep6jgZi6yLG7ZsvMYPg4bZJheX0gs5NOpvmV7El6enjUywlKkbge1HLESDAyctjl9G7a1dO7tKziZz9jW8iFRi8Pu7YhVGDZnUyip68qOHXuTydTR8Naxb2gaRiBYLEtiJhP/YUeeO2v+ty+Yw8HenTCVmTrn2JcDXvn+979/4D3JULDY4/YhNGxmZ5hPlmNef33pmjUbw5Eg7Mxkoh9EIMuyA8vkVJcD4b1u3WYTkIHbHQj4QP51dvU8+NCjQDx2ArAPpGlLa8fGzdsUWQM8FAz6WbuoNoCVjRu2bd+2u6w0ilNpkKXIam9vXLaxzvMvvC5KIsuwoVDQjnw6qM9uZ1f3j37yQKy7OxIKwXgAHsUT/ZlMFm7OcdwRCQlYJHz/9DMvnzlt8qRJjfPnzVmzZvOjf35SltWjLZ9g1+F4dvGrb761org4gjGK/b2iaT3dvaIow9txHOPkn8PNQX3UNG3V6g3r1m8CZOA4C2BmxILU0xs3DB3Op0jSOojtWqFQoFAo/OVvT7/88lvhcNjJCICNl0ikUv0pwEOA7AcXCAb1bvPWHUuXvw/fwQzDnO/3kNr6K2yuF158XZIVuDVs1WDA5zRSGOQE1GCKLl20cOaMM+HT+vUbX3j5TZI8Xb7lX9EsBPTk8gANu7tThc8/hK48C7E0OpFyCoQd2/rGJrSzE+dUer0h0i5pfTS5o+HCogZoMgzrCEGyozO2bdsuYD5D9FoBY7aj4AXQoZslo1U2GtwguczjQginisuGvJ7ELYpgr/OOr+e4stLAERAGb3u9nfiL3bub+nHxTHSCNkuQCD5/JJfpz+VSf90rlbqIqRHMGI/oMMK2FgqAJvF2TPlHM7Z2g1wDdcU0mldLtAAAIABJREFU/6l6FWEiUDWLNg/UlqA+FGgVBE/AH04mlIdXte/syV45ecTCOWeNnjCGxC0THArHZgz4t7W59flly17dFntjbxK4aDAcBbofcnMHwq5QRLIUW1dbfdWVF4VCxcClgRG///46kGfHgKywqDTFRCKlOq51nF68sVvWzLPrQhzuSOVUAT1oUZ10HZiO3T35ZzZ0dmcUiqKLo5Ug4y30oW0tdgE27NKqqqq89upFNdUj4Mvt23euWbPBKV3/ERADTBrAfI/Xn8kkPMHAqFvuZi46f/+OOt4B0qiioqKzsxMgttcf9vsjR6uX6iBFO9kbb7ihVNhzrsLuVheVzuR64zhs0yXgnJrDH8Hz3EBjICelHHBAWVnJ4KfDOaXC/rJIg8v3gSBXVa2tvcvx9QPJgkwN2f167Ar6oSNAMfsTABq4sLW102kcDVobPLSkpHigOu0R3wgg1KbN25557qWKirJwOHrD9Vc07Wt+552VNH1k4GvZLrPiooiqqrFYD24OZZcywqV1eb4o4raT0azB+wjuEw4HdF3v7U0YppNNRsDt3W4XPOWIDgS7DgTMrgCIDabCaWgPTwH9KRwOHV73D1uPXC6AiYNs/h/AICCDokj4IHw8aEJAYYDTp02d+JmbrgVC6+mJ/eGRv8f7kh+NgE8f/zfhiI0GNNvShu3NtsGSOLoVmS8tq451tbTHlV+9OFwyjwSOUVxahaNbji5HsU6J0+K88+fPvOD8c+CbTCazbNn78UQCyNsa6vsiu8qUAPssphi7Jb3eyxDo+LYPlkSyYe0s6KKF/LyLoumhbAFcDRxRnFuYP/fsWTPPZFheluXX3lgSjycPMwx/hLUzaZoJR0pVVdnaL/56q/SVCcKkEE7JclotWgekm5MoJRtoebf2082SaiKXyxsIRo+NEJxSoho+9GHBNycIXJwOk6DLBoA50qC8GhbuGqvpxIegdhPmyzT0dDqxvDUNP7MzRT+c+blJk6e4mf22p4KGdm7d9N3f/Ptbr23F8pVmfN4AXDV03x6Mqbw8OnfujP/P3ncAxlVdad/X35s+o1FvtmTLHVfc4oqxMS3U0BIglDQCSdiEzYZNz78hC9lsEkhZCISQYCC0EMCAwd24d7lbtqxeZjR9Xi//ue/JQtiykG2ZlrkRjjTzyq3nfKdXVpTNmD5lzJhxpqk1NDU+9tjfOjq7HI/F/qeeE9wFRZUWrkqTenlHa30kO3dkuDzoonB8Ps5fZNm+ikDBNd3qyqrbmxJrDkYkzaQYFutaAvlngFqADwVDwfnzZhSE82fNmjZ12gQCcbFY5K9/e3537X7bNfXMnNpAFtGy2SRM4FWXXjpn/NiBb6aenCJ54RKfP9STg7UvqxxwTTdQMRgF1lp5XO/x/w/aVXBKYVGcdeknz83JB77PT/o0c7MsSEve919mfbDqiLA4jgHcE/D7eq7/wNmDSQMI9dxz/xw9quaaq68aNqzm9ttuamnu2H/wMFDPfs4GwJcTYqms7tyMfV8PJMzrdZ80/P7SwWEwymMT9wkf9z1rqL8U/f2EdOmaAWP/xj13FheXpdLJvz//6srV63tXdsy1TzpugZMOAD2TDQCUB1FT13QZZw04RfEBe1cKLm95xXCg/Koq2baSs2K/WBPAuX3+oCD4TFM/BUU1aJo8f8qEMaNHDhtetWDBLKDMspxdtWbts8/hPAIkRQ58S2Ipi+UZQWiT0q/FZDioSeMD7oZv3RQR0YxaUbOPnkBSTP+nwPl2ypSJE8aPHTq0ApCW2+2RZHXp0qXLl69VbW+5s18/Xdc83mAorEQjLVuj8n9uzdw2XJhTwgZY1DtCTTWsNsn4Z4P2zBFZ0rG3RlHx0D4FS9Qdy0mAdOSoroGUeX0e9vStBIMJXDADMw3YrF+89Yarr7rUlgW5TCa7ZMmLf3/xdY9LGKDexcmOWlhc6fEF4vGomEmsXbH8qssuuf2O2xctXMRzXDKdWrN6zeOPPx6NdAI4dbv9IOV7vCGETGugOj1LVmRY8v/8j3t5AeeETafT+/bVPvy7J1etetfrHUjBDhir5hI8JWXDOjsb08nYzubk7ubksELPyGJfoQ8r70xkaYaVENW6SOZAe0ZSDVwGUvAUFlW6PX4sIJ8+0sRV9PJC9337rjBGaUiS5KbmA7/97WNL31jhcLUzo/sURWcz8UwmaeOPcP2xY3VHjgzwUQ0NDYqiOPI6IJI+b7JwETUZqMM999xZVJSPc9FaAHAF+4CZA9wYHwJLG/gregpN9xhHrNNxg7Rse1YsnnAyts2ZPXfe3HmJePIX//1wa3unp1/+fbrzcEYaOHTuKoxAfxRFrRpa/q1vfGnKlKmyIr799vLf/f7PTm2jHMP/FDQSaw31qiEVv3zwR3apAcLn9W7ZuvP3f3ji6NHGUyvV8AnieFdxSaWhG4OSUoHCXq4WDhc4xSkGkZ+mucsvX3Td5z7nENhIpP2119585Pd/7uyMBgL+09IHOMDFzfEJMf1YmwQ/pztvHPfBdiIn/dhlly684XrcZ5jhrljk5Zff+OMf/xJPJICoDlYqAZi3UKiIIshIpLkhLf94uzj2qDK3hKnyU14awQrFFWt3l76yTe+QTJu7uUtKqwTBfaoJV1UV6N6X7rhp/vxZ2PlD0+HIAwFEdrLEs+n2mQIXO+eEpmPD0JDK6uM9sDRNLS1dr2uAJYXTWX6cNsPrDXq9ealktLOjCTDKg7/4Bfz0NkMwrFBUXOn3hW23E+O0CDRNUel0ZveeveG84P4DdQBUV6x8NxKJejzugRN3wKQgABeXVLvdgVi0XVGyhzoy8OOAfau3czdBMiwXDBYEggU0jtE3zlAxYqeRra09UFaWaO/sXL1649I3VzQ1tHK43PQZohZ7scxUKgb7CH7/3e9+98gjj5xWVdLeWVz70RUFgr7x48d6u522bPCHs5KbjlfpJ4Uo27E7Fo0DlbGXBs7pjZ1FTnvmsT+s33fw4JFf/+ZPgYBv/HmT5s6dvWHDlr8+/ZLt5fqpZeF2Pk161qxpCxcthEnYsH7jzx94OJsVfT5PTtvyaUAtBE7Yo6rI7QmOGhXqOezJZNrlErQPqnpr25Edr7VBoAk9KTf7pX5EY2NrwzGcFnL7zl2vvvb29u21tru6/3StGDg/KklwnIuiGAsXFSEGShhgtKbhcfsYXJjwA0Oq8PQ0N7c2NByNRLt27qx97fXlu3btwX6fzGDSUlt5DHQ7n+OFSKQ1k4nvSZh7EvLJ3aEZPhAIh/KKaJrpByba+jayZkT1iBGjjivFLNukiL1YqePK+zMhyyNHTz0DEmxa5vy5M0eOrCFJ4j1ggdNnKZs2b9+2rRY46xlMqF16lwT0k0pEU6m4ooi48IqN7DzeoM8XYjjBjiI+w9FadtJe3TDsZPkMy56Zhg32Ko6zFcVUOg2dlDVV1nEKZJxNn7YLVrlcXpfbD2DcFsvNs99POLjKsBQVu8twZ8f4AWuqitzUdFiRs2fTq/KKEViT1Jew7mzNIUMq5s+fGfT7lOOh5k5y2Na2zrfeWmnn9f8EcGvocCYjDh8+ZM7smWVlhQcPHFm9diNAXo7jzuBpcHISieTChXO+/W9frd29/9e/fSweTw44y/gntcFaV5SX3HPPneXlZf/xvZ8dPlxvo5YcbPnEN8DceaHgokXzg0FvbxWkIPD19Y0rV62PRLoAvnzc1tqxtwI7ADIFR9JORU2eMQ/F2MuO+TjdPpA4yRc9wCKyDheA3qp26gogGueOfjou82I2mU7HJDGjaDh9GrLTvQBKc7t9Xm+Q5V24N/1yN8AnPM/OmjV99KhhthOg1QMVUqnsmrUb9u+v83jOxF58JsClhxipqnpcJu2eWttgxNqJa898pzpqeduJWkN2En3As041mbMEAb1DJAaDo5F2NhHdNDULmzZxaUM7sz5r70VzsI7roHa7W/UBc3tWawTojWb6OTm2VlaXJBkvWe9u2xHpOL3bJ0fpAsNUNU2WZUMzGBaAKXc24d+On5rH49ZUTZSks8zV/Qlpjus0x/N8LBYfFJN8rn1MGqwsHHOQrXuVxHXcsyge57iiPoYI9YSicoMi3pxRN9DA4c6g93kg8MWOadW67Rt27V7gxfhzDPvMAXZbwUjh/cWPTVyXirexwpn56p45cDnVpA/inPZ+1MdYPjtxxJ8IUfLsl2nAUgI6p5vkwyd2gzF1yEmC8i/l5GHaWc37jKLKtU82LP0UHfNcO1FERegsGdy5gApnLu05roofyXn4hBzbXKc/VZRrUBE5Tu7yr0YCc664n1rmlgMon15QitDZVmM4F1AhR0pyLddyLddyLddy7ZMjBeWmINdyLddyLddyLddywCXXci3Xci3Xci3Xcm2QG52bgkHDgCRl5+bHddsdk55Tr8BOrGp+hI4wtjskDoCyK/yapmHkFivXci3XPt7klLTJKYEIi+gmp5YTOXy6SbxyLQdccu3EZueeoQEWaJqqqrKmyLqpG7qGY/RJimF5juUYjicQaadaMj78vqmKKIop6BzL8S63l2W4jxZI5Vqu5VqunZpkUQRJ6ZqsqhJQVENXDV3Hn1I0ziPCCgzHUQRtmvogppzItRxwOfvNa4NtkjrujdydXv3jB7QJWywgJCmVSsYkOatoKs5EZ5lO+hl8Cimao3BKOq8n4PH4nTyDH1pED8xiIt4Zi7VJYsb5UHB5wvmlHk/QVgXlznyu5VqufVwa0HygqIosptLxbCYJ5FRzUnmBvGfXyEUkxdGAWwSvO+D1BRmG0Q3D+hCLEufax4X1nnEel3PCaGHj4tRzuqYpgLJxbjdkAf8ncUpaFuC2ndHvY4FgHMlAUcREPJLOJBQp68DAIoIKEhQPo7CsrGW2W3rSOZMs5xW8gWC+2xNAp19t8cx0LalUV3vrUU1Tq6qqRo8etWXL1o6ODoblS8uqXS7vaVXbybVcy7VcO3eNohhdVzA5TcdFKYNsOFKCyBBJCQQJdCpjGZ2mEXMygtCMz+Xz+fN8/hCQOpyqFOVCsnMalw8dBOAEiwjJEjZqSNm0rCiKqluGaceR28loWZrneJfgFjwennMBV7ZVhR8N3yVtbUomHY9EW8RsCvo4hKQnUnwVReeTdBDEAkQA5MqYVhQZTaZWqyvbVSWpKqKcDQYLQqFCiqLP3WFz0iokEpFoZxOglvPOO+/BBx8cNmzYnj177r///n379iXjEZBanGTEuTOQa7mWax+xEEhRkpiORlpS6ThAlnyCmMS4hlNMCUGHSJq3C4ZlLCtqGc2mtldXt+sySGVZKS3L2by8YprhbHKaazngMjDu2Gc7LXZom4QIgCzJVDydisMvCOGiTX4X8rkcQxHKyCieRYqUTCZoTnB5PF6/P88leEzb7/VDPmW2r6uVTHRFIs2KLOYhYjZyzWJdNQwr2LYtp4q7hfMaI0s1TZqfwwnbaOUdLXtAkTo7mw1DD4dL+ilPdVb9s/9JZ+Idbcd0XQ2Hw9/4xjcuuugi+LS6unrXrl0PPfSglM0YugHA5VzTo7PfHoP13g9M7pnDcE5zDtS/ZrK4c70ZHB3np2xuTz5uthl6oHOIFdcklc0kO9obQWp1ITQNCXMZYSzH+7B3rl3ezNayGLo1TKdNEsipsZNRV6nZ7ZoSjbbomlpQVMkw7ADJ6UdFl3LtYwFcsllRUVQLWT1VPe0zSQgCD22Am8CphpBMRuNdEVFMwjNGlqExFWhUGRpWjIELsuvwZmV0pA3tbUT7m/W9TSlFSmWzqVCwwB8I9y4ffe4VLThuCNAAgP1opFVT5RqCvYF0z/S5eZMQTVO0LF01NcWiWIJkCYomSIawFKuCpIfS7FiKe15Nr9bErmgrTFm4oJym2bOsGdRnLzVVBdnFNPXp06fffffdCxculGWsw/L7/aNGjeJ5IZaNm+fylMLoFFXNipJlWu8nExbQF4/Hde5oqK4bMFhN03rG59TP4jjuZIIFMy+KEswNTVNut6ufbPT/CknNnfJSsFFgtLjeGMf8S1FyICOZrKhrOozd7RYGfWVhC0mSDPsTng8bcoCl9T7eGwapqgaM4IRxwEwCF3C5hP7HaFfUJXVDx6rrzmZZyhaT1NWW50KfO0hSsmHKyNJUU5ctgkFAUSmGIBgCKVaRRX+WZcZSzCtK9i0tm0hE4B3FJUM/0IMQ2BPscOiwrutOBGj30iCLpWm3x51LAfxpBi7Ozigqyne5XEQ3tLC3BUEapplKpWFnDESqwKjFNLq62jsjbcjURpSgi89HF09EYyuJwgBJsSYy32M+lk62xY09jWjZDvxT25BuFUVVlfPCxSRJn30F5gFAFqTpmpRNJ1Nd6VTCMvURiLmnKHTN4nyjnNr7XCx71KA4kvGQQpg0FFNOGoFRfOXlPrFNbXw7o3UYoxn2q3yAJ4hlajba1Q6jCoWKGI61fXn1QSIl+OCpqiiLmUAg8LOf/ezCCy8ELi6KokNEysrKGIYxLVzaGvAlSVHWYEcYWbavv8/nLS8roWiqB1baW4UA2p1IJM8RgUinswRJ5OfnedwCLnjZXRXIzABHwuUerROqXwH9Cgb9eXkhSZQ6OqNOcfI+n2wjPw29r6KoRVE0cLgPLCPXk/H648yobB9zmabpCxfMcrtc69ZtzmQzgDL/ZVCLZRhGWVkxjD2VTMXiSY5jB3V6kSSp48ePqRletWbtxs7OqFPd9xONXWDSPB53WWlxt5K5h6nQuPZvOp126on2RU5JWwIE0JNIp+KpVMzQtSJE3ekK3Ly4wD+B3/9aMlMrEQai3SQfIkwDSVHNW8pXXOYzNaPpjXRXo1ZBM7fzfsAaL6mZZCICJBp4AYvjN9GpMj4AagQBprAwHxbXOH6NU4xHkdVEMgUEIVeY4lMLXEycCsS8+qpLPzNzOoW9aTG9h88pkpRV5cUXXnn+hdc8H4Re8aE1jWikLRJppgjrwkno7ovRokmIZZGmUTJyKWmQ/iQMiy1EMgwA+LAvuWiiNXcMWjwJ/eEN9MpGw9YrGPn55ZgBnzPsYsvxqiRl4Iwl4l0I4R1fTtC3EN6ZHiFwjYcfL3TslZIHVZjOounu0kt8navT+/8eC43hq7+cJ+6TWpenUqrebpphlrqZ9WUNa5UhRm1Lky+QJwg+u0TwIJEwAJLYNwhmkh03bhyyS8/D73AmgftOmDBh5syZL774Yizaais/fI7kMYgEFLaHqmlzZs+4/bYbGZY17M44uWzgfzt27n744T850ViDu0yiKOXnh2bNnvaZmeeXFBbDq+EN8FYAHGvXbXjhxX8CpAas9h66Ms2K8tIv3nr9iJEjotHY359/eePGrSeAG3TcdDJhwtjy8lLi+J8wWwxLx+PJ2tr9yWSaZfsrdwwdUBQFngxAn2GojyGrgiFjnzJdnz9/5g/u/04wFHzooV8vefYVkjT+FWoimraANGH8mNtuuykvlNfY1PDYY08fa2yiB8+WCtNbUVH6nW9/fdrUiX956tnf/+HJWDwBIMmxqnxCm6YZEyYM++qXbwNZCFcMpUgHBnAss+ydVUuWvJBIpAWBP/lGwwDSnk2l48lEzDRU+AS4xS2Udy7iCy/1+q70Rdu0+F5ZzhpFM1yVl/sTB+X9j3e5CqkRd4T0jB7dmOms0wATeQzyOs6bNsxXjWw81q4oUiAQdrk8FM2eTF6gh/FEevLEcXfc/oUhQypACoXeOnQALq6rq3v4kSci0SjP8TlY8KkFLtDGjKmZNWvme9zS3rK6rmzYsEnT9ZMZwAmkEn66ohi1CKx1/Sz0/etRdQlKZ1EigwjSZHgLczayW8AFRK/qliji3zkaXYi1MijPg/62BsW62gFrh8OlcM25EV9wP9LpREd7g2noBSF6wqggI6HQdnWaRbd0Snl7pIpRfHgcf+TFpKmboVFcyeeDRlInXiADVQxSaF0tCIwyQmNSpqV31SrBDuJLw0NVpe61denDDbFMJpEXLiksqrQlgLPFXva0I5oBYY7KZrNPPfXUnXfe6Xa7ASgAz5YkCXjnfffd19DQsHXr1o62Y6Iv6HYH3B7vIFrcsJJDNwoLw9OnTyGIkzg6DrdCH7Q9TrvJilJaUnjXXbddeeUlHnfghG85jnnt9bdAzBUEwdkkmqaD1LV48QW33PIF55r8sH/37r3ZrHQCqwZ2blrWzTdfe81VV/eaZo0g2L379t577w9aW9s5LniqvQezCrAGRHmY+Y6OTkBXHzd1NIHj+Azo2JzZ075979eGVlXJslRQkA8yyb+I1R8E8by8AODsSy65GP6cPn0qgNGHfvl7wNkkQQ7GibBUVSsoyCsrK+E495233wKz/acnlmTS2T75+ieiwdaAvZ0fDs+bN+fkb+uOHAMSBPvqRGuRvfulbLalpU7XNb+bHD/C53fR5DpprsnGM2rHDtE72x0ayTEeoLqqv4otvS7Avp0+8lzCXUwBaVPSfncVGspFuHyra7vMdBi3FAWKx3k31KVq65JiNgXYpahkaLeG9/0NVsHjdY8fP6a6elhvtgUtL+R7lPsbnHWCQzlXl08ncHGARyKe0nXJtIw331yx/8BhiqQ4npMkZePGbS5B+EB1SzoVi0RaAGzcOBv94laU70NdCazKsHU3pialUY9aHuRmVbEUxaEhikFEEyjksX55O774yRUoGmnBkf2+vD4369k3x33YOX5zJ/r+76cj0vvVjT+NcF4/5SOi28SKK/2B4RwtIFXStKyBErqSNF0+2ltBItntHT56wn9Wc979Riqx8SfR5tb0BVcW3HRL4IE/HL3/4UZA/CBZ6Lpq640HhxOxHO8P5IMI8tOf/rS9vb2ioiIUCo0bN66mpkbTtGnTpv3gBz/4/ve/X1tbC9gxlYoXFlZ47ajCQdFawUAAE+zcteehXz4suARFVmAhh1VXXnLxhTCT8Vhi0EOpoNuANr78pS984fM3wvDj8ej2HTuP1Teqms7z3NixI/fs3QtSNcPQPcTTuSW/IGzfrhIE/p1l2UxGPIGpE/ZWjnR2HTvWiB2uDV1wsQX5QRqkOjsfcT8NCDfgxcsvX7j4oguDQd9Pf/bLrVt3A475uGGXdDpTU1N999fvGDNmnChmn17y7J8eXwKz53G7PvXYxR6gJQhccUmRDTQV2L8lJcU47g+nDxkcaOhyCVu27HzooYe/+927h1RWf+mOW6LR2LPPvaIo6uDapD5EvIt/ZFlNJDr9fv+OHbVr121SVI1mSK/LvXnrTkAJJw+NsF1bCIoybDFpWDn/wgMjDY1Y/402b8DPaajrgDw0poP4x3gIA+laBsipIXcZDJDTKhqRgqtkxJhvIgodJMnO2oeTB56OjZ+bd+33C559ueXG/zwMSynLomFoJMmccMhgnb0eT3Nz+5NPLSkpLpJs629leenFiy8IhQpgOYxTGLZy7VMEXJCTEIgxdWvp0uV/ffoF2m4kItxA7VxC/z5ZmqFFOpuBecweg+6/DgXdKCbSCG43VSd8//j+IQg4BwRpaHLPjoLzQrN8SlK9nP7ALag5hpZuAezSxvFugC+DTmexucEy7YBtBvpSUZQXzPMFR2d8948mho7Wu1L7Hl5pRFShhC2cGRTbKT7fhXTLUC1PGS2UsojyA47g/GnksqQGPV0vBatZzxweBYWKvHB+XldXXFTkbLSzOb+oFF5y9v23XaSxuVdRpUwm+atf/cr5fPLkyXfdddeVV14JVOazn/2sRZAP/PTHh/bsistyR3sjjNPnw9jl7PUuJKZL7N69hzZt2m5iPxIQW4mrrrz40ksuggGeC9KgKNq4sSMXX3wB8B1RzDz+xN+e+uvzTU2tNjqhS0oKvV6PJMk96hb4F/aqqqrr1m1eMH9WMJifzWbfeGM58O8T1C3OlXDTkmf+8cabK2wen504cezXvnLrsGEjDEOxfZxPOSJV1ctKg1/9ys3lZVWaJgIdP63p7V0O/gw2RvdU93un7doiwfx86c4bZ82aYRj6O+8s/79H/9bRGQ2HQ+fiNJ3uiM7MQ2jg8UGOY1Mslnj99XdKS8pgk6RSkbfeWgHbg6HpwRoRvAI20rPPvlJcVHDPPXfClrvtizfVHT62bv1mwNOfXL8KG75A4/buO/Tgg79LZTIsx1qGCSzA43GDJHDCnDgwEX5YhjUNpbQwmF8QQJQ4/95qesQ4pJs7/98KpVl1D2XD53lN0uMpc2M0KRvuAtJVziHWS5guLpRBlia1GpkmmQuQxVd6kYcpzy8ozm+PxLEQ2NnRnF9QzjBM77fD7x6P0NkZefTRpzVNB1KUjKcWLJg9a/bMUIjMIZZ/FeByXNWGgOoVFhbQOCEzjY6H/PVPKZJdHYCL/S70/etQSQglRURxPMEwuqTbKKFHjWdhuZbmDFXuzR1I1kWTRErUQz70o+vRngbU0JlNp2MsWzzovvpAU5KJaKS9UdeUhbOGX3/tfEs1COZgYDaHQn65mQ2OK4sfiIenBcbdex4TGkLq7Ug7BmDHP4ylfC7EBEzZRNkOkpKTdSSIdpUXCZ5SGkW8F1w44u5k4L//sFaUVUnO2uL7oHQezz/LcmXlwxOxTlnKqDifn7xt27Y777yzpaUF4EsoL++Kyy/L6zq47I/HXtoT25uV21rrTUPzB/IAW/Q85Gx6wPOcowbXdQOgjC/gIc6ZClbTtJoR1T6vFyFq+/bap5e8FInGiooK4L2GYaXTIiASjuN72IMTkgodW7Nmw79/92cTJowBPr1i+VogZ/RJvMpRuRw71nTwoAx/JpPYbA+Ccv9dwoDGcvx/jVhXsrwMpVJpwDEmtqlb76Fw4n1c9gRtjWG85zcN19A0dSoO55w5h4vYagMT3uvc6yRJoqi+b4QrAdJdecXFixddAG84cKD2yaf+3tDQFA7nnUD0HZkV9atlOqEbJ3xl+8YZPU+1AS7VD8+2HasNO9vkezNgn5H3cc2TR2Tf1X2R/QbyVHccbNd5AAAgAElEQVQ5HYbvYRKeefbljs6O4qKiurr6tes2swyN+uVmcKeBJ9qw0IBGBCfC6/MAAh4zdsRnP3tJdfWwG2+8or6hsa2tA3j8J12zBaPLLwgLLoFlGET0bBjr5NMkiumOtmOqKk0YWXTfVxdpBM9I+4PzOOTzIJrzjy4V27pcxcTwW2vGhGooKobIelPWvUNod6GATK+pkVY2QrEppQVIKlc+n/OP5a0oXzN67H/dG/ruL1dEYlkxm+6T2sCugAOelxfA+9hCAseHAn4q5437rwdcehOsgbI63dATiS745bYL0ORh8KdNodSsqVhEr6gNB6locgYRmff7r5hKJkoS2Pocz6DzR6JrZ6LfLUWJeJfPFxpcpYudk9HIpOOqpkDHpk8onHB+GU4t16US2Wak17PeoaWLhqX3bYVeeat5JLhRNoCgZyTKG8tQnA+RblORCCNpJbX8qeNm/g4kkSNIlSwur7imZNIIrBUgSSYcLqEoFmSFweo5UFSKpAsKy3H2YdPUVKWzozGTSfzwhz/UTXTPXV+hW/aW1S37SpVeQfMP79f2xtXWlvqsmA6FCjnOddxC4gDI7jwKpzuxPcSrW8o6Zw0YRkF+GKYRft+3/wCwLZcgOHQKuu5y8b07j/nNcfYJk/P2O2teefUtkHrzQoEe192Tm8fjcqK4QYzz+bxkvy6rziuQ1Q0+3rN4Ak/VDYM2iPc0iuhkP2UH7lAU4XK5SLLb/gkPUlVAaAZN93G9A3GwgyRJ4jciPGo7zTTWF6oydrztE5OlUplhw6uu+9zl4fxiWc48//w/t27Z5fV5T8bQ3ZNG2Fi+L1rvuL45wAX4d+9OOl/Bh++F0liYDsCIbF5CneppcIsgcI7vP0AERVV7B7Ke/CL4Fj7mOA4wHj6GloXnTNN7ezM48KL31DlTkcmITz31guP8FA6H+kctx7tHCm4X4YBCe9VUVbXDzfoeEQCUSCTy+BPPDB8+dNzYCRdeOG/Dxm3PPPsP6CJNf+LLxh3nAdapDjteR9OUxZSsiCxNjh6WP2VGBQOSUsJC0n5LOUbk15RfWiMe2moouneEgDi3lQFc2UqQlq+SFgp8yPATwCeMhCUariHV0x7Kp8hjSIlaVkF+RXj2JMnEx43ILyilWf5UpQAcsnS2wlmufQqAy2kpMDLJLlWVBca6djbF0EBZTAehvyeFAmlDFurZdt1HAadXtOywYTvM1TyujaduXYCef9dojIiSlGVZYRCVLhhVUFS4sMywzEwq9j9PbuFY5p6vzXEFqlGKRHqM5Ip8wwuNTImV7SKYKDJLEeKAa3Aewj+UIfkQMlhkxEg6Y8guOpTnq3KjeIslckSwqGF/65/+tkVSDL8/6PYGBj3zI3Qe+5rZpQlcbm9ZRU1Tw8FsNvnTH/+ksGv/PPOQ1HgAeN0F5a6QS3tkj7Q5oifjkVSyy+sLedw+DF9IClYGRwvYPw6H+Jgc9h6gbHu/svn5eQ6j6eyIiqJo2tXXeqsrelQRbrerrLQYOKjRbZTs1nrEumKt7Z39g7CBKBRh2oE/lZeXwpQpilZUlA/vAv4Ifw4bNgQk+x4fF/sCtbWtM5lM9rA6h/uHgoGZM6dceOHcUCgA1wJzbW5uXbZs1Y6dezKZbG9uDXjC6/WWlBQCVovFYg2NLTRDTZ866bLLFpWVlgBSikS6lr29atWqDaqmnsBQsWLCNC67eMHoMWOg46vXrF+2fI1u6l7e02PSctyog0F/aWkxzBKw2MaGJkmWifd7rQJiCPj9JSVFMFj4trm5JZ3OOszYtHUgBQX58+bNnDt3ps8HD8fOqkeONix7a0XtngNw7wkdczRGMHULLpg9Y8YUexLIhvrG5SvXNTa1YCRq0wNFUZqa2iRJcoAUTAXDsGPHjrho4TyYaoCh8MnGTds3bdouKTJD086kdXXF29s74RVwVzAYKC0tcigGgd4Tm1pa2mOx+Kl0J/BY6F5xUcEFF8yaNWua3++z3W/Vw4fq31i2Yu9egM59R2PB3giGgju271m2bE3V0KEeT2Dx4gugh3V1R30+36ffnch2IvEH81VdS8Q6n39zb+g/2QfuX+T2FiPKItQWJKaDY8NGHHZaG0p1IT5FsC6kc3yAJsIW7fEjizfVBDJSiOZIPt8zNA9JUSsmkYGiVCr7k0fWdiUlQfACBcMF43JetjngMohNFFOwpc6vQTVVeRSZtRQREcd3mIlInNvfa6iSLmffo40Au2mGdQeUbMzqlR4RTrpqCSOrXGMru5oihihmvN6gU89o0FQXhsFxQlHRkHYLpVJdv/i/dwOI+MrXZllkIY4BEjtJV4V3WKWeSTKBLLJkRLqRIfiraT4Mopgfp6LRYgAhSC5I0DzqiphJEbFFhEocevfI5vWNgOXcHj9F0oOobjmJ42JHE4bhXG5PFhcBMXa9/syEEYJbYBWTiMrGmCD1y+mel44pz9bJraKZTURTiShGmTRLkQQN8JJmeMHtdvvh38Hy4T27QWGma8dhWY7sq2mqs+gw37qGy1yR3fgVo1zbjEk56eYmTxz34IM/LCsbAqC3lzc38fe/v/zDH//yLBObOrqW8eeNeeThnwuCxw4TszRcNzzrcgkP/L/7UfeednRQXHtHy49/8tA//vFmMOiDPjhmjmHVQ77znbsuXDAfsE3vXKufu/by559/9ZHfP9HW1gFYzXljKpWZev7En/30/qFDh7740ou//vVjl1628Nv/9nWG5ntCtxYvnv/oY399+JEnegdz4XTVslhWVjJr9lS/L6AomRUr1jY3tbpd73PItbP8mCNHDf/db3/ucgXS6fh3/+Nnry99B4bTW5ZOxJM3XH/Ffd+52+cL7dy1/Xv3/7y9fW8g4McxWaYxedL4e7/1lenTZzigxPbPJObNRddde/lfnnru8SeWZDJij94F3ifLypw507/1jS9PnjylByxOPX/q5667Cpb6OAxlm5rqv37P/Tt21AJShHlzCfydd37h5i98zu/Pc14El82c+RlYaCx8YwsRCBXE008v+a8HfpsVRbcgzJs74xcPfB8eZW8G1G2fttAPf/TfS5a8xPTlRg0ToqjqtKmTv33vl6dNOz4iWySbO2fu1ddc8uSTz/35yWfsrIZ9UFeaAhZtvbls5fz5n5k8acrECeOmTBl/uK7+ZPT26cQuWB3FFhSUw0zHYx1/eGZ7Mc1879tzLSKMTBVlY4TP5R8zBElJS88QhISQB2mCq4ihBZpgA5ZOISuJLMky80nGhVJxMxGzyDBlkJldTcvePAiv8PqCdl7TXOXFHHAZtEYAv1Fk2I7owvGINeLAYhzUQtg/JglcVdPEhG1A6SYkmChgNbuminEbRyPyOOGHz2VR9LjlKdXmmlokZtO2rEMPrugC4hXH8QWFZRoICtnUjqc3Wa0diovVgTaVCNwNAbYgjJIFSO/EogDlQ5rbN4QlOD9BuXVRJqkkDMykghRHq6vrlVUHSa7ZTe/M7O7ImgZiOIAFH4JrGEiJPl84k0lJYubxeqvAR1w1hORIpJhWUrVYkvjCMO6iUmZ1u7ayTatPmVHZlA0VOK+mYYcO4FgRotXvC4XCxQLvMj866dBh5NXVVcDgdUPHyWFMNGRIhfPlqJHDL7l4gWF1GyAo7MuiHzx4pLm5tce1QVGw2cXOx0OQpGEr9EjdGCxKRzhCuapiCwVBOH4qGEWp2vGI924vLk0SNdStaiScoNmqqsqf/eS750+dputKXd3+zVt2appeWlo8c8Zkn89/ww3XAZv839/8MRZLchznAJFuyxRCPMd/8Ys33HrzjXAydtZuP7j/SHVV5cSJ4wDl3HrL9Zs271i/fgvDsD2bTRRlAD0wk/B7be2+Xbv3wlyd4G9BUST0au+egxs2bltwwQJBEGZ+5vy3lq2CUTnOLvCPKMn5+eEZ06c4aoMNG7Y1NrZwHGvnipWmT5/8kx//+8iRowEn7T+wb/v2WoKkoGPTpk70er13f/1Luq794Y9/dVQgMJxEIjV58rjv/cc3Ro8aa5r6kfq6LVt2ppJpWNnzz5/gcrkVWD8svWShOaYBZ8Jvuunar991G0FQqpqG3h46dFQQeHh7FewNnGFMsZBCEYQoK7b5E5Mc2Dx4USy8GRyVnJ1YhejH5TqVSs2ePf3HP/o2dE9VpT179uzYuQeeVjOiesqkCaFgwV1fux0e8uvfPnaCGatn93o97kMHj2zftmvC+DGAsaZMHr98+dquroTH4xoU3/wB7dGPzhnVpu00kFNVU+R0fPnz2/49k5S92KUXWIL7Ng+VF0JEPqE3Ij2FmEKL8LpKOJJzIdprKqqlJChgEyAHUoxeWye/vJdgvAy9N34sgTA3IbBb5Cc5O06ufRw1LqlkVMKFlK3RRchtaYqJKJuBkPYPUCMSK/mxZx3liKv2591Sl645F1M2VdG6BSWQgMwxBcjFoUwqm051BUMFtlZgMHcuEEqO5YFoymKqU1Vjde0+kpBk3Ux62K5OMr8GsUXIsIEL4DDSRwk04kKIZJHZjoysZbkpj5/QJL0uou+NsWxKZ4iGqJRCiKFohuXOdbFoWy40ON5VVjGitaUum078co8U4IlFpQxNIMNCmmlpJvKwxDVDuSsq2Q7JishmVrNkA0Vkqz6lb+zU61JGMhnNZBKFhZX+YPijMhvphsFT1OWXXfTVr9xxXEqGBVJ0XZXl9LXXXvq5z139fqys/tfP/+fxJ55hWYYXeJBuv3f/T11uF8jEwFoWLpzzxVs+D+BsUMbieMLu2Xvwy1+9jyKBg2r5+aFvffNLw4YNjyfiv/nN/+3bd6hHjocrJUkGHu/1uu0UcErA77315s8BalFV8a1lK/7r57+ur28C6ABY/JqrL73vO18tLa244YYrN27etnTpctuVmHLGb2deNidPOc/t9qmavuSZZ3/z8BMtzW3Dh1f9v59+d+HCBS6XB/AcQIpeKZd0wcUDRAgFQ/Dnps07GxtbAQz1Zd7FYOLtt1cvuGAe8OLpUydVVBQ3NbUR3YCb0FRl1KSxNTUAgOjOzpYtW7YnkykAQJlMtqSk6OYvXAuoRZLSzz//j4d++Ye29k5YCJ/P+/kbr/7mN+8ENHbbbTfC2wGd2JkedYHnbrjuiuE2nFq/YcMDv3h406btsDrBYOCO22+891tf5nnvgQP7fv2bR+uONHR1xQSBg7tqaqpvuvFKOPiqKj/yuz//6fEl8BWgmbFjR/7kx/fNnTNbEMglz7z0/AuvdnZGYQJc8DdBvrt+y+13fAMAk6ZpgMm+/KUvTJ92vqLIfcrr0L10OlNeVnrbrdfbqEX869/+/tvf/qm5tZ2myLy80Odvuvreb33F5fLedNM1gJzgx+Puo7oFwzCxWGL7rr2XdkRKSipg3kqKi1pbO86yFIazhWTbbZz4oEsFnv9IcyECdqG8nkA2HW+zzGhDp5uADWkhBpltLVRBCHlKUaodk1NDBfGPdvGI9iHTTRhJkkxZBmeBHEiban1Eq40xQkYnibqk2kU49T1cOd+VHHAZPGULSYLIFelsBA7KDKMeHcIZpjba0g/S5DjDeJ1ijunkdZam0gRjWS4DPUsyIcq8xtDfIuh9JvVFSzUoK0GSZRr6P8SUM+Z1hraWombp+tsi8/I4Wq7W0E49GmlxjBoghQ6ylE/RHIvV442q1WAQkzwMyMpWVtUbmthRQxETRGo+0tPIlBHpQqQH0QFTtZCcAP6lk0VI8Jit7WZ7EgRVwc3GNGOfhIkjh4vCCIZhfBjUwsROACWl1S1Nh8Vs6vGDcqWHGhui0mr3OddNlDGxBiCPJwoEuseqAaIQXLOyVXvsgNSU1dvajpqWGQjmfyT1Vgg7ZkdTVey6LUs9sTOOAQHXz7KUnlUD/iSKWUXtti/gZOTpzJatu4AzaRp2RADWfhwbD1L3CCIeT65fv9VCliIplUPKgH8DSoHJ3127/913N3M8dzytGdaXMHZzUnWNHFVjB3WjQ4cO/+p//9jS2h4KBRx1wvMvvFJZWfrlL93sdgdmfWbaxo3bOiNd75lXbIRfWFCkKNpf/vL0Aw8+AuAfWGlXV/zNZSvnzZsJYmhFeXlPpnOnyozf5x0ytJLjXJqWbWxszGYlgBQnLyjMEvB16PyxhoYh0InS4ilTJjY0tDgYyPFHmTH9/IKCQrh4+47agwfrezbGtKmT5s6ZBb9s3rL94d89Ge2K5+djOw6grr8tebG8sgyAmt8XunDBrN2798FbAE0CMqgZMYxhXel07NlnX9mxozYQ8DEsm0gkX3t12fnnj79wwcK8vLDb7dqydWdJcQGyy4eNHDG8sBDANLVp845nnn1FkpVAMABbZdeufS+9vHRETU1RUUlpSVE0Gjt8uD4cDjnWt85ItLmlDeea1g2gGtdcfZktFp1KejGgh3PnTp88ZRL8uXr1usceX9IRiRYW5MFYRVF89rlXystLb7n5835f4KKFczdv3mGa2GP65EfBQjTUN3V2dAJwKS0uGTKkfPuO3eZZ5BGx7WvylMnjZ82aDrvCdlLuu8HeUzXtzbdWAGLu7YP/IStNMcIQ3LB/2jRzr2LNCbBZHQ6uph9tJscOJegAYsLIyCBTQiSP1di0DyRCS01amkTwYdLltTJZsyWGGYvAAEHYq5oggIF4yXJ8DrjkgMug8hvDdE4UVUWu1an1HF0pWuEYIboNOksd9KBnXMzIGEkj61DQlGR6aAK9wZppg2xlrZfcFHwFpP5Q2ExL5NhO4gUf641SvwzqjSylGZZZZBAcMmT93NVcBIyBGL5DlQ9I+iQ/Q1K4gKK2u42d24moEsSWIPkAttQSPGJKEeXGnsN0wlAowh0gBFo/3Ga2JQkcMIk6NbNexhEQPO8G4eNDqxNpGjrLcPkFZa0tRw8m5Dca1UoPL9CEqPc4R2N2BAjGQL2jYQ0emVdU0qO8zEP79M2dRkd7IwAuAIgfPnaxE6tYTz/z0mtL37HsQgLw31e/fMsVVyyGHv3+D48CozIM08niQGJTjRmPpziOI+3YNCc/ns2Pscaiz5CWs2ywwjzP2Xue4FjO4ZHwu6Py4d9f7tH5XbNz5U2cMC4/XCxJmbXvbtqz9yDP86IoOyuQFeVVqzdcfdUlAFxGjx4BoARrDnrWqHsJzJWr1jzx52c1Vff5PI4J6fDho4ZhwWyUlxcVFuQ3t7QerxSD3WnzbGAEj+roiAC0oiiuTygGtzQ3t2zYuGVIZRXH8bM/M/XVV9+27PxGqqoWFxdOmXye1+uDcWzduiMSjcIMw+cej3vceaN8vmAqlVizdsOhQ0echDp26mQAjtryd9Zce/WlHo9/3NhRwaC/ozOqG4bLxbttBxpAZl2xGGk7KBE2xM9KUmMTACYkCHxxUSGHdVfYugzj9/o8TucbG5tUVcGR4zZXhoG3NLclEnEALqFQMC8v2NuHyQ50Im39kyHw3KmCxtHxCpQAbiaMH5sfLpDlzOo1Gw4fOgL7CtbIidwGVLRq9bs33XgVDH/06JpgMJBOZ0iS7ouSMI1NzU3NbRMmomAoUFZWzHK4KAcLm/ZMoQBM7NSpE+/++lcGcv2BA4fr6xv7NGZ9aA2EKIYTZFXcK+rzAxzWVVuUtruVnRdBIS9iSzE5BewCwIUuQLQbhBXCSiBcXS1AM5zZ1qwf6CA4BgaQNqydGUxOBZf3U1C9Mtc+RsAF2AvPC0Aqk8kuZbVubUxfeon7epOd0EJ2cnRpBm0vNneHiYvqKdZAb1QZVUliWivZJVBuFdUHrQ3F6LI6WjCIl4br53URU9rIYz6qKkXsGkK/TCsvvp1Vk9hu5PPn8ZxwLvzJLUxucNHT1rS8M6PdZPEAXAzN0vcl9U2H6QuLkBlEmhcZacS6EJMP503PdjJWlqBdZLjAaoipq4+YcYXiWXjWUdk4KGmIYuGBH/KSG4bu8QLPCkcjrUsblTlFzMxCRjxpxnqiaLBPo7+U5jxKomnSmNH/5Tp474bknrjR0dFUXiawtqfFh79x4/EksDVH4oeWSqcdR6lYLFlf32RXU2N74rDt7BonYoUeJc05gem9XtH7Q+IUb4UhuFzCkMoyx2e24VhrSTHOm9ej9Q/jcCRWlrEyKRjw2zlyiF4TTzjc6Mm/PFt/rAnYc88bs1np4KG6YCAIjMqR6Y8HWFmlpcV+nxfZoVhtbRFgvacq+0didamyZs2Ga666FLoxcdJ5Q4eUHz58hGRZ4JfTp0+prq4kCOrgwUPbd+yBT6DnsCIVBeHqoUNw3qZkPNIZLS0tArzVEySv6xrwb7jY4/GFwyEci368FoTjPeOUULaDmZEd5o2xtNeNM5IZpqVjHRXZa267Q4IEXrBLjjh4C+f4cbkFJ9Ddidg6wZDS50r12VRVGzq0vNJeo0gkmkiki4oKQiG/E5BkO1brIO9nMtlAgAM44nYLqVSqb7UHScF8JpLwrcmyvN/vZZxypGfhnQEQPBKJNTTUMwytaNqpBgMnQZRkpw7uR5soliIpl8uTVcQtGU00TVhLkyf1g6K24QBzWRHBh5HqxeEOyESMbXY34paWBGpEBvNRVpGX7zc6RMqLqX1CNzemNYQzFHtwUOqHosDOtX8NjYvtDUfadcssxaoKsV+nApPcTMH5LN6zmlVJEp/lkDsfADOaSFpMIWKGEU7YxwTSWkwidwg/YhxlcfmIriFGELjuTamoVWjmHkarVRRbEdpd8XHwgYtpgnwOhElCCESErIFYkpDgXRlTeqnOlV9CTRqDUBkSuxCbj+st6RZFxJClWcEqK2soL2zR97QTNG33zjos6a0aYrChSPgIGL+FgsGCdCbRIWU2dGrnhSmeImTDOhUZI3EaQBbIqk6y5V7ym2OF+zZlE5KYzsRDbMFHIuLYVJfq4Vg9JNjO0oHD6XuX2vmYZ/K2059YwWCwsrIU2xF47q67brnj9huwSs96L1UaTZH5+SHg2m4Xz74/K6jDtJPJFEAQR9XgIABAbG1tHXfc+W84F59pyJLSo2+wjX1+R/mUlSRFUfqZJTtfn1lbe6C2dv/kyZMAVE2dOqnuaL1dTZeaO29GOJyPsKPMtmMNzXZ0jGXoZjgvVFCAPw8Gff/2b1+7++t3UHSPXwX+P4bG5bUR0l1uF8Mw8CEciM5IV1tHZNRos6iwdM7cmZs372xtbQfpHN51wfxZn/nMVLhRFrMHDx6x6393K4TsuGjR5XJNnzF5wnljlq9YaximquqACS5cMLesrBiuPHL0WHNzC8ueIdHTNQ2QCk7xgsxAwPed+772zXtuJ+meUAC8VDR0lGVNU3e7XPiXU5wLJ8QdAAQAMJJg3R4XRZ1VXCHMgMfjeWvZqtWr16Oe6O5TvNuyTFjwjzyICZiBIHiS8c6NKU3UkYvGTo0EouR/HCXCpczcyYgoQ+koMlTEuE0NmUqSIkUULLc0Tlm6Q11bRwqcndmcOCoZLYpBkAzO42Xm1C054DJ4sAX+iXW1J5M49VzAxXz7usphk0J5ZZRm4lAhhicFihBBjhex0cQJaH4vtQuWrFHWJrnAlLL2V4TtqKsrZoVA3e3lHlzSfKRdTKbiDMvnhUsGsWpgD+egaJrjscAHh+RQVpvgYyUS+xaYrZL46HruCo2dUY1COlAvRHLADUhXhqAE65gkvb5S39GAJWSagqMW0639Es64CTCIZbgPzU7UW+nCYlcgnyJl98X1dtGq8gFwOeXCyfEmnF+UZlQxqermrCL6M0XMW01qKhnz+UJAqz8SpUvfWo1eio1P1lFkGcpRDNAUVVFe1c+VbrdTer1v1cgJGVZgd8XjCcefhj6ey+Q45yAGnpsHHhuJdK1c/e7kyROBy86bO+OVV5bG4qmiwoJJ48fwvCcrpjZu3JaIp+xE7/gWQEW8DYx4jh9SWd3viFxO0LMg8PCW5557pbpqSGVl1U3XXwEo7e1lqzOZzNgxI6+77rPFxRXQ381btm3YsNWp4eCMa8vmHa++uuyaay4tLir6wffvra6uBGQD8G7x4gsuvXQBTbtisdiqVRs6OqJnHLxjIpPnOAZXAseJoYdU9DciweUCaNin5tfps2kZqqIagPwYFubz7NE/AJFEMpVOpQcC+v1+f/8lzc+56GSXg2VZHnZhi6IflLTJPhZPAUNaaV16aosZMbj5NSgQQCSDKDehiiQpEiZnNmvKOxvV9QfwjNEkTJxmWtsywEYQNj3xQi4QOgdcBo/HYEWrEo+1m4Y+pTKwYFQBmeJXrlPV2Vz9Ub2shJ4wj01HjRUbldZWg2WJgdc2szCh1y1JuGVa5Vt7Orce64rFoy633+Px9UMLHMbmmBIGTC7wdRzLIZqNKNpeUZ/oZ7HeGec2JcyWtPTXd7XN9cyoAFkukeGwEY+ipja9PqsfajTbMxidgbiJw4iIVkk/LOoOQadpVhuYpOXwYqe3Zw8U4ElulztGMQ0ZrTlrVPlI4tQVKnHadVOjXT4+WCrHm0nCXFjKvtumJaWsqsp2hO0gK10GXmvm09MIwsEc2az4hz/+Zf/+Oo9bONmAB0wuK2aP1jdy7/eVOZVuCT7pk0XZ0cA9XAQ5Kfv67x3O57Zxe1c0mhfOGz9+ZM2IYcuXr1180fzKIZXw7Z7avQcOHAZMLAjd1kMCddtvOqNdf3/+yX37Dvq83hPfYtlJKcVsR2cEhga/A6FIp7O6nY/R5wt//sYbLlq4SNd1r9fjxVUd0LvvvvvI75+ESfB4PD1wLZ3JiLJs56VjR40a++/3VcIH8Hk4HITHqqr4pz89uXz5GsZGCWe2qQg7/4zzws7Oruef//P+/Ye9fk9vEd85Q078UTyW7Hvm7cMC542hacerBhCMhaPBzxxq26Y3PT8cqhk2FLv9mP2UisPW1a5oXFHVj3zL87xAM6yqyZsz2gw/qzkzyNJWTJZf2qLvbKDH5lHVRWS+YqSSZnOLdaxLO9hstorI0BEOiMQibtpEuzIadmelPXUAACAASURBVHDhBYpiDEPP8fUccBksJkQosqhpipujLj2vuMDLiWlTM/Q17xiJhCklmdJysv6oVl+niaLF0KdHTjDto4hSv2vh6IJj0UxrUtZUybK8/RzyZDKVyWQZhvb5fCDkDZCQ4RpADMvzrmg2UQvIw7QYO5bYzj1OWClZ31qv72MI/iDQJJwoT1YsEYca42m2nUAd0nRU0o/A7RQDjxogRINXJxJJUZSA1vn8PoE/W895uJvlXBTNRCS1S8GPIrtzjPQtbRMUaUjpdPNuyzJkHZ0XogSGSGiGpqqmyxp05QaMVFZUjmVgdU7lePGpQizYy1XLiqKjI6mtPfCPV970+71En/AZOzbSZ6vqx+4vouNBEvD77DT/qB/nMNu1mTx06MjGzdsuvWRxMIgTt2zcuHXunGnBIHapWbtuc1t71M66ZjkjUlRFtg24oqi+u27zG2+tKC4qOFmT72hPaZuLS5JcUBC+6qqLy0ormpqOtbS0VVSUl9h1m1VV3bdv77K3V7362rK6unqXy9VzNGAU06ZNumjRHIaitmzdzLH8sGFDiovz4MtkIrll265//vPNlaveFXGhzbPQDmL3I1nF/J6QJGXtu5veXramoCiME8K+/xhbNlHqv3oiABeOZ0mShQWHUdsORmcFXICgXXPVJbfffut7AOqUA9F/9KP/3rxlp50R+6NUTOKk3oI7q8pbM7pmHffwwdiFsmRN39us13cQriM2OTUsRUWSgVQDk1GGQt3OSlabauzKYgcXt8uX88rNAZdB1Ao6/3QnmvMLQHRxrSHYevEE8Eqqsdl69SU5K8HOJGkGnW4pedubD2A64RNwHTrklLg7lb4X11+zxowZMaKmKp0Rd+yoTaUyLhc/QOiC8/fy7q5MYm9Wlw2LJQixO1k4IuAswaMzKiAYXK8AVyyiCJAKWLL7hAG/AWHLRAckvV2zGIHDmdwGYCfCIQOyPGHiuKohFdlsdvv22nQm68StnM2yANUAuiWbqCcc+gNuMDQtKxEUA3TayxCFAtkmmoahEQ50Q4NVZsGCFcnLC44cWdTZGenoiLpcgu03MDga4J5yvicblHpsTydrenonnO3T3/ZU+iFbRu8pfKg7lZ9OEL6d2+PxZEtzG9bqcfyoUcNe+acdSft+b02nWOCgGMEo7BfSmk5n4ffConBRYQEgIcMw++G1tquv+M47ay9adAFNs+efP2HixPPOO28UQ3Pt7S2bt+wAuMnzrNND6HwkGoMVRGNQKOCtrq60Y1iOg/feI+pJyGfhpLRz50yfPv18jhPWr9/8l6f+bmtNQk5RIZiixqYWu2QmC0/r8fMVBO6Kzy4qKa7IZBJ/efK5w0fqQ8EADu224U5bW0dLSwfOY8Sxvast9rus71tZ50U0zbS1dXZ1xfGMFYYrKstYjkZ2ZSLr/Wt0Ku1XTzNwPm7OH/DBdChKNh5PqHaNpLMB6Lpu5IVDw4ZVDeTij0NZR0c15Xb7UskuQB5RzQwyZE9BjW5yKulAUbvJKSB1rKeiehgETkyKiGOy0ajgpHYC7z218JVrOeByRluUx6X7SEk13trbMXdE2InDEwT8r2GgSAQEDsQy6LQYoOOZpeMKc6gzo686EImkFeyLwXB2zIV5ElPEfpBjx4743n98o6ISF45ZvWbNr/7nj0AuB5Lo/XgwLUYMTbJerxgjXQzqLUHCuWLhXFEnCsjHG4hXWcM8LGE9uJfhaIb/QIusU/5t5sxJ37jna1VDhyiKuvSNNx9/YgkQUODoZ0N9nPANuF/RzYHeQDE9ii7GnrDBTaFrZ+UXPzNz8hc+f21V9bDOjrZnnv3HypXrnCp0g0JqFUUDZuaEqwDOhT+76b6mg8zak1+f5/me4FhgM3Z6GPx2bJIQJUcVD5tJzErAR530J04RwfcLlCRWHeFQIMPndbs9bhgIyzCszaJUYFa49iHFMAy+Mputr29AuD6iMGf2tCVLXgYmHQoFaIbppVrA5Qzg+rP04HF6G+2KxeLAhq28vILCgjBsB6eu4anm2Xb7Jbdu23W0/ljN8OHDqod89rMX2eoQYvOW7dB52E09t8N6RSJdDceasEYnEJo7d+Y//vlmpLOroCDcq0w39p/FHldst7UR2siRwwN+P3wbiUQ3b9kZiyf9dmi30wGYPLdb6FUlEZtF3G7X6NE1OBWxqh46fHTN2o20bYZxKj/D62A1YVZ7q+5sQAjygALrbie+M5yFdp4qK6qtkWWc6gT2ZiA4lgYM1IzBpeH1+ufOnv72slUtrR025uvGQ3b1Cc2pmtTP/MMOrKoaUobLP+FhHjvWqCiK2+06m7MMWGTFinVdXTHbz1c/1Q5xdv7+A3W2Ye4j9QPDCJe0+QJxVNIbFT2MIwB6kUzsr0UhluqTluIkpQShGNY+UdMsxDMcw7K5QOgccBnkTcqyXCBYEI+1rzkU7RLFb11OVOYTQLDR2Z0dwOIUZe5pQI+/Y+1qykoA20MFdpmYkyuqA70wBIGfO2fG1KnTHDhVkH/Flk07Xn39Hbeb/0BVj5O7nWV5gmI7VG1TWhvlYfpIDn7qs0OTRJ1k1El2BhdOoEjaMD/YIitJ0oIL5sycPoWwc0J8/qara2v3L31juRO/esZEw67yi4lCWkeKrX81rIGuhmFZMbk70ri7BMNgWEwAFZSVl9x5580XLVqI53XsGOAQHR2Rrdt2B4P+QXiF7TFqO2Hg1ClAurnjRX8YhvZ43bhaFsYrVo+XgB3OQzMemnCy91sWsEDKpvh29UqXz+fBN+JvTsTKdoRql53CVWc5z+JF83bv2ld3uJ607YYukBC9bsqOswMeCdhox849kUhrfn4JsOG77779tw//qaWlHRhht1cEScKrYQP3k25k4A2wQjKZOnK0YdrUKQwjjKiphoEkU2mG6c9nE17d1ta5du1mgC2BgG/Rwjl+vw9w3Zo1G+FpTC+MBfOcSqW3bd991dVdAX/etGmTvnznF37/hyc7I1EnT78DnoBbA9qjSMrRyFomriflPGTGjPNvvPGqzZu3ZzOidTxLv2ngTGsAuEB+AFbt7DyAHSCEwILAclx//RVuj6uhoRmkkR4LDjDyVCrj1GeGjh2vYo0TyFJu0rCrdnvcbjupj2XXl+Y9Xg+2x5GkXawJry7A00QitXnzzkWL5oWCBUBGbr35uscef7qjo9O0HHsXrooFuAoeS1L92TcVVRs5srqsFAeRNbe0NRzPBXfGfBfuhXEBaKvde+D4VJ2SiNkXc4Oyi85eUAEUz3C8LEtATie52T4kV6s/7pUwzc22gwvHY8P3h5CCPNf+pYALPlvhfFyuNpmI7G9LV5ag8UOxx+pZqvZgVwcE1JlF+9tRVsF5XPLyiulT7GDbwdBMpTOOFA30DjjBzBlT3nhrJQCgAWIAmgHI4erKJLaltS8WodOq6EiQ6JCkHwbgQtJw0nAmmAEE74HQB2K9qikcB902/P7weeNGrVmzQZQkJ7DijAAfyNaMw2maskZCMQsEUhsYcuEp4kDCSGJHfiwB26lszUGhYiB3gsB93rgx8GRZTvK8f9SomlGjhq97dzNCAwMuxCkpO4i5wFEuumj+ggXzLFM3TJystrK8VNdxinfgrA/99w+cUBt4yO9+/+Thw0ex32hWnDRhzDXXXJGfHzYtVVeNcDhUUJCn60pxSeF3//3rqWSK42FhrL37Dvz5z884ipYejYskKRs2bZs/fxZFcZdcfCE8fOWq9fFEEpjimFE1gWDgnXfWbNm2CwAJvLR2z/5nn3vlnru/5naHbrzhypLigtVrNuAqS3ZyLuCs1dVDysqKX/nnW9u31zqMv/sQnP4WoGkaoMbmzTsuWjivqKhs6tSJVVWVwJWRu/9DTBqGtnLlOpw4zusqKS6kKGHvvj27du21c+i953pl584hN2zYtnTp2zfdeANw+jtuv7Gismz9+s1OzDY8C6DSsGFVecHQ31949dChOof7rlu3acEFs2fOnDZx4rii4qJjx5pxNhRbPrCwtVLr6Ihu3bITZjUeT8ET4FGZTPbVV9+uGT48GPTBvM2YMa2trcPWqzkI1BSzYt2R+rXrNu3bd1iSTEAWAI8ACl979eUTJ403TRWuApQyZnQNkAXoPIxu+tSJ2DpBspFo5Mknn21saoUlA+lrxcp1M6ZP+tznrg3CiO74fFV1BWzOzo4uOyqb8Ad8NcOrvF7PCy++vn//4ZOdc5196HYJkyaOy88vgLXbu/cAwNMzPsgnaNF4bkAW5I9Y19JLmAS0IfBuVZZWJ9SvFJ2GzsmOH0QR3dqOM7iQgl3/1Y40zbUccBlUcA3HHrBLMhEFAYUmEc8gWR0EoyTBIBeLBBbFEREIFnK80CdqAbIAEhVQDSA9s2ZNvWD+XMuS4Mq8/KDLxdteisRARgEU3yW4YpnEAVHP6CZPIskc8Fxb6KCkt6sWzXMDT03tcrlef/2dadMmT582yaE4QK9BYk7jXPJnviAkQfG8O0mQtV360bRZ4SVTA4sz4ChibZue0SyK4XFAIxo0egHMLh5LZDIphEp5bLFGopTtiiU+0BEVACjHYZbLc/yppDRN190UNWP6lIsXLzz52+rqEfDT8+fLL79x4MBhnHhNkkpLij9/07U0faLyP5xXtOCCop4/y8uLnnji6RN2kSBwb7yxYua0yYsvXujz5V133XWLLlqYSWdpigKuLIoZkJLXrtvsEngAkZmM+Oyz/ygpKbzs0ot53nfRRYvnzZsbiyWc9QJ2GwjgukL79h/esnVXj3cFbEgnj5zP5yVPbeg5mWcASti0advhuqNFRaXDhg2bev7E3bv2yYrK9+tsAf3cXbtv3/5DM2bMdD5Z9+6mtvaOk5R/WDXVGYk+9ZfnQnmhRRde4PfnX3v11ZcsXpRIJu0IHRJG7fPh1L3r1m8+ePAQgTckv3P3/hUr14wdWwMSSGlJOfyc3IeLFze+9fbyRx/9WyQahRUHvLt06fJLLr5gxowpLldg9Cj4GXWijlBXFl6458m/LHnzrdVw2AEAwfAXLZo3ZcqUkzYhmjhxEvx0Q3xDee3VZfXHmoB6uN1CJBL90xNL3G7P4sULQqGCa66+5uLFFyUSSUcDBxd4vYCwzXff3bJr174+gUs6k5k4YeyUyRMYhuvsbN20GSMwv987KDrLT1yJabu6kDuJorVZPaKZYYYcIEOgCEx0jkhGq2ISFC0InlwgdA64nJMGUj5NM7i2nKKv2YPGVSI3j84yySFpB8PsOIqyMq4M6sQ69hMFDayxsbFlyTMvTTt/gsvtgS4lk2nVrmUzsCFgn1YOJ+clmhXjiKyP97AiDiv4YM0QQJysbgLcgRF7OczyB1KiCMYC8tmu3ftefPE1EObsijBWNitpOPfXWSl7TcvwePxxztUsZla3a5PzKQ9LpFWrH2EMRuFniIaMuaJVlQ0UDARomhsst1wCJ74U9u8/9MKLr11/HVdcXBSLx199demOHbu9Xnc/d8E8bN26C9gAw7DAUO26WGSfOgaYcBDoaYY1Dc3sLnJ0YqpSisT561pa2hweAKixsbkVGF5+fr6TIszx7rXe59qEb9mz9+AJOVQwkOK59vbOX/3vo20dndOmnV9cVASytUsQ4O3RaNe2bTuO1jeytrnKjltmW1rbH3zo94cPHZk1e0Z11VCf1x8KBW0TigWY+1hDQ0Njw8GDR5xRI9vyFemMvvLqm8XFJUfqDmcyWSen3ID2ldsFZ2HlqvUg/bvdwYUL56xesxFACXfqDB+21y0Jb/nr315obeukcb5X/a23VsEJsuOJ3icnOM4l+w4cfuCB3xw8cHDG9OlDh1a6Pe68EI73wYXiFbWu7sjhw4caG5sdW4koimNG14wdO4pl3aoqr1u3vv5YY3dkmWlCh6urhw4fXl1eXnH7F28QM+L//O8fdR2Xd5g9a2p+fgFFsa1tjatWvWsapu0bhBU1+eG8UaNHlBSXTp48GYBFe0d0/fqtMEuyrLy+9O2W1k7DUJzV7NkM/5+974DPsrr+f+a795u9EyBAIGHvPWS6x6/WVWfr+lltq1Z/Vdu/dYJoq8U66hYFxMEQBGTIDiPMQCB7kP3u9ez/ufcJIQQSAiJB+17zweR9n3HHued8z7lntP4C5N3YCOirWR2d6kpy8GDRS3NeP1Z8bPSoUenpqWazKSbGqWAHunCYO3r02OEjh2FE7GnhkbgOIk/RzPTpk3tl94JPtmzdWVBwiMYVCv4L/TPUIRsMZpiaGk4uCkvxGlruAgBRAx1gDx8JIY1Ty4IaaIgClyhwOWeR084Dv2OcQVmsDrer4c3vUFxbeixONPcjNixLE3Ue4u01hDdEWK02DfKJUzpHHlyEq69rDIUjRpMV2G7hoaPAwrrsGYfCoLSsjqI1bpEHLQGAS1fnmiJLg2JZi4OLDlhhJ7XQ2mxsdBQDva2uro1EIvB2nveXllUEQ2Gsz53/3EmyBDLUarE3cqFVVVx/O31thlZkiLCokKdl0lH7YWRIQSHeOxIp8ko0w1qtMZ0k+jslQRzZJS6m1WrD4fCnC748cqQ4LT2lsbEZEElzs9toNHaekmfZ8tXfLP0OBXKRlOq70+56HMqOahmuWPn98m/XdE5yyIKNajIj4GIyGUpKyl96+XXiLIQKk0adsfIREnWHjrzw4hsD8vqiqjQAUxCLVULBcHFxeUVVtcHQ4l8F0gskfW1t/evzP1ixal3/nN4moxHHJaETDwAubre3uKTC7fbQJ/K1A9QrK6+a+8qbOK5LgU533WUbpgk6s3Ll+onjR40fP27ggIGXXz61rBRIK2TqbMKR0WXlqnWr12xUk4LgkkDMGRcUhwTri0vK5s57q3f22r59euFiBehLUZJ5jmtqcsGIAAnBkqk+W7ffdsP1110JKG7NmtUvvPh64eFjKLsuSSqSrNGyOX2zb7zxargA+j5p4uhPPl0CQCQvr+9jjz2Qmprl8zXPn//BosVLeVQmjMHe+IrFYp48eczdd93ULycvu1ePAQNyfti03awxwm76dMGSTxZ80Ym8QwgGpwRUw7zV4xiz2XDsWOkr895a0fv77OweamUlVKkRAxfAkQBG/X7/GRGk1+sbN37EzOmTjQZzc3P9d9+t//F1oS8d20kXpUC7psFaHMeFDwXFsVYNihU6290kNvN6RAU4MMrgojciW2PXHFw6CiWLtv8u4CIIAsovotZCwyysowAQ1cHQGZMk8JHyev9Tnyo69sdU51CVXSLEq6qt0RmTQKNXn7kkPbDFcDgCfDYpKX7qlLE2mw0+rqis2rp9d+cOiWeylmu1BoMnwO30C7ckEhaaPOsIVEfWEo6rjEgExeLa62ctPk8AcweYBSPKSE+ZMnmM3Y7s6vv2HykoOCggjw3zj9LSsGXKaosJhwN1fvebhRHAJZMSUcwK9FFs82iaRPoNSxE+QVlcxn9Wgvxy7Y54lIemA+SkltKFR4iSRFOkwAtd7JEe1XOOrPj2e47joCsWFI1z9tBNtUYxXhqmc0MUcsQUpbPOPMhFlafhioDIPHC2eGwS6+RnNtTb7FYQkxt/2MbBPLQGtlAUyDwj9gltG+1iQsFHYmlJxaGDRW1tcgiOocAlHQCdticCaoU/aCgZwLmcFMBLzWZTcXHZosXLsnv3SIhPufbq2YcOHlm6bLWgEViW7Ti8iIJ55vGadpTgru2Wt1gsQACHDhXtQnW5lbbPAV4BUAYWHZAY6A89emSMGDEEHgno/PNF3+zddwgXbELAjaIpr9e/Zu0PFqvlmqtnwwIxLGswwD6Shg0bkJqaThDiocKiTz/9EvQBVsMqaL0QjD16tLS52TV29HAALhRN4pisFpWglWw6hXcIxrYp3oUQqtVqgTU6cOjIzl372hKGOjM6NCDt6SzI5wvEx8fdefuNvXr1kiTxyy9XbNq0Q4XIP3dzC2wQUDlAEMC41EN5mId2wecdUQjMJ8A4ngvv8PO/U/RGmpS6MBk0TXrCSr7q4GIwwZaVlbPua+TjKAg8RttqsiguGoj03wlcFFDaQCVisKunyuU7IQWgGK1Wn5CU1dxUFwgGeEn+kecMiqxotKBlGhyOBJ3e0NHLgZcBrxk4sH9cfMyYUcOuumImML2m5ibQ2I4eLTmhBXb1nQDS9FqDy+/e4RP2egXYqWIXVAQjK63x8NW8zBpAw9Cf1QgBe8zpsGdlpoIkmzJl/OWzpxmN1ubm5kULvykprfjReVzUV4gAwWJiEgWBK/GFXigINYR14xNZh4bSMmSrpQWgYFhSjnnlbyq4T0s40IcsFgcAl07iIGhEDwywClGQUJA4q1G6lqAHHqjTaXS6mHNKE8ziGjFdubj1yq4YsVulUVdmu5NX40Hp1Iz+Z0CPpxmHgO8DucJPV16E7TTas/ahI1ZuNOpWfbcuN6/Pb269OSUl/Z67b6k5Xg8IA95OdxwaQyPTDtPVlyJzF6Ox2+z2zqYOCN5oNKgwiBdEPZb/Ek68ROGIZZBw2dk9hg0byKB0T3J9Q2NdfSNAH1NLMjp0WUyso6GxCdsySXV2rVbzyBFDMjNS4IpgIORxe09kyCPPgxjaEBJjB+XH1qVb4F2gNcFK3XnHryZNmgCbY/v27QsXL3V5vDar+RcgO4FUDAY9LJVGg+Pv1AA8pUubHgC5Tm8k3OQ2n7DZxzsZSjjbfIBqoqWILT6hNCJRLCpUr3SNt8BexpgS0QawJpTaJ4oC/quAS2uI5tSp41JSk2ikPGlAS96yLX/H9gK1smtHujiI7cSkTJ6PSKLwIweg4MRQ2EWUxD65Z7b0ANcYOnTAq/OejY9Lwp/IpWUlS75cvmDBl2oOiXPSUxH165B9eK9fuOWwm6XO7mFM4kPZsojEE4QFNjerIc6WUQ0U0AF5Oc8/939OZ5z65orKqg8//HT5ijXAl39kEpc2UFI0me3xitxQX10ZDDyzOzQlmZ2UyGSZGbMGhdgIklIflg+4xTXVQpFXAv3GbLYmJGXCcp8xmAhpsZKU27/P5EnjgKNIAkpqmZWZRlEtKae6MMPnIYLPpXbDuc/bj5/qc33COV1/3t1TPV2aXe53312QlJQ4a8a0oUOHP3j/nS++/EZFRVXncO3cekic7aQNYTu2prq2srImO7u3yWi/846bQKPYu7cQZSVBLiByTIxz+vRJ+CCJbWpqXLdui8/nA6Xl2LHyUMhvMJhyc3N+/9Dd3678vqGhCQe0I6tmn969brn1+sFDBsFb9hQc3Lv3EODCC1JTouv3qglyrr9u9u23/9poMNfUVPz7rQ+KilBVh26pUXrhGolTKkh9+/S893e/QSkGaIpm2L0FBzZt3h5qOc4+e9PqUPmtSk56uNgHUKJLqbgVollAawzMFLSvrpwTBYPhjIyUqVMnJMTHgc4G0iolJUn1n6Moioi2Xz5wQVn2kfkUpNe0y3DSjRON57mNG7ZqtZ3lyJJxJKpWqyOQl+uP3TnYK07ugrcHGQpxtbX1fr+roGD/shVrN2zYCiqXmtXjnLgVidLQ6bWsjpfFQ9y5MG/Y1Ayp1xlxwHZXHFwIvz/MC9Bn9/79hV8sWbZ16y76XPwYujIcgJIWiwOWsrGxJhj0fV8jwI9VQ8RoKT1Dejm5NqyalCgAiBarwxmTRANqkTqEicAR+vfv89D/3nfqN7wk46gHhSCias4l00DAO+z2srLK+fPfdzpso0eNmTFjWkVF5cuvvMmLooa5eP77Go22obFp8RfLkpJTsrN7Dh48ZPDgQQ319V6fX5IlnVYTFxdrMCArVH197TffrIDtgHLq0NT2/N1ff7Xy8itmWSzmW26+6bprr2hscoXDYeRLazQkJSVhzzD+cNHe9z/49OChIwaD/iJPMihOQ4bkPfLI7xz2WJered5rb23YuJ2BLXfhUkJ3SwNxj/26pP79c/v3H9D6+bLlK7bv2Alz3pV0wMDAdcBOdXpB4A9z58TWTrBTViOdreIbThMVSEyIu/uuW5MSk9p8A8qzTDN0lCf9woGLGtFQWlqRn78b5BCo1+qZsUGv8weC5eVVXXEZUeXlRVIKcLjK0aPFjz72DMsy9fVNxcVlkUjEZrOeXz5W7HWoi09IF0SePCeojmItoDMWnNPqLNcCotq79+Djf36aRNnT3UeLSnheANYMQ1AucL5aACGyXm9KSenl9zd73c3hSMgr4kwtCGSghBwaVmM2mq12kBwmSYIbxE5mm2WYmpq6TZs2ms2mUDjS4p2LkezRoyWXSA6JaGtLAQ6nvaDgwD//+Y7ZbIWFLioqAYF6rr5fP76ZTIaly74DMX/jjVfl5fY1mx1mi82Kg8CRv5Qo1NZWFxUdXbp8zddfr8SVF83ARgKB4HMv/bO2oWHypLEpyclAyXGx8ariBLDM4/E1Nzds37H7k0+W7Nt/GFjBhcrCfA4ClqaDwVBpSQVD69/899vffL0Kx7frf+aohfJ4vPn5ezQ6LUo0dCJ3nNNuO1R4BFgK0zXUi1VBOjY+TRK4c9Np1GR6OqMid6mwolar9Xh927bt6N27hx9l8yLUPIQMTRceLsKptKmow8vPw9DXJ2f4+d2JEpYD8lDapCzDRMAi79xLLpcATnQtALHiU1gNZl4/0iEO2UhPFKI5t4ZO7bvAsIDxcrwQDARxn1mj0fBTO/FhSIpewXMgO0KKJEBXAbawWgOq44oSmXQRbpIgVEB/OuWMG0cfg37cxXjdaLv4GwRWDdUe0mh379oLxKbpjhzqQO0+n1+n0wJw6dUrC6AMhdPV4Qz94eKS8oKCg35/yGw2arVsa4JjUO6DwXBycuLAQf0S4pyoijuGy0DALrd7795DJSVlQN0mkxEHHnfD9MKgemf3SEyM37PnQITjYIA/d9cWFD0gSiAIFFUKtCk6xTCs6ibf9TFSFHMexzWqV2UXE+bC0kOHOU5Azrlt36UQNENrcOWNqK/uLxy4dBwES12yUIPdzwAAIABJREFUIWYX5GD7v6HPJMJkqo1EDW6E1ZbO1euig+vJqMXlEra8KIFgiFBkk8nUjZGiagxgKBTmOE5qiTBRMFWSWqR16EAunk5duPwTD4hbQO7yrWCZpBnkN6rTartXLOH8NyFBFExYA/nFEMwZp/RSjjQ+o+SKhkb/twCXaIu2aIu2i4Pa20rKs5oBzlA9LKpGR1u0/YIaE52CaIu2aLtkFfpzv4W4UKmcoy3aou3SbNEYsGiLtmiLtmiLtmj72bRL0OJCtmYsjWpOl2xr43kTXaZoi7ZoOx/ucd4tevYXBS6XDjXjSmOErMgKyhODirEgFzZZFqNUeokxHRLXVSBxgR4iujrRFm3R1nUWckLbOT/40pLLMOpKGwUu3dxoGrpB8lwoEPRFIkERRfO35MPVGyx6vZlhKFwCIyohux21UCipTH11KOxDZeUUWaPRx8QmazTan3VGimiLtmi7CDoP8PCg39PsOq7G8ZwPbJElrd7sdCbh3H1SdFajwKV7SJmm2Ugk5HbXB3wujueJUwploUSzer3J6UwwWewoIjcqHbtxsShakaS62iqft1E6kYBOEkWcQjeq/kRbtEXb2bmIIHChoP9HPQKXT4taXKLApbtQC7K1+LxNjY014VCQIGSrnukRa4sza2mK9IaF8uZgtTsS8Lt4LmQLxzlikyiKjqLsbmkURcmSXFtX5vM0K4p87733ejyeZcuWcZwQNdpGW7RFWxebgtlFMsXcrLXoSErqmoccTZAsQW4XQyv5oBidxChw6cZ30zTr8zY31FdGIiHAKmN7xeel2mx6VsugRJm8JAV5qbwpuKW4uaQx2Nx0HLT8+IT0qFNFd6AWWpGlutoyr6cR/nzggQfmvfLKy3PmrFixHOHI6Hr8wpTin3fZv+hE/QxavKzcHyashMJ1AbjAFSxBaAhCTyhrCCKquUbbj6oOfeKQspXy1DryXXL5Bg0+HA42NlQDaklx6GbmJPRwmlmUZRzHaCsEQzMmLRNv0qU6DGsONeSXu9zuRq1G74hJEH90Telo63xlCZIiUDUlBZelokRJaKit9Kio5f77X5oz54tVKz/7/PNQKKQ3WNRymx1TSPuvWtO0R9sl2GB1RJEHqKrRsJeI31IrIXWRt1yULqFs9/Cj0TAkGU0qcU4mF1yv1WYzjJ1u1GioNiVEyNPwSmtjSUrPsoaSw8y+7XzUYSAKXM5z3xKE2+MNBUOn0hsqeWWxmM1m01lZHlzpaq4NhwNOk2ZGn8S+cVaHkyQZxetTeE5pLVpBU1SawzA7LyEsiAdqfM2uOqPZyrKaqCvoTyQhcFp0UpEllJifZmRJ5rhIc1ON210PFzz44IMvvvjiqjVrnn30j0eOlcInFqsdlqOdOEFYRxS9Xn8wGMRV70/5ym636PW6Xwx8gbHDYNXZYxjmZ736ElpuHmdFR0UedDpd240GS4YrVSE4e9HqkaEqP/6g3+cDyjFbzCajoSPsgrsnnir+0JWwKOfnBwrLirE7Kmne9gmwNThOgHfBGyNhWafX4F0T5R/nAFyI9FTphb8QBr0FlbhrmTtRIYO46pGMJZOZbC2ER0oKKZOk+Pln0sGdpKzAmjKsBj7oUD4pRDSeIwpc2jMI0HyGDx2YnJQAysYJCaTQDCvwfHFJeUVlDXPqVj+jucXvc8Pvw9McAzKsef01WXmMEFQ2rQ9X+2S9gVTxNvCGMK/EmbXT+sUf90SaQ0HQ++PiUjFtXxINVYC7QCqXKhW6T26hAPRgwOf1NImioNXqtHpTJOQPR4KhoK8VtSxbu+Y/f/rT78sa36W0e2SOR5UU5baMGx7C84Jerx0zemhqahJygjkxKHiDwIuHjxxraGj6BZVrIXCdORlGpMrInyO7VMsD+XyBYUMH3HDDFUeKir/4YrkgCG2XCaAMx6kRf8zFAS6osGI4nJmRkpfbl+P5AwcO19U1GjvALtB/jLrINrAFVSwGwmZZ5lxzf8DVAjKqSMDGAMDhmqwtXwEN0zR1zTVXDMjN+Xzh1zvy9zidTtC1olLyHJpOy/TMEHT6gzzBK8jIDrwvniFiaLR+sFphgigRiMgJNp+qJZJgKWOdCgoI4AMBL8dzHdaoxyXWWK2OodkodokCl5P8S5Llq66cPmP6VAArsKUxd0OlyTku/NZb78//90egGnUCXOBKv98N0tFp1OSlWIcN1eYNY/WxDBGUCw/y5RWiLIK2T6o1RwEmSbKSYjfkJls3HG0EuON0Jl06YksUeZgOivpx2AUNFZ5Bd5efqwq/fD5XY31VJBKET/x+gmW1Ag5NJ7Bfy0svvbR27do//fGP00oq7nX2ikTcx4INXp/LZonR6gxtj57D4UhcrOOWm2+47LLJqjUCiQEBFWUNBkPPPT+vquq4waD/Bewfnufj4+Nu/NUdcfGx5WXlH3+ypJ2w/xnZjbxef+/eWffff/uM6TMqKssryqvWb9hqxhsZVdMlyeHDBs2eNQX0lIOHjnz55bc409JPS6/BUKhHVvr99945fvwYQRBXr13z+uvvQT/1el1bgQS/A2oZOnTArBmTSaoFOCq45C8gj+XLV+/bV0gge1hX7SIwXpZl7/z1NVlZmbDBv1iy4ujRUhirWqYxEApNmjj6/vvuyszIjI11+J4PAM6LibFHxck5AGVJAnbjVZjXq/hakdSSRFAhfm2Rb7DIQFJaiqjgyLdcdLmARABosb+Npa+M1YG+i6IEZL6hoYrEx9mdIPHExEzGwLaF5lEQ818NXNSKoDabNSk5Bf70+TyhcAQwLsPIAs9L4tkPiYDgwuEAPCnDZuybqes/kNVbaMIrEVqyX39Nba1YUy1pNATwf5XSJFIGmd4zzrjxWKPAg+oV0Wr1itKNRhdU4hhvIdntagj43Qo2LJ9fVDA8h6FBKUQJURiWvfjjIkkaBuP3NdXXVfJcOKdfv8umT9+4fv3eggL41mq13nbbbc8999z69esffvjhmrIynrWUKEKjDCutdPDAFoVVEAVQT2VsjbDbbYCEABXpdNpfDAcBaWqxmH/962tjY+KLig59+umXoiz/7IALELPb7U1Kir//vjsuu2wKfFJ8rKyp2dU6EHRiQpH9cvrcdNOv4c+1369ZsmTFTx0DD5sLpnfMqGFXXDFNrzfDJ1dePjN/R8HX33wHJNTuYlGU8nL73nbbLac/p6ioePfu/dgTi+r6q0Edu3zWZYOHDIW/duTvPXKkWK1qjo9TSa83cPx4LQAXmK5QKPTsc/+or2+yWs1R0XhORj5eIY8JVJlA6knCJxOTUVZLNIE0SYDCdEwgj/AIGgNCccktk6/OL7Cpsy+iJEVzekeBS/sWCoUliZNE4ZNPF27ekk8jv1qNyAvllTUmk6FzC4QsI5kGvzgN2sxMVmekCBCCQKISkZHFTJys37MTMLWIXHQZ0PbgeoKmSKdJo6FJHt3M63T67mURoOHJiiRLcjDogx/ou14PXWrj8N5J905h+JQocJGwyDBhZ0wiVgsuMvtA7rc+b7OKWgYMHDjnjdcvGzP2240bXnz6Gb1ON2XKlOuvv37z5s0PPvhgeXk53LJCDLoC0n4hAtjTYbIzrKbdaEEh9geCH3+yaO33G3le4AXBbrfecduNQ4cODgT8gPB+ORXksRoHe0G1MxE/w4Q2sBahUESn09166/VXXjELIPTWbVvnvvLG3n2Fdpu1Lc0KyCkepbGORLiL1DdFiXCCarTD9i3QjIQzEg/wn6Kikm9XrgRUIYI2T1KDBvZLTEySEHg+P3pTwhFYUDkSCUltHUhJ0mgw7Nmz/5V5/zLqdQMHDZ49e8bx2oY5c/8N18N+iWKXrs4vJiotcE6S0JGEQBIMeQqP1OLPMXA5IahQ0AZNGQw6k1Fun35XUf+ReT4YCCin5daNrksUuLRo1Tglv7h/f+E3S79jGBr+g11tMhmNRkPnzrPoqAmnYzHrWKsNYxyKaqE8muzZVxMfxxyvFRWR0LKkIBOCrET8SvM6nr4EqkKCmI9Egq7meoVQJEUJc8h6OWDAAJDuHMcppAYzXA4wF0GRp+IUdWspCKUptELRFAEcVjl48ODixYu7JRsKxpeU3+eqryvnuUjeoEHz3nhjck6u8NlX04YPTHvvPc7rjY+Nra2ru//++wG1JFPMCEa3lA+u5INws8Fks1ljcXIduS2DYFkGdOU9ew6EQvnwbYTjkpMTrrx8BlrdCz1M9YGtXOn053fCsM7YmbMyuFP8NFX7IR7+6TTfrm/n9O359fA8RoTO70Kh66+9/OabrtfrjWVlx95668P8XXsdDvsp1vWWiB7k4Ka6tWEO0CXZ0MlIWyMTT/8S6UJa7dZtOz9f+M34caNFUVq9Zs2OnQVGo76d2R+7RdO7du/bu+8QLAdgHb1e+9q8vyUmJis4FKnrhNT6Oz4gg5tllPTy1GMp6JhOp9m8eedbb3/0178lxMcl3XD9lYWFx774aoVWoyGjaY3OYfe2/NP60+5L6tTPw+FwRkbGlVde1aN/Xy4QIrChG+u1NIGdroChuRoa5syZ4/F4Wh4RhStR4HIG0IzDiOLjYxnsmah+eLaQH1I9bILfTAZKx1Kknmpq4Jata0qK1Y4bajUYGXMM3TuFOXbYv263d3iuJXe4VagUN2whux00q8dDXk+jx91w8kONZuDAgU8++aTP52vhccjBjGnBIjAbooSQGewuNQsNsmHKmDUD2GMXL1qIgMtFHxvK3k9Rfq+7DqOWfnl5c994ffLgIYH7HvN98KH5tpv7z/s70aPHwUOHFi5cCKgFGMMdOusjOketr3qHGNYbLImJWRqN9vSzLeD4wL6tVgv8wJ8cx8fGOjUa9sIrbYqCHWNBllAq+UUiHM/zMnYgB+VbA/3TalANLOUMAhs6JghCqwiExVWv7+SNAMjg+SBEVY4YDIb9/pAin9FXVFZNBbhvdDu2LIIWjx7S4uh6RqHe8i7pZKYctYcwk6dLR2SvlFpGBIMnW66ntVoWzzzZET273d6eWek3/uqquNjEUCi4aPHSdeu3mE0mDdtZODR2wRbhXepUKBhn6OBlLNNugeAC0FLUQCSYirYDbV0+eBrc2HZQ8GB0XsPQ5eWV8157c9nyVXBleXlVJBLBepFyen9g7F6vX6UBADeCiBM6dwFGqLHNcLsaRkTgY19RENsaWtoNSqfTiaK8bsOW3p9/ed/v7o6LS7z11usBNlVUVFssxqhu30WLi5FSrrEoHklmSIKXiYHaFisKrxA2mrjCLDdJLYSbrUX/D0UiKT173H3NtVmcQhQeIYw6xFrxVidoFCdCOOxNV1755lv/xsAlugxR4NKp8Ght53pvZiZjc1KEiVm/sv7el0v6ZRk+/Huf3H4agpMEn/zOkvo5n1TfMjP24xyLwtJZ2axWS0bC3UiOSA8LhwGfuEG45ZHsCEbjkqV8WY6ogZdyI9v0NQAzIek2cdVWpa4WMUUVuMC+ohngx4TZQY/szcaUUs0FpHOK4hgrdUdoN4m9cf1+V11dBc+F++XlvvKvNy7LGxz841O+Dz4iaSa46GuZpq3PPhGTkVFSXIzBGNmX1jpoJp1idxJhVEuK1arr3xFhtKWQn2g9KOx6ABgM5Fw4zJnNxl69Mk1GA4kMY1xV1XGfzw8dBZnZtg9I4Iqiw2FLSkpQkYrqOFxdXRsKhbRabbuzTjXoBh4I8jU1NSnG6WCwhA4GgskpSSCPT+eSJ8Jo1RCHM/RcxSsdpLoBCCIwDAnvcjrtLAbBAI9QD2tqAc3Qp0Xt4QBdyemwJSYlAICAZwJd+f2Bmpo6uEuv153x9FYV1VddNWPIkMHw59Zt25YvX6M67nSOWsLhCACu9LRkJ0wFgxC52+2prDwOsFGr0bTFBDSCxwzR4vnUHjHQuFfKaZVr0PklNliazSa/L7hx4zaKpiywumdCLWqDpVHBMSwojJfpmqcRDB+mDsB3jNOekBiHpo4kYVqg13q9tiPhB3eZTAaX2/3VV6uGDh4wduy4vLz+11wz85VX/n0BXPX/O1CLTJA2UrnXJlFky5EP4BUe28ciCgovussmq1+hAyCaUilGYNnGfQfS3/qsftf3lD6BHjGEzOktF+yXt+1ES5/dq+mLd6RosowocPmp5D/m5r360jEpKAAuEETQmuPlCCcj+yBNChHQxhD9BcMywckaOzNwhAbkkSfUbcBFTU/i87gEnnPSzH1jJt+ZN7TR3fTsrq2FqmVS9FG+fAX1/xbujXeVTVsJWaJy+5HDBirF5fLuvYSvUUnrp3/lEWqSh/RsIUy9QTm++BlNsH8h5fO762uxrSU397W33p7aPy/4h79433mX0ptJs0kJhMIfL6JA9Xnm0d/ceefho0ePHT78Gedzy2KBGBGxhi0rEtl9h3cgWWNinNMum6DXGUrLytd+/0NGRso1V8+cMWNKclIijLCpyQUffr7wq9LSipP5EoE5CgJIuBHDB82aPW3s6OH4TASp/oBa1q3ftHLl2pLSCqLlHO0U1JKQEDdx4qgpkyfk9u9rMhmBYsOhSCgUtNnMinJKIC7QSU5O7xHDhrIapqSkdMvWfFDoVV9XeBSK0Bk6EEQdLP7uPXt37drHshqq5WARO6WKIiCqCeOHT5o4rl//PiCuoTeSKNUerwMtf+myleXl1TjIpeUWgDIajWYw8rdAI3LGOJAxg+PKK6rXrN24es2G0tJyuOB0NBYIBPv2zZ46dYLRaPZ4mpYu/a64tAJQS+dAE8ZitZqnTR13+RUzYSpAwEOfi4pKF3/xzXerNwQCAZZlVROI02kbPWp4WloqgP38/N2HjxzT6/Wtw7TZrNMvm2AyWXx+33er1wPEhB7C/AAonD5lYmpqioJPptBIEc3SVTVVG9ZvhT5rNJpOsHLXgbKagwdg7shRQyZPHDdixGCHE4iBkiXJ4/EZjFp0NNax4m4ymsrLK7/+ZiXAPoPePGPapGXLVgOxAdiKelR0Eb5wyslt08oIVSzPEa0ZXlpipNU1A+5FaFiSkEidjr7tV5o7buJefVPetoUkdIRO1/LcaIsClwtOrshkjJm42y8JEkFz8tgBlhsmOftmGXom65UmkohQBisxeYStqCJ87aQYQk8TETHgExGIIYlu8oBEki8U9Pt9bqvJOHbS5Jw//YkYP94S8I9YuFBz8CAwXEnbK5z9Ptb+9GiHCYC8vPSksdp5zwrvLxDz9yhEkJZCMm3inDcqmlsYlqUEkbi4YUSqlSLgc9fVlgl8pG9Ozj/efmtK7oDgI//nfec9SmchjQZClEgccer/4FNbQuzVLzwFguc3t966nA/ADxqfRm+1OrsxwlAVTiDdn/rLHyhK+/336xoaGu+/746pU6fAl16vX6fTZ2TY7r4rKzEh9vkX/1FZeVwVJypqmT176h8fuS8xEYXFud1uGITBYMrDbczo4c+98NqhQ0dasQt2v41kZaU9+OBdN1x3DT7rRMYMWDebzREXl6AoEUkS25oMAAYBMHryiT/A7xs2/rAjf08gEFJzgYCkpGlm5oxJN998E3w7/823Nm3awTAtpzlqZG92r6wHH7j78tnT1UAYgALwoUajy+nXD35kWZz/5vvwCjU+C1ALwzBXXTn99w/9Fo9IcbkQjDYYLYNxGz9u5N+fn1dYeFSr1bXtJHI0k6QJ40f26JEFf27bumvnzr0UznrSibkFbgKo/bt7boHZIEltKIR8Vy0W27Bhjry8HJPJsOCzL6FLOp0uHInY7ba77rwZZjXChZ96+rkd+XsNBoO6dvCQ2FjH448/YDQ6/H7Xzl0FbrcXJpzjOFbD3nP3TXl5g9q9ev+Bfdu37WlqatZqL0BgGg7RF21W8y03X/+7391uMKDAJVhWNRY6I8OpyFwnBUbgdiCkcDicv7Ng1+7d48aOT0tPmTpl3L+KSroXtZy1KMqlUzWFxAFEbRKYnoI56DMzenzUbjFRvYbTA/pR8XFon6an0uMnEr4AEbW1RIHLT7m1kEcM/HKkLBwSFV1Q6pVh+OTlfgSjECFFOIqAC9tTvnJ67JWXxRESfCgDTdfU8r6QRAFfZdmL32cAW4IgeDz1oiJPnn3Fu++8TZjNxTxBa80jb7p9fCgQCYfxrkIGJBQKxdBkZgatIciUJGQKt1vpwblyhZ4wmk9sTgYfv1xs1AID8fvdtbWlAs9l987+57vvTMkbGPzDU953PkS2FkAt6ubHB/yavn2YAf2b/f4jhw8TJ5xyQILGxCbp9apa2Y0sENRlob6+ITExUZTExx9/cMTwkU1NDcuXryrYe6B/bt8rZk9NSEibMnnitu27P/xoEfbGAK1OHjt6+GN/eiguLr6hoWbt2o1btu4UJTkrI3XWrKk5OX2GDRv22KMPPPHE32uO17eAvEAoLs75h4d/e9VVV8GQy0qPbvhha+Hho4okJyUljhozbOjgvHY0iUN1QKh59Xqr1+s5cSTU8hX86/UGUCYtiQ8EguQJQ4ia7SYlNenxxx6cNHESQYguV8OWbbu2b98dDoVNJuOAgTmjR45BRIZOvgQVfEQi3FVXTnzkkfvi4xIb6o+v+X79pk07ARf06JEJ+Cwnp++oUaOe+PPvH37kaa/X1zZxHMfzDrsdAJbNaoeZzN+1p7ausV2KlDPJa3lAXt9e180WRWr37m3frV4fCAWnTZ0wZvQwg8F+++2/PlJU8sMP2/BxGwlz7vGgPJNuV1MkHKHpU0w+8G19fVNWlrWhoanVoQTZpRRi775DRpMRwJkkimaLKS42Rq+3NDe7ZFQW+MLoLYAgNRrm6qtmPvLIAyD7mppqt2zZuX3HHp6PmIzGYcMGjR41zOE8S3YWnU5TV9e0acuOsWPGwl0jRwxZ8PlXXITv3FPqJ8IruFyDiEEneVbjcTtvpG5BLYJCVAukWlxeVggrRVhoXBAAW2LqJFI4QYmxJBGjOuqCsuQPEInxmkfvZyaPJzweJRBgLpvATJsgr1wn/vlZgojWqo8Cl59GVwaOpjeYgn73D3s9jU28I9NAhHHQM68QMsFm8YRKvEHkQYpy5GrIQETeesADxK3T6LRafXckjCeDAU/A5ybSejlvvCdoNr9fqyxq5Gw0CYrX7Q7rzUQAVUBQjwxkEpRuzV8fpWZfRrIsbC164hj68mnS6o3C6+8oHi+hXqmwxEUsdILFMKAWb21NGc9zPXr2nP/++1MGDEao5a33KYOBNJxALTC/HMdkpdte+qt/5pS3XnjhheefB2YHeMVqi0MOFqhY9CVR7Azza370yCFmiwOAyP/7+6tLl34HgtBqNWsZzc23XK/TGwcMyLE77G6XBwgvMzPtppuuBdTicjW+9fbH8+e/H+Z5BkEHcu33m1+Z+0xu/76jR42eMnX8ggVfgjTFNhLh2mtmTZkCSII4eHD/Cy+9vmrVeiQeUGkEZeTIIe++80paauaZ5H27sLJTut3uK+zuyhsM+l//z9UYtUTq65v/8Y93Pl/0tcfjkxWFpii9Xj9+/AhBEFHuHwz9g8FQzx6Zv/qfqwC1wIjefuej1994P8JFUFJIitqyNf/FF/7St2+fsWNGzJo15eOPF8OnquCHfyNhbkBev4zMNPirqqriwMEj4UjE6bB1bjCAb3v37iEIytKlS+e88ubRo6UA0b5fu/m1ef9v7NgxaakZ48aNKNh7EOfYJTufhFYY14pF4OHImiLL8+b9+x//fFeSZECN114z49E/PQgQ8AIG7CCLj6wMyOt/+x2/Bi4DlDP/zQ/f/+Azny+AwqYUKS0l+a235owZPYLq+KXQW4Zhw+FI0ZFij7fJbovLzEhNSUo8UlR88YGL6o1uNBgo5AHdOXsksed4d1Z8a83O8lg9VSNSOpLwScRddvkOmwRb0UARpRHi+SaqWMAebIT8h3jqV0YCZyfGwWyyhOwrDY3oQRqWCHFKOKKEQkTUuygKXH7SXWY22d3N9ftLQut/aM5K0rEaiuBBWAKapkm9TGgU2U1RGoW0IjmqUOSxkvDH3zYAtVutdqKlnMXFNLcwAh/xehoBc2kGj5WHTqiXCA8v1vOEwCqkyDfrCEp3qvUBhwVTJKUWXiJphghzJE11k6GWVPN+BgKe2ppS0CmzevR4d+FnE3NyA/c/5n//U8pgJA36k6glEmF69bC++ExgxqR/vfjCU3/5C9xvs8c5Y5LUg5JLBLUQLVNOmi2WgN/z9DNzli5brdNps7LS6+sbd+4quGzaxMTElNiYGLvNXF9XbzTqhw7JGzt2JCju+Tt3v//BQoqmE+Pj8MmFvKfg4McfL3nmr4+ajLrxY0cuW7ba5fJEIiGQRpMnjTGZLMGg+6OPF61evR5QkV6vQ2V0fH6BVyNrfmyTMRjv2SvzyiunY0QSee/9z959b4HJZExIiCNOROhs2LhVw7KAYEBjRqeTsjxm7PAhgwfBtxs2bP50wVewPsnJieoR0p49Bz78aNHzzz1JkvSkiaOXLFkGN7S+ES5ITUuy25BRoaqqxtXsZhiqK5QkisqKb7/7699e8fr88fGx8ElJSeWqVev69evrdMbl9s9JTIwvKjpGnq/mC/PgDwRx0gTZ7w8GAsELe/iCnYt5s9k0ceKo1JR0jguuWr3hrbc/AswEPSeQ7zZy15UE6UR4Vqf7iiBqaxtLisuHDo2z2219+2YXHj528TcCILw+vXvcfvuNuXl9w8HO8rOBogWI9p13F0QikW70I8ZWFtItk00Sytfil4lwG48W2FHqVxjikJETwZrIx8ViUmoauLsfEnP6sL+/l7nucmHxMuH5VwleZHEYY9THJQpcfpIG/NZgMFksoAQ3vPRp9cB+5uFDrRSrEDwh1TOKn2o5RUnjSEYmaLamgf/Xguryel6jNZgtzosu85HS5fe7ggEPm5zhmHa1xk6TIUlLEUaa0FPIKsRSRLsyg4RWI77+jvTRQvpXV7O3/Ur6fpOw4Ev54CGSl0iL+WJjFrwACs4qAAAgAElEQVTlAwFfbU0Jz3OpqanvfvjhxH65/gf+HPhoIWkwkHpdC2rBDh10j0zrC0+FZkz699y5T/0fQi12R0JCUrqCUlpcclXlsSgV3vtgAQh1g0GPA2vR53WNzV5vMC5OslitTqcdpJHVmtC/fx+Q+x6va9v2XXX1jYkJcbjADWqAeHbu3uvxuE1GS1packyM0+XyhkLhnH59UlOT4YJDh47u219I07TBoMNJPhQcn8xekGJVyCmVpvv07pWUlKIokZKSsq+++hZQC+jurWKbYWibxdJKadBzh8OWk5NtMluDQc/OXXuP19Y5HHY1QZyag2vv3oNNTc1xcXEpyQnx8XHV1bWUmnwGnzcBaNNhf8aq6uMer68LkTjolPfAwcIXXnwjEAwBEFQ/1erYYyXlLrcLgEtMjMNiNkqizLDnn0FYdb8F4CJKEstqyAtq/cc4VYqLi8nN7Qd/ulyudWs3wYTAcFpNuci/uAtCHQl+kmh2ucorqoYOHa7RalNTE0/M/UXdBbAFLFZTXm7/3P79z4rzYK2Rc72sdKOFQo0k0pEtPx0loFNTubBt7wMq5TiluVQ5RCiNjUQwpNQ1KkcPI90xr39UqEeBy09Lt86YxEg4WF4X+OO8klf/1GPwICtjVtgcTnbTikhSNok0KjLLNtRzc9+ueO/bepJiHY5EnU7fmknzIjSKYngu0uRr9LgaFJI0DR1nHjdD9IGOjzaZjLffGfNqERQtb98jK81k/xxSlJXyanHpN4qrkk4fTFxEMzIS6pIY8DSHwqC4eiVRSEpK+s9HH04aMyZw36PBjz4ntRqEWpSW5HhyIMBkZdrn/C08a8qbc+Y+8fjjyNbiBJmnopZL0feNJNmSkqJFi5cCYagHKDAavV7vdrnXrf+huqZq//5CV7MX4IXFYk5LQw65oiDEx8Vfe80si+VkAAjcjhLPICVbtlrMNpuFohQQnAkJsUYTwprV1TXA8UGm/hQmMxDS8Pa+vXsA0XGcuHv3/vqG5tNz27d9syCIDrstCRsJQuFwamrSVVfOMJoMrfJZkuUYp0PGVhaTyWS3Wasqa3BeREQVer0uIQGAC6LG+rpGny/YtWIFZElJRUNDIz4NIVvFvLvZ4/OhNCpWiwkGgnLnXKoFwHGeIQqWNSOjxTu7rLIK8O752XUoFIUkB/xB1TSr5i46NanrxWharbaxybNm7bqKyvJQMNLJlayG2bPnAAr5prrTGUR9t4iSMbf8ewq94D8l5DvQYoA5yVoRPUukxojg/udfETv3SoVFpM6q7uETEavRFgUuPwVsUWCnGS02J89Hth70/88Tx568K/v6SRZHDEHZgRkoBEdIPnLbbu7FjypWbDoOtxgNRqvNocgXr1wWyvoaCdbVlqnlkankTM1l13I2TTDASWY2IhN+iQBlkMLZk8hTZakSDMK+IwmLtPL7SGOzXFxKhmAnahU+TPAX6XRZjeOtqyn1+93qJ4BaPv7448kTJ4VFgUtNouw2xetrPbpSfH62R4Zj3rPhWVNff/HF/3viCXiG3RGfkJD+0+ViuSAN16AmseWjJTbHajVVVtY8/8JrElLZWRDSWh3wdq3FYsFSXH/P3Tfdf99v2sFOHNSD4KjOAJhBI4qSUa9PjI/VYwBRc7zO7fL8RL7hKK0ZIInEBIxIhJKySo6LGAy6zpRsSTQY9IC94HezyfTbe265/747ThuRWnVchhnQG3QoZ7P6OU7vZtDrVSsLLwhEl/1eUZps5hTWAQ9paGz2+1HEmcFgcDhsMEscz12aIkRBIyWMRgNMGrJEBsNchIPNfn4EjneZHMZ1swH5wWO7JXkuUEJdbf1rr70joAC3znqAD7HZjlL7XDRzi0iQFlp52CEHZRRbJChEb01LAjpgrXEseZ9T9sst5DxQjwYE4IbheH2fnvRzTzkqbmcMegWmXRCJqRNBAZMEQTGAkLBSUeQSBS4/hTSF5ve5PJ6GYMCHsmpSlEA6n3m7dt57+7JTlJR4HcuQjW7+cLlY7zfT+hiz2er3e4NBb0X5YYvFabPHMAwr/8SRb+red7nqALX06Jcz5bIpqZMv10+aJpmIDFGbzBDTTJQzjjVgWTlcQ/DIrnmyaX77G2XaZOBkiiyBIGJ6pBNXTCMiEcJmpQYieyZpsbQc4RgNP90oggEvoBan0zlx4sS6urrnnntu7NixkXAYeJv2sYdEnY5/6R+Kx0eYzYrLTffKdLz2HDdz6j/nzHnmqafgdoczPj4hQ1Eu9Uofp6efB60apIgJSSZFJTm1UiBFt0Q48zwfDkfaMXgFJ27T6cWmJpc/EELJxFkGRa1jFi+iZKrSTySWFFSHBVixvgVXdOVFCgHDOSF+gIfzwWCEPI1ty5JCs7TL5fb7gqc8Uw0KI09Q+4/QB1DWlpaEwj+bppZLbJmHH2cfQXj30hi7gsPVz0Y5yiViOjWQymUmmTIacRQGMquoKh38C+rFlNY14SLYykIAKszfv//jLT9cdd31W8oO1xw5gotD4XIUBJGWlja4T99P5r/h9Xrb2HSiLQpcLgCzALaq1NdVeNwNagBkbm6uTsOYYpOClNUf4otE6agH2foUWSFTySST3soIkaaKCCeUlpZ6PJ5IOBgIuBISMvQGsySJ582zTmzgzroqikIkgkKFftW3/19GT6EkWfluWQt3V4hJBDGpJaUZIYtSGIB/m6pECqkQyBCtVk1UWrKP46Nvefsueesu2KogSFmaYnbs7uIuaxt80TVbLCkIyGjscDieffZZ+Dc2Nha0eVCvoXcKRTIP3iVLovjy61JTKZOV53zlWQlQyyuv/L+nnxZF0e6Ij49P7yQ37k+NRVpk6499yMmZVVC+P/REvz/4+uvvLluxxm63nVKJpo2lCtgfyzJAA22n/dTAZuwwi51IL8h41XDolrXrCowgTyZb87h9b/zrP9+uWmexmNrZypUTBQFcLg/b1lKioHI8Mipnjd7X5ao+Z2jwELPJpIbSAH2FAmEAMRR56Yd4KC245TQvXBm3Lj6FpimNllXvCodC3bJfAIjb7fZxY0fEx8e0um110Fu6qrpm//4j3X5apFCUKMjy6g1yTR2BDZlKG+aFdgLAd1iakYPZ7J48ofQk6dGVddQHnzccqz6+cWNpVbGG0KrsFnmb9cyOTJpU8e/5Ih88wT6iIj4KXC6MDUOpO17mcTeBAJk+ffoTTzyh0+k/fu+tETP/h8sYVe0maFI+IT1QLUK7mXL4SgtX/CchrcfUqVPfeeed+fPnh4L+muri5NRsnc6gFms8J90I9Gz1MF6n01mtprN4Vqobe+l6flU+oUQiioREvopATga1EqfzfFSBkjwTmyTUDJFYgUBKBiWoLjudmm1hWwZDYb8/IAqiTqcF4YSP5M8yVmS4Ntno5tqysrLnn3/+qaee0mg0OE4WB0xynKLTaR68RwmGqaUrnU8+Il0+be6cOc/9v79FIhGHIyE+MU2NIbr4oIXjuDDKi0MaDHrsp3kBOBBOKyJEQiF1eQLBIK59w7UNtGkLI2gcUhwM8nAlzvlBxDjtZrPJ5wucXHRFBoll0Gs7RZntLEMUzwscz5/mBoHCoVVlkWbolOQEVoPMip3Y8ymS5CNCBFelhr76/IGysqrYWGcH5QyJti4siKLCYY/PJwgiiIz4xFgYmkcN1D/3Bg9JSoqLwVlPXG5fY1MTToBLk8TJ9L6ndQrtxG7Kzk7iUpEo6QkyjupYBnbTqYVCQUnRaJGX91kpD9YI1tqgN2A5K/kDwW5R90OhcG7/Pvfee3u/nH6dG1xg7D9s+uHJJ58HeqMomujGRlEybPWX36C2rtYSBuUEk5RPopcwRyjsG2+xfXoHRH5ggHtb44yp8klfrJ4Oaog+tW0RMqrSRby3OEbSz1BCdeozokUWo8DlgphbmhqrPR6EWv72t7/de++9cXFx8+bNC4a53B7J1RbLcV+AIk7WVJYkQktrBvTpoasd/MP2PQ8//DDcNW3aNPiluLi49nhpWlqfLiQtaK9F9euXfeXl00Hw79q979uV60F2dyIbFAkhFGOqmXWkCKpqelItJ1psLxiLyF3oBqVmh1Q3lIL+pPQ6Ouwn9m4l5M5K/gaDobT0lNkzp6SmJO0u2Ld27SafL6jXazurx0uSkUhYEnmSoESRX7JkyQ033GC1WkF6sS1nHyQR4RStlr7rJuvdtygxjjlz5774978HA0G7Mz4uPg3lPu8OuRIIBGJinNOnTQAxsCO/wOX2mi7EaRpN0cFAqK4BVcc0m0x9+2ZrsZutmtC2naWnVTcF5bWhoSkc4QwGIiEh3mIxNzW7DIReXRSHw/6r66+Mi0uSZY44tbywiHRJuY3urqgVogKBYGJSfI+sdFTbSubb3gLAVK02oNVqcBZak8ALbasstfPugnX0+nxNjciByeG09+qZaTTqJVmCcbXNQnZGMcYwDMDT6qrj4TAaGtCVzWZuamo+P4UEHpWZmeZwOODP48drXW4PPJ/EKfZwQpfWLXKy8zCxvXv3cCKs02HVaPJEa/t5m0+UUxeObHvN6be0FqlWsZTfH/Z4fDZbjAUgm9Eo4hMW9YmwENdcPatP72yszMtn1YW0Ol1sXAw2e0SqqutI8uLXeicxyYkCF9HpgJCCnVwK1AUoR25jO+w+k4tCgXKQmd5U1d/H6lXzKMrMggrAIrKgBd5MSFobco1nSMpHUVWEdByVHGFQLSvqFFwJBGbUauXUHuQxLyHwUekeBS4XBFsDdwu6mmtBs3n88cd///vfu93uhx56qKamBnb+m6++nDH1Tm36EJ4XW40XoqhoZCXFqqt3xHi9nmAwaLPZpk+fPn/+/Ouvv87n83s88E1iFzG1Woo2Iz31kd/fN2bMKKD7adOmarXab5at0mq0He1hFI6nELphVfqHp+sSn1ROaKukWuoZV75FjmaoKh7XiT0ameLR4QzJalBsp4CLz7IMzYQ5ZvEiBFw6xj3A4rU67f/ef/uMGdO0Wj3863Q6Pvroi0iEU5O+n9ZnEnrV1Fjj87pwpg8Rhvnkk08mJCR4PB6z2YyzlWO4BsyL562pKRJBvPzSS3NefNHn8zkQakkHVexcrVkXgkhQseIBA3IefuieIUOGQj/z87e/9o93DxUW2e22H4Oi1CE3uTwHDx297lpRpzOOHTNi8OC8LVvz4+JiWytX4+qG0ASDwaAmmQXccPx4fcDvdzpie/bMTEqMLyw8StpIr9cPNHPNVbNuuOFaoAVRlMhTVlypr29SjzITEmNxzhUkF5ua3NCNu+749ZQp47GDrNgKL4CBA30ePVoq8CFWo+2X0+eyyWM/+uQLGLhe3+KiC1ApwkUM8DeOYYbVb6hvOlJ0bCYf1mj048ePXL1mw7r12xIT41qDqCWcWhcAEIyIZU+BaPDGmuP1waDf6YxNSQLgYgOi7IrnOwhImCPVC5XE5RUtFtOE8SNjYlB80+7d+44fr4MOCCDGI3wgiExc0GWnwwYDREcAogTIYNCg/n985F67zdouJxPsLcBS4XAYB5zLXh/g2IDKE+C9QB7NzW7VmQao2mDQt/YW5dQRRRJVh+YNRh3ssNZJc7ncBC5lwLAMCphnGHhgbW19RUVlRkaW0+EYPnxg/s69MAp4hcfrnzBu5P333263W896VqnSZGpyQp9sVDbB4/UeLjzaHd4VislkrKw8/penX9Ib9Gc0IrZB8KQ/EMSlOrv7LA9mT8NSTz6y4DcPborQDA4YitFTGWbkihZRCFjda1ghJsYETNCk1e4xa1+kgmKEQ8HTCtHOZknSVF72gAf+90H5jw8TTU1RY0sUuFwAdQD4i8fdAHxh0KBBgFpA9X/llVdAp/zzn/8Mitp/5v+zaOe6DGu61h4vRUKqZwjgaZuWsGgISUHKhNfrNRqNoMmNHz/+wQf/9/nnn3c115utTpbRdMXool6Tkpo0cuQgYF6g7KamJlxzzazvVq/H4ZGd8RrFTpE900lnivoncM1Gl4vnuPjkBO2JG/mOMT6lqmUaVJq9obFBEIS45FQjy6JImGXfER8uQq/o4MQKHo+jXq0DBvQ3m62iGIHpmn7Z5K1bdu3bf+j0BJ0kLiPs9TS5XPWq9Ruk8tNPPz1r1iysSvqhJ2pkDYubEXnGEXNffHHuyy8DrFFtLRTFYJl6sXVGUNzNFuMN118xZcpENW5l2rQpFZXHy8orQfq2zWhyPrTOMsFAcG/BwaKjx3pn9+3ZM/3xxx987R/v7Nixp6EhSJIUTtvKxsXFpKQm+7wBhEQVBSTu/v2FZWUV6elZaWkZV18548CBI4ePHAMEfMftv3rwgTuNRpPf3wRiQzkVO4IUAZhhsQgDB/SbNGH0h58sqa1rSE9L+t8H7rrrzl/r9WZJ4tqew2MTCHfg4JFNW7ZPnjTZYjY+8MCdIF9Xr/4BcACuVcTGxsZed+1sl8uza/c+jouwLIp72pFfUFpa2qdPv5yc3n945F6aZrZu2wWCn0KO4SgRbVx8jDPF7vX54Ja2B6OAfo4dK6mra0hLy8rITOvduwdgDpBnQBUdzzOCEABZYC1A8OOwasnpsN77u9vGjx8Frz5WXLRt285QKIIqQ8my2+OprEIhgUC6kyaOXb5iLQwQiHn8uJF//vP/9u6dw3H+djTM85LDYXM6MwE4AuWHguGMjBTVJmoyGXJz+yYkxKoPB+zoavYQJ/yyAVYaDDq12rNOqzGZjRi2KWmpSYMG56Js3TpdIBRuamrmIjyoDE1Nrt0F+ydMmAjb4aorZ27etmvrlnyrxTJ92sQ/P/ZAZkZWIAAMR9c5xYqiAP1Mz0hNTk4DZFVdVVtdc7wVB19k0M/xPMx2F/zHFZzyn+1++aOmu0mMc7FsVZDSYOAiGEizlWAolI8OZp/XAvcPwXIDBYQoshwXNiDOqFKRVIyGEZPiCIaJivYocLkwDdVV9rngl5tvvhlUf/ilsbFx9uzZQ4YMgV2Um5vn3X9MDAe09kQVQ0sKoaXJGAPF0qQoyW195YAX33nnHe+995+6uvpQKGC1OLqiJqrXALctPHJ0xLCRgsABx8nKTEtNSSlBtXM7UD6woZiPuZ2w3qZ+cLy2duW3327evBlXAM6BIeTl5cmCoES4M6tnJLK1QJ/rKivXrF69ZcsWkIgDBgy4/Oqr+vbuw9XUcRVH8abrcGtrNIzPHygtq8jO7oHzv0kZGckpKUl79x1STrP3onTYBGi0LpqiZl9xxa233lpWVjZp0iTVkqwexMBdsATwiV6vh84Agpw3b57b7XY4EmLjUkH8nLfX849sqOidzQqLwjBaUQzAaABZYYGk93h8Z0JpBMY3dNsSPB0SADaSFx4uev/9z55+6jGDwTxu7PDkpASQ1tU1tSjGhETJTjIyU1OSk57569w9ew/QNA3ABWhm9ZqNQ4YMMpttl18+1WIzHzpU1KtXFsAL6O3u3fmweEMGD2mbvQ1U+5rjtQcPHk5MSDboTQ88cFffnN5Nzc2DBvYbN3ZCJBI6VLgzK6unw27Ddq8WYM2ydEND43/eW9CzZ1Zaakbv3r3+78k/zJw5+eixMoHjDUZj3749c/sPWLToy527CkRRBtFjNBkKCg4uWPDlY4+lmkyWceNGJyUl7tmzt+Z4HU6VTFos5oyM1NhY51//Nq9g7wGYgdYTE/gd0BXcnpeXq9MZRwwf9P33m+rrGnCiGuX06dMiZyMtQUYGD8p7dd7fioqKfb4Aw7IDBuSMHjUyxhnr83ne+8+C/QeOaHXIhMlqWIAdhYeOeL1uq9U+fPjAuXOeBsjltNsnTx6blZW9b18BTZP9+w/Ai9hyNuTzeWfOnPibW2+y2WzYE0W2WA02mxk0jdz+fee+/CxgNRrXYlyzdu2rr76j1WnUgsGP/un+7F69YcyygkybCQl2RZFpmrr99puvve5atczNsaPH3pj/LmwcAJqBQOiHH7Zfc+XMzKxeubl9Xvz7E5s3b7c7HFOmjEtPyzpSVNjQ0ATjgtno0ByLoDYfH+ccNWIIrHgw6M3fWdDU7La1pHK52A3NOct0exGic268QHOyhmsBLhpgQMCbKZJRcCJSJUJQkuoCSCH6IzrKCkwTJCIFXiCipbmjwOWCbCggJJ7nRIEHwTB16lSVLV599dW9e/dWsyAMHDLEGp9aqrO4BB4F25AIuFhYMs6AEtPKGPe09URJS0sHuFBfv5YLBRSzvSuHtXhXs5WV1e+/vzAjLQ2UV2CFwDGB9XcCegAowI1aey6vJMqRiMfj+XLJkg8/+MCFSgorBw4cqK6ufvTRRx0Oh1qkt6NDioA/sGjhwiVLlgBcg0/2798PYuyhhx5KmTlZ+e09xNtvduLjAt0OBEPv/mdBakoiaNVYnDOg1eFgiPbARR0KRdKyJEFvhw0bNmPGDNDI1fTeCNZgf89jx46lpqZardb33ntv7ty5KmqJi08FCCB1Uzp/VZS63Z7CQ0UTJ45nGJRjAyDUwUNHfD7/Gc0tMBCdFjnGdnLY124mQeAtX74GcOQ9d9+akpLWq1cf+Dk1mgE1o9Gg4MSiAEd0Ou2KlWszM9J/c/uNFmvs5bMvv3z2bPXKhYu+WLp05X333gF/arGerXYS+C5M+LvvfgogqE+fnMzMnndl9sRnIvB5YO7cN1gt89ij/U9ALuXEcNBRzs6d+579+9zf/faOoUOGJCQkz5oJP2rqkRb69/p8EjrToTDWYURB+OKrFfCgu+64OSU1rXfvvvCD3qWcAofVbL+nzgYDE7tu/ebJU8b16tl79OhhAwfkLK85s8oO72psckW4gE5rio1NRJMwS+YFAbswI7Ivryh7++0Ply5fLWD/cbgeQAPDMjt27Pl0waL777vLZHJMmTx1yuSWKNcd+fkvv/zP3z90D546TWslDFEU7FbrwIH9aZo99bhVNhrtWZknqx4ePHRQPumAovTqkdGrV492RxEAJuPjE+PjT/A7Woa+iThNGQy/sPDoP9947y9/ecTpiBsxYtSIESPVvh06dOjvz786c8aE8ePGwzyRyJHuDOSES1kpsCUnTBgNf9bUHF+zdhPyvOi+qum/gBYNYo62SwK4qG52osBhY68pMzNThSCAWkCpUiGFIybebLbyPoPLBcygxT/XrCFsWkXguLj4+FmzZrXlBfCErKweFLVOELiuu5gBsAiHw6Ctgko6cyY8UAwGg42NTZ0lYkK2TMVi1iGpxOpAwK9atSoQDN56663JycmffPLJtm3bCgoKrrnmGhBUOBDmDPLYYDAUFhauX78+EAjcc889MOoFCxasX7du7JgxqVddRYwd2TlwgQGCeN68JR9EGujiWq3O5wv6/P4zKhYYytBWW6w/4MnP3/HHP/5xzpw5KSkplZWVILNhpPHx8YBaXnrppaysrKeeeur48eMwKBASVlsMq9UKfHc6tYEs4Xlh4eJlGp1u1IhhMPLNm7ctWbICBtouikotGFldXfv0X1826A0wBL8/gCsInuUVyDMxHF646JviktIJ40fn5vazWCw0JgBJlrkI19TkOnjo0NFjJTR+HMoLp9N5PP633/nkeG3dpInjcHUeqqmpedPmzV99vaq52a3RLFjz/Q/19Q3whNZ4Y5bV7Nq9/5m/zbn2mpnZvbL1Bh2ItIryqlXfrV3+7ZrY2JhgIALo88CBQwaDvjX0Bl4KYnX9+q01x+snjh81bNggp8OpKv2CIADs3rFj14Yftil4rtRb9AZ9MBj6fOFXR4+WTJgwKi+3v9VqUTeFJEvhMNfU2Lz/wIFjxWVaLXvqZiEBn+3atR92RI+srIT4pOnTJ+3ac6ARlai0tNtucN+2Hbv/9Ogzfftk5+Rk2+0OVP8Zz4/X69u778CGDVsKCg5wvNDWMIaQqMf3wYcL3W7vxAnjHE47DDQYDO/avWfJlyuKior/895nq1b/EPD53cifF5ms4NVbt+9+9PFnDHrtycQwrT7tGOTBTMJUF5dUqAYklcO8/Mr8uLgYua17h0K23oI6o9PU1zVWVdeqx6MaDcNxwsrv1gmicPns6ampyTD54VB4/4GD33yzas+eA5FwqLCwFCDjkcPHoG/tSAvmxOfzxTjts2ZOjolJ4PnI5i07CguL2rrdRFu0RdslClzaOe13lGRE/VQNaVE/ATmqnv4AV5RkhSYlp47U0URAbBHidh1p0RIerx8UskGDBgGbSEhIUEM61SqyKmvuYvIoUI+ADwLTNJtMahAgSdFFR0sbGpo7izilaZknvvhicVVVJby6rq6upqYGcMDUqVMHDhy4efPmnTt3fvbZZwcOHPB4PIBLzoh9dDp9U1MT3AigYfr06YmJifn5+Vu3bv3www/Xb9wIQgW/iOqo2zBzgUBQjXpVu1pSWl5RUY2F9+l3oXTmRrMtNi61sb7yiy++4HkesEt6enpZWRlAqPLy8ldffXXNmjUA42A4DQ0NMP9arZ7VaGXpQsYQdRTl0XnT63UVlTXz33z/yy+Xw5+1dQ1ut6/VO7Xd80EcLlnyrXoiAPCii4Y30Lk5jt+4cfu+vYVx8bHoBEQ9PJHRbAfDIRyno7QGD6MzNZ2uobHx0wVfrlu/2WQywrXBULi2tj4UCkPfNmzcgiyCKH3cyWykDIMsItu27SopKXM67DRIPoL0eLzH6xqAYuvrGxcu+hpeCWSMjGfKKfAaunFg/+FjR8uWr1ij1+spjGvgQ58vUFvfCHhKLeVz0pqCj/w2/rB9377C+PgYZJ1SSUGWBVEKh0JNzR7VPNN2c6qYrKnZ/eWX3w4dMjC7V5+pUyfl5xd8+NEX8DRUpblNNBP8C4Dmm2++W7duS0yMHSYEbSIcY8fzXF19o9cbAGTQtkYBdmAA0tLAFvvgo8Vr1/6gCnVBEOvqYVm9AJt+2LRdFAV4FE7kit4CXSovrwRMc1bxD5ykLUhau3bTWY2FsMtwBuUW6x3MPADlFSvW7inYb7MgV7cdd2gAAA0qSURBVFxAhw2NLrfLAwPZt78QoCeMHrrUrvwkSriH2BcxceLo6dOnwSfFxcWLFy/HaZqZKHCJtmi71IELdtpH2hL8h90mdGcMdWnllW1dVUCcq9qPP+A36+h4E212U34O2X+1DHIvN2jIIEkTODFXO8l0rjEmAsgWXszISLnu2llDhgxEL/UFQLUSBF7FQB0dc8E/3+GG7e0G1WK0fPnyPXv2uFwukCtr165dvHjxWZlsz549of9ff/01DNntdsNw1q9fD3DnhGVH6Qi4gJS1WEz/c8MVo8cMZVkjx0XWrdtUVVUD3T6jURrmGHrodCbAr431VUuXLoXLXnjhhezsbOjzSy+99O233+L0euI333yDJSVrs8fSKBnxhTkkUg+kgDCg5yiajON1+pNRHp2eFmGUoNc2N7urq2vxhOtV1HJGgkJHRUhSKl3HRupzYOpgRQB8HD58tG0IBjwQ6FiHv21nNQQpCxDw6LFSEYeu0AzKcou8RPFpHarJd9qZHWwKmtaD2K6qqsXLpLAajRrVAvOjynicU6d9J3HOXyPI1OLiCvU8Qu0D3A6zccZSiEBOgDyDoVDhKSNCAdjQjRPw6AyTaDYbt2/f/c3SVQ/en2q3OW+9+fpjxeVbtuQ7HCx9aq4BEMnwSSQSadsr3Fu0CiaToSU/0GnEAEsIU3ekqBgDC4S2YYlh6lTogItikm2z/NHoeE531qiQdhPeFd9tNVtuSwrJFkrQwIJWVtQU8+WqEgWvRvWeSNRR1fmmnXqgnm77/IERwwbd/psb7XaHz+/67POv9u47pJZfiLZz03hP+Dfh1FhqvsSWikPkiZxereHxXdeXoi0KXM54hKJaUZSExNi+fXsBcwQWBPvZ7w8EAsGObBjwuYpUoGVkZMClKmhIT09XIzyP8oQbJxWKNxDZSSAQiLg4o9PpDIVCZrO5rVaqb0mO3qUGrHDmjEmgViYnJ44dO8poMAeDno8/WbRh41aUcOJMtK4KJLPZwaCoJeRsEQ77oRtut8tkMm/YsEFNWgpDUMGHTm+GR7VjnSqwCAa8ALzgMpPJBABIfTLc6Pf7sWw2azRawA0kRbZTiKFNmTKub59e6Wkp48aNiY2NU2Rx8RdffbtyHaityA+jI4CIHVliYpJApjc2VKkA5fXXX4dJLigogN8BqWh1hlDIDwtpNttgmMSFy+uPk7HSyUkJIMxEBLyEmP/f3r3/1lkWABw/956z07WnY93YIIhj3AbCYoQAXjZMBIyGLBhFEhMiUVTgX+EXIBoFNCZIGoczQQMSZqJcjNucCLgNMjYQGbSl3XqhPaen5+Lzvmfd1lJOL2w44+fzA0nLTntufd7v+573fZ7eVfmoPxY7CW94aMWZuVva32R5l3S2XoJo+Z5CPvGRxwfnfitsY3tKuZOTWs3MWtvmiF34LSFBooM0s1/W8P0FVzQM+fTh85Hb7BKE4X1Jj+j4kctcrlKu9PX9duOGT23bdutVV2++50d3Dg0Nv/HGW6tWleYrxXzrT/XDP6rNtUjxYyl9+A7N+9TFT86SNz/LW3mn1Uldsxdsb00iHB8BSs97k9HR0Y0XXfjDH9y5efNnw/7Qk0/+4dfbn8x1ZE+ddId2G55MplQqZaLlNKI9hPx0Ip2NVixKNBLZYqKjO5FNRcfdO5KJ7nShI3F8qA/7je27JPzAsJn4L67BxNkdLs1ELpNNJdMdufTt37pt65at8cwm6amp8m92/G7HjqeLxcK8756w4d++fXsrVsI/OHFoN7wdM+no6OvfjlQPjUSzvvUWmul1mTXd+UY8djSiNeFOnjcavty/f39rsF7M/c1lM7d/c9uWLVvicae+b9/+3z/19GOP7Qg9EQKoOf/JItHEGz2r1nQ3e+PJy5tD7783PHRkYGCg0WiGP49GNENGZWhoKNy8WOxed95F0bA1ezcx3lVIDg78++jwewMD/eEmoV3Cd8rl8lA8u2jnyp516y9MpzPxmaCzpqmNp7FofOO2r918082t77z1r7d37tz56M/7+vsHw477gvUQdi9X966P7/mR0C4hGTdv3tw6g7jYGcaN1dO1aFrtdHRO6OlcvqRcqaxds/qOb9923fXX1KP1fRrZXHbjxgvio+4dixlWPpnRfxm/ZRnLHyz7sZyc3vAMP6Kw2X777Xd/8tNfnnvu2uuvv+HGrVtGR8cfeOCRd46829GRn7uc07IezjIeyydpSQ8q/NVv2HDBvffcdcstXwlfPv/8iz97+LHwjJ1zTk+j0Uiw0CGRRHxJaV9fXwiR2nR0JPbAeGZkMpFJRhO7NAqZRCEZIqYSwiWVeCpbe605HQbHUL67du1q82lgeBEHBwefffbZ1qTbibnr3jpjWrjE0xROTUdTPlxy8aWXXHzy27v37I3XWynMOzQcPXr07rvvPnUnqdUHrePq0cci09Fx7mY8f25fNrqmo1ZvxJ99pE8dFOIZSD+IL5Fe1Kcb9UbjHy/vy2Tzk5Nj+/e//tyf/7r3pVfjjCi2fzdHl5XE8zOGO7Bq1dpGfXpkdKi/vz9USOsMwTgCuteuvSCfL8w7bIUoOad3fbifYyPDIXoGBwdOzEjbubLU23t+vlAMW/ewNZ/zWFqz3/5z3+uFwspEs3bo8JvPvbDrxRd2l8uVYnFFKrXw32HrM6PVveeFnzQ09N7jjz/+xBPbq9HpkytyuY7w61onpZ7eiebi666jBZmv/Mzl117zuVP+T3hpy/W6kf0s3JQke3pKL79y4MGHHu3u7tq06cqtX7rh6ad2vnHorXgfw7H3WePY1FR106bLvnrLl9Pp7O49ux948JEDBw6qliU14uHDh++77974Qrno66lEaqreaB3LDCPta/GchI34oNcLyUSq2bpELuzZVtrM8xme/4MHD95///0TExNLilFN8783ZF226dql3qbVvDfe+Pkrrrg0nYyPmsTvuFwuW65MvfiXPXv3vnJiuojEzIeO42NH3x98J7w7qlPVNvteqZmV2ZrxVC5trsjPxGcQ5Fd0rlv36cW886JP+cM9LFdGRsbCf0vdXbklTmgWEqRWq46MvD8+fqwWX30TvrOiuLLUs6ZQ6KzVpj9qXzOTyU7XqmPHohtOR/PUNaMbdnb1RDcszqyr9xHHiqKzADK1ev3YsdHJycnOYjFaEHUpO6/J+PrMo8P94Z5PV6dyuXzv2vM7O7vO0JrPrfMWw078F79w3VVXXx7uc+LEKZ6pRKVc3fnH5w8devOsmP+KU/7uwvZ4sly+9es33fXdO/7+0qsPP/yrkdGxXC4jXOZsd6vV6vrzzv3+975z6cUbHvrxL5555k+lUrdzchczEIWnaGxkaHj43dZ6os3WBHTRDnQ09U7rMosTBzWTM1uB5syCq9GV920nl4sWPa3V4rElGbYLhRVFL4lwmbVxGh0dm5gon3x/JeP9+2Sqq6szmLPzES1OGzbs0UrFp3kQTKUy2Vx+JnXaCbESzXKdyeQ7cvE7eznjTNgbCEP8dPhB1eixpzNhjzQfx1xtweiJr2idqlYr4TdnMrlcdMPkgjesVKaiidKTidb5lcvbOYgvP0qF/ZV6fSo8Abl4LZszN84eX115bLw8WZ6zhmWIqJ5SVz5ajN6Qcra1S3TibXjtSj2l8MKNjX/QtbLTUYR5TUxMhjRfUciHjXDYmsZ/UN7PCw8M0eJv9VrYfTrTZ9CGIOrI5pNpJ7sIl/m2T/M27/z/ONrmn/6VSEMtLXLCtFMvW/jYQ3w6PozRukiqvsgfmEwev+Hy7vbHv+OteFr852sfO18S83aqZDmbj7tUq7WQL6HsC4W8amnzVxmepfgE+UIIF9WyhKcu2g6kkmf4CWu2diYNNcIF+D/ZKsvLRe5ReJrgk2cxKmD23qqNsWcJzmI+AgQAhAsAgHABAIQLAIBwAQAQLgCAcAEAEC4AAMIFABAuAADCBQBAuAAAwgUAQLgAAAgXAEC4AAAIFwAA4QIACBcAAOECACBcAADhAgAgXAAAhAsAIFwAAIQLAIBwAQCECwCAcAEAhIunAAAQLgAAwgUAEC4AAMIFAEC4AADCBQBAuAAACBcAQLgAAAgXAADhAgAIFwAA4QIAIFwAAOECACBcAACECwAgXAAAhAsAgHABAIQLAIBwAQAQLgCAcAEAEC4AAMIFABAuAADCBQAQLgAAwgUAQLgAAMIFAEC4AAAIFwBAuAAACBcAAOECAAgXAADhAgAgXAAA4QIAIFwAAIQLACBcAACECwCAcAEAhAsAgHABABAuAIBwAQAQLgAAwgUAEC4AAMIFAEC4AADCBQBAuAAAwgUAQLgAAAgXAEC4AAAIFwAA4QIACBcAAOECACBcAADhAgAgXAAAhAsAIFwAAIQLAIBwAQCECwCAcAEAEC4AgHABABAuAADCBQAQLgAAwgUAQLgAAMIFAEC4AAAIFwBAuAAACBcAQLgAAAgXAADhAgAIFwAA4QIAIFwAAOECACBcAACECwAgXAAAhAsAwJL9Bw+WZ9r0sG6UAAAAAElFTkSuQmCC)"
      ],
      "metadata": {
        "id": "anEJ_51Cs_h7"
      }
    },
    {
      "cell_type": "code",
      "source": [
        "nums = [ num for num in range(1, 11)]\n",
        "nums"
      ],
      "metadata": {
        "colab": {
          "base_uri": "https://localhost:8080/"
        },
        "id": "v0UefVTYtTAt",
        "outputId": "00fd8700-9338-4d16-be9e-53e9a536b7cb"
      },
      "execution_count": null,
      "outputs": [
        {
          "output_type": "execute_result",
          "data": {
            "text/plain": [
              "[1, 2, 3, 4, 5, 6, 7, 8, 9, 10]"
            ]
          },
          "metadata": {},
          "execution_count": 14
        }
      ]
    },
    {
      "cell_type": "markdown",
      "source": [
        "### Map\n",
        "\n"
      ],
      "metadata": {
        "id": "hsK4rnpXrr2r"
      }
    },
    {
      "cell_type": "markdown",
      "source": [
        "A função map é usada para aplicar uma função a cada elemento de um iterável (por exemplo, uma lista) e retorna um novo iterável com os resultados.\n",
        "\n",
        "Útil quando você deseja aplicar uma transformação a todos os elementos de uma coleção."
      ],
      "metadata": {
        "id": "80_KZ0QmtdCd"
      }
    },
    {
      "cell_type": "markdown",
      "source": [
        "sintaxe:\n",
        "\n",
        "\n",
        "`lista1 = [ 1 , 2 , 3 , 4 , 5 , 6 ] `\n",
        "\n",
        "`lista2 = map( função , lista1)`"
      ],
      "metadata": {
        "id": "zq5mssDfTo2y"
      }
    },
    {
      "cell_type": "code",
      "source": [
        "dobro = map(lambda n : n * 2, nums)\n",
        "resultado = list(dobro)\n",
        "resultado"
      ],
      "metadata": {
        "colab": {
          "base_uri": "https://localhost:8080/"
        },
        "id": "aF8a6t39rIiv",
        "outputId": "2e4e4ea2-45bf-449f-db69-d5fdeeeb483b"
      },
      "execution_count": null,
      "outputs": [
        {
          "output_type": "execute_result",
          "data": {
            "text/plain": [
              "[2, 4, 6, 8, 10, 12, 14, 16, 18, 20]"
            ]
          },
          "metadata": {},
          "execution_count": 9
        }
      ]
    },
    {
      "cell_type": "markdown",
      "source": [
        "### Filter"
      ],
      "metadata": {
        "id": "4zMJrLuztWH2"
      }
    },
    {
      "cell_type": "markdown",
      "source": [
        "A função filter é usada para filtrar elementos de um iterável com base em uma função de teste (função booleana) e retorna um novo iterável com os elementos que passam no teste.\n",
        "\n",
        "Útil quando você deseja extrair elementos que atendam a determinados critérios."
      ],
      "metadata": {
        "id": "iR_EbUNRtYsN"
      }
    },
    {
      "cell_type": "markdown",
      "source": [
        "sintaxe:\n",
        "\n",
        "`lista1 = [ 1 , 2 , 3 , 4 , 5 , 6 ] `\n",
        "\n",
        "`lista2 = filter(função, lista1)`\n",
        "\n"
      ],
      "metadata": {
        "id": "4ISOUV8GUGn0"
      }
    },
    {
      "cell_type": "code",
      "source": [
        "\n",
        "pares = filter(lambda x: x % 2 == 0, nums)\n",
        "resultado = list(pares)\n",
        "resultado"
      ],
      "metadata": {
        "colab": {
          "base_uri": "https://localhost:8080/"
        },
        "id": "j2yOEvj3unrS",
        "outputId": "fd7440b5-6ceb-479b-b228-40bf1ede3bf3"
      },
      "execution_count": null,
      "outputs": [
        {
          "output_type": "execute_result",
          "data": {
            "text/plain": [
              "[2, 4, 6, 8, 10]"
            ]
          },
          "metadata": {},
          "execution_count": 10
        }
      ]
    },
    {
      "cell_type": "markdown",
      "source": [
        "### Reduce"
      ],
      "metadata": {
        "id": "AxtIbkb7vB9n"
      }
    },
    {
      "cell_type": "markdown",
      "source": [
        "A função reduce não é uma função interna padrão do Python 3 e precisa ser importada do módulo `functools`.\n",
        "Ela é usada para acumular (reduzir) os elementos de um iterável aplicando uma função cumulativa.\n",
        "Útil quando você deseja combinar elementos de um iterável em um único valor.\n"
      ],
      "metadata": {
        "id": "vzo0yNJJvJNH"
      }
    },
    {
      "cell_type": "markdown",
      "source": [
        "`from functools import reduce`\n",
        "\n",
        "`lista1 = [ 1 , 2 , 3 , 4 , 5 , 6 ]`\n",
        "\n",
        "`resumo = reduce(função, lista1)`"
      ],
      "metadata": {
        "id": "QSjfX-zZVUyF"
      }
    },
    {
      "cell_type": "code",
      "source": [
        "from functools import reduce"
      ],
      "metadata": {
        "id": "0SSveS2mveua"
      },
      "execution_count": null,
      "outputs": []
    },
    {
      "cell_type": "code",
      "source": [
        "# Usando reduce para somar todos os elementos de uma lista\n",
        "soma = reduce(lambda total, num: total + num, nums)\n",
        "soma"
      ],
      "metadata": {
        "colab": {
          "base_uri": "https://localhost:8080/"
        },
        "id": "bM1Uvfbau4JE",
        "outputId": "d5334ea2-df19-4d91-dc73-29de7f8cd700"
      },
      "execution_count": null,
      "outputs": [
        {
          "output_type": "execute_result",
          "data": {
            "text/plain": [
              "55"
            ]
          },
          "metadata": {},
          "execution_count": 16
        }
      ]
    },
    {
      "cell_type": "markdown",
      "source": [
        "## Ordenação de listas"
      ],
      "metadata": {
        "id": "6vFeu-WOzAze"
      }
    },
    {
      "cell_type": "code",
      "source": [
        "nomes = ['Josefa', 'Pedro', 'Carla', 'Janaína']"
      ],
      "metadata": {
        "id": "SwT53DKlzK09"
      },
      "execution_count": null,
      "outputs": []
    },
    {
      "cell_type": "code",
      "source": [
        "nomes.sort()\n",
        "nomes"
      ],
      "metadata": {
        "colab": {
          "base_uri": "https://localhost:8080/"
        },
        "id": "R7P1V8U0z5io",
        "outputId": "4473389e-27b9-4db2-9dad-ae1742f6b552"
      },
      "execution_count": null,
      "outputs": [
        {
          "output_type": "execute_result",
          "data": {
            "text/plain": [
              "['Carla', 'Janaína', 'Josefa', 'Pedro']"
            ]
          },
          "metadata": {},
          "execution_count": 38
        }
      ]
    },
    {
      "cell_type": "code",
      "source": [
        "#pegando a segunda letra da primeira string\n",
        "nomes[0][1]"
      ],
      "metadata": {
        "colab": {
          "base_uri": "https://localhost:8080/",
          "height": 36
        },
        "id": "VwG1EnJGzeD3",
        "outputId": "ddde4a76-56e3-465b-ee81-f674997247db"
      },
      "execution_count": null,
      "outputs": [
        {
          "output_type": "execute_result",
          "data": {
            "text/plain": [
              "'a'"
            ],
            "application/vnd.google.colaboratory.intrinsic+json": {
              "type": "string"
            }
          },
          "metadata": {},
          "execution_count": 21
        }
      ]
    },
    {
      "cell_type": "code",
      "source": [
        "#ordenando a lista pela segunda letra\n",
        "nomes.sort(key= lambda letra: letra[1])\n",
        "nomes"
      ],
      "metadata": {
        "colab": {
          "base_uri": "https://localhost:8080/"
        },
        "id": "XmFAhetfzlDN",
        "outputId": "ee608b4d-b87c-46b2-8e42-4facafcc029c"
      },
      "execution_count": null,
      "outputs": [
        {
          "output_type": "execute_result",
          "data": {
            "text/plain": [
              "['Carla', 'Janaína', 'Pedro', 'Josefa']"
            ]
          },
          "metadata": {},
          "execution_count": 37
        }
      ]
    },
    {
      "cell_type": "code",
      "source": [
        "#ordenando a lista pela última letra\n",
        "nomes.sort(key= lambda letra: letra[-1])\n",
        "nomes"
      ],
      "metadata": {
        "colab": {
          "base_uri": "https://localhost:8080/"
        },
        "id": "R3jQq12d00bm",
        "outputId": "a2e79cb5-69b8-41e0-c869-1033245767ac"
      },
      "execution_count": null,
      "outputs": [
        {
          "output_type": "execute_result",
          "data": {
            "text/plain": [
              "['Carla', 'Janaína', 'Josefa', 'Pedro']"
            ]
          },
          "metadata": {},
          "execution_count": 39
        }
      ]
    },
    {
      "cell_type": "markdown",
      "source": [
        "# ATIVIDADE"
      ],
      "metadata": {
        "id": "_EMLhjEXvf_Z"
      }
    },
    {
      "cell_type": "markdown",
      "source": [
        "###1 Retornar uma lista de valores pares de 1 a 20"
      ],
      "metadata": {
        "id": "4QyiBE7b06n2"
      }
    },
    {
      "cell_type": "code",
      "execution_count": null,
      "metadata": {
        "id": "w7lB2VL7uHi5",
        "colab": {
          "base_uri": "https://localhost:8080/"
        },
        "outputId": "057b3271-112e-403e-c034-02d7fe73f318"
      },
      "outputs": [
        {
          "output_type": "stream",
          "name": "stdout",
          "text": [
            "[0, 1, 2, 3, 4, 5, 6, 7, 8, 9, 10, 11, 12, 13, 14, 15, 16, 17, 18, 19, 20]\n"
          ]
        },
        {
          "output_type": "execute_result",
          "data": {
            "text/plain": [
              "[0, 2, 4, 5, 6, 8, 10, 12, 14, 15, 16, 18, 20]"
            ]
          },
          "metadata": {},
          "execution_count": 8
        }
      ],
      "source": [
        "\n",
        "numeros = [ num for num in range(0, 21)]\n",
        "print(numeros)\n",
        "list(filter(lambda num: num % 2 == 0 or num%5==0 , numeros))\n",
        "\n",
        "# & só funciona no contexto do PANDAS quando analisamos\n",
        "# df['B'] % 5 == 0 & df['B'] % 2== 0\n"
      ]
    },
    {
      "cell_type": "markdown",
      "source": [
        "### 2 Retornar uma lista de valores ímpares de 30 a 50"
      ],
      "metadata": {
        "id": "h6RJ24rH1Bzg"
      }
    },
    {
      "cell_type": "code",
      "source": [
        "\n",
        "numeros = [ num for num in range(30, 51)]\n",
        "list(filter(lambda num: num % 2 == 1, numeros))\n"
      ],
      "metadata": {
        "id": "ib_BU9pNuqjs"
      },
      "execution_count": null,
      "outputs": []
    },
    {
      "cell_type": "markdown",
      "source": [
        "### 3. Retornar todos os números menores que zero do intervalo range(-10, 10)"
      ],
      "metadata": {
        "id": "fREwLIjY1Jq5"
      }
    },
    {
      "cell_type": "code",
      "source": [
        "\n",
        "negativos = [ num for num in range(-13, 11)]\n",
        "print(negativos)\n",
        "list(filter(lambda num: num < 0 and num>-11, negativos))\n"
      ],
      "metadata": {
        "id": "j4CCwzWtvTGi"
      },
      "execution_count": null,
      "outputs": []
    },
    {
      "cell_type": "markdown",
      "source": [
        "### 4 Retornar o menor número de uma lista"
      ],
      "metadata": {
        "id": "rZGmp4E71Pml"
      }
    },
    {
      "cell_type": "code",
      "source": [
        "\n",
        "from functools import reduce\n",
        "numeros = [ 230,52,36,896,2,75,-32]\n",
        "reduce(lambda x, y: x if x < y else y, numeros)"
      ],
      "metadata": {
        "id": "uaJzZrtkvYMw"
      },
      "execution_count": null,
      "outputs": []
    },
    {
      "cell_type": "markdown",
      "source": [
        "### 5. Colocar todos os nomes de uma lista de nomes com a  primeira letra maiúscula"
      ],
      "metadata": {
        "id": "YbF-Gtc-1b12"
      }
    },
    {
      "cell_type": "code",
      "source": [
        "nomes = ['rafael', 'denise', 'beatriz', 'marcus']\n",
        "list(map(lambda nome: nome.title(), nomes))"
      ],
      "metadata": {
        "id": "1x91ZdVQ1lbe"
      },
      "execution_count": null,
      "outputs": []
    },
    {
      "cell_type": "markdown",
      "source": [
        "### 6 Ordernar a lista de nomes pela 2ª letra de cada nome (ordem crescente)"
      ],
      "metadata": {
        "id": "lAgDv27Q1Sl1"
      }
    },
    {
      "cell_type": "code",
      "source": [
        "\n",
        "nomes = ['samuel', 'denise', 'beatriz', 'marcus']\n",
        "nomes.sort(key=lambda palavra: palavra[1])\n",
        "nomes\n"
      ],
      "metadata": {
        "id": "9JPqaJ3bvf8o"
      },
      "execution_count": null,
      "outputs": []
    },
    {
      "cell_type": "markdown",
      "source": [
        "### 7 Ordernar a lista de nomes pela 2ª letra de cada nome (ordem decrescente)"
      ],
      "metadata": {
        "id": "Cl1Yth9S1mov"
      }
    },
    {
      "cell_type": "code",
      "source": [
        "\n",
        "nomes = ['rafael', 'denise', 'beatriz', 'marcus']\n",
        "nomes.sort(key=lambda palavra: palavra[1], reverse=True)\n",
        "nomes"
      ],
      "metadata": {
        "id": "sbnu-dzqvwJ8"
      },
      "execution_count": null,
      "outputs": []
    },
    {
      "cell_type": "markdown",
      "source": [
        "### 8 Diante de uma lista de números, multiplicar por 10 se o número for par e dividir por 3 se o número for ímpar\n"
      ],
      "metadata": {
        "id": "_SspBOl41tio"
      }
    },
    {
      "cell_type": "code",
      "source": [
        "# Utilizei a função round() para limitar à duas casas decimais\n",
        "\n",
        "numeros = [ num for num in range(1, 11)]\n",
        "print(numeros)\n",
        "list(map(lambda num: num * 10 if num % 2 == 0  else round(num / 3, 2), numeros))"
      ],
      "metadata": {
        "id": "XWirl36Ew4a2"
      },
      "execution_count": null,
      "outputs": []
    },
    {
      "cell_type": "markdown",
      "source": [
        "# Convertendo informações do dataFrame para listas"
      ],
      "metadata": {
        "id": "gzSv1iTpE7dS"
      }
    },
    {
      "cell_type": "markdown",
      "source": [
        "Como cientista de dados, você pode se deparar com situações em que precisa converter um DataFrame do Pandas em uma lista. Felizmente, isso é bastante fácil de fazer usando a função `tolist()`"
      ],
      "metadata": {
        "id": "MITGhjVTYdSe"
      }
    },
    {
      "cell_type": "markdown",
      "source": [
        "A função `tolist()` é um método integrado no Pandas que converte um DataFrame em uma lista. Você simplesmente chama essa função no seu DataFrame e ela retornará uma lista.\n",
        "\n",
        "`novaLista = nomeDataFrame.values.tolist()`"
      ],
      "metadata": {
        "id": "4jDXl5f6Zzv9"
      }
    },
    {
      "cell_type": "code",
      "source": [
        "import pandas as pd\n",
        "\n",
        "# criar um DataFrame de exemplo\n",
        "dfExemplo = pd.DataFrame({'números':[1, 2, 3], 'letras':['a', 'b', 'c']})\n",
        "\n",
        "# converter DataFrame em lista\n",
        "listaExemplo = dfExemplo.values.tolist()\n",
        "listaExemplo"
      ],
      "metadata": {
        "colab": {
          "base_uri": "https://localhost:8080/"
        },
        "id": "aaFe5oPSZ6bm",
        "outputId": "784ce17b-9ab5-4e3e-9fe0-d0cc79aee31b"
      },
      "execution_count": null,
      "outputs": [
        {
          "output_type": "stream",
          "name": "stdout",
          "text": [
            "[[1, 'a'], [2, 'b'], [3, 'c']]\n"
          ]
        }
      ]
    },
    {
      "cell_type": "markdown",
      "source": [
        "## Convertendo uma coluna em uma lista\n"
      ],
      "metadata": {
        "id": "9An8V5o9aSbo"
      }
    },
    {
      "cell_type": "markdown",
      "source": [
        "Também há situações em que você deseja apenas converter uma coluna específica de um DataFrame em uma lista. Veja como fazer isso:"
      ],
      "metadata": {
        "id": "6jOgootkaayi"
      }
    },
    {
      "cell_type": "markdown",
      "source": [
        "\n",
        "`listaDaColuna = dfExemplo['nome da coluna'].tolist()`"
      ],
      "metadata": {
        "id": "uksZnINzWZep"
      }
    },
    {
      "cell_type": "code",
      "source": [
        "listaColNumeros = dfExemplo['números'].tolist()\n",
        "listaColNumeros"
      ],
      "metadata": {
        "colab": {
          "base_uri": "https://localhost:8080/"
        },
        "id": "m1uFiYtcWWSB",
        "outputId": "9b0647d0-2792-43dd-ef90-7a0a036ac078"
      },
      "execution_count": null,
      "outputs": [
        {
          "output_type": "execute_result",
          "data": {
            "text/plain": [
              "[1, 2, 3]"
            ]
          },
          "metadata": {},
          "execution_count": 24
        }
      ]
    },
    {
      "cell_type": "markdown",
      "source": [
        "Para compreender melhor esse procedimento nós vamos usar o dataFrame Funcionários.\n",
        "Faça a criação desses dados com base no arquivo cvs do link [https://github.com/techcomkathia/datasets/blob/main/funcionarios.csv](https://github.com/techcomkathia/datasets/blob/main/funcionarios.csv)"
      ],
      "metadata": {
        "id": "xkmy40800XIL"
      }
    },
    {
      "cell_type": "code",
      "source": [
        "import pandas as pd"
      ],
      "metadata": {
        "id": "7w-VDTLF0wFS"
      },
      "execution_count": null,
      "outputs": []
    },
    {
      "cell_type": "code",
      "source": [
        "dfFuncionarios = pd.read_csv(\"https://raw.githubusercontent.com/techcomkathia/datasets/main/funcionarios.csv\")\n",
        "dfFuncionarios.info()"
      ],
      "metadata": {
        "colab": {
          "base_uri": "https://localhost:8080/"
        },
        "id": "paISX5Qv0qT8",
        "outputId": "f6188c2a-6058-4847-e0c7-824e2eeadfe9"
      },
      "execution_count": null,
      "outputs": [
        {
          "output_type": "stream",
          "name": "stdout",
          "text": [
            "<class 'pandas.core.frame.DataFrame'>\n",
            "RangeIndex: 494 entries, 0 to 493\n",
            "Data columns (total 15 columns):\n",
            " #   Column              Non-Null Count  Dtype  \n",
            "---  ------              --------------  -----  \n",
            " 0   id_func             494 non-null    int64  \n",
            " 1   nome_completo       494 non-null    object \n",
            " 2   estado_civil        494 non-null    object \n",
            " 3   sexo                494 non-null    object \n",
            " 4   data_de_nascimento  494 non-null    object \n",
            " 5   endereco            494 non-null    object \n",
            " 6   data_contratacao    494 non-null    object \n",
            " 7   nivel               494 non-null    int64  \n",
            " 8   area                494 non-null    int64  \n",
            " 9   filial              494 non-null    int64  \n",
            " 10  salario_base        494 non-null    int64  \n",
            " 11  beneficios          494 non-null    float64\n",
            " 12  vt                  494 non-null    float64\n",
            " 13  vr                  494 non-null    float64\n",
            " 14  horas_extras        494 non-null    int64  \n",
            "dtypes: float64(3), int64(6), object(6)\n",
            "memory usage: 58.0+ KB\n"
          ]
        }
      ]
    },
    {
      "cell_type": "code",
      "source": [
        "listaNomes = dfFuncionarios['nome_completo'].tolist()\n",
        "listaNomes"
      ],
      "metadata": {
        "colab": {
          "base_uri": "https://localhost:8080/"
        },
        "id": "3087VwAb4WsN",
        "outputId": "f45bc463-001a-4822-a522-a2820fc97dee"
      },
      "execution_count": null,
      "outputs": [
        {
          "output_type": "execute_result",
          "data": {
            "text/plain": [
              "['Gabriel Mesquita',\n",
              " 'João Haddad',\n",
              " 'Amanda Marques Ribeiro',\n",
              " 'Guilherme Nunez',\n",
              " 'Adelino Gomes',\n",
              " 'Audir de Avila Goulart',\n",
              " 'Gil Bonder',\n",
              " 'Gustavo de Melo Teixeira',\n",
              " 'Andre Campos',\n",
              " 'André Melo Soledade',\n",
              " 'Natalia Morgan Loureiro',\n",
              " 'Luca Costa',\n",
              " 'Jessica Oliveira Lima',\n",
              " 'Caio Scalabrin',\n",
              " 'Vinicius Freitas',\n",
              " 'Pedro Carrera',\n",
              " 'Isabella Bernardo',\n",
              " 'Felipe Sousa Melo',\n",
              " 'Pedro Fontes',\n",
              " 'Bruno Vargas',\n",
              " 'Bárbara Spenchutt Vieira',\n",
              " 'Livia Mello',\n",
              " 'Jéssica Neves Heimlich',\n",
              " 'Carolina Monteiro',\n",
              " 'Luís Werneck',\n",
              " 'Cícero Barcelos Tagliari',\n",
              " 'Gabriela Coutinho',\n",
              " 'Thayná Freitas Medronho',\n",
              " 'Marina Silva Pacheco',\n",
              " 'Luana Lopes',\n",
              " 'Vitor Cordovil de Maglhães',\n",
              " 'Carolina Gaspar de Mattos      ',\n",
              " 'Victor Mota',\n",
              " 'Marcos Almeida Albuquerque Faria',\n",
              " 'Marcelo Amaral Coelho',\n",
              " 'Tomas Guadagnino',\n",
              " 'Giovana de Oliveira e Mello     ',\n",
              " 'Leticia Mota',\n",
              " 'Beatriz Rodrigues',\n",
              " 'Guilherme Araujo Kelly',\n",
              " 'Matheus Pereira dos Santos',\n",
              " 'Mariana Martins',\n",
              " 'Rodrigo e Silva Lemos',\n",
              " 'Marianna Pereira da Silva',\n",
              " 'Roberto Suzano',\n",
              " 'Matheus Sepúlveda',\n",
              " 'Jéssica de Morais Silva',\n",
              " 'Gabriel Rozental',\n",
              " 'Patrick da Silva Farias ',\n",
              " 'Marcello Venturini de Freitas',\n",
              " 'Isabelle Tiradentes',\n",
              " 'Raissa Carelli',\n",
              " 'Lorena Marinho',\n",
              " 'Fillipe Tupini',\n",
              " 'Michelle Zerbinato',\n",
              " 'Luiz Guarçoni Migueis',\n",
              " 'João Monteiro',\n",
              " 'Douglas Costa',\n",
              " 'João Ramos',\n",
              " 'Poline Limp',\n",
              " 'Carla Amiccuci Areias',\n",
              " 'Fernanda Rossini',\n",
              " 'Leandro Almeida Neri',\n",
              " 'Luiz Rodrigues Chaves',\n",
              " 'Leonardo Valença Castro',\n",
              " 'Lucas Duarte',\n",
              " 'José Rodrigues Pereira',\n",
              " 'Átila Godoy de Melo',\n",
              " 'Nicole Marquito de Paiva Torres',\n",
              " 'Lucas de Jesus',\n",
              " 'Bruno de Souza',\n",
              " 'Gabriel Castro Cerqueira',\n",
              " 'Frederico Vidal',\n",
              " 'Giuseppe Fernandes',\n",
              " 'Rafael Soares dos Santos',\n",
              " 'Larissa do Nascimento Lima',\n",
              " 'Fernanda Castro Morett Ceppas',\n",
              " 'Rodrigo dos Santos Villares Vianna',\n",
              " 'Felipe Jordão Teixeira',\n",
              " 'Luiz Rodrigues de Souza',\n",
              " 'Aline de Souza',\n",
              " 'Roberto Leite',\n",
              " 'Bruna Tavares Vasconcelos',\n",
              " 'Luana Stockler',\n",
              " 'Alberto Ruzza de Carvalho',\n",
              " 'Rafael Hollander',\n",
              " 'Marina Vasconcelos de Sousa',\n",
              " 'Amanda Ferreira',\n",
              " 'Daniel Thuler',\n",
              " 'João Fagundes',\n",
              " 'Brenda Lopes',\n",
              " 'Rafael Viana Santos',\n",
              " 'Juliana Vieira Filho',\n",
              " 'Victoria Nascimento Viríssimo',\n",
              " 'Adriano de Souza',\n",
              " 'Rodrigo Barreto',\n",
              " 'Vinícius Maluf',\n",
              " 'Roberta Vaz',\n",
              " 'José Cardeman',\n",
              " 'Matheus Garcia Borges',\n",
              " 'Bruna Calmon',\n",
              " 'Higor Frossard',\n",
              " 'Daniela Santos Silva',\n",
              " 'Matheus Sone',\n",
              " 'Aline Santos Silva',\n",
              " 'Natalia Indelicato',\n",
              " 'Pedro Wermelinger Santos',\n",
              " 'Bruno Cunha Felippe',\n",
              " 'Flávio Jacques Gamboa Fernandez de Oliveira Netto',\n",
              " 'Lucas Martins',\n",
              " 'Hanna Vaz',\n",
              " 'Isabela Freitas',\n",
              " 'Paulo Rodrigues Pereira',\n",
              " 'Thaís Lisboa',\n",
              " 'Thomaz Wegbrayt',\n",
              " 'Carolina Gonçalves Lixa Fontoura',\n",
              " 'Débora Pereira Ribeiro',\n",
              " 'Karine Gusmão',\n",
              " 'Isabelle de Sá Foly',\n",
              " 'Lucas Pinheiro Oliveira',\n",
              " 'Pedro Assis',\n",
              " 'Mylena Pinheiro Mariano',\n",
              " 'Renan Taylor',\n",
              " 'João Barbosa',\n",
              " 'Adrielle Sá Rodrigues',\n",
              " 'Caroline Gaspar de Mattos      ',\n",
              " 'Caroline Valente de Figueiredo',\n",
              " 'Julia Valim',\n",
              " 'Stefan Vargas',\n",
              " 'Maria Lopes de Almeida',\n",
              " 'Paloma Albano',\n",
              " 'Fernanda Santo',\n",
              " 'Gabriel Mello',\n",
              " 'Renan Scharnhorst Ott',\n",
              " 'Lucas Brum Pereira',\n",
              " 'Arnôr Penedo',\n",
              " 'Carolina da Silva',\n",
              " 'Andre Junior',\n",
              " 'Caio Stellet',\n",
              " 'Fernanda Rocha',\n",
              " 'Eduardo Brum',\n",
              " 'Ângelo Gois',\n",
              " 'Carolina Croix Barros',\n",
              " 'Izabel Costa',\n",
              " 'Carlos Mota',\n",
              " 'Thayza Rocha',\n",
              " 'Luiz Gonçalves',\n",
              " 'Ramon Vaz',\n",
              " 'Amanda Rodrigues',\n",
              " 'Hannah de Oliveira',\n",
              " 'Eduardo Ramos',\n",
              " 'Victor Bezerra',\n",
              " 'Yasmini de Almeida Richa',\n",
              " 'Bruna da Cruz Barcelos',\n",
              " 'Fabio Melo Eiras',\n",
              " 'Aledio Villié Cerqueira Silva',\n",
              " 'Brenno Ayello Leite',\n",
              " 'David de Paula',\n",
              " 'Lígia Fernandes Filardi',\n",
              " 'Guilherme Lopes da Silveira ',\n",
              " 'Luis Guimarães',\n",
              " 'Thiago Saraiva Araujo',\n",
              " 'Daniel Benevides Xavier',\n",
              " 'Giovana Marinho',\n",
              " 'Eduarda Mello',\n",
              " 'Pedro Alcoforado',\n",
              " 'Wesley Oliveira Baptista',\n",
              " 'Caio Oliveira Meirelles',\n",
              " 'Filipe Tabet',\n",
              " 'Tiago de Araújo Júnior',\n",
              " 'Joāo Leite Ursulino',\n",
              " 'Jaqueline Rimolo de Menezes',\n",
              " 'Paula Gonçalves Gomes',\n",
              " 'Clarissa Ferreira',\n",
              " 'Raíza Barbosa',\n",
              " 'Guilherme Delgado',\n",
              " 'Bruna Serva',\n",
              " 'Rafael Carrera',\n",
              " 'Leonardo de Paula',\n",
              " 'Rômulo Knudsen',\n",
              " 'Bernard Mello',\n",
              " 'Eduardo Ota Hirose',\n",
              " 'Adelino Werneck',\n",
              " 'Marina Lobo Meira',\n",
              " 'Marina de Godoy',\n",
              " 'Pedro Araujo Kelly',\n",
              " 'Leticia Orichio',\n",
              " 'Julia Martins do Nascimento',\n",
              " 'Leandro Coutinho',\n",
              " 'Isabella de Azevedo Alves',\n",
              " 'Tiago Leal Pedrosa',\n",
              " 'Nathalia de Oliveira',\n",
              " 'Manuela Brum',\n",
              " 'Eduardo Luz',\n",
              " 'Matheus Matta Marques',\n",
              " 'Ana de Almeida Fournier de Assis',\n",
              " 'Gabriel Viana',\n",
              " 'Thaís Restum',\n",
              " 'Douglas Pinto',\n",
              " 'Eric Amante',\n",
              " 'Marcus de Azevedo',\n",
              " 'Lucas Bach',\n",
              " 'Paula de Sousa Leite',\n",
              " 'Amanda Pessanha',\n",
              " 'Átila Aquino de Carvalho',\n",
              " 'Gabriela Gômara',\n",
              " 'Pedro Correa Rodriguez',\n",
              " 'Patricia Vieira Branco de Matos',\n",
              " 'Elvis Macedo',\n",
              " 'Diego Limp',\n",
              " 'Cynthia Alvim',\n",
              " 'Rômulo Pedrazza',\n",
              " 'Lucas Luca Lima Barbosa',\n",
              " 'Carolina Mello',\n",
              " 'Ramon Garcia Bittencourt',\n",
              " 'Nathalia Bach',\n",
              " 'Bruno de Almeida Silva',\n",
              " 'Maryanna Ferraz',\n",
              " 'Luis Morgado',\n",
              " 'Nicole Vaz',\n",
              " 'Ananda Garcia Soares',\n",
              " 'Carolina Venceslau Santos de Gusmão',\n",
              " 'Pedro Domingos',\n",
              " 'Ana Alvarenga dos Santos',\n",
              " 'Paula Mota',\n",
              " 'Juliana Rodrigues',\n",
              " 'Felipe Miranda',\n",
              " 'Joana Guimarães',\n",
              " 'Lorena de Moraes Junior',\n",
              " 'Priscila de Oliveira',\n",
              " 'Julie Barros\\xa0',\n",
              " 'Rodrigo da Silva',\n",
              " 'Julia Andrade Gomes',\n",
              " 'Pedro Testahy Barros Afonso',\n",
              " 'Igor Jimenez Jimbo',\n",
              " 'Catarina Virginio',\n",
              " 'Matheus de Souza Fróes',\n",
              " 'Manuela Tavares',\n",
              " 'Bruna Ferreira',\n",
              " 'Maria Leite Ursulino',\n",
              " 'Lucas Racy',\n",
              " 'Eduarda Chagas',\n",
              " 'Luiza Castro Guimarães',\n",
              " 'Isabella Azevedo Moura',\n",
              " 'Mariana Garcia Soares',\n",
              " 'Julia Bach',\n",
              " 'Renan Fernandes',\n",
              " 'Rômulo Pereira da Silva',\n",
              " 'José Guimarães',\n",
              " 'Carlos Santos Matta',\n",
              " 'Arthur Gonçalo Cavalcanti',\n",
              " 'Yago de Souza Fróes',\n",
              " 'Caio Lassaval Farias',\n",
              " 'Isabella Delgado Fernandes',\n",
              " 'Norman de Souza',\n",
              " 'Bruno Jorge Montanholi',\n",
              " 'Nathália Augusto Oliveira',\n",
              " 'Marta Costa',\n",
              " 'Júlia da Costa Cabral',\n",
              " 'Luiz Ladogano',\n",
              " 'Igor de Rezende',\n",
              " 'Rafael de Souza',\n",
              " 'Luiz Viana',\n",
              " 'Henrique Moreira de Brito',\n",
              " 'Andressa Queiroz Israel',\n",
              " 'Andre Ribeiro da Costa',\n",
              " 'Beatriz Machado Araujo',\n",
              " 'Bruna Jimenez Jimbo',\n",
              " 'Amanda de Lacerda',\n",
              " 'Flávio Fontes',\n",
              " 'João Lima',\n",
              " 'Gabriela de Souza Campos',\n",
              " 'Elaine de Aragao',\n",
              " 'Isabella Meirelles',\n",
              " 'Elaine Lopes de Almeida',\n",
              " 'Luis Azevedo',\n",
              " 'Renata Pinheiro',\n",
              " 'Matheus Andrade Machado ',\n",
              " 'Júlia Oliveira de Mello Silva',\n",
              " 'Milena Brum',\n",
              " 'Bernardo Essaber',\n",
              " 'Camila Fonseca Martinez',\n",
              " 'Yuri Valerio Albino',\n",
              " 'Debora Penedo',\n",
              " 'Flávia Jordao',\n",
              " 'Matheus Alvarez',\n",
              " 'Gabriel Pereira',\n",
              " 'Igor Fiorenza Duque Pinho',\n",
              " 'Jeferson Ramos',\n",
              " 'Ary da Silva Costa',\n",
              " 'Paulo Souza',\n",
              " 'Mariana Figueiredo Barbosa',\n",
              " 'Aline da Silva',\n",
              " 'Bruna Mello Varela',\n",
              " 'Luiza Sobrinho Pereira',\n",
              " 'Rafael Rodrigues de Sousa',\n",
              " 'Camila Regis Ivo',\n",
              " 'Karine Cardoso das Chagas',\n",
              " 'Myllena Nacif',\n",
              " 'Flávio Barbosa',\n",
              " 'Igor Feijo',\n",
              " 'João Pereira Da Silva',\n",
              " 'Gabriela Costa',\n",
              " 'Jayme Carvalho',\n",
              " 'Luíza Roussef',\n",
              " 'Juan Santos Rosa',\n",
              " 'Ana de Sá Foly',\n",
              " 'Raquel Tavares',\n",
              " 'Raphael Rodrigues',\n",
              " 'Carolina de Souza Almeida',\n",
              " 'Eduardo Paes Leme',\n",
              " 'Rodrigo Funcke',\n",
              " 'Rafaella Sarmento e Silva',\n",
              " 'Marta de Oliveira',\n",
              " 'Alfredo Machado Araujo',\n",
              " 'Audir Muniz',\n",
              " 'Matheus Monteiro',\n",
              " 'Marina Duarte Barbosa',\n",
              " 'Thalles Jordão Teixeira',\n",
              " 'Daniel Alvarenga dos Santos',\n",
              " 'Suelen Lander Regasso',\n",
              " 'Bruno Sobrinho Pereira',\n",
              " 'Eduardo da Cunha',\n",
              " 'Lorena Freire',\n",
              " 'João Silva Longo de Jesus Viana',\n",
              " 'Pedro Helal',\n",
              " 'Ana Ladogano',\n",
              " 'Igor Iglezias Perdomo',\n",
              " 'Mariana Bach',\n",
              " 'Rachel Ferreira',\n",
              " 'Cynthia Mercês',\n",
              " 'Pedro Bernhardt',\n",
              " 'Lucas Short Santa Cecilia',\n",
              " 'Juliana Stockler',\n",
              " 'Anderson Dias Sampaio',\n",
              " 'Marta Fahrnholz',\n",
              " 'Wendela da Cunha',\n",
              " 'Paula Marques Ribeiro',\n",
              " 'Jeronimo dos Santos Villares Vianna',\n",
              " 'Larissa Leal Pedrosa',\n",
              " 'Bárbara Rodrigues',\n",
              " 'Arthur Vaz',\n",
              " 'Matheus Carvalho Pinto e Rocha',\n",
              " 'Roberta Procaci',\n",
              " 'Bernardo de Lima Oliveira',\n",
              " 'Ana Sabino de Azevedo Duarte silva',\n",
              " 'Carolina Fontes',\n",
              " 'Nathalia de Sousa Vaz Rangel',\n",
              " 'Patricia Jorge',\n",
              " 'Pedro Lopes de Oliveira',\n",
              " 'Luiz Costa Vasconcellos',\n",
              " 'Mariana Schwenck Gullo',\n",
              " 'João de Souza',\n",
              " 'Eugênio Galvão de Souza',\n",
              " 'Vitor de Carvalho',\n",
              " 'Tadeu Lopes da Silveira ',\n",
              " 'Matheus Andrade Souza ',\n",
              " 'Juan Daumas de Azevedo Assumpção',\n",
              " 'Lucas Guadagnino',\n",
              " 'Daniel Lopes da Silveira ',\n",
              " 'Carlos Amorim',\n",
              " 'Flávio Santos Garcia',\n",
              " 'Matheus Iglezias Perdomo',\n",
              " 'Sarah de Carvalho Gomes',\n",
              " 'Bianca Aguiar',\n",
              " 'Renan Steiner Costa',\n",
              " 'Jeferson Pinheiro Mariano',\n",
              " 'Saranna Lepore Pinheiro',\n",
              " 'Cynthia Ribeiro',\n",
              " 'Marcello Rebouças',\n",
              " 'Gabriel Vasconcelos de Sousa',\n",
              " 'Francyne Souza',\n",
              " 'Ana Bernardo',\n",
              " 'Carolina Racy',\n",
              " 'Matheus Rubio',\n",
              " 'Fernanda do Nascimento Rocha',\n",
              " 'Gabriela e Alves',\n",
              " 'Yuri Cruz',\n",
              " 'Camilla Ferraz',\n",
              " 'Nathalia Melo Eiras',\n",
              " 'Marianna Oliveira Leite Silva',\n",
              " 'Lucas Alvarenga dos Santos',\n",
              " 'Carolina Araujo Sagrillo',\n",
              " 'Matheus Rodrigues Luiz',\n",
              " 'Marcello Jorge Montanholi',\n",
              " 'Giovanna Fahrnholz',\n",
              " 'Rafael Oliveira Leite Silva',\n",
              " 'João de Araújo  ',\n",
              " 'Ighor Araujo Kelly',\n",
              " 'Leonardo Dias',\n",
              " 'Amanda Marinho',\n",
              " 'Tiago Souza Tanaka',\n",
              " 'Iasmim Jacques Gamboa Fernandez de Oliveira Netto',\n",
              " 'Pedro Hanashiro Moraes',\n",
              " 'Rafaela de Godoy',\n",
              " 'Priscila Orçai Granado',\n",
              " 'Fernanda Gonçalves',\n",
              " 'Yuske Orichio',\n",
              " 'Julia Freitas',\n",
              " 'Ana Barbosa',\n",
              " 'Emilaine Oliveira de Mello Silva',\n",
              " 'Diego Costa',\n",
              " 'Vitor Almeida da Silveira',\n",
              " 'Juan Fernandes de Araújo',\n",
              " 'Paula Pessanha',\n",
              " 'Lorena Fernandes',\n",
              " 'Iris da Silva',\n",
              " 'Maria Freire de Souza',\n",
              " 'Geam Petraglia da Silva',\n",
              " 'Guilherme Johnson',\n",
              " 'Gabriela Romeu',\n",
              " 'Ana Fernandes Filardi',\n",
              " 'José do Vale Lisboa',\n",
              " 'Rodrigo Venceslau Santos de Gusmão',\n",
              " 'Desirée Castro Guimarães',\n",
              " 'Milena Cândido Xavier Ferreira',\n",
              " 'João Rodrigues',\n",
              " 'Beatriz Barrozo',\n",
              " 'Luiza Garcia Soares',\n",
              " 'Arthur Gonzalez Assef Miranda',\n",
              " 'Rafael Lobo',\n",
              " 'Marcelo Monnerat',\n",
              " 'Adelino Araujo',\n",
              " 'Vinicius Monteiro',\n",
              " 'Lucas Procaci',\n",
              " 'Paloma Melo Lyra',\n",
              " 'Wesley de Melo Teixeira',\n",
              " 'Luis Figueiredo Gabriel',\n",
              " 'Luiza Monnerat',\n",
              " 'Daniel Garcia',\n",
              " 'Luiz de Mattos',\n",
              " 'André dos Santos Pereira Brito',\n",
              " 'Lucas Alvim',\n",
              " 'Júlia de Oliveira',\n",
              " 'Bruna Santos Oliveira',\n",
              " 'Vinícius Lencastre',\n",
              " 'Daniel Pinto Anastácio Machado',\n",
              " 'Breno Franklin da Silva',\n",
              " 'Renata Lopes de Oliveira',\n",
              " 'Thayane Wermelinger Santos',\n",
              " 'Ramon De Moraes Bergara',\n",
              " 'Mauricio Jardim',\n",
              " 'Lais Cormack',\n",
              " 'Milena Fernandes',\n",
              " 'Paloma Agostinho Marques dos Santos',\n",
              " 'Pedro da Silva ',\n",
              " 'Luisa da Costa  ',\n",
              " 'Beatriz de Lima Oliveira',\n",
              " 'Stefan Silva',\n",
              " 'Pedro Jardim',\n",
              " 'Mariana Sartorio',\n",
              " 'Thomaz Campelo da Silva',\n",
              " 'Pedro Vilas Bôas',\n",
              " 'Helena Carramanhos Peixoto ',\n",
              " 'Carolina Marques',\n",
              " 'Nicolas Conceição Leite',\n",
              " 'João Resinente',\n",
              " 'Luize da Costa',\n",
              " 'Bárbara Gonçalves ',\n",
              " 'Carolina Calafate',\n",
              " 'Yuri Vasconcelos',\n",
              " 'Mariana Almeida Alexandre',\n",
              " 'Diego de Melo Teixeira',\n",
              " 'Paulo de Oliveira e Mello     ',\n",
              " 'Bianca Lemos',\n",
              " 'Thiago Fernandes de Araújo',\n",
              " 'João Negrelli',\n",
              " 'João Suzano',\n",
              " 'Bruna Rocha de Carvalho',\n",
              " 'Samantha de Oliveira Pereira',\n",
              " 'Bruno Paes Leme',\n",
              " 'João Monteiro',\n",
              " 'Yago Oliveira',\n",
              " 'Leandro Tabet',\n",
              " 'Beatriz Virginio',\n",
              " 'Maria Mello',\n",
              " 'Nuno de Oliveira Sampaio',\n",
              " 'Manuela Abreu Braga Martins',\n",
              " 'Flávio Silva Mendonça',\n",
              " 'Ébio Velucci',\n",
              " 'Victor Fonseca',\n",
              " 'Bernardo Silva',\n",
              " 'Nathália Fernandes de Araújo',\n",
              " 'Guilherme Lander Regasso',\n",
              " 'Brenno Silva',\n",
              " 'William Araujo Kelly',\n",
              " 'Daniele Blumberg',\n",
              " 'João Cavalcanti Alves',\n",
              " 'Bernardo Magno',\n",
              " 'Raíza Barcellos',\n",
              " 'Bernardo da cunha ',\n",
              " 'Julia Novaes Silva',\n",
              " 'Arthur Bispo',\n",
              " 'Renan Assis da Silva']"
            ]
          },
          "metadata": {},
          "execution_count": 9
        }
      ]
    },
    {
      "cell_type": "markdown",
      "source": [
        "## Quando essas transformações são úteis?"
      ],
      "metadata": {
        "id": "AtZ7wW8Ucs8P"
      }
    },
    {
      "cell_type": "markdown",
      "source": [
        "A transformação de uma coluna de DataFrame em uma lista é comum em várias situações durante a análise de dados:\n",
        "\n",
        "* **Visualização de Dados:** Para criar gráficos e visualizações de dados, é muitas vezes mais conveniente trabalhar com listas de valores de uma coluna específica, especialmente quando se utiliza bibliotecas como Matplotlib ou Seaborn.\n",
        "\n",
        "* **Filtragem de Dados:** Ao aplicar filtros específicos para selecionar apenas um subconjunto dos dados que satisfaçam uma determinada condição.\n",
        "\n",
        "* **Preparação de Dados:** Antes de realizar operações de pré-processamento de dados, como normalização, codificação de variáveis categóricas ou imputação de dados ausentes.\n",
        "\n",
        "\n",
        "\n",
        "* **Machine Learning:** Ao preparar dados para alimentar algoritmos de machine learning, muitas vezes é necessário converter colunas de recursos (features) em listas para treinar modelos de machine learning.\n",
        "\n",
        "* **Integração com Outras Bibliotecas:** Para trabalhar com outras bibliotecas ou realizar análises que não são facilmente realizadas diretamente em DataFrames.\n",
        "\n"
      ],
      "metadata": {
        "id": "o0iGaRamc1_o"
      }
    },
    {
      "cell_type": "markdown",
      "source": [
        "## Aplicando as funções lambda diretamente no DataFrame"
      ],
      "metadata": {
        "id": "NwbQy9c-a59k"
      }
    },
    {
      "cell_type": "markdown",
      "source": [
        "A biblioteca __Pandas__ possui muitas funções e métodos implementados que nos ajudam, e muito, em nosso dia-a-dia na análise exploratória de dados.\n",
        "\n",
        "* `apply` : aplica uma determinada função ao longo de um eixo quando for chamado diretamente pelo _DataFrame_ ou aplica uma função numa _Series_ em questão\n",
        "\n",
        "**SINTAXE**\n",
        "\n",
        "Para uma coluna:\n",
        "\n",
        "`df[nome coluna].apply(função)`\n",
        "\n",
        "Usando uma função que usa mais de uma coluna como parâmetro:\n",
        "\n",
        "`df.apply( função , axis=1)`"
      ],
      "metadata": {
        "id": "0BelKkiybCi6"
      }
    },
    {
      "cell_type": "markdown",
      "source": [
        "Para compreender melhor essas manipulações, nós vamos utilizar o dataFrame Funcionarios"
      ],
      "metadata": {
        "id": "gj2Uidi_0Koh"
      }
    },
    {
      "cell_type": "markdown",
      "source": [
        "Vamos criar uma nova coluna para o dataFrame de funcionários"
      ],
      "metadata": {
        "id": "UbYPF4NLzuos"
      }
    },
    {
      "cell_type": "code",
      "source": [
        "taxa_imposto = 0.2\n",
        "dfFuncionarios['imposto'] = dfFuncionarios.apply(lambda row: row['salario_base'] * taxa_imposto, axis=1)\n"
      ],
      "metadata": {
        "id": "FIEPZsBqtaXP"
      },
      "execution_count": null,
      "outputs": []
    },
    {
      "cell_type": "code",
      "source": [],
      "metadata": {
        "id": "5-OB2hDf8g2W"
      },
      "execution_count": null,
      "outputs": []
    }
  ]
}